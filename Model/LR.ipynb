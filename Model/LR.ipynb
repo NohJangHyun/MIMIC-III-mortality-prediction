{
 "cells": [
  {
   "cell_type": "code",
   "execution_count": 39,
   "id": "fc7ce4f4-f2b2-4eb6-b164-ce4a61104333",
   "metadata": {},
   "outputs": [],
   "source": [
    "import pandas as pd\n",
    "import optuna\n",
    "from sklearn.model_selection import cross_val_score\n",
    "from sklearn.metrics import roc_curve, roc_auc_score\n",
    "from sklearn.linear_model import LogisticRegression\n",
    "from sklearn.metrics import accuracy_score, precision_score, recall_score, f1_score\n",
    "from sklearn.metrics import confusion_matrix, classification_report, precision_recall_curve, auc\n",
    "import matplotlib.pyplot as plt\n",
    "import seaborn as sns\n",
    "import warnings\n",
    "warnings.filterwarnings('ignore')"
   ]
  },
  {
   "cell_type": "code",
   "execution_count": 68,
   "id": "4a00c5bd-01b9-4d19-90b4-fde61ee1d8bf",
   "metadata": {},
   "outputs": [
    {
     "name": "stdout",
     "output_type": "stream",
     "text": [
      "train shape\n",
      " (2298, 55) \n",
      "\n",
      "train shape\n",
      " (1421, 55) \n",
      "\n",
      "train value\n",
      " 0    1149\n",
      "1    1149\n",
      "Name: y, dtype: int64\n",
      "test value\n",
      " 0    1037\n",
      "1     384\n",
      "Name: y, dtype: int64\n"
     ]
    }
   ],
   "source": [
    "# 데이터 불러오기\n",
    "train_data = pd.read_csv(\"~/project/MIMIC-III/Baseline/overlap/OSI/overlap_OSI(1%)_train.csv\")\n",
    "test_data = pd.read_csv(\"~/project/MIMIC-III/Baseline/overlap/OSI/overlap_OSI(1%)_test.csv\")\n",
    "\n",
    "# Overlap ARDS\n",
    "ARDS = pd.read_csv(\"~/project/MIMIC-III/ARDS.csv\")\n",
    "ARDS.drop(\"y\", axis=1, inplace=True)\n",
    "\n",
    "train_data = pd.merge(train_data, ARDS, on=['SUBJECT_ID', 'HADM_ID'], how='inner')\n",
    "test_data = pd.merge(test_data, ARDS, on=['SUBJECT_ID', 'HADM_ID'], how='inner')\n",
    "\n",
    "train_data.drop([\"SUBJECT_ID\",\"HADM_ID\", \"DOA\", \"TLOS\", \"ETHNICITY\"], axis=1, inplace=True)\n",
    "test_data.drop([\"SUBJECT_ID\",\"HADM_ID\", \"DOA\", \"TLOS\", \"ETHNICITY\"], axis=1, inplace=True)\n",
    "\n",
    "train_data = pd.get_dummies(train_data, columns=[\"GENDER\"])\n",
    "test_data = pd.get_dummies(test_data, columns=[\"GENDER\"])\n",
    "\n",
    "# train_data와 test_data의 칼럼을 맞추기 위해 차집합을 계산\n",
    "missing_columns_in_test = set(train_data.columns) - set(test_data.columns)\n",
    "missing_columns_in_train = set(test_data.columns) - set(train_data.columns)\n",
    "\n",
    "# test_data에 train_data의 더미 변수를 추가하고 0으로 채워주기\n",
    "for col in missing_columns_in_test:\n",
    "    test_data[col] = 0\n",
    "\n",
    "# train_data에 test_data의 더미 변수를 추가하고 0으로 채워주기\n",
    "for col in missing_columns_in_train:\n",
    "    train_data[col] = 0\n",
    "    \n",
    "####################################################################\n",
    "# Down Sampling\n",
    "# train 데이터의 레이블 비율 확인\n",
    "train_labels = train_data['y']\n",
    "label_counts = train_labels.value_counts()\n",
    "\n",
    "# train 데이터의 레이블 비율이 1:1이 되도록 분할\n",
    "class_0_data = train_data[train_data['y'] == 0]\n",
    "class_1_data = train_data[train_data['y'] == 1]\n",
    "\n",
    "# 레이블이 0인 데이터 중에서 샘플 개수가 적은 만큼만 선택\n",
    "num_samples = min(label_counts[0], label_counts[1])\n",
    "class_0_data = class_0_data.sample(num_samples, random_state=42)\n",
    "\n",
    "# 레이블이 1인 데이터 중에서 샘플 개수가 적은 만큼만 선택\n",
    "class_1_data = class_1_data.sample(num_samples, random_state=42)\n",
    "\n",
    "# 선택한 데이터를 결합하여 최종 train 데이터 생성\n",
    "train_data = pd.concat([class_0_data, class_1_data])\n",
    "####################################################################\n",
    "\n",
    "\n",
    "# Features와 Target 설정\n",
    "X_train = train_data.drop('y', axis=1)\n",
    "y_train = train_data['y']\n",
    "X_test = test_data.drop('y', axis=1)\n",
    "\n",
    "print(\"train shape\\n\",X_train.shape,\"\\n\")\n",
    "print(\"train shape\\n\",X_test.shape,\"\\n\")\n",
    "\n",
    "target = \"y\"\n",
    "features = [f for f in train_data.columns if f not in [target]]\n",
    "\n",
    "print(\"train value\\n\",train_data['y'].value_counts())\n",
    "print(\"test value\\n\",test_data['y'].value_counts())"
   ]
  },
  {
   "cell_type": "code",
   "execution_count": 69,
   "id": "4adca55d-9636-45f0-b4fb-1bdb93737bdd",
   "metadata": {},
   "outputs": [
    {
     "name": "stderr",
     "output_type": "stream",
     "text": [
      "\u001b[32m[I 2023-09-06 14:59:28,344]\u001b[0m A new study created in memory with name: no-name-3b081219-25ea-451e-adc5-3317956568e5\u001b[0m\n",
      "\u001b[32m[I 2023-09-06 14:59:28,673]\u001b[0m Trial 0 finished with value: 0.6328388805434235 and parameters: {'c': 3.342679091361827e-05}. Best is trial 0 with value: 0.6328388805434235.\u001b[0m\n",
      "\u001b[32m[I 2023-09-06 14:59:28,944]\u001b[0m Trial 1 finished with value: 0.6419833076533745 and parameters: {'c': 0.006351118012086836}. Best is trial 1 with value: 0.6419833076533745.\u001b[0m\n",
      "\u001b[32m[I 2023-09-06 14:59:29,350]\u001b[0m Trial 2 finished with value: 0.588435597870465 and parameters: {'c': 4.714025267623188e-06}. Best is trial 1 with value: 0.6419833076533745.\u001b[0m\n",
      "\u001b[32m[I 2023-09-06 14:59:29,603]\u001b[0m Trial 3 finished with value: 0.5726625227072041 and parameters: {'c': 5.115232124372695e-07}. Best is trial 1 with value: 0.6419833076533745.\u001b[0m\n",
      "\u001b[32m[I 2023-09-06 14:59:29,765]\u001b[0m Trial 4 finished with value: 0.4473632377936352 and parameters: {'c': 1.1781041298093944e-08}. Best is trial 1 with value: 0.6419833076533745.\u001b[0m\n",
      "\u001b[32m[I 2023-09-06 14:59:30,154]\u001b[0m Trial 5 finished with value: 0.6322209265069729 and parameters: {'c': 5.277682904307537e-05}. Best is trial 1 with value: 0.6419833076533745.\u001b[0m\n",
      "\u001b[32m[I 2023-09-06 14:59:30,491]\u001b[0m Trial 6 finished with value: 0.6167089295878065 and parameters: {'c': 1.4064833612544195e-05}. Best is trial 1 with value: 0.6419833076533745.\u001b[0m\n",
      "\u001b[32m[I 2023-09-06 14:59:30,794]\u001b[0m Trial 7 finished with value: 0.6487505504126152 and parameters: {'c': 0.012466582306752717}. Best is trial 7 with value: 0.6487505504126152.\u001b[0m\n",
      "\u001b[32m[I 2023-09-06 14:59:31,233]\u001b[0m Trial 8 finished with value: 0.6324036615095959 and parameters: {'c': 8.484641775221846e-05}. Best is trial 7 with value: 0.6487505504126152.\u001b[0m\n",
      "\u001b[32m[I 2023-09-06 14:59:31,632]\u001b[0m Trial 9 finished with value: 0.647833383244633 and parameters: {'c': 7.95653066509181}. Best is trial 7 with value: 0.6487505504126152.\u001b[0m\n",
      "\u001b[32m[I 2023-09-06 14:59:32,702]\u001b[0m Trial 10 finished with value: 0.6456411655408025 and parameters: {'c': 0.019891114634361794}. Best is trial 7 with value: 0.6487505504126152.\u001b[0m\n",
      "\u001b[32m[I 2023-09-06 14:59:33,137]\u001b[0m Trial 11 finished with value: 0.6463822815623609 and parameters: {'c': 9.914184587068018}. Best is trial 7 with value: 0.6487505504126152.\u001b[0m\n",
      "\u001b[32m[I 2023-09-06 14:59:33,583]\u001b[0m Trial 12 finished with value: 0.6515720693995528 and parameters: {'c': 8.954667421020194}. Best is trial 12 with value: 0.6515720693995528.\u001b[0m\n",
      "\u001b[32m[I 2023-09-06 14:59:34,131]\u001b[0m Trial 13 finished with value: 0.6524668088936693 and parameters: {'c': 0.1553175951364855}. Best is trial 13 with value: 0.6524668088936693.\u001b[0m\n",
      "\u001b[32m[I 2023-09-06 14:59:34,526]\u001b[0m Trial 14 finished with value: 0.6432957688475804 and parameters: {'c': 0.5399171708161155}. Best is trial 13 with value: 0.6524668088936693.\u001b[0m\n",
      "\u001b[32m[I 2023-09-06 14:59:35,099]\u001b[0m Trial 15 finished with value: 0.6504438888968751 and parameters: {'c': 0.4816649109122153}. Best is trial 13 with value: 0.6524668088936693.\u001b[0m\n",
      "\u001b[32m[I 2023-09-06 14:59:35,572]\u001b[0m Trial 16 finished with value: 0.6460585292843357 and parameters: {'c': 0.0013415145617679505}. Best is trial 13 with value: 0.6524668088936693.\u001b[0m\n",
      "\u001b[32m[I 2023-09-06 14:59:36,058]\u001b[0m Trial 17 finished with value: 0.6394119418199447 and parameters: {'c': 0.27261504573174955}. Best is trial 13 with value: 0.6524668088936693.\u001b[0m\n",
      "\u001b[32m[I 2023-09-06 14:59:37,068]\u001b[0m Trial 18 finished with value: 0.6442963835299264 and parameters: {'c': 0.099577398955161}. Best is trial 13 with value: 0.6524668088936693.\u001b[0m\n",
      "\u001b[32m[I 2023-09-06 14:59:37,528]\u001b[0m Trial 19 finished with value: 0.6475888444296569 and parameters: {'c': 0.9014532331849894}. Best is trial 13 with value: 0.6524668088936693.\u001b[0m\n",
      "\u001b[32m[I 2023-09-06 14:59:38,057]\u001b[0m Trial 20 finished with value: 0.6466787314769715 and parameters: {'c': 2.614872170669336}. Best is trial 13 with value: 0.6524668088936693.\u001b[0m\n",
      "\u001b[32m[I 2023-09-06 14:59:38,503]\u001b[0m Trial 21 finished with value: 0.6440468720662086 and parameters: {'c': 0.09759054737784383}. Best is trial 13 with value: 0.6524668088936693.\u001b[0m\n",
      "\u001b[32m[I 2023-09-06 14:59:39,099]\u001b[0m Trial 22 finished with value: 0.648264764096551 and parameters: {'c': 1.9071045567802862}. Best is trial 13 with value: 0.6524668088936693.\u001b[0m\n",
      "\u001b[32m[I 2023-09-06 14:59:39,609]\u001b[0m Trial 23 finished with value: 0.6527150567462138 and parameters: {'c': 0.16000497005210848}. Best is trial 23 with value: 0.6527150567462138.\u001b[0m\n",
      "\u001b[32m[I 2023-09-06 14:59:40,106]\u001b[0m Trial 24 finished with value: 0.6453908286858014 and parameters: {'c': 0.06917416534165446}. Best is trial 23 with value: 0.6527150567462138.\u001b[0m\n",
      "\u001b[32m[I 2023-09-06 14:59:40,565]\u001b[0m Trial 25 finished with value: 0.6416743719721786 and parameters: {'c': 1.6277277475284426}. Best is trial 23 with value: 0.6527150567462138.\u001b[0m\n",
      "\u001b[32m[I 2023-09-06 14:59:40,907]\u001b[0m Trial 26 finished with value: 0.6482718364919088 and parameters: {'c': 0.0015909852625191625}. Best is trial 23 with value: 0.6527150567462138.\u001b[0m\n",
      "\u001b[32m[I 2023-09-06 14:59:41,603]\u001b[0m Trial 27 finished with value: 0.6468495353321295 and parameters: {'c': 8.840429456983221}. Best is trial 23 with value: 0.6527150567462138.\u001b[0m\n",
      "\u001b[32m[I 2023-09-06 14:59:41,948]\u001b[0m Trial 28 finished with value: 0.6451865180170469 and parameters: {'c': 0.2089377329521877}. Best is trial 23 with value: 0.6527150567462138.\u001b[0m\n",
      "\u001b[32m[I 2023-09-06 14:59:42,548]\u001b[0m Trial 29 finished with value: 0.6461112059217307 and parameters: {'c': 0.04086435551127346}. Best is trial 23 with value: 0.6527150567462138.\u001b[0m\n"
     ]
    }
   ],
   "source": [
    "# 로지스틱 회귀 모델 학습\n",
    "def objective(trial):\n",
    "    c = trial.suggest_float(\"c\", 1e-8, 10.0, log=True)\n",
    "    \n",
    "    model = LogisticRegression(C=c, random_state=42)\n",
    "    \n",
    "    # Cross Validation을 통한 평가 지표 계산\n",
    "    scores = cross_val_score(model, X_train, y_train, cv=5, scoring='f1')\n",
    "    return scores.mean()\n",
    "\n",
    "study = optuna.create_study(direction=\"maximize\")\n",
    "study.optimize(objective, n_trials=30, gc_after_trial=True)"
   ]
  },
  {
   "cell_type": "code",
   "execution_count": 70,
   "id": "14c3dd66-7de2-4757-9a99-6f33ec1d76ac",
   "metadata": {},
   "outputs": [
    {
     "data": {
      "text/plain": [
       "LogisticRegression(C=0.16000497005210848, random_state=42)"
      ]
     },
     "execution_count": 70,
     "metadata": {},
     "output_type": "execute_result"
    }
   ],
   "source": [
    "# 최적 하이퍼파라미터 확인\n",
    "best_c = study.best_params[\"c\"]\n",
    "\n",
    "# 최적 모델 학습 및 평가\n",
    "best_model = LogisticRegression(C=best_c, random_state=42)\n",
    "best_model.fit(X_train, y_train)"
   ]
  },
  {
   "cell_type": "code",
   "execution_count": 71,
   "id": "ae9ee891-2705-4255-9910-ff41bec31c5f",
   "metadata": {},
   "outputs": [
    {
     "name": "stdout",
     "output_type": "stream",
     "text": [
      "Test Accuracy: 64.6\n",
      "Precision: 40.42\n",
      "Recall: 65.36\n",
      "F1-score: 49.95\n",
      "AUROC: 64.84\n"
     ]
    },
    {
     "data": {
      "image/png": "[encoded data removed]",
      "text/plain": [
       "<Figure size 600x400 with 2 Axes>"
      ]
     },
     "metadata": {},
     "output_type": "display_data"
    },
    {
     "name": "stdout",
     "output_type": "stream",
     "text": [
      "Classification Report:\n",
      "              precision    recall  f1-score   support\n",
      "\n",
      "           0       0.83      0.64      0.73      1037\n",
      "           1       0.40      0.65      0.50       384\n",
      "\n",
      "    accuracy                           0.65      1421\n",
      "   macro avg       0.62      0.65      0.61      1421\n",
      "weighted avg       0.72      0.65      0.66      1421\n",
      "\n"
     ]
    },
    {
     "data": {
      "image/png": "[encoded data removed]",
      "text/plain": [
       "<Figure size 640x480 with 1 Axes>"
      ]
     },
     "metadata": {},
     "output_type": "display_data"
    }
   ],
   "source": [
    "# Test 데이터로 모델 평가\n",
    "y_pred = best_model.predict(X_test)\n",
    "\n",
    "accuracy = accuracy_score(test_data['y'], y_pred)\n",
    "precision = precision_score(test_data['y'], y_pred)\n",
    "recall = recall_score(test_data['y'], y_pred)\n",
    "f1 = f1_score(test_data['y'], y_pred)\n",
    "auroc = roc_auc_score(test_data['y'], y_pred)\n",
    "\n",
    "rounded_accuracy = round(accuracy * 100, 2)\n",
    "rounded_precision = round(precision * 100, 2)\n",
    "rounded_recall = round(recall * 100, 2)\n",
    "rounded_f1 = round(f1 * 100, 2)\n",
    "rounded_auroc = round(auroc * 100, 2)\n",
    "\n",
    "print(\"Test Accuracy:\", rounded_accuracy)\n",
    "print(\"Precision:\", rounded_precision)\n",
    "print(\"Recall:\", rounded_recall)\n",
    "print(\"F1-score:\", rounded_f1)\n",
    "print(\"AUROC:\", rounded_auroc)\n",
    "\n",
    "\n",
    "# Confusion Matrix 계산\n",
    "cm = confusion_matrix(test_data['y'], y_pred)\n",
    "\n",
    "# Confusion Matrix 시각화\n",
    "cm_df = pd.DataFrame(cm, index=['Actual 0', 'Actual 1'], columns=['Predicted 0', 'Predicted 1'])\n",
    "plt.figure(figsize=(6, 4))\n",
    "sns.heatmap(cm_df, annot=True, fmt='d', cmap='Blues')\n",
    "plt.title('Confusion Matrix')\n",
    "plt.xlabel('Predicted Label')\n",
    "plt.ylabel('Actual Label')\n",
    "plt.show()\n",
    "\n",
    "# Classification Report 출력\n",
    "print(\"Classification Report:\")\n",
    "print(classification_report(test_data['y'], y_pred))\n",
    "\n",
    "# Precision-Recall Curve 계산 및 시각화\n",
    "precision, recall, _ = precision_recall_curve(test_data['y'], best_model.predict_proba(X_test)[:, 1])\n",
    "average_precision = auc(recall, precision)\n",
    "plt.figure()\n",
    "plt.step(recall, precision, color='b', alpha=0.2, where='post')\n",
    "plt.fill_between(recall, precision, step='post', alpha=0.2, color='b')\n",
    "plt.xlabel('Recall')\n",
    "plt.ylabel('Precision')\n",
    "plt.title(f'Precision-Recall Curve (AP = {average_precision:.2f})')\n",
    "plt.show()\n",
    "\n",
    "# # Feature Importance 계산\n",
    "# feature_importance = best_model.feature_importances_\n",
    "\n",
    "# # Feature Importance 시각화\n",
    "# plt.figure(figsize=(10, 6))\n",
    "# sns.barplot(x=feature_importance, y=features)\n",
    "# plt.title('Feature Importance')\n",
    "# plt.xlabel('Importance')\n",
    "# plt.ylabel('Feature')\n",
    "# plt.show()"
   ]
  },
  {
   "cell_type": "code",
   "execution_count": null,
   "id": "26724f8f-9bf4-41a7-864e-32b63f76dea4",
   "metadata": {},
   "outputs": [],
   "source": []
  },
  {
   "cell_type": "code",
   "execution_count": null,
   "id": "0767121e-8b65-4977-ba08-5c45721ff808",
   "metadata": {},
   "outputs": [],
   "source": []
  }
 ],
 "metadata": {
  "kernelspec": {
   "display_name": "Python 3 (ipykernel)",
   "language": "python",
   "name": "python3"
  },
  "language_info": {
   "codemirror_mode": {
    "name": "ipython",
    "version": 3
   },
   "file_extension": ".py",
   "mimetype": "text/x-python",
   "name": "python",
   "nbconvert_exporter": "python",
   "pygments_lexer": "ipython3",
   "version": "3.9.12"
  }
 },
 "nbformat": 4,
 "nbformat_minor": 5
}
