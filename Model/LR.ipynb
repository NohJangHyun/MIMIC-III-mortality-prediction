{
 "cells": [
  {
   "cell_type": "code",
   "execution_count": 11,
   "id": "fc7ce4f4-f2b2-4eb6-b164-ce4a61104333",
   "metadata": {},
   "outputs": [],
   "source": [
    "import pandas as pd\n",
    "import optuna\n",
    "from sklearn.model_selection import cross_val_score\n",
    "from sklearn.linear_model import LogisticRegression\n",
    "from sklearn.metrics import accuracy_score, precision_score, recall_score, f1_score\n",
    "from sklearn.metrics import confusion_matrix, classification_report, precision_recall_curve, auc\n",
    "import matplotlib.pyplot as plt\n",
    "import seaborn as sns\n",
    "import warnings\n",
    "warnings.filterwarnings('ignore')"
   ]
  },
  {
   "cell_type": "code",
   "execution_count": 23,
   "id": "4a00c5bd-01b9-4d19-90b4-fde61ee1d8bf",
   "metadata": {},
   "outputs": [
    {
     "name": "stdout",
     "output_type": "stream",
     "text": [
      "train shape\n",
      " (3442, 55) \n",
      "\n",
      "train shape\n",
      " (146, 55) \n",
      "\n",
      "train value\n",
      " 0    1721\n",
      "1    1721\n",
      "Name: y, dtype: int64\n",
      "test value\n",
      " 0    117\n",
      "1     29\n",
      "Name: y, dtype: int64\n"
     ]
    }
   ],
   "source": [
    "# 데이터 불러오기\n",
    "train_data = pd.read_csv(\"~/project/MIMIC-III/Baseline/overlap/All/overlap_All(1%)_train.csv\")\n",
    "test_data = pd.read_csv(\"~/project/MIMIC-III/Baseline/overlap/All/overlap_All(1%)_test.csv\")\n",
    "\n",
    "train_data.drop([\"SUBJECT_ID\",\"HADM_ID\", \"DOA\", \"TLOS\", \"ETHNICITY\"], axis=1, inplace=True)\n",
    "test_data.drop([\"SUBJECT_ID\",\"HADM_ID\", \"DOA\", \"TLOS\", \"ETHNICITY\"], axis=1, inplace=True)\n",
    "\n",
    "train_data = pd.get_dummies(train_data, columns=[\"GENDER\"])\n",
    "test_data = pd.get_dummies(test_data, columns=[\"GENDER\"])\n",
    "\n",
    "# train_data와 test_data의 칼럼을 맞추기 위해 차집합을 계산\n",
    "missing_columns_in_test = set(train_data.columns) - set(test_data.columns)\n",
    "missing_columns_in_train = set(test_data.columns) - set(train_data.columns)\n",
    "\n",
    "# test_data에 train_data의 더미 변수를 추가하고 0으로 채워주기\n",
    "for col in missing_columns_in_test:\n",
    "    test_data[col] = 0\n",
    "\n",
    "# train_data에 test_data의 더미 변수를 추가하고 0으로 채워주기\n",
    "for col in missing_columns_in_train:\n",
    "    train_data[col] = 0\n",
    "    \n",
    "####################################################################\n",
    "# Down Sampling\n",
    "# train 데이터의 레이블 비율 확인\n",
    "train_labels = train_data['y']\n",
    "label_counts = train_labels.value_counts()\n",
    "\n",
    "# train 데이터의 레이블 비율이 1:1이 되도록 분할\n",
    "class_0_data = train_data[train_data['y'] == 0]\n",
    "class_1_data = train_data[train_data['y'] == 1]\n",
    "\n",
    "# 레이블이 0인 데이터 중에서 샘플 개수가 적은 만큼만 선택\n",
    "num_samples = min(label_counts[0], label_counts[1])\n",
    "class_0_data = class_0_data.sample(num_samples, random_state=42)\n",
    "\n",
    "# 레이블이 1인 데이터 중에서 샘플 개수가 적은 만큼만 선택\n",
    "class_1_data = class_1_data.sample(num_samples, random_state=42)\n",
    "\n",
    "# 선택한 데이터를 결합하여 최종 train 데이터 생성\n",
    "train_data = pd.concat([class_0_data, class_1_data])\n",
    "####################################################################\n",
    "\n",
    "\n",
    "# Features와 Target 설정\n",
    "X_train = train_data.drop('y', axis=1)\n",
    "y_train = train_data['y']\n",
    "X_test = test_data.drop('y', axis=1)\n",
    "\n",
    "print(\"train shape\\n\",X_train.shape,\"\\n\")\n",
    "print(\"train shape\\n\",X_test.shape,\"\\n\")\n",
    "\n",
    "target = \"y\"\n",
    "features = [f for f in train_data.columns if f not in [target]]\n",
    "\n",
    "print(\"train value\\n\",train_data['y'].value_counts())\n",
    "print(\"test value\\n\",test_data['y'].value_counts())"
   ]
  },
  {
   "cell_type": "code",
   "execution_count": 24,
   "id": "4adca55d-9636-45f0-b4fb-1bdb93737bdd",
   "metadata": {},
   "outputs": [
    {
     "name": "stderr",
     "output_type": "stream",
     "text": [
      "\u001b[32m[I 2023-08-26 12:08:31,392]\u001b[0m A new study created in memory with name: no-name-55cfe579-8ae1-4005-9f89-7d1797cdcdb9\u001b[0m\n",
      "\u001b[32m[I 2023-08-26 12:08:31,598]\u001b[0m Trial 0 finished with value: 0.6437936982825613 and parameters: {'c': 0.024219279587839194}. Best is trial 0 with value: 0.6437936982825613.\u001b[0m\n",
      "\u001b[32m[I 2023-08-26 12:08:31,794]\u001b[0m Trial 1 finished with value: 0.5839869831747151 and parameters: {'c': 3.0790720089708827e-06}. Best is trial 0 with value: 0.6437936982825613.\u001b[0m\n",
      "\u001b[32m[I 2023-08-26 12:08:32,068]\u001b[0m Trial 2 finished with value: 0.6466855613425675 and parameters: {'c': 0.6888969839385675}. Best is trial 2 with value: 0.6466855613425675.\u001b[0m\n",
      "\u001b[32m[I 2023-08-26 12:08:32,359]\u001b[0m Trial 3 finished with value: 0.6444605854683495 and parameters: {'c': 0.0006293739552048873}. Best is trial 2 with value: 0.6466855613425675.\u001b[0m\n",
      "\u001b[32m[I 2023-08-26 12:08:32,621]\u001b[0m Trial 4 finished with value: 0.6438134084907462 and parameters: {'c': 0.001695043028714444}. Best is trial 2 with value: 0.6466855613425675.\u001b[0m\n",
      "\u001b[32m[I 2023-08-26 12:08:32,809]\u001b[0m Trial 5 finished with value: 0.5805215845122277 and parameters: {'c': 1.8521539154237895e-06}. Best is trial 2 with value: 0.6466855613425675.\u001b[0m\n",
      "\u001b[32m[I 2023-08-26 12:08:33,077]\u001b[0m Trial 6 finished with value: 0.6458851587777219 and parameters: {'c': 0.359808846987964}. Best is trial 2 with value: 0.6466855613425675.\u001b[0m\n",
      "\u001b[32m[I 2023-08-26 12:08:33,350]\u001b[0m Trial 7 finished with value: 0.6417473592632226 and parameters: {'c': 0.04966529820502071}. Best is trial 2 with value: 0.6466855613425675.\u001b[0m\n",
      "\u001b[32m[I 2023-08-26 12:08:33,495]\u001b[0m Trial 8 finished with value: 0.5384098495509559 and parameters: {'c': 2.5939722248027797e-08}. Best is trial 2 with value: 0.6466855613425675.\u001b[0m\n",
      "\u001b[32m[I 2023-08-26 12:08:33,843]\u001b[0m Trial 9 finished with value: 0.6404021662990909 and parameters: {'c': 0.5465367787549416}. Best is trial 2 with value: 0.6466855613425675.\u001b[0m\n",
      "\u001b[32m[I 2023-08-26 12:08:34,200]\u001b[0m Trial 10 finished with value: 0.6429533011272142 and parameters: {'c': 3.0990946758977636}. Best is trial 2 with value: 0.6466855613425675.\u001b[0m\n",
      "\u001b[32m[I 2023-08-26 12:08:34,549]\u001b[0m Trial 11 finished with value: 0.6454709020580359 and parameters: {'c': 4.795163270060431}. Best is trial 2 with value: 0.6466855613425675.\u001b[0m\n",
      "\u001b[32m[I 2023-08-26 12:08:34,834]\u001b[0m Trial 12 finished with value: 0.6393198644368944 and parameters: {'c': 0.15657999970902545}. Best is trial 2 with value: 0.6466855613425675.\u001b[0m\n",
      "\u001b[32m[I 2023-08-26 12:08:35,110]\u001b[0m Trial 13 finished with value: 0.6447269716930109 and parameters: {'c': 8.071967032438803}. Best is trial 2 with value: 0.6466855613425675.\u001b[0m\n",
      "\u001b[32m[I 2023-08-26 12:08:35,382]\u001b[0m Trial 14 finished with value: 0.642225970357994 and parameters: {'c': 0.010746452763727791}. Best is trial 2 with value: 0.6466855613425675.\u001b[0m\n",
      "\u001b[32m[I 2023-08-26 12:08:35,655]\u001b[0m Trial 15 finished with value: 0.6427142953520038 and parameters: {'c': 0.28930002627749446}. Best is trial 2 with value: 0.6466855613425675.\u001b[0m\n",
      "\u001b[32m[I 2023-08-26 12:08:35,927]\u001b[0m Trial 16 finished with value: 0.6411677056028627 and parameters: {'c': 0.005983019076906487}. Best is trial 2 with value: 0.6466855613425675.\u001b[0m\n",
      "\u001b[32m[I 2023-08-26 12:08:36,203]\u001b[0m Trial 17 finished with value: 0.6394274197966147 and parameters: {'c': 0.07820063819010112}. Best is trial 2 with value: 0.6466855613425675.\u001b[0m\n",
      "\u001b[32m[I 2023-08-26 12:08:36,478]\u001b[0m Trial 18 finished with value: 0.6447102592843027 and parameters: {'c': 0.9453136037474945}. Best is trial 2 with value: 0.6466855613425675.\u001b[0m\n",
      "\u001b[32m[I 2023-08-26 12:08:36,750]\u001b[0m Trial 19 finished with value: 0.6425177737420255 and parameters: {'c': 0.9754735742493529}. Best is trial 2 with value: 0.6466855613425675.\u001b[0m\n",
      "\u001b[32m[I 2023-08-26 12:08:37,023]\u001b[0m Trial 20 finished with value: 0.639107193415728 and parameters: {'c': 0.0036671554847455476}. Best is trial 2 with value: 0.6466855613425675.\u001b[0m\n",
      "\u001b[32m[I 2023-08-26 12:08:37,295]\u001b[0m Trial 21 finished with value: 0.6444448892826797 and parameters: {'c': 8.091593200854815}. Best is trial 2 with value: 0.6466855613425675.\u001b[0m\n",
      "\u001b[32m[I 2023-08-26 12:08:37,564]\u001b[0m Trial 22 finished with value: 0.6416157633319693 and parameters: {'c': 0.9055490347581557}. Best is trial 2 with value: 0.6466855613425675.\u001b[0m\n",
      "\u001b[32m[I 2023-08-26 12:08:37,838]\u001b[0m Trial 23 finished with value: 0.6465304412234847 and parameters: {'c': 8.320678219099758}. Best is trial 2 with value: 0.6466855613425675.\u001b[0m\n",
      "\u001b[32m[I 2023-08-26 12:08:38,111]\u001b[0m Trial 24 finished with value: 0.6455231572186315 and parameters: {'c': 0.12909549216739977}. Best is trial 2 with value: 0.6466855613425675.\u001b[0m\n",
      "\u001b[32m[I 2023-08-26 12:08:38,381]\u001b[0m Trial 25 finished with value: 0.6418832167759804 and parameters: {'c': 0.0294015957359235}. Best is trial 2 with value: 0.6466855613425675.\u001b[0m\n",
      "\u001b[32m[I 2023-08-26 12:08:38,660]\u001b[0m Trial 26 finished with value: 0.6441300394820016 and parameters: {'c': 1.5831939376919046}. Best is trial 2 with value: 0.6466855613425675.\u001b[0m\n",
      "\u001b[32m[I 2023-08-26 12:08:38,933]\u001b[0m Trial 27 finished with value: 0.6447991710410235 and parameters: {'c': 0.24215333475193906}. Best is trial 2 with value: 0.6466855613425675.\u001b[0m\n",
      "\u001b[32m[I 2023-08-26 12:08:39,204]\u001b[0m Trial 28 finished with value: 0.6443521541137415 and parameters: {'c': 7.617897222197954}. Best is trial 2 with value: 0.6466855613425675.\u001b[0m\n",
      "\u001b[32m[I 2023-08-26 12:08:39,555]\u001b[0m Trial 29 finished with value: 0.6437202279216417 and parameters: {'c': 0.03372909685583082}. Best is trial 2 with value: 0.6466855613425675.\u001b[0m\n"
     ]
    }
   ],
   "source": [
    "# 로지스틱 회귀 모델 학습\n",
    "def objective(trial):\n",
    "    c = trial.suggest_float(\"c\", 1e-8, 10.0, log=True)\n",
    "    \n",
    "    model = LogisticRegression(C=c, random_state=42)\n",
    "    \n",
    "    # Cross Validation을 통한 평가 지표 계산\n",
    "    scores = cross_val_score(model, X_train, y_train, cv=5, scoring='f1')\n",
    "    return scores.mean()\n",
    "\n",
    "study = optuna.create_study(direction=\"maximize\")\n",
    "study.optimize(objective, n_trials=30, gc_after_trial=True)"
   ]
  },
  {
   "cell_type": "code",
   "execution_count": 25,
   "id": "14c3dd66-7de2-4757-9a99-6f33ec1d76ac",
   "metadata": {},
   "outputs": [
    {
     "data": {
      "text/plain": [
       "LogisticRegression(C=0.6888969839385675, random_state=42)"
      ]
     },
     "execution_count": 25,
     "metadata": {},
     "output_type": "execute_result"
    }
   ],
   "source": [
    "# 최적 하이퍼파라미터 확인\n",
    "best_c = study.best_params[\"c\"]\n",
    "\n",
    "# 최적 모델 학습 및 평가\n",
    "best_model = LogisticRegression(C=best_c, random_state=42)\n",
    "best_model.fit(X_train, y_train)"
   ]
  },
  {
   "cell_type": "code",
   "execution_count": 26,
   "id": "ae9ee891-2705-4255-9910-ff41bec31c5f",
   "metadata": {},
   "outputs": [
    {
     "name": "stdout",
     "output_type": "stream",
     "text": [
      "Accuracy: 0.7054794520547946\n",
      "Precision: 0.37037037037037035\n",
      "Recall: 0.6896551724137931\n",
      "F1-score: 0.48192771084337355\n"
     ]
    },
    {
     "data": {
      "image/png": "[encoded data removed]",
      "text/plain": [
       "<Figure size 600x400 with 2 Axes>"
      ]
     },
     "metadata": {},
     "output_type": "display_data"
    },
    {
     "name": "stdout",
     "output_type": "stream",
     "text": [
      "Classification Report:\n",
      "              precision    recall  f1-score   support\n",
      "\n",
      "           0       0.90      0.71      0.79       117\n",
      "           1       0.37      0.69      0.48        29\n",
      "\n",
      "    accuracy                           0.71       146\n",
      "   macro avg       0.64      0.70      0.64       146\n",
      "weighted avg       0.80      0.71      0.73       146\n",
      "\n"
     ]
    },
    {
     "data": {
      "image/png": "[encoded data removed]",
      "text/plain": [
       "<Figure size 640x480 with 1 Axes>"
      ]
     },
     "metadata": {},
     "output_type": "display_data"
    }
   ],
   "source": [
    "# Test 데이터로 모델 평가\n",
    "y_pred = best_model.predict(X_test)\n",
    "accuracy = accuracy_score(test_data['y'], y_pred)\n",
    "precision = precision_score(test_data['y'], y_pred)\n",
    "recall = recall_score(test_data['y'], y_pred)\n",
    "f1 = f1_score(test_data['y'], y_pred)\n",
    "\n",
    "print(\"Accuracy:\", accuracy)\n",
    "print(\"Precision:\", precision)\n",
    "print(\"Recall:\", recall)\n",
    "print(\"F1-score:\", f1)\n",
    "\n",
    "# Confusion Matrix 계산\n",
    "cm = confusion_matrix(test_data['y'], y_pred)\n",
    "\n",
    "# Confusion Matrix 시각화\n",
    "cm_df = pd.DataFrame(cm, index=['Actual 0', 'Actual 1'], columns=['Predicted 0', 'Predicted 1'])\n",
    "plt.figure(figsize=(6, 4))\n",
    "sns.heatmap(cm_df, annot=True, fmt='d', cmap='Blues')\n",
    "plt.title('Confusion Matrix')\n",
    "plt.xlabel('Predicted Label')\n",
    "plt.ylabel('Actual Label')\n",
    "plt.show()\n",
    "\n",
    "# Classification Report 출력\n",
    "print(\"Classification Report:\")\n",
    "print(classification_report(test_data['y'], y_pred))\n",
    "\n",
    "# Precision-Recall Curve 계산 및 시각화\n",
    "precision, recall, _ = precision_recall_curve(test_data['y'], best_model.predict_proba(X_test)[:, 1])\n",
    "average_precision = auc(recall, precision)\n",
    "plt.figure()\n",
    "plt.step(recall, precision, color='b', alpha=0.2, where='post')\n",
    "plt.fill_between(recall, precision, step='post', alpha=0.2, color='b')\n",
    "plt.xlabel('Recall')\n",
    "plt.ylabel('Precision')\n",
    "plt.title(f'Precision-Recall Curve (AP = {average_precision:.2f})')\n",
    "plt.show()\n",
    "\n",
    "# # Feature Importance 계산\n",
    "# feature_importance = best_model.feature_importances_\n",
    "\n",
    "# # Feature Importance 시각화\n",
    "# plt.figure(figsize=(10, 6))\n",
    "# sns.barplot(x=feature_importance, y=features)\n",
    "# plt.title('Feature Importance')\n",
    "# plt.xlabel('Importance')\n",
    "# plt.ylabel('Feature')\n",
    "# plt.show()"
   ]
  },
  {
   "cell_type": "code",
   "execution_count": null,
   "id": "26724f8f-9bf4-41a7-864e-32b63f76dea4",
   "metadata": {},
   "outputs": [],
   "source": []
  }
 ],
 "metadata": {
  "kernelspec": {
   "display_name": "Python 3 (ipykernel)",
   "language": "python",
   "name": "python3"
  },
  "language_info": {
   "codemirror_mode": {
    "name": "ipython",
    "version": 3
   },
   "file_extension": ".py",
   "mimetype": "text/x-python",
   "name": "python",
   "nbconvert_exporter": "python",
   "pygments_lexer": "ipython3",
   "version": "3.9.12"
  }
 },
 "nbformat": 4,
 "nbformat_minor": 5
}
