{
 "cells": [
  {
   "cell_type": "code",
   "execution_count": 1,
   "id": "39cf6252-81b0-4c5d-b28a-c22371dab45b",
   "metadata": {},
   "outputs": [],
   "source": [
    "import numpy as np\n",
    "import pandas as pd\n",
    "import torch\n",
    "import matplotlib.pyplot as plt\n",
    "\n",
    "from torch import nn\n",
    "from sklearn import metrics\n",
    "from pytorch_tabnet.tab_model  import TabNetClassifier \n",
    "from sklearn.model_selection import train_test_split\n",
    "from sklearn.metrics import accuracy_score\n",
    "from pytorch_tabnet.metrics import Metric\n",
    "from sklearn.metrics import f1_score\n",
    "from sklearn.preprocessing import LabelEncoder\n",
    "from sklearn.metrics import confusion_matrix\n",
    "from sklearn.impute import SimpleImputer\n",
    "from sklearn.preprocessing import StandardScaler"
   ]
  },
  {
   "cell_type": "code",
   "execution_count": 18,
   "id": "6fa4d843-b92a-45c4-ba71-6f1bdfaa688f",
   "metadata": {},
   "outputs": [
    {
     "name": "stdout",
     "output_type": "stream",
     "text": [
      "Train Data:\n",
      "0    3450\n",
      "1    1082\n",
      "Name: y, dtype: int64\n",
      "Validation Data:\n",
      "0    885\n",
      "1    249\n",
      "Name: y, dtype: int64\n",
      "Test Data:\n",
      "0    1304\n",
      "1     614\n",
      "Name: y, dtype: int64\n"
     ]
    },
    {
     "name": "stderr",
     "output_type": "stream",
     "text": [
      "/home/watercar99/.local/lib/python3.9/site-packages/pytorch_tabnet/abstract_model.py:75: UserWarning: Device used : cuda\n",
      "  warnings.warn(f\"Device used : {self.device}\")\n"
     ]
    }
   ],
   "source": [
    "# 데이터 불러오기\n",
    "train_data = pd.read_csv(\"~/project/MIMIC-III/Baseline/overlap/OI/overlap_OI(1%)_train.csv\")\n",
    "test_data = pd.read_csv(\"~/project/MIMIC-III/Baseline/overlap/OI/overlap_OI(1%)_test.csv\")\n",
    "\n",
    "train_data.rename(columns={'HOSPITAL_EXPIRE_FLAG': 'y'}, inplace=True)\n",
    "test_data.rename(columns={'HOSPITAL_EXPIRE_FLAG': 'y'}, inplace=True)\n",
    "\n",
    "train_data.drop([\"SUBJECT_ID\",\"HADM_ID\", \"DOA\", \"TLOS\", \"ETHNICITY\"], axis=1, inplace=True)\n",
    "test_data.drop([\"SUBJECT_ID\",\"HADM_ID\", \"DOA\", \"TLOS\", \"ETHNICITY\"], axis=1, inplace=True)\n",
    "\n",
    "train_data = pd.get_dummies(train_data, columns=[\"GENDER\"])\n",
    "test_data = pd.get_dummies(test_data, columns=[\"GENDER\"])\n",
    "\n",
    "# train_data와 test_data의 칼럼을 맞추기 위해 차집합을 계산\n",
    "missing_columns_in_test = set(train_data.columns) - set(test_data.columns)\n",
    "missing_columns_in_train = set(test_data.columns) - set(train_data.columns)\n",
    "\n",
    "# test_data에 train_data의 더미 변수를 추가하고 0으로 채워주기\n",
    "for col in missing_columns_in_test:\n",
    "    test_data[col] = 0\n",
    "\n",
    "# train_data에 test_data의 더미 변수를 추가하고 0으로 채워주기\n",
    "for col in missing_columns_in_train:\n",
    "    train_data[col] = 0\n",
    "\n",
    "# train_data split\n",
    "train_data, valid_data, _, _ = train_test_split(train_data, train_data['y'], test_size=0.2, random_state=42)\n",
    "\n",
    "\n",
    "# 데이터 분할 결과 확인\n",
    "print(\"Train Data:\")\n",
    "print(train_data['y'].value_counts())\n",
    "print(\"Validation Data:\")\n",
    "print(valid_data['y'].value_counts())\n",
    "print(\"Test Data:\")\n",
    "print(test_data['y'].value_counts())\n",
    "\n",
    "X_train = train_data.drop('y', axis=1)\n",
    "y_train = train_data['y']\n",
    "\n",
    "X_valid = valid_data.drop('y', axis=1)\n",
    "y_valid = valid_data['y']\n",
    "\n",
    "X_test = test_data.drop('y', axis=1)\n",
    "y_test = test_data['y']\n",
    "\n",
    "clf = TabNetClassifier(cat_emb_dim=3,\n",
    "                       optimizer_fn=torch.optim.AdamW, # Any optimizer works here\n",
    "                       mask_type='entmax', # \"sparsemax\",\n",
    "                      )\n",
    "\n",
    "# NaN 값 대체\n",
    "imputer = SimpleImputer(strategy='mean')\n",
    "X_train_array = imputer.fit_transform(X_train)\n",
    "X_valid_array = imputer.transform(X_valid)\n",
    "X_test_array = imputer.transform(X_test)\n",
    "\n",
    "# 데이터 스케일링\n",
    "scaler = StandardScaler()\n",
    "X_train_array = scaler.fit_transform(X_train_array)\n",
    "X_valid_array = scaler.transform(X_valid_array)\n",
    "X_test_array = scaler.transform(X_test_array)\n",
    "\n",
    "# NaN 값 대체\n",
    "y_imputer = SimpleImputer(strategy='mean')\n",
    "y_train_array = y_imputer.fit_transform(y_train.values.reshape(-1, 1)).ravel()\n",
    "y_valid_array = y_imputer.transform(y_valid.values.reshape(-1, 1)).ravel()\n",
    "y_test_array = y_imputer.transform(y_test.values.reshape(-1, 1)).ravel()"
   ]
  },
  {
   "cell_type": "code",
   "execution_count": 19,
   "id": "567c5359-7342-480f-b140-7d8404b2869a",
   "metadata": {},
   "outputs": [
    {
     "name": "stdout",
     "output_type": "stream",
     "text": [
      "epoch 0  | loss: 0.71643 | train_accuracy: 0.74647 | valid_accuracy: 0.76279 |  0:00:01s\n",
      "epoch 1  | loss: 0.5999  | train_accuracy: 0.75816 | valid_accuracy: 0.77866 |  0:00:02s\n",
      "epoch 2  | loss: 0.56631 | train_accuracy: 0.75772 | valid_accuracy: 0.77778 |  0:00:04s\n",
      "epoch 3  | loss: 0.54588 | train_accuracy: 0.76147 | valid_accuracy: 0.78131 |  0:00:06s\n",
      "epoch 4  | loss: 0.53354 | train_accuracy: 0.76103 | valid_accuracy: 0.78307 |  0:00:09s\n",
      "epoch 5  | loss: 0.52413 | train_accuracy: 0.76103 | valid_accuracy: 0.77954 |  0:00:10s\n",
      "epoch 6  | loss: 0.51948 | train_accuracy: 0.76169 | valid_accuracy: 0.77778 |  0:00:12s\n",
      "epoch 7  | loss: 0.51926 | train_accuracy: 0.7628  | valid_accuracy: 0.77954 |  0:00:14s\n",
      "epoch 8  | loss: 0.51586 | train_accuracy: 0.76236 | valid_accuracy: 0.77866 |  0:00:15s\n",
      "epoch 9  | loss: 0.5072  | train_accuracy: 0.76258 | valid_accuracy: 0.78042 |  0:00:16s\n",
      "epoch 10 | loss: 0.50475 | train_accuracy: 0.76214 | valid_accuracy: 0.78131 |  0:00:17s\n",
      "epoch 11 | loss: 0.50334 | train_accuracy: 0.76346 | valid_accuracy: 0.77954 |  0:00:18s\n",
      "epoch 12 | loss: 0.5012  | train_accuracy: 0.76589 | valid_accuracy: 0.78219 |  0:00:19s\n",
      "epoch 13 | loss: 0.49993 | train_accuracy: 0.76125 | valid_accuracy: 0.78483 |  0:00:20s\n",
      "epoch 14 | loss: 0.49912 | train_accuracy: 0.7628  | valid_accuracy: 0.78131 |  0:00:21s\n",
      "epoch 15 | loss: 0.49972 | train_accuracy: 0.76258 | valid_accuracy: 0.78483 |  0:00:22s\n",
      "epoch 16 | loss: 0.49844 | train_accuracy: 0.76412 | valid_accuracy: 0.78219 |  0:00:23s\n",
      "epoch 17 | loss: 0.4968  | train_accuracy: 0.76412 | valid_accuracy: 0.78395 |  0:00:24s\n",
      "epoch 18 | loss: 0.49501 | train_accuracy: 0.76346 | valid_accuracy: 0.78042 |  0:00:25s\n",
      "epoch 19 | loss: 0.49415 | train_accuracy: 0.76589 | valid_accuracy: 0.78395 |  0:00:26s\n",
      "epoch 20 | loss: 0.49021 | train_accuracy: 0.76412 | valid_accuracy: 0.77954 |  0:00:27s\n",
      "epoch 21 | loss: 0.49453 | train_accuracy: 0.76655 | valid_accuracy: 0.77778 |  0:00:28s\n",
      "epoch 22 | loss: 0.48721 | train_accuracy: 0.76633 | valid_accuracy: 0.78219 |  0:00:29s\n",
      "epoch 23 | loss: 0.48574 | train_accuracy: 0.76743 | valid_accuracy: 0.77513 |  0:00:30s\n",
      "epoch 24 | loss: 0.49039 | train_accuracy: 0.76853 | valid_accuracy: 0.77601 |  0:00:31s\n",
      "epoch 25 | loss: 0.48912 | train_accuracy: 0.76898 | valid_accuracy: 0.77601 |  0:00:32s\n",
      "epoch 26 | loss: 0.48109 | train_accuracy: 0.7714  | valid_accuracy: 0.7716  |  0:00:33s\n",
      "epoch 27 | loss: 0.48845 | train_accuracy: 0.77096 | valid_accuracy: 0.76896 |  0:00:34s\n",
      "epoch 28 | loss: 0.4831  | train_accuracy: 0.76699 | valid_accuracy: 0.76808 |  0:00:35s\n",
      "epoch 29 | loss: 0.48185 | train_accuracy: 0.76986 | valid_accuracy: 0.7716  |  0:00:36s\n",
      "epoch 30 | loss: 0.48125 | train_accuracy: 0.77449 | valid_accuracy: 0.77337 |  0:00:38s\n",
      "epoch 31 | loss: 0.48379 | train_accuracy: 0.77736 | valid_accuracy: 0.77866 |  0:00:39s\n",
      "epoch 32 | loss: 0.47783 | train_accuracy: 0.77891 | valid_accuracy: 0.77778 |  0:00:40s\n",
      "epoch 33 | loss: 0.47666 | train_accuracy: 0.77935 | valid_accuracy: 0.76984 |  0:00:41s\n",
      "\n",
      "Early stopping occurred at epoch 33 with best_epoch = 13 and best_valid_accuracy = 0.78483\n"
     ]
    },
    {
     "name": "stderr",
     "output_type": "stream",
     "text": [
      "/home/watercar99/.local/lib/python3.9/site-packages/pytorch_tabnet/callbacks.py:172: UserWarning: Best weights from best epoch are automatically used!\n",
      "  warnings.warn(wrn_msg)\n"
     ]
    }
   ],
   "source": [
    "# 모델 훈련\n",
    "clf.fit(\n",
    "    X_train=X_train_array, y_train=y_train_array,\n",
    "    eval_set=[(X_train_array, y_train_array), (X_valid_array, y_valid_array)],\n",
    "    eval_name=['train', 'valid'],\n",
    "    eval_metric=['accuracy'],\n",
    "    max_epochs=100, patience=20,\n",
    "    batch_size=1024,\n",
    "    virtual_batch_size=256,\n",
    "    num_workers=1,\n",
    "    drop_last=False,\n",
    ")"
   ]
  },
  {
   "cell_type": "code",
   "execution_count": 20,
   "id": "61db8f61-ef40-474f-a70c-7a46a4d12499",
   "metadata": {},
   "outputs": [
    {
     "name": "stdout",
     "output_type": "stream",
     "text": [
      "accuracy: 0.6824817518248175\n",
      "precision: 0.5714285714285714\n",
      "recall: 0.03257328990228013\n",
      "f1 score: 0.06163328197226503\n",
      "\n",
      "Confusion Matrix (Test Data):\n",
      "[[1289   15]\n",
      " [ 594   20]]\n"
     ]
    },
    {
     "data": {
      "image/png": "[encoded data removed]",
      "text/plain": [
       "<Figure size 1000x600 with 1 Axes>"
      ]
     },
     "metadata": {},
     "output_type": "display_data"
    }
   ],
   "source": [
    "# 모델 예측\n",
    "y_pred_test = clf.predict(X_test_array)\n",
    "\n",
    "# 평가 메트릭 계산\n",
    "accuracy = metrics.accuracy_score(y_test, y_pred_test)\n",
    "print(\"accuracy:\", accuracy)\n",
    "\n",
    "precision = metrics.precision_score(y_test, y_pred_test)\n",
    "print(\"precision:\", precision)\n",
    "\n",
    "recall = metrics.recall_score(y_test, y_pred_test)\n",
    "print(\"recall:\", recall)\n",
    "\n",
    "f1 = metrics.f1_score(y_test, y_pred_test)\n",
    "print(\"f1 score:\", f1)\n",
    "\n",
    "print(\"\")\n",
    "\n",
    "# 혼동 행렬 출력\n",
    "conf_matrix_test = confusion_matrix(y_test, y_pred_test)\n",
    "print(\"Confusion Matrix (Test Data):\")\n",
    "print(conf_matrix_test)\n",
    "\n",
    "# Feature selection\n",
    "importance_scores = clf.feature_importances_\n",
    "feature_names = X_train.columns\n",
    "\n",
    "# X_train 데이터프레임의 열 수와 일치하지 않을 경우, 필요한 처리를 수행하여 일치시킴\n",
    "if len(feature_names) > len(importance_scores):\n",
    "    # X_train 데이터프레임의 열을 제거하거나 importance_scores에 0을 추가하여 길이를 맞춤\n",
    "    importance_scores = np.concatenate([importance_scores, np.zeros(len(feature_names) - len(importance_scores))])\n",
    "elif len(feature_names) < len(importance_scores):\n",
    "    # importance_scores의 길이를 X_train 데이터프레임의 열 수에 맞게 잘라냄\n",
    "    importance_scores = importance_scores[:len(feature_names)]\n",
    "\n",
    "# 업데이트된 importance_scores로 데이터프레임 생성\n",
    "feature_importance_df = pd.DataFrame({'Feature': feature_names, 'Importance': importance_scores})\n",
    "\n",
    "# 나머지 코드는 이전과 동일\n",
    "sorted_feature_importance = feature_importance_df.sort_values('Importance', ascending=False)\n",
    "top_10_features = sorted_feature_importance.head(10)\n",
    "\n",
    "plt.figure(figsize=(10, 6))\n",
    "plt.barh(top_10_features['Feature'], top_10_features['Importance'])\n",
    "plt.xlabel('Importance')\n",
    "plt.ylabel('Feature')\n",
    "plt.title('Top 10 Features of TabNet')\n",
    "plt.gca().invert_yaxis()\n",
    "plt.show()"
   ]
  },
  {
   "cell_type": "code",
   "execution_count": null,
   "id": "73e6a5ee-1386-44d5-8b25-90fc8f11ebe2",
   "metadata": {},
   "outputs": [],
   "source": []
  }
 ],
 "metadata": {
  "kernelspec": {
   "display_name": "Python 3 (ipykernel)",
   "language": "python",
   "name": "python3"
  },
  "language_info": {
   "codemirror_mode": {
    "name": "ipython",
    "version": 3
   },
   "file_extension": ".py",
   "mimetype": "text/x-python",
   "name": "python",
   "nbconvert_exporter": "python",
   "pygments_lexer": "ipython3",
   "version": "3.9.12"
  }
 },
 "nbformat": 4,
 "nbformat_minor": 5
}
