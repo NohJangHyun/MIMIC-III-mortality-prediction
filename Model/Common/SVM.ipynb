{
 "cells": [
  {
   "cell_type": "code",
   "execution_count": 1,
   "id": "9d5433df-8ec9-43ab-ae15-e6f5d1243cff",
   "metadata": {},
   "outputs": [],
   "source": [
    "import pandas as pd\n",
    "import optuna\n",
    "from sklearn.svm import SVC\n",
    "from sklearn.model_selection import cross_val_score\n",
    "from sklearn.metrics import roc_curve, roc_auc_score\n",
    "from sklearn.metrics import accuracy_score, precision_score, recall_score, f1_score\n",
    "from sklearn.metrics import confusion_matrix, classification_report, precision_recall_curve, auc\n",
    "import matplotlib.pyplot as plt\n",
    "import seaborn as sns\n",
    "import warnings\n",
    "warnings.filterwarnings('ignore')"
   ]
  },
  {
   "cell_type": "code",
   "execution_count": 10,
   "id": "4cd8e624-c693-4734-9a69-3ee035c5c268",
   "metadata": {},
   "outputs": [
    {
     "name": "stdout",
     "output_type": "stream",
     "text": [
      "train shape\n",
      " (2298, 55) \n",
      "\n",
      "train shape\n",
      " (1421, 55) \n",
      "\n",
      "train value\n",
      " 0    1149\n",
      "1    1149\n",
      "Name: y, dtype: int64\n",
      "test value\n",
      " 0    1037\n",
      "1     384\n",
      "Name: y, dtype: int64\n"
     ]
    }
   ],
   "source": [
    "# 데이터 불러오기\n",
    "train_data = pd.read_csv(\"~/project/MIMIC-III/Baseline/overlap/OSI/overlap_OSI(1%)_train.csv\")\n",
    "test_data = pd.read_csv(\"~/project/MIMIC-III/Baseline/overlap/OSI/overlap_OSI(1%)_test.csv\")\n",
    "\n",
    "# Overlap ARDS\n",
    "ARDS = pd.read_csv(\"~/project/MIMIC-III/ARDS.csv\")\n",
    "ARDS.drop(\"y\", axis=1, inplace=True)\n",
    "\n",
    "train_data = pd.merge(train_data, ARDS, on=['SUBJECT_ID', 'HADM_ID'], how='inner')\n",
    "test_data = pd.merge(test_data, ARDS, on=['SUBJECT_ID', 'HADM_ID'], how='inner')\n",
    "\n",
    "\n",
    "train_data.drop([\"SUBJECT_ID\",\"HADM_ID\", \"DOA\", \"TLOS\", \"ETHNICITY\"], axis=1, inplace=True)\n",
    "test_data.drop([\"SUBJECT_ID\",\"HADM_ID\", \"DOA\", \"TLOS\", \"ETHNICITY\"], axis=1, inplace=True)\n",
    "\n",
    "train_data = pd.get_dummies(train_data, columns=[\"GENDER\"])\n",
    "test_data = pd.get_dummies(test_data, columns=[\"GENDER\"])\n",
    "\n",
    "# train_data와 test_data의 칼럼을 맞추기 위해 차집합을 계산\n",
    "missing_columns_in_test = set(train_data.columns) - set(test_data.columns)\n",
    "missing_columns_in_train = set(test_data.columns) - set(train_data.columns)\n",
    "\n",
    "# test_data에 train_data의 더미 변수를 추가하고 0으로 채워주기\n",
    "for col in missing_columns_in_test:\n",
    "    test_data[col] = 0\n",
    "\n",
    "# train_data에 test_data의 더미 변수를 추가하고 0으로 채워주기\n",
    "for col in missing_columns_in_train:\n",
    "    train_data[col] = 0\n",
    "    \n",
    "####################################################################\n",
    "# Down Sampling\n",
    "# train 데이터의 레이블 비율 확인\n",
    "train_labels = train_data['y']\n",
    "label_counts = train_labels.value_counts()\n",
    "\n",
    "# train 데이터의 레이블 비율이 1:1이 되도록 분할\n",
    "class_0_data = train_data[train_data['y'] == 0]\n",
    "class_1_data = train_data[train_data['y'] == 1]\n",
    "\n",
    "# 레이블이 0인 데이터 중에서 샘플 개수가 적은 만큼만 선택\n",
    "num_samples = min(label_counts[0], label_counts[1])\n",
    "class_0_data = class_0_data.sample(num_samples, random_state=42)\n",
    "\n",
    "# 레이블이 1인 데이터 중에서 샘플 개수가 적은 만큼만 선택\n",
    "class_1_data = class_1_data.sample(num_samples, random_state=42)\n",
    "\n",
    "# 선택한 데이터를 결합하여 최종 train 데이터 생성\n",
    "train_data = pd.concat([class_0_data, class_1_data])\n",
    "####################################################################\n",
    "\n",
    "\n",
    "# Features와 Target 설정\n",
    "X_train = train_data.drop('y', axis=1)\n",
    "y_train = train_data['y']\n",
    "X_test = test_data.drop('y', axis=1)\n",
    "\n",
    "print(\"train shape\\n\",X_train.shape,\"\\n\")\n",
    "print(\"train shape\\n\",X_test.shape,\"\\n\")\n",
    "\n",
    "target = \"y\"\n",
    "features = [f for f in train_data.columns if f not in [target]]\n",
    "\n",
    "print(\"train value\\n\",train_data['y'].value_counts())\n",
    "print(\"test value\\n\",test_data['y'].value_counts())"
   ]
  },
  {
   "cell_type": "code",
   "execution_count": 11,
   "id": "ef1e7c7d-2bd1-4f0a-b035-85d6fa80a9ea",
   "metadata": {},
   "outputs": [
    {
     "name": "stderr",
     "output_type": "stream",
     "text": [
      "\u001b[32m[I 2023-09-06 14:59:37,577]\u001b[0m A new study created in memory with name: no-name-581f205e-1421-4cc9-8126-f3025063ca32\u001b[0m\n",
      "\u001b[32m[I 2023-09-06 14:59:41,013]\u001b[0m Trial 0 finished with value: 0.4571689765316858 and parameters: {'c': 6.611532353849533e-08, 'kernel': 'rbf'}. Best is trial 0 with value: 0.4571689765316858.\u001b[0m\n",
      "\u001b[32m[I 2023-09-06 14:59:43,619]\u001b[0m Trial 1 finished with value: 0.6492427943331706 and parameters: {'c': 9.00000787285019e-05, 'kernel': 'linear'}. Best is trial 1 with value: 0.6492427943331706.\u001b[0m\n",
      "\u001b[32m[I 2023-09-06 14:59:45,444]\u001b[0m Trial 2 finished with value: 0.5120334119694155 and parameters: {'c': 1.2425876491228318e-06, 'kernel': 'linear'}. Best is trial 1 with value: 0.6492427943331706.\u001b[0m\n"
     ]
    }
   ],
   "source": [
    "def objective(trial):\n",
    "    c = trial.suggest_float(\"c\", 1e-8, 10.0, log=True)\n",
    "    kernel = trial.suggest_categorical(\"kernel\", [\"linear\", \"rbf\"])\n",
    "    \n",
    "    model = SVC(C=c, kernel=kernel, probability=True, decision_function_shape=\"ovo\", random_state=42)\n",
    "    \n",
    "    # Cross Validation을 통한 평가 지표 계산\n",
    "    scores = cross_val_score(model, X_train, y_train, cv=3, scoring='f1')\n",
    "    return scores.mean()\n",
    "\n",
    "# 병렬 처리를 위해 n_jobs 대신 n_jobs=-1로 설정하고 Optuna 스터디 실행\n",
    "study = optuna.create_study(direction=\"maximize\")\n",
    "study.optimize(objective, n_trials=3, gc_after_trial=True, n_jobs=1)\n"
   ]
  },
  {
   "cell_type": "code",
   "execution_count": 12,
   "id": "6241714d-30f5-419e-8eec-217d1b79c7e9",
   "metadata": {},
   "outputs": [
    {
     "data": {
      "text/plain": [
       "SVC(C=9.00000787285019e-05, kernel='linear', random_state=42)"
      ]
     },
     "execution_count": 12,
     "metadata": {},
     "output_type": "execute_result"
    }
   ],
   "source": [
    "# 최적 하이퍼파라미터 확인\n",
    "best_c = study.best_params[\"c\"]\n",
    "best_kernel = study.best_params[\"kernel\"]\n",
    "\n",
    "# 최적 모델 학습 및 평가\n",
    "best_model = SVC(C=best_c, kernel=best_kernel, random_state=42)\n",
    "best_model.fit(X_train, y_train)"
   ]
  },
  {
   "cell_type": "code",
   "execution_count": 13,
   "id": "07bb79c0-868e-4aab-b1f6-715226ae2498",
   "metadata": {},
   "outputs": [
    {
     "name": "stdout",
     "output_type": "stream",
     "text": [
      "Test Accuracy: 61.58\n",
      "Precision: 38.56\n",
      "Recall: 71.09\n",
      "F1-score: 50.0\n",
      "AUROC: 64.57\n"
     ]
    },
    {
     "data": {
      "image/png": "[encoded data removed]",
      "text/plain": [
       "<Figure size 600x400 with 2 Axes>"
      ]
     },
     "metadata": {},
     "output_type": "display_data"
    }
   ],
   "source": [
    "# Test 데이터로 모델 평가\n",
    "y_pred = best_model.predict(X_test)\n",
    "accuracy = accuracy_score(test_data['y'], y_pred)\n",
    "precision = precision_score(test_data['y'], y_pred)\n",
    "recall = recall_score(test_data['y'], y_pred)\n",
    "f1 = f1_score(test_data['y'], y_pred)\n",
    "auroc = roc_auc_score(test_data['y'], y_pred)\n",
    "\n",
    "rounded_accuracy = round(accuracy * 100, 2)\n",
    "rounded_precision = round(precision * 100, 2)\n",
    "rounded_recall = round(recall * 100, 2)\n",
    "rounded_f1 = round(f1 * 100, 2)\n",
    "rounded_auroc = round(auroc * 100, 2)\n",
    "\n",
    "print(\"Test Accuracy:\", rounded_accuracy)\n",
    "print(\"Precision:\", rounded_precision)\n",
    "print(\"Recall:\", rounded_recall)\n",
    "print(\"F1-score:\", rounded_f1)\n",
    "print(\"AUROC:\", rounded_auroc)\n",
    "\n",
    "# Confusion Matrix 계산\n",
    "cm = confusion_matrix(test_data['y'], y_pred)\n",
    "\n",
    "# Confusion Matrix 시각화\n",
    "cm_df = pd.DataFrame(cm, index=['Actual 0', 'Actual 1'], columns=['Predicted 0', 'Predicted 1'])\n",
    "plt.figure(figsize=(6, 4))\n",
    "sns.heatmap(cm_df, annot=True, fmt='d', cmap='Blues')\n",
    "plt.title('Confusion Matrix')\n",
    "plt.xlabel('Predicted Label')\n",
    "plt.ylabel('Actual Label')\n",
    "plt.show()\n",
    "\n",
    "# # Classification Report 출력\n",
    "# print(\"Classification Report:\")\n",
    "# print(classification_report(test_data['y'], y_pred))\n",
    "\n",
    "# # Precision-Recall Curve 계산 및 시각화\n",
    "# precision, recall, _ = precision_recall_curve(test_data['y'], best_model.predict_proba(X_test)[:, 1])\n",
    "# average_precision = auc(recall, precision)\n",
    "# plt.figure()\n",
    "# plt.step(recall, precision, color='b', alpha=0.2, where='post')\n",
    "# plt.fill_between(recall, precision, step='post', alpha=0.2, color='b')\n",
    "# plt.xlabel('Recall')\n",
    "# plt.ylabel('Precision')\n",
    "# plt.title(f'Precision-Recall Curve (AP = {average_precision:.2f})')\n",
    "# plt.show()\n",
    "\n",
    "# # Feature Importance 계산\n",
    "# feature_importance = best_model.feature_importances_\n",
    "\n",
    "# # Feature Importance 시각화\n",
    "# plt.figure(figsize=(10, 6))\n",
    "# sns.barplot(x=feature_importance, y=features)\n",
    "# plt.title('Feature Importance')\n",
    "# plt.xlabel('Importance')\n",
    "# plt.ylabel('Feature')\n",
    "# plt.show()"
   ]
  },
  {
   "cell_type": "code",
   "execution_count": null,
   "id": "477511e8-7bf2-4626-9918-728964d21f80",
   "metadata": {},
   "outputs": [],
   "source": []
  },
  {
   "cell_type": "code",
   "execution_count": null,
   "id": "47db8911-f9b5-4316-9976-a74b673163e4",
   "metadata": {},
   "outputs": [],
   "source": []
  }
 ],
 "metadata": {
  "kernelspec": {
   "display_name": "Python 3 (ipykernel)",
   "language": "python",
   "name": "python3"
  },
  "language_info": {
   "codemirror_mode": {
    "name": "ipython",
    "version": 3
   },
   "file_extension": ".py",
   "mimetype": "text/x-python",
   "name": "python",
   "nbconvert_exporter": "python",
   "pygments_lexer": "ipython3",
   "version": "3.9.12"
  }
 },
 "nbformat": 4,
 "nbformat_minor": 5
}
