{
 "cells": [
  {
   "cell_type": "code",
   "execution_count": 1,
   "id": "dc96886b-f25b-418d-9fd7-825bd5721f95",
   "metadata": {},
   "outputs": [],
   "source": [
    "import pandas as pd\n",
    "import xgboost as xgb\n",
    "from sklearn.metrics import accuracy_score\n",
    "from sklearn.model_selection import GridSearchCV\n",
    "import optuna\n",
    "import pandas as pd\n",
    "import numpy as np\n",
    "import xgboost as xgb\n",
    "import sklearn.metrics as metrics\n",
    "import sklearn.preprocessing as prep\n",
    "import sklearn.model_selection as ms\n",
    "from functools import partial"
   ]
  },
  {
   "cell_type": "code",
   "execution_count": 20,
   "id": "0d200835-b119-4d6f-bc7e-be9aea704911",
   "metadata": {},
   "outputs": [
    {
     "name": "stdout",
     "output_type": "stream",
     "text": [
      "(5666, 55)\n",
      "(1918, 55)\n",
      "0    1304\n",
      "1     614\n",
      "Name: y, dtype: int64\n"
     ]
    }
   ],
   "source": [
    "# 데이터 불러오기\n",
    "train_data = pd.read_csv(\"~/project/MIMIC-III/Baseline/overlap/OI/overlap_OI(1%)_train.csv\")\n",
    "test_data = pd.read_csv(\"~/project/MIMIC-III/Baseline/overlap/OI/overlap_OI(1%)_test.csv\")\n",
    "\n",
    "train_data.rename(columns={'HOSPITAL_EXPIRE_FLAG': 'y'}, inplace=True)\n",
    "test_data.rename(columns={'HOSPITAL_EXPIRE_FLAG': 'y'}, inplace=True)\n",
    "\n",
    "train_data.drop([\"SUBJECT_ID\",\"HADM_ID\", \"DOA\", \"TLOS\", \"ETHNICITY\"], axis=1, inplace=True)\n",
    "test_data.drop([\"SUBJECT_ID\",\"HADM_ID\", \"DOA\", \"TLOS\", \"ETHNICITY\"], axis=1, inplace=True)\n",
    "\n",
    "train_data = pd.get_dummies(train_data, columns=[\"GENDER\"])\n",
    "test_data = pd.get_dummies(test_data, columns=[\"GENDER\"])\n",
    "\n",
    "# train_data와 test_data의 칼럼을 맞추기 위해 차집합을 계산\n",
    "missing_columns_in_test = set(train_data.columns) - set(test_data.columns)\n",
    "missing_columns_in_train = set(test_data.columns) - set(train_data.columns)\n",
    "\n",
    "# test_data에 train_data의 더미 변수를 추가하고 0으로 채워주기\n",
    "for col in missing_columns_in_test:\n",
    "    test_data[col] = 0\n",
    "\n",
    "# train_data에 test_data의 더미 변수를 추가하고 0으로 채워주기\n",
    "for col in missing_columns_in_train:\n",
    "    train_data[col] = 0\n",
    "\n",
    "# Features와 Target 설정\n",
    "X_train = train_data.drop('y', axis=1)\n",
    "y_train = train_data['y']\n",
    "X_test = test_data.drop('y', axis=1)\n",
    "\n",
    "print(X_train.shape)\n",
    "print(X_test.shape)\n",
    "\n",
    "target = \"y\"\n",
    "features = [f for f in train_data.columns if f not in [target]]\n",
    "print(test_data['y'].value_counts())\n"
   ]
  },
  {
   "cell_type": "code",
   "execution_count": 21,
   "id": "3450d603-4b5d-4400-bd46-2458d1ff2023",
   "metadata": {},
   "outputs": [
    {
     "name": "stdout",
     "output_type": "stream",
     "text": [
      "칼럼 차이: set()\n"
     ]
    }
   ],
   "source": [
    "# test_data와 train_data의 칼럼 차이 확인\n",
    "column_difference = set(X_train.columns) - set(X_test.columns)\n",
    "print(\"칼럼 차이:\", column_difference)"
   ]
  },
  {
   "cell_type": "code",
   "execution_count": 22,
   "id": "b978230d-b165-41e5-90e0-ea4df87cc0aa",
   "metadata": {},
   "outputs": [
    {
     "data": {
      "text/plain": [
       "XGBClassifier(base_score=None, booster=None, callbacks=None,\n",
       "              colsample_bylevel=None, colsample_bynode=None,\n",
       "              colsample_bytree=None, early_stopping_rounds=None,\n",
       "              enable_categorical=False, eval_metric=None, feature_types=None,\n",
       "              gamma=None, gpu_id=0, grow_policy=None, importance_type=None,\n",
       "              interaction_constraints=None, learning_rate=None, max_bin=None,\n",
       "              max_cat_threshold=None, max_cat_to_onehot=None,\n",
       "              max_delta_step=None, max_depth=None, max_leaves=None,\n",
       "              min_child_weight=None, missing=nan, monotone_constraints=None,\n",
       "              n_estimators=100, n_jobs=None, num_parallel_tree=None,\n",
       "              predictor='gpu_predictor', random_state=None, ...)"
      ]
     },
     "execution_count": 22,
     "metadata": {},
     "output_type": "execute_result"
    }
   ],
   "source": [
    "model=xgb.XGBClassifier(seed=1,\n",
    "            tree_method=\"gpu_hist\",\n",
    "            gpu_id=0,\n",
    "            predictor=\"gpu_predictor\",\n",
    "            n_estimators=100)\n",
    "\n",
    "model.fit(X_train, y_train)"
   ]
  },
  {
   "cell_type": "code",
   "execution_count": 23,
   "id": "d6fbcaf7-ba9e-4765-99ab-2c42f04946be",
   "metadata": {},
   "outputs": [
    {
     "name": "stdout",
     "output_type": "stream",
     "text": [
      "Train Accuracy: 0.9975291210730675\n",
      "Test Accuracy: 0.6897810218978102\n"
     ]
    }
   ],
   "source": [
    "y_pred2 = model.predict(X_train)\n",
    "y_pred = model.predict(X_test)\n",
    "accuracy = accuracy_score(train_data['y'], y_pred2)\n",
    "print(\"Train Accuracy:\", accuracy) \n",
    "accuracy = accuracy_score(test_data['y'], y_pred)\n",
    "print(\"Test Accuracy:\", accuracy)"
   ]
  },
  {
   "cell_type": "code",
   "execution_count": 24,
   "id": "424ced4c-704b-4638-8fd5-0f3a8c4cf847",
   "metadata": {},
   "outputs": [],
   "source": [
    "class CrossValidation:\n",
    "    def __init__(self, df, shuffle,random_state=None):\n",
    "        self.df = df\n",
    "        self.random_state = random_state\n",
    "        self.shuffle = shuffle\n",
    "        if shuffle is True:\n",
    "            self.df = df.sample(frac=1,\n",
    "                random_state=self.random_state).reset_index(drop=True)\n",
    "\n",
    "    def hold_out_split(self,percent,stratify=None):\n",
    "        if stratify is not None:\n",
    "            y = self.df[stratify]\n",
    "            train,val = ms.train_test_split(self.df, test_size=percent/100,\n",
    "                stratify=y, random_state=self.random_state)\n",
    "            return train,val\n",
    "        size = len(self.df) - int(len(self.df)*(percent/100))\n",
    "        train = self.df.iloc[:size,:]\n",
    "        val = self.df.iloc[size:,:]\n",
    "        return train,val\n",
    "\n",
    "    def kfold_split(self, splits, stratify=None):\n",
    "        if stratify is not None:\n",
    "            kf = ms.StratifiedKFold(n_splits=splits,\n",
    "                shuffle=self.shuffle,\n",
    "                random_state=self.random_state)\n",
    "            y = self.df[stratify]\n",
    "            for train, val in kf.split(X=self.df,y=y):\n",
    "                t = self.df.iloc[train,:]\n",
    "                v = self.df.iloc[val, :]\n",
    "                yield t,v\n",
    "        else:\n",
    "            kf = ms.KFold(n_splits=splits, shuffle=self.shuffle,\n",
    "                random_state=self.random_state)\n",
    "            for train, val in kf.split(X=self.df):\n",
    "                t = self.df.iloc[train,:]\n",
    "                v = self.df.iloc[val, :]\n",
    "                yield t,v\n",
    "seed = 42\n",
    "folds = 5\n",
    "cv = CrossValidation(train_data,\n",
    "                     shuffle=True,\n",
    "                     random_state=seed\n",
    "                    )"
   ]
  },
  {
   "cell_type": "code",
   "execution_count": 25,
   "id": "a433f517-2a23-43c7-9512-680605da6dc2",
   "metadata": {},
   "outputs": [],
   "source": [
    "def tuning_params(trial):\n",
    "    n_estimators = trial.suggest_int(\"n_estimators\", 100, 1100, step=100)\n",
    "    learning_rate = trial.suggest_float(\"learning_rate\", 1e-2, 0.25, log=True)\n",
    "    reg_lambda = trial.suggest_float(\"reg_lambda\", 1e-8, 100.0, log=True)\n",
    "    reg_alpha = trial.suggest_float(\"reg_alpha\", 1e-8, 100.0, log=True)\n",
    "    subsample = trial.suggest_float(\"subsample\", 0.1, 1.0)\n",
    "    colsample_bytree = trial.suggest_float(\"colsample_bytree\", 0.1, 1.0)\n",
    "    max_depth = trial.suggest_int(\"max_depth\", 2, 5)\n",
    "    \n",
    "    for train_, val_ in cv.kfold_split(folds):\n",
    "        trainX = train_[features]\n",
    "        trainY = train_[target]\n",
    "        valX = val_[features]\n",
    "        valY = val_[target]\n",
    "        \n",
    "        model = xgb.XGBClassifier(\n",
    "            seed=1,\n",
    "            tree_method=\"gpu_hist\",\n",
    "            gpu_id=0,\n",
    "            predictor=\"gpu_predictor\",\n",
    "            n_estimators=n_estimators,\n",
    "            learning_rate=learning_rate,\n",
    "            reg_lambda=reg_lambda,\n",
    "            reg_alpha=reg_alpha,\n",
    "            subsample=subsample,\n",
    "            colsample_bytree=colsample_bytree,\n",
    "            max_depth=max_depth,\n",
    "            use_label_encoder=False,\n",
    "            early_stopping_rounds=300, \n",
    "                 \n",
    "        )\n",
    "        \n",
    "        model.fit(trainX, trainY, \n",
    "                   eval_set=[(valX, valY)],\n",
    "                  verbose=False\n",
    "                 )\n",
    "    \n",
    "        predY = model.predict(valX)\n",
    "        val_auc = metrics.roc_auc_score(valY, predY)\n",
    "        return val_auc"
   ]
  },
  {
   "cell_type": "code",
   "execution_count": 26,
   "id": "b3dfac61-129d-4b81-ab0a-edcc4366335d",
   "metadata": {},
   "outputs": [
    {
     "name": "stderr",
     "output_type": "stream",
     "text": [
      "\u001b[32m[I 2023-08-22 12:59:15,165]\u001b[0m A new study created in memory with name: no-name-bf1b8a71-21c1-4b90-9767-daac1b45c408\u001b[0m\n",
      "/home/watercar99/.local/lib/python3.9/site-packages/xgboost/sklearn.py:1395: UserWarning: `use_label_encoder` is deprecated in 1.7.0.\n",
      "  warnings.warn(\"`use_label_encoder` is deprecated in 1.7.0.\")\n",
      "\u001b[32m[I 2023-08-22 12:59:16,230]\u001b[0m Trial 0 finished with value: 0.5598956509559493 and parameters: {'n_estimators': 1000, 'learning_rate': 0.2184655831135373, 'reg_lambda': 6.828465631366308e-06, 'reg_alpha': 6.194381569583939e-05, 'subsample': 0.5537131826432603, 'colsample_bytree': 0.41704323011956834, 'max_depth': 4}. Best is trial 0 with value: 0.5598956509559493.\u001b[0m\n",
      "/home/watercar99/.local/lib/python3.9/site-packages/xgboost/sklearn.py:1395: UserWarning: `use_label_encoder` is deprecated in 1.7.0.\n",
      "  warnings.warn(\"`use_label_encoder` is deprecated in 1.7.0.\")\n",
      "\u001b[32m[I 2023-08-22 12:59:17,859]\u001b[0m Trial 1 finished with value: 0.5778240773163387 and parameters: {'n_estimators': 800, 'learning_rate': 0.1268790989481796, 'reg_lambda': 22.127781459334397, 'reg_alpha': 0.016085949519851105, 'subsample': 0.9194599594392361, 'colsample_bytree': 0.2733504554493511, 'max_depth': 2}. Best is trial 1 with value: 0.5778240773163387.\u001b[0m\n",
      "/home/watercar99/.local/lib/python3.9/site-packages/xgboost/sklearn.py:1395: UserWarning: `use_label_encoder` is deprecated in 1.7.0.\n",
      "  warnings.warn(\"`use_label_encoder` is deprecated in 1.7.0.\")\n",
      "\u001b[32m[I 2023-08-22 12:59:19,339]\u001b[0m Trial 2 finished with value: 0.5524415225155823 and parameters: {'n_estimators': 900, 'learning_rate': 0.060515377586076835, 'reg_lambda': 0.01526350781202816, 'reg_alpha': 2.263890316057386e-05, 'subsample': 0.1792991248049296, 'colsample_bytree': 0.1487155952670095, 'max_depth': 4}. Best is trial 1 with value: 0.5778240773163387.\u001b[0m\n",
      "/home/watercar99/.local/lib/python3.9/site-packages/xgboost/sklearn.py:1395: UserWarning: `use_label_encoder` is deprecated in 1.7.0.\n",
      "  warnings.warn(\"`use_label_encoder` is deprecated in 1.7.0.\")\n",
      "\u001b[32m[I 2023-08-22 12:59:20,648]\u001b[0m Trial 3 finished with value: 0.5509183066041039 and parameters: {'n_estimators': 600, 'learning_rate': 0.15142915168328858, 'reg_lambda': 0.00026023777674467007, 'reg_alpha': 5.316222414635017e-05, 'subsample': 0.37426502501280057, 'colsample_bytree': 0.8726567551563689, 'max_depth': 4}. Best is trial 1 with value: 0.5778240773163387.\u001b[0m\n",
      "/home/watercar99/.local/lib/python3.9/site-packages/xgboost/sklearn.py:1395: UserWarning: `use_label_encoder` is deprecated in 1.7.0.\n",
      "  warnings.warn(\"`use_label_encoder` is deprecated in 1.7.0.\")\n",
      "\u001b[32m[I 2023-08-22 12:59:21,991]\u001b[0m Trial 4 finished with value: 0.5564727922123398 and parameters: {'n_estimators': 600, 'learning_rate': 0.011195065457189818, 'reg_lambda': 0.0010296507348122935, 'reg_alpha': 2.683675121239263, 'subsample': 0.6953724435037945, 'colsample_bytree': 0.2916760051129692, 'max_depth': 3}. Best is trial 1 with value: 0.5778240773163387.\u001b[0m\n",
      "/home/watercar99/.local/lib/python3.9/site-packages/xgboost/sklearn.py:1395: UserWarning: `use_label_encoder` is deprecated in 1.7.0.\n",
      "  warnings.warn(\"`use_label_encoder` is deprecated in 1.7.0.\")\n",
      "\u001b[32m[I 2023-08-22 12:59:23,792]\u001b[0m Trial 5 finished with value: 0.5635242313887526 and parameters: {'n_estimators': 500, 'learning_rate': 0.02292921379914447, 'reg_lambda': 1.243185544612292e-08, 'reg_alpha': 1.627834175589317e-05, 'subsample': 0.6742481037155326, 'colsample_bytree': 0.3360424734631222, 'max_depth': 5}. Best is trial 1 with value: 0.5778240773163387.\u001b[0m\n",
      "/home/watercar99/.local/lib/python3.9/site-packages/xgboost/sklearn.py:1395: UserWarning: `use_label_encoder` is deprecated in 1.7.0.\n",
      "  warnings.warn(\"`use_label_encoder` is deprecated in 1.7.0.\")\n",
      "\u001b[32m[I 2023-08-22 12:59:24,997]\u001b[0m Trial 6 finished with value: 0.5633360179284264 and parameters: {'n_estimators': 1100, 'learning_rate': 0.20305143397345438, 'reg_lambda': 0.026574637956818897, 'reg_alpha': 0.4557006806413343, 'subsample': 0.69461112403646, 'colsample_bytree': 0.42083557628645085, 'max_depth': 2}. Best is trial 1 with value: 0.5778240773163387.\u001b[0m\n",
      "/home/watercar99/.local/lib/python3.9/site-packages/xgboost/sklearn.py:1395: UserWarning: `use_label_encoder` is deprecated in 1.7.0.\n",
      "  warnings.warn(\"`use_label_encoder` is deprecated in 1.7.0.\")\n",
      "\u001b[32m[I 2023-08-22 12:59:25,716]\u001b[0m Trial 7 finished with value: 0.5160287835282583 and parameters: {'n_estimators': 100, 'learning_rate': 0.02321035710875454, 'reg_lambda': 0.0006781876796268342, 'reg_alpha': 0.5949589953871437, 'subsample': 0.8647511633934404, 'colsample_bytree': 0.7883341761305689, 'max_depth': 2}. Best is trial 1 with value: 0.5778240773163387.\u001b[0m\n",
      "/home/watercar99/.local/lib/python3.9/site-packages/xgboost/sklearn.py:1395: UserWarning: `use_label_encoder` is deprecated in 1.7.0.\n",
      "  warnings.warn(\"`use_label_encoder` is deprecated in 1.7.0.\")\n",
      "\u001b[32m[I 2023-08-22 12:59:27,298]\u001b[0m Trial 8 finished with value: 0.540829189719168 and parameters: {'n_estimators': 400, 'learning_rate': 0.016884782346651327, 'reg_lambda': 23.30609774981302, 'reg_alpha': 16.61503086369161, 'subsample': 0.4086480345734663, 'colsample_bytree': 0.6401026544309261, 'max_depth': 5}. Best is trial 1 with value: 0.5778240773163387.\u001b[0m\n",
      "/home/watercar99/.local/lib/python3.9/site-packages/xgboost/sklearn.py:1395: UserWarning: `use_label_encoder` is deprecated in 1.7.0.\n",
      "  warnings.warn(\"`use_label_encoder` is deprecated in 1.7.0.\")\n",
      "\u001b[32m[I 2023-08-22 12:59:29,084]\u001b[0m Trial 9 finished with value: 0.5597161916100567 and parameters: {'n_estimators': 700, 'learning_rate': 0.010547369278090359, 'reg_lambda': 9.698289565596373e-05, 'reg_alpha': 0.3504525118549454, 'subsample': 0.819306011876284, 'colsample_bytree': 0.5152124627215035, 'max_depth': 3}. Best is trial 1 with value: 0.5778240773163387.\u001b[0m\n",
      "/home/watercar99/.local/lib/python3.9/site-packages/xgboost/sklearn.py:1395: UserWarning: `use_label_encoder` is deprecated in 1.7.0.\n",
      "  warnings.warn(\"`use_label_encoder` is deprecated in 1.7.0.\")\n",
      "\u001b[32m[I 2023-08-22 12:59:30,788]\u001b[0m Trial 10 finished with value: 0.5671440577071224 and parameters: {'n_estimators': 800, 'learning_rate': 0.09483567896120858, 'reg_lambda': 36.42120801688135, 'reg_alpha': 1.7448775743166132e-08, 'subsample': 0.988379204660741, 'colsample_bytree': 0.13167732103683172, 'max_depth': 2}. Best is trial 1 with value: 0.5778240773163387.\u001b[0m\n",
      "/home/watercar99/.local/lib/python3.9/site-packages/xgboost/sklearn.py:1395: UserWarning: `use_label_encoder` is deprecated in 1.7.0.\n",
      "  warnings.warn(\"`use_label_encoder` is deprecated in 1.7.0.\")\n",
      "\u001b[32m[I 2023-08-22 12:59:32,261]\u001b[0m Trial 11 finished with value: 0.5717224595559913 and parameters: {'n_estimators': 800, 'learning_rate': 0.1009257288005483, 'reg_lambda': 92.43316998715123, 'reg_alpha': 3.4862433490700944e-08, 'subsample': 0.9547543503633866, 'colsample_bytree': 0.11473761387624398, 'max_depth': 2}. Best is trial 1 with value: 0.5778240773163387.\u001b[0m\n",
      "/home/watercar99/.local/lib/python3.9/site-packages/xgboost/sklearn.py:1395: UserWarning: `use_label_encoder` is deprecated in 1.7.0.\n",
      "  warnings.warn(\"`use_label_encoder` is deprecated in 1.7.0.\")\n",
      "\u001b[32m[I 2023-08-22 12:59:33,295]\u001b[0m Trial 12 finished with value: 0.5608542264864487 and parameters: {'n_estimators': 800, 'learning_rate': 0.09909212510621777, 'reg_lambda': 1.9440990744864468, 'reg_alpha': 0.009524275507865327, 'subsample': 0.9906853053418959, 'colsample_bytree': 0.1040645671266801, 'max_depth': 3}. Best is trial 1 with value: 0.5778240773163387.\u001b[0m\n",
      "/home/watercar99/.local/lib/python3.9/site-packages/xgboost/sklearn.py:1395: UserWarning: `use_label_encoder` is deprecated in 1.7.0.\n",
      "  warnings.warn(\"`use_label_encoder` is deprecated in 1.7.0.\")\n",
      "\u001b[32m[I 2023-08-22 12:59:34,234]\u001b[0m Trial 13 finished with value: 0.5452106239932769 and parameters: {'n_estimators': 300, 'learning_rate': 0.054393646392375955, 'reg_lambda': 95.53445636009056, 'reg_alpha': 1.876789995991461e-08, 'subsample': 0.8853764738348012, 'colsample_bytree': 0.24958141112524454, 'max_depth': 2}. Best is trial 1 with value: 0.5778240773163387.\u001b[0m\n",
      "/home/watercar99/.local/lib/python3.9/site-packages/xgboost/sklearn.py:1395: UserWarning: `use_label_encoder` is deprecated in 1.7.0.\n",
      "  warnings.warn(\"`use_label_encoder` is deprecated in 1.7.0.\")\n",
      "\u001b[32m[I 2023-08-22 12:59:35,365]\u001b[0m Trial 14 finished with value: 0.5589370754254499 and parameters: {'n_estimators': 900, 'learning_rate': 0.11802177224508673, 'reg_lambda': 1.3263549461432729, 'reg_alpha': 0.003414198092041592, 'subsample': 0.9906865170732744, 'colsample_bytree': 0.23319075475179982, 'max_depth': 2}. Best is trial 1 with value: 0.5778240773163387.\u001b[0m\n",
      "/home/watercar99/.local/lib/python3.9/site-packages/xgboost/sklearn.py:1395: UserWarning: `use_label_encoder` is deprecated in 1.7.0.\n",
      "  warnings.warn(\"`use_label_encoder` is deprecated in 1.7.0.\")\n",
      "\u001b[32m[I 2023-08-22 12:59:36,500]\u001b[0m Trial 15 finished with value: 0.5694376356887737 and parameters: {'n_estimators': 1100, 'learning_rate': 0.07378312126898169, 'reg_lambda': 1.3559139390693367, 'reg_alpha': 6.389629943022614e-07, 'subsample': 0.8046911988091041, 'colsample_bytree': 0.21525376421400094, 'max_depth': 3}. Best is trial 1 with value: 0.5778240773163387.\u001b[0m\n",
      "/home/watercar99/.local/lib/python3.9/site-packages/xgboost/sklearn.py:1395: UserWarning: `use_label_encoder` is deprecated in 1.7.0.\n",
      "  warnings.warn(\"`use_label_encoder` is deprecated in 1.7.0.\")\n",
      "\u001b[32m[I 2023-08-22 12:59:37,422]\u001b[0m Trial 16 finished with value: 0.563712444849079 and parameters: {'n_estimators': 700, 'learning_rate': 0.16445295298838503, 'reg_lambda': 90.78896294785989, 'reg_alpha': 0.03177715415715083, 'subsample': 0.8910785025411152, 'colsample_bytree': 0.3691320991397887, 'max_depth': 2}. Best is trial 1 with value: 0.5778240773163387.\u001b[0m\n",
      "/home/watercar99/.local/lib/python3.9/site-packages/xgboost/sklearn.py:1395: UserWarning: `use_label_encoder` is deprecated in 1.7.0.\n",
      "  warnings.warn(\"`use_label_encoder` is deprecated in 1.7.0.\")\n",
      "\u001b[32m[I 2023-08-22 12:59:39,027]\u001b[0m Trial 17 finished with value: 0.574777645493382 and parameters: {'n_estimators': 900, 'learning_rate': 0.042251173799618146, 'reg_lambda': 3.730097214749869, 'reg_alpha': 0.0009763610024454942, 'subsample': 0.7695700646781612, 'colsample_bytree': 0.2204202110226821, 'max_depth': 3}. Best is trial 1 with value: 0.5778240773163387.\u001b[0m\n",
      "/home/watercar99/.local/lib/python3.9/site-packages/xgboost/sklearn.py:1395: UserWarning: `use_label_encoder` is deprecated in 1.7.0.\n",
      "  warnings.warn(\"`use_label_encoder` is deprecated in 1.7.0.\")\n",
      "\u001b[32m[I 2023-08-22 12:59:40,309]\u001b[0m Trial 18 finished with value: 0.5705756705651657 and parameters: {'n_estimators': 900, 'learning_rate': 0.04086113802630475, 'reg_lambda': 0.13357094751640802, 'reg_alpha': 0.0015735437308803584, 'subsample': 0.7656241970598852, 'colsample_bytree': 0.4940433558934397, 'max_depth': 3}. Best is trial 1 with value: 0.5778240773163387.\u001b[0m\n",
      "/home/watercar99/.local/lib/python3.9/site-packages/xgboost/sklearn.py:1395: UserWarning: `use_label_encoder` is deprecated in 1.7.0.\n",
      "  warnings.warn(\"`use_label_encoder` is deprecated in 1.7.0.\")\n",
      "\u001b[32m[I 2023-08-22 12:59:41,990]\u001b[0m Trial 19 finished with value: 0.5829846277750543 and parameters: {'n_estimators': 1000, 'learning_rate': 0.039763333201958004, 'reg_lambda': 6.174456471793698, 'reg_alpha': 0.04031858824667553, 'subsample': 0.7675537838695632, 'colsample_bytree': 0.3103437500630833, 'max_depth': 3}. Best is trial 19 with value: 0.5829846277750543.\u001b[0m\n",
      "/home/watercar99/.local/lib/python3.9/site-packages/xgboost/sklearn.py:1395: UserWarning: `use_label_encoder` is deprecated in 1.7.0.\n",
      "  warnings.warn(\"`use_label_encoder` is deprecated in 1.7.0.\")\n",
      "\u001b[32m[I 2023-08-22 12:59:43,443]\u001b[0m Trial 20 finished with value: 0.5019083969465649 and parameters: {'n_estimators': 1000, 'learning_rate': 0.039319347940381215, 'reg_lambda': 0.43874469893171897, 'reg_alpha': 70.68547619188143, 'subsample': 0.8797512567741836, 'colsample_bytree': 0.3460498027362893, 'max_depth': 4}. Best is trial 19 with value: 0.5829846277750543.\u001b[0m\n",
      "/home/watercar99/.local/lib/python3.9/site-packages/xgboost/sklearn.py:1395: UserWarning: `use_label_encoder` is deprecated in 1.7.0.\n",
      "  warnings.warn(\"`use_label_encoder` is deprecated in 1.7.0.\")\n",
      "\u001b[32m[I 2023-08-22 12:59:44,982]\u001b[0m Trial 21 finished with value: 0.5682908466979479 and parameters: {'n_estimators': 1000, 'learning_rate': 0.03591876054754793, 'reg_lambda': 6.888927791964785, 'reg_alpha': 0.02780590847617906, 'subsample': 0.7768445345612167, 'colsample_bytree': 0.21918118176505544, 'max_depth': 3}. Best is trial 19 with value: 0.5829846277750543.\u001b[0m\n",
      "/home/watercar99/.local/lib/python3.9/site-packages/xgboost/sklearn.py:1395: UserWarning: `use_label_encoder` is deprecated in 1.7.0.\n",
      "  warnings.warn(\"`use_label_encoder` is deprecated in 1.7.0.\")\n",
      "\u001b[32m[I 2023-08-22 12:59:46,157]\u001b[0m Trial 22 finished with value: 0.5722958540514042 and parameters: {'n_estimators': 700, 'learning_rate': 0.06408961031520866, 'reg_lambda': 7.25798395155505, 'reg_alpha': 0.0004039438331491614, 'subsample': 0.6240222940265934, 'colsample_bytree': 0.292618492611693, 'max_depth': 3}. Best is trial 19 with value: 0.5829846277750543.\u001b[0m\n",
      "/home/watercar99/.local/lib/python3.9/site-packages/xgboost/sklearn.py:1395: UserWarning: `use_label_encoder` is deprecated in 1.7.0.\n",
      "  warnings.warn(\"`use_label_encoder` is deprecated in 1.7.0.\")\n",
      "\u001b[32m[I 2023-08-22 12:59:47,586]\u001b[0m Trial 23 finished with value: 0.5839432033055536 and parameters: {'n_estimators': 1100, 'learning_rate': 0.04384918838998639, 'reg_lambda': 6.111551087250027, 'reg_alpha': 0.04373804710163656, 'subsample': 0.7627631949422883, 'colsample_bytree': 0.1943708043408945, 'max_depth': 3}. Best is trial 23 with value: 0.5839432033055536.\u001b[0m\n",
      "/home/watercar99/.local/lib/python3.9/site-packages/xgboost/sklearn.py:1395: UserWarning: `use_label_encoder` is deprecated in 1.7.0.\n",
      "  warnings.warn(\"`use_label_encoder` is deprecated in 1.7.0.\")\n",
      "\u001b[32m[I 2023-08-22 12:59:48,729]\u001b[0m Trial 24 finished with value: 0.5595104699208628 and parameters: {'n_estimators': 1100, 'learning_rate': 0.06918976769294934, 'reg_lambda': 0.2257091731865135, 'reg_alpha': 0.04877062269049199, 'subsample': 0.9082825310091202, 'colsample_bytree': 0.4113341265734305, 'max_depth': 4}. Best is trial 23 with value: 0.5839432033055536.\u001b[0m\n",
      "/home/watercar99/.local/lib/python3.9/site-packages/xgboost/sklearn.py:1395: UserWarning: `use_label_encoder` is deprecated in 1.7.0.\n",
      "  warnings.warn(\"`use_label_encoder` is deprecated in 1.7.0.\")\n",
      "\u001b[32m[I 2023-08-22 12:59:50,465]\u001b[0m Trial 25 finished with value: 0.5709608516002522 and parameters: {'n_estimators': 1000, 'learning_rate': 0.03182472359215602, 'reg_lambda': 7.064993479450787, 'reg_alpha': 0.11226371147728915, 'subsample': 0.8259556779006502, 'colsample_bytree': 0.3149908956825094, 'max_depth': 3}. Best is trial 23 with value: 0.5839432033055536.\u001b[0m\n",
      "/home/watercar99/.local/lib/python3.9/site-packages/xgboost/sklearn.py:1395: UserWarning: `use_label_encoder` is deprecated in 1.7.0.\n",
      "  warnings.warn(\"`use_label_encoder` is deprecated in 1.7.0.\")\n",
      "\u001b[32m[I 2023-08-22 12:59:51,829]\u001b[0m Trial 26 finished with value: 0.5677174522025352 and parameters: {'n_estimators': 1100, 'learning_rate': 0.04806158953379976, 'reg_lambda': 16.342465407853012, 'reg_alpha': 0.007194496367562957, 'subsample': 0.9322976036558248, 'colsample_bytree': 0.18305775859434234, 'max_depth': 2}. Best is trial 23 with value: 0.5839432033055536.\u001b[0m\n",
      "/home/watercar99/.local/lib/python3.9/site-packages/xgboost/sklearn.py:1395: UserWarning: `use_label_encoder` is deprecated in 1.7.0.\n",
      "  warnings.warn(\"`use_label_encoder` is deprecated in 1.7.0.\")\n",
      "\u001b[32m[I 2023-08-22 12:59:53,078]\u001b[0m Trial 27 finished with value: 0.5604690454513621 and parameters: {'n_estimators': 1000, 'learning_rate': 0.051495636629831525, 'reg_lambda': 0.5168812594750994, 'reg_alpha': 3.306287547612496, 'subsample': 0.7472360954622679, 'colsample_bytree': 0.17185781705487457, 'max_depth': 3}. Best is trial 23 with value: 0.5839432033055536.\u001b[0m\n",
      "/home/watercar99/.local/lib/python3.9/site-packages/xgboost/sklearn.py:1395: UserWarning: `use_label_encoder` is deprecated in 1.7.0.\n",
      "  warnings.warn(\"`use_label_encoder` is deprecated in 1.7.0.\")\n",
      "\u001b[32m[I 2023-08-22 12:59:55,710]\u001b[0m Trial 28 finished with value: 0.5839344491911198 and parameters: {'n_estimators': 800, 'learning_rate': 0.07131574476655785, 'reg_lambda': 12.896397794195487, 'reg_alpha': 0.015210905956272116, 'subsample': 0.8309567591443068, 'colsample_bytree': 0.2759386202692477, 'max_depth': 4}. Best is trial 23 with value: 0.5839432033055536.\u001b[0m\n",
      "/home/watercar99/.local/lib/python3.9/site-packages/xgboost/sklearn.py:1395: UserWarning: `use_label_encoder` is deprecated in 1.7.0.\n",
      "  warnings.warn(\"`use_label_encoder` is deprecated in 1.7.0.\")\n",
      "\u001b[32m[I 2023-08-22 12:59:57,154]\u001b[0m Trial 29 finished with value: 0.5654238742208838 and parameters: {'n_estimators': 1000, 'learning_rate': 0.07936420510980634, 'reg_lambda': 0.040684696476299714, 'reg_alpha': 0.0004011813220797283, 'subsample': 0.5955732020704493, 'colsample_bytree': 0.41610034065424084, 'max_depth': 5}. Best is trial 23 with value: 0.5839432033055536.\u001b[0m\n"
     ]
    }
   ],
   "source": [
    "study = optuna.create_study(direction=\"maximize\")\n",
    "study.optimize(tuning_params, n_trials=30, gc_after_trial=True)"
   ]
  },
  {
   "cell_type": "code",
   "execution_count": 27,
   "id": "be4f0ba9-1c0a-42e9-a5c3-486201916197",
   "metadata": {},
   "outputs": [
    {
     "name": "stdout",
     "output_type": "stream",
     "text": [
      "{'n_estimators': 1100, 'learning_rate': 0.04384918838998639, 'reg_lambda': 6.111551087250027, 'reg_alpha': 0.04373804710163656, 'subsample': 0.7627631949422883, 'colsample_bytree': 0.1943708043408945, 'max_depth': 3}\n"
     ]
    }
   ],
   "source": [
    "print(study.best_params)"
   ]
  },
  {
   "cell_type": "code",
   "execution_count": 28,
   "id": "c3defb2e-af79-4efe-9716-f5b7da240ccf",
   "metadata": {},
   "outputs": [
    {
     "name": "stderr",
     "output_type": "stream",
     "text": [
      "/home/watercar99/.local/lib/python3.9/site-packages/xgboost/sklearn.py:1395: UserWarning: `use_label_encoder` is deprecated in 1.7.0.\n",
      "  warnings.warn(\"`use_label_encoder` is deprecated in 1.7.0.\")\n",
      "/home/watercar99/.local/lib/python3.9/site-packages/xgboost/sklearn.py:835: UserWarning: `early_stopping_rounds` in `fit` method is deprecated for better compatibility with scikit-learn, use `early_stopping_rounds` in constructor or`set_params` instead.\n",
      "  warnings.warn(\n",
      "/home/watercar99/.local/lib/python3.9/site-packages/xgboost/sklearn.py:1395: UserWarning: `use_label_encoder` is deprecated in 1.7.0.\n",
      "  warnings.warn(\"`use_label_encoder` is deprecated in 1.7.0.\")\n",
      "/home/watercar99/.local/lib/python3.9/site-packages/xgboost/sklearn.py:835: UserWarning: `early_stopping_rounds` in `fit` method is deprecated for better compatibility with scikit-learn, use `early_stopping_rounds` in constructor or`set_params` instead.\n",
      "  warnings.warn(\n",
      "/home/watercar99/.local/lib/python3.9/site-packages/xgboost/sklearn.py:1395: UserWarning: `use_label_encoder` is deprecated in 1.7.0.\n",
      "  warnings.warn(\"`use_label_encoder` is deprecated in 1.7.0.\")\n",
      "/home/watercar99/.local/lib/python3.9/site-packages/xgboost/sklearn.py:835: UserWarning: `early_stopping_rounds` in `fit` method is deprecated for better compatibility with scikit-learn, use `early_stopping_rounds` in constructor or`set_params` instead.\n",
      "  warnings.warn(\n",
      "/home/watercar99/.local/lib/python3.9/site-packages/xgboost/sklearn.py:1395: UserWarning: `use_label_encoder` is deprecated in 1.7.0.\n",
      "  warnings.warn(\"`use_label_encoder` is deprecated in 1.7.0.\")\n",
      "/home/watercar99/.local/lib/python3.9/site-packages/xgboost/sklearn.py:835: UserWarning: `early_stopping_rounds` in `fit` method is deprecated for better compatibility with scikit-learn, use `early_stopping_rounds` in constructor or`set_params` instead.\n",
      "  warnings.warn(\n",
      "/home/watercar99/.local/lib/python3.9/site-packages/xgboost/sklearn.py:1395: UserWarning: `use_label_encoder` is deprecated in 1.7.0.\n",
      "  warnings.warn(\"`use_label_encoder` is deprecated in 1.7.0.\")\n",
      "/home/watercar99/.local/lib/python3.9/site-packages/xgboost/sklearn.py:835: UserWarning: `early_stopping_rounds` in `fit` method is deprecated for better compatibility with scikit-learn, use `early_stopping_rounds` in constructor or`set_params` instead.\n",
      "  warnings.warn(\n"
     ]
    }
   ],
   "source": [
    "for train_, val_ in cv.kfold_split(folds):\n",
    "        trainX = train_[features]\n",
    "        trainY = train_[target]\n",
    "        valX = val_[features]\n",
    "        valY = val_[target]\n",
    "        \n",
    "        model = xgb.XGBClassifier(\n",
    "            seed=1,\n",
    "            tree_method=\"gpu_hist\",\n",
    "            gpu_id=0,\n",
    "            predictor=\"gpu_predictor\",\n",
    "            n_estimators=study.best_params['n_estimators'],\n",
    "            learning_rate=study.best_params['learning_rate'],\n",
    "            reg_lambda=study.best_params['reg_lambda'],\n",
    "            reg_alpha=study.best_params['reg_alpha'],\n",
    "            subsample=study.best_params['subsample'],\n",
    "            colsample_bytree=study.best_params['colsample_bytree'],\n",
    "            max_depth=study.best_params['max_depth'],\n",
    "            use_label_encoder=False,\n",
    "        )\n",
    "        model.fit(trainX,trainY,\n",
    "                 early_stopping_rounds=300, \n",
    "                          eval_set=[(valX, valY)], verbose=False)"
   ]
  },
  {
   "cell_type": "code",
   "execution_count": 29,
   "id": "acdd6c16-8349-41c7-801e-660101aad87e",
   "metadata": {},
   "outputs": [
    {
     "name": "stdout",
     "output_type": "stream",
     "text": [
      "Train Accuracy: 0.8220967172608542\n",
      "Test Accuracy: 0.7059436913451512\n"
     ]
    },
    {
     "data": {
      "image/png": "[encoded data removed]",
      "text/plain": [
       "<Figure size 600x400 with 2 Axes>"
      ]
     },
     "metadata": {},
     "output_type": "display_data"
    },
    {
     "name": "stdout",
     "output_type": "stream",
     "text": [
      "              precision    recall  f1-score   support\n",
      "\n",
      "           0       0.71      0.96      0.82      1304\n",
      "           1       0.66      0.17      0.27       614\n",
      "\n",
      "    accuracy                           0.71      1918\n",
      "   macro avg       0.68      0.56      0.54      1918\n",
      "weighted avg       0.69      0.71      0.64      1918\n",
      "\n"
     ]
    }
   ],
   "source": [
    "y_pred2 = model.predict(X_train)\n",
    "y_pred = model.predict(X_test)\n",
    "accuracy = accuracy_score(train_data['y'], y_pred2)\n",
    "print(\"Train Accuracy:\", accuracy)\n",
    "accuracy = accuracy_score(test_data['y'], y_pred)\n",
    "print(\"Test Accuracy:\", accuracy)\n",
    "from sklearn.metrics import confusion_matrix\n",
    "import seaborn as sns\n",
    "from sklearn.metrics import precision_score, recall_score, f1_score\n",
    "cm = confusion_matrix(test_data['y'], y_pred)\n",
    "import matplotlib.pyplot as plt\n",
    "# Confusion matrix를 pandas DataFrame으로 변환합니다\n",
    "cm_df = pd.DataFrame(cm, index=['Actual 0', 'Actual 1'], columns=['Predicted 0', 'Predicted 1'])\n",
    "\n",
    "# Confusion matrix를 시각화합니다\n",
    "plt.figure(figsize=(6, 4))\n",
    "sns.heatmap(cm_df, annot=True, fmt='d', cmap='Blues')\n",
    "plt.title('Confusion Matrix')\n",
    "plt.xlabel('Predicted Label')\n",
    "plt.ylabel('Actual Label')\n",
    "plt.show()\n",
    "\n",
    "from sklearn.metrics import classification_report\n",
    "print(classification_report(test_data['y'], y_pred))"
   ]
  },
  {
   "cell_type": "code",
   "execution_count": 30,
   "id": "d19b7141-4a03-4f8a-829d-4e8b7e896fbe",
   "metadata": {},
   "outputs": [
    {
     "data": {
      "image/png": "[encoded data removed]",
      "text/plain": [
       "<Figure size 640x480 with 1 Axes>"
      ]
     },
     "metadata": {},
     "output_type": "display_data"
    }
   ],
   "source": [
    "feature_importance = model.feature_importances_\n",
    "\n",
    "# Get feature names\n",
    "feature_names = X_train.columns\n",
    "\n",
    "# Create a dictionary to store feature importance values and names\n",
    "feature_importance_dict = {feature: importance for feature, importance in zip(feature_names, feature_importance)}\n",
    "\n",
    "# Sort the feature importance dictionary by importance values in descending order\n",
    "sorted_feature_importance = sorted(feature_importance_dict.items(), key=lambda x: x[1], reverse=True)\n",
    "\n",
    "# Get the top 10 important features\n",
    "top_10_features = sorted_feature_importance[:10]\n",
    "\n",
    "# Extract feature names and importance values from the top 10 features\n",
    "top_10_feature_names = [feature[0] for feature in top_10_features]\n",
    "top_10_feature_importance = [feature[1] for feature in top_10_features]\n",
    "\n",
    "# Invert the lists to reverse the order\n",
    "top_10_feature_names.reverse()\n",
    "top_10_feature_importance.reverse()\n",
    "\n",
    "# Create a bar plot for the top 10 important features\n",
    "plt.barh(top_10_feature_names, top_10_feature_importance)\n",
    "plt.xlabel('Importance')\n",
    "plt.ylabel('Features')\n",
    "plt.title('Top 10 Important Features')\n",
    "plt.show()"
   ]
  },
  {
   "cell_type": "code",
   "execution_count": null,
   "id": "78da47ea-c8da-4782-838e-25f8010f7acc",
   "metadata": {},
   "outputs": [],
   "source": []
  }
 ],
 "metadata": {
  "kernelspec": {
   "display_name": "Python 3 (ipykernel)",
   "language": "python",
   "name": "python3"
  },
  "language_info": {
   "codemirror_mode": {
    "name": "ipython",
    "version": 3
   },
   "file_extension": ".py",
   "mimetype": "text/x-python",
   "name": "python",
   "nbconvert_exporter": "python",
   "pygments_lexer": "ipython3",
   "version": "3.9.12"
  }
 },
 "nbformat": 4,
 "nbformat_minor": 5
}
