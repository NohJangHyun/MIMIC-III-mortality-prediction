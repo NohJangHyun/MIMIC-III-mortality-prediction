{
 "cells": [
  {
   "cell_type": "code",
   "execution_count": 42,
   "id": "dc96886b-f25b-418d-9fd7-825bd5721f95",
   "metadata": {},
   "outputs": [],
   "source": [
    "import pandas as pd\n",
    "import xgboost as xgb\n",
    "from sklearn.metrics import accuracy_score\n",
    "from sklearn.model_selection import GridSearchCV\n",
    "import optuna\n",
    "import pandas as pd\n",
    "import numpy as np\n",
    "import xgboost as xgb\n",
    "import sklearn.metrics as metrics\n",
    "import sklearn.preprocessing as prep\n",
    "import sklearn.model_selection as ms\n",
    "from functools import partial\n",
    "from sklearn.utils import resample"
   ]
  },
  {
   "cell_type": "code",
   "execution_count": 63,
   "id": "0d200835-b119-4d6f-bc7e-be9aea704911",
   "metadata": {},
   "outputs": [
    {
     "name": "stdout",
     "output_type": "stream",
     "text": [
      "train shape\n",
      " (2662, 130) \n",
      "\n",
      "train shape\n",
      " (1918, 130) \n",
      "\n",
      "train value\n",
      " 0    1331\n",
      "1    1331\n",
      "Name: y, dtype: int64 \n",
      "\n",
      "test value\n",
      " 0    1304\n",
      "1     614\n",
      "Name: y, dtype: int64\n"
     ]
    }
   ],
   "source": [
    "# 데이터 불러오기\n",
    "train_data = pd.read_csv(\"~/project/MIMIC-III/Baseline/overlap/OI/overlap_OI(50%)_train.csv\")\n",
    "test_data = pd.read_csv(\"~/project/MIMIC-III/Baseline/overlap/OI/overlap_OI(50%)_test.csv\")\n",
    "\n",
    "train_data.rename(columns={'HOSPITAL_EXPIRE_FLAG': 'y'}, inplace=True)\n",
    "test_data.rename(columns={'HOSPITAL_EXPIRE_FLAG': 'y'}, inplace=True)\n",
    "\n",
    "train_data.drop([\"SUBJECT_ID\",\"HADM_ID\", \"DOA\", \"TLOS\", \"ETHNICITY\"], axis=1, inplace=True)\n",
    "test_data.drop([\"SUBJECT_ID\",\"HADM_ID\", \"DOA\", \"TLOS\", \"ETHNICITY\"], axis=1, inplace=True)\n",
    "\n",
    "train_data = pd.get_dummies(train_data, columns=[\"GENDER\"])\n",
    "test_data = pd.get_dummies(test_data, columns=[\"GENDER\"])\n",
    "\n",
    "# train_data와 test_data의 칼럼을 맞추기 위해 차집합을 계산\n",
    "missing_columns_in_test = set(train_data.columns) - set(test_data.columns)\n",
    "missing_columns_in_train = set(test_data.columns) - set(train_data.columns)\n",
    "\n",
    "# test_data에 train_data의 더미 변수를 추가하고 0으로 채워주기\n",
    "for col in missing_columns_in_test:\n",
    "    test_data[col] = 0\n",
    "\n",
    "# train_data에 test_data의 더미 변수를 추가하고 0으로 채워주기\n",
    "for col in missing_columns_in_train:\n",
    "    train_data[col] = 0\n",
    "    \n",
    "####################################################################\n",
    "# Down Sampling\n",
    "# train 데이터의 레이블 비율 확인\n",
    "train_labels = train_data['y']\n",
    "label_counts = train_labels.value_counts()\n",
    "\n",
    "# train 데이터의 레이블 비율이 1:1이 되도록 분할\n",
    "class_0_data = train_data[train_data['y'] == 0]\n",
    "class_1_data = train_data[train_data['y'] == 1]\n",
    "\n",
    "# 레이블이 0인 데이터 중에서 샘플 개수가 적은 만큼만 선택\n",
    "num_samples = min(label_counts[0], label_counts[1])\n",
    "class_0_data = class_0_data.sample(num_samples, random_state=42)\n",
    "\n",
    "# 레이블이 1인 데이터 중에서 샘플 개수가 적은 만큼만 선택\n",
    "class_1_data = class_1_data.sample(num_samples, random_state=42)\n",
    "\n",
    "# 선택한 데이터를 결합하여 최종 train 데이터 생성\n",
    "train_data = pd.concat([class_0_data, class_1_data])\n",
    "####################################################################\n",
    "\n",
    "\n",
    "# Features와 Target 설정\n",
    "X_train = train_data.drop('y', axis=1)\n",
    "y_train = train_data['y']\n",
    "X_test = test_data.drop('y', axis=1)\n",
    "\n",
    "print(\"train shape\\n\",X_train.shape,\"\\n\")\n",
    "print(\"train shape\\n\",X_test.shape,\"\\n\")\n",
    "\n",
    "target = \"y\"\n",
    "features = [f for f in train_data.columns if f not in [target]]\n",
    "\n",
    "print(\"train value\\n\",train_data['y'].value_counts(),\"\\n\")\n",
    "print(\"test value\\n\",test_data['y'].value_counts())"
   ]
  },
  {
   "cell_type": "code",
   "execution_count": 64,
   "id": "3450d603-4b5d-4400-bd46-2458d1ff2023",
   "metadata": {},
   "outputs": [
    {
     "name": "stdout",
     "output_type": "stream",
     "text": [
      "칼럼 차이: set()\n"
     ]
    }
   ],
   "source": [
    "# test_data와 train_data의 칼럼 차이 확인\n",
    "column_difference = set(X_train.columns) - set(X_test.columns)\n",
    "print(\"칼럼 차이:\", column_difference)"
   ]
  },
  {
   "cell_type": "code",
   "execution_count": 65,
   "id": "b978230d-b165-41e5-90e0-ea4df87cc0aa",
   "metadata": {},
   "outputs": [
    {
     "data": {
      "text/plain": [
       "XGBClassifier(base_score=None, booster=None, callbacks=None,\n",
       "              colsample_bylevel=None, colsample_bynode=None,\n",
       "              colsample_bytree=None, early_stopping_rounds=None,\n",
       "              enable_categorical=False, eval_metric=None, feature_types=None,\n",
       "              gamma=None, gpu_id=0, grow_policy=None, importance_type=None,\n",
       "              interaction_constraints=None, learning_rate=None, max_bin=None,\n",
       "              max_cat_threshold=None, max_cat_to_onehot=None,\n",
       "              max_delta_step=None, max_depth=None, max_leaves=None,\n",
       "              min_child_weight=None, missing=nan, monotone_constraints=None,\n",
       "              n_estimators=100, n_jobs=None, num_parallel_tree=None,\n",
       "              predictor='gpu_predictor', random_state=None, ...)"
      ]
     },
     "execution_count": 65,
     "metadata": {},
     "output_type": "execute_result"
    }
   ],
   "source": [
    "model=xgb.XGBClassifier(seed=1,\n",
    "            tree_method=\"gpu_hist\",\n",
    "            gpu_id=0,\n",
    "            predictor=\"gpu_predictor\",\n",
    "            n_estimators=100)\n",
    "\n",
    "model.fit(X_train, y_train)"
   ]
  },
  {
   "cell_type": "code",
   "execution_count": 66,
   "id": "d6fbcaf7-ba9e-4765-99ab-2c42f04946be",
   "metadata": {},
   "outputs": [
    {
     "name": "stdout",
     "output_type": "stream",
     "text": [
      "Train Accuracy: 1.0\n",
      "Test Accuracy: 0.6360792492179353\n"
     ]
    }
   ],
   "source": [
    "y_pred2 = model.predict(X_train)\n",
    "y_pred = model.predict(X_test)\n",
    "accuracy = accuracy_score(train_data['y'], y_pred2)\n",
    "print(\"Train Accuracy:\", accuracy) \n",
    "accuracy = accuracy_score(test_data['y'], y_pred)\n",
    "print(\"Test Accuracy:\", accuracy)"
   ]
  },
  {
   "cell_type": "code",
   "execution_count": 67,
   "id": "424ced4c-704b-4638-8fd5-0f3a8c4cf847",
   "metadata": {},
   "outputs": [],
   "source": [
    "class CrossValidation:\n",
    "    def __init__(self, df, shuffle,random_state=None):\n",
    "        self.df = df\n",
    "        self.random_state = random_state\n",
    "        self.shuffle = shuffle\n",
    "        if shuffle is True:\n",
    "            self.df = df.sample(frac=1,\n",
    "                random_state=self.random_state).reset_index(drop=True)\n",
    "\n",
    "    def hold_out_split(self,percent,stratify=None):\n",
    "        if stratify is not None:\n",
    "            y = self.df[stratify]\n",
    "            train,val = ms.train_test_split(self.df, test_size=percent/100,\n",
    "                stratify=y, random_state=self.random_state)\n",
    "            return train,val\n",
    "        size = len(self.df) - int(len(self.df)*(percent/100))\n",
    "        train = self.df.iloc[:size,:]\n",
    "        val = self.df.iloc[size:,:]\n",
    "        return train,val\n",
    "\n",
    "    def kfold_split(self, splits, stratify=None):\n",
    "        if stratify is not None:\n",
    "            kf = ms.StratifiedKFold(n_splits=splits,\n",
    "                shuffle=self.shuffle,\n",
    "                random_state=self.random_state)\n",
    "            y = self.df[stratify]\n",
    "            for train, val in kf.split(X=self.df,y=y):\n",
    "                t = self.df.iloc[train,:]\n",
    "                v = self.df.iloc[val, :]\n",
    "                yield t,v\n",
    "        else:\n",
    "            kf = ms.KFold(n_splits=splits, shuffle=self.shuffle,\n",
    "                random_state=self.random_state)\n",
    "            for train, val in kf.split(X=self.df):\n",
    "                t = self.df.iloc[train,:]\n",
    "                v = self.df.iloc[val, :]\n",
    "                yield t,v\n",
    "seed = 42\n",
    "folds = 5\n",
    "cv = CrossValidation(train_data,\n",
    "                     shuffle=True,\n",
    "                     random_state=seed\n",
    "                    )"
   ]
  },
  {
   "cell_type": "code",
   "execution_count": 68,
   "id": "a433f517-2a23-43c7-9512-680605da6dc2",
   "metadata": {},
   "outputs": [],
   "source": [
    "def tuning_params(trial):\n",
    "    n_estimators = trial.suggest_int(\"n_estimators\", 100, 1100, step=100)\n",
    "    learning_rate = trial.suggest_float(\"learning_rate\", 1e-2, 0.25, log=True)\n",
    "    reg_lambda = trial.suggest_float(\"reg_lambda\", 1e-8, 100.0, log=True)\n",
    "    reg_alpha = trial.suggest_float(\"reg_alpha\", 1e-8, 100.0, log=True)\n",
    "    subsample = trial.suggest_float(\"subsample\", 0.1, 1.0)\n",
    "    colsample_bytree = trial.suggest_float(\"colsample_bytree\", 0.1, 1.0)\n",
    "    max_depth = trial.suggest_int(\"max_depth\", 2, 5)\n",
    "    \n",
    "    for train_, val_ in cv.kfold_split(folds):\n",
    "        trainX = train_[features]\n",
    "        trainY = train_[target]\n",
    "        valX = val_[features]\n",
    "        valY = val_[target]\n",
    "        \n",
    "        model = xgb.XGBClassifier(\n",
    "            seed=1,\n",
    "            tree_method=\"gpu_hist\",\n",
    "            gpu_id=0,\n",
    "            predictor=\"gpu_predictor\",\n",
    "            n_estimators=n_estimators,\n",
    "            learning_rate=learning_rate,\n",
    "            reg_lambda=reg_lambda,\n",
    "            reg_alpha=reg_alpha,\n",
    "            subsample=subsample,\n",
    "            colsample_bytree=colsample_bytree,\n",
    "            max_depth=max_depth,\n",
    "            use_label_encoder=False,\n",
    "            early_stopping_rounds=300, \n",
    "                 \n",
    "        )\n",
    "        \n",
    "        model.fit(trainX, trainY, \n",
    "                   eval_set=[(valX, valY)],\n",
    "                  verbose=False\n",
    "                 )\n",
    "    \n",
    "        predY = model.predict(valX)\n",
    "        val_auc = metrics.roc_auc_score(valY, predY)\n",
    "        return val_auc"
   ]
  },
  {
   "cell_type": "code",
   "execution_count": 69,
   "id": "b3dfac61-129d-4b81-ab0a-edcc4366335d",
   "metadata": {},
   "outputs": [
    {
     "name": "stderr",
     "output_type": "stream",
     "text": [
      "\u001b[32m[I 2023-08-22 16:21:22,873]\u001b[0m A new study created in memory with name: no-name-3450e28e-6525-4c87-a225-644329a52c3e\u001b[0m\n",
      "/home/watercar99/.local/lib/python3.9/site-packages/xgboost/sklearn.py:1395: UserWarning: `use_label_encoder` is deprecated in 1.7.0.\n",
      "  warnings.warn(\"`use_label_encoder` is deprecated in 1.7.0.\")\n",
      "\u001b[32m[I 2023-08-22 16:21:29,208]\u001b[0m Trial 0 finished with value: 0.6918056613891006 and parameters: {'n_estimators': 900, 'learning_rate': 0.012006308896142426, 'reg_lambda': 0.00031524274070690025, 'reg_alpha': 3.618184014592542e-06, 'subsample': 0.769093479386566, 'colsample_bytree': 0.6083734747921945, 'max_depth': 5}. Best is trial 0 with value: 0.6918056613891006.\u001b[0m\n",
      "/home/watercar99/.local/lib/python3.9/site-packages/xgboost/sklearn.py:1395: UserWarning: `use_label_encoder` is deprecated in 1.7.0.\n",
      "  warnings.warn(\"`use_label_encoder` is deprecated in 1.7.0.\")\n",
      "\u001b[32m[I 2023-08-22 16:21:31,857]\u001b[0m Trial 1 finished with value: 0.6622781023339824 and parameters: {'n_estimators': 1000, 'learning_rate': 0.08419722751178102, 'reg_lambda': 3.5544263218410985e-06, 'reg_alpha': 19.17177281822533, 'subsample': 0.5484394455521749, 'colsample_bytree': 0.9112045920472372, 'max_depth': 3}. Best is trial 0 with value: 0.6918056613891006.\u001b[0m\n",
      "/home/watercar99/.local/lib/python3.9/site-packages/xgboost/sklearn.py:1395: UserWarning: `use_label_encoder` is deprecated in 1.7.0.\n",
      "  warnings.warn(\"`use_label_encoder` is deprecated in 1.7.0.\")\n",
      "\u001b[32m[I 2023-08-22 16:21:33,505]\u001b[0m Trial 2 finished with value: 0.676763186859707 and parameters: {'n_estimators': 700, 'learning_rate': 0.02729462455868672, 'reg_lambda': 0.003624355544882691, 'reg_alpha': 1.1291337128898272e-07, 'subsample': 0.13782209959853362, 'colsample_bytree': 0.3705626554358854, 'max_depth': 4}. Best is trial 0 with value: 0.6918056613891006.\u001b[0m\n",
      "/home/watercar99/.local/lib/python3.9/site-packages/xgboost/sklearn.py:1395: UserWarning: `use_label_encoder` is deprecated in 1.7.0.\n",
      "  warnings.warn(\"`use_label_encoder` is deprecated in 1.7.0.\")\n",
      "\u001b[32m[I 2023-08-22 16:21:35,762]\u001b[0m Trial 3 finished with value: 0.6810529732170576 and parameters: {'n_estimators': 900, 'learning_rate': 0.012126312479297777, 'reg_lambda': 0.0077206404317573234, 'reg_alpha': 0.4502878731719403, 'subsample': 0.41435181591030246, 'colsample_bytree': 0.28947705313130023, 'max_depth': 4}. Best is trial 0 with value: 0.6918056613891006.\u001b[0m\n",
      "/home/watercar99/.local/lib/python3.9/site-packages/xgboost/sklearn.py:1395: UserWarning: `use_label_encoder` is deprecated in 1.7.0.\n",
      "  warnings.warn(\"`use_label_encoder` is deprecated in 1.7.0.\")\n",
      "\u001b[32m[I 2023-08-22 16:21:36,515]\u001b[0m Trial 4 finished with value: 0.6807001947337228 and parameters: {'n_estimators': 100, 'learning_rate': 0.08459513199540611, 'reg_lambda': 2.987335984566747e-05, 'reg_alpha': 0.10318696546958558, 'subsample': 0.9470468942749036, 'colsample_bytree': 0.5872913935043185, 'max_depth': 4}. Best is trial 0 with value: 0.6918056613891006.\u001b[0m\n",
      "/home/watercar99/.local/lib/python3.9/site-packages/xgboost/sklearn.py:1395: UserWarning: `use_label_encoder` is deprecated in 1.7.0.\n",
      "  warnings.warn(\"`use_label_encoder` is deprecated in 1.7.0.\")\n",
      "\u001b[32m[I 2023-08-22 16:21:37,611]\u001b[0m Trial 5 finished with value: 0.6434750091722407 and parameters: {'n_estimators': 300, 'learning_rate': 0.13659231692974066, 'reg_lambda': 0.005320180963540951, 'reg_alpha': 18.338116570795503, 'subsample': 0.2616591079885626, 'colsample_bytree': 0.6377600732333003, 'max_depth': 2}. Best is trial 0 with value: 0.6918056613891006.\u001b[0m\n",
      "/home/watercar99/.local/lib/python3.9/site-packages/xgboost/sklearn.py:1395: UserWarning: `use_label_encoder` is deprecated in 1.7.0.\n",
      "  warnings.warn(\"`use_label_encoder` is deprecated in 1.7.0.\")\n",
      "\u001b[32m[I 2023-08-22 16:21:38,826]\u001b[0m Trial 6 finished with value: 0.6653049417209944 and parameters: {'n_estimators': 400, 'learning_rate': 0.16020939787513377, 'reg_lambda': 6.525932373544942, 'reg_alpha': 0.004026725368810716, 'subsample': 0.10267273353022179, 'colsample_bytree': 0.7570376776677373, 'max_depth': 2}. Best is trial 0 with value: 0.6918056613891006.\u001b[0m\n",
      "/home/watercar99/.local/lib/python3.9/site-packages/xgboost/sklearn.py:1395: UserWarning: `use_label_encoder` is deprecated in 1.7.0.\n",
      "  warnings.warn(\"`use_label_encoder` is deprecated in 1.7.0.\")\n",
      "\u001b[32m[I 2023-08-22 16:21:40,193]\u001b[0m Trial 7 finished with value: 0.6683600033866735 and parameters: {'n_estimators': 600, 'learning_rate': 0.07397209004460277, 'reg_lambda': 21.49258704825226, 'reg_alpha': 0.002232787460190468, 'subsample': 0.7394503426998531, 'colsample_bytree': 0.5085719192233241, 'max_depth': 4}. Best is trial 0 with value: 0.6918056613891006.\u001b[0m\n",
      "/home/watercar99/.local/lib/python3.9/site-packages/xgboost/sklearn.py:1395: UserWarning: `use_label_encoder` is deprecated in 1.7.0.\n",
      "  warnings.warn(\"`use_label_encoder` is deprecated in 1.7.0.\")\n",
      "\u001b[32m[I 2023-08-22 16:21:42,175]\u001b[0m Trial 8 finished with value: 0.6773205768633759 and parameters: {'n_estimators': 600, 'learning_rate': 0.021353830540178455, 'reg_lambda': 0.015183409939963493, 'reg_alpha': 0.0018294221797923473, 'subsample': 0.9744703929529064, 'colsample_bytree': 0.8597060853472598, 'max_depth': 5}. Best is trial 0 with value: 0.6918056613891006.\u001b[0m\n",
      "/home/watercar99/.local/lib/python3.9/site-packages/xgboost/sklearn.py:1395: UserWarning: `use_label_encoder` is deprecated in 1.7.0.\n",
      "  warnings.warn(\"`use_label_encoder` is deprecated in 1.7.0.\")\n",
      "\u001b[32m[I 2023-08-22 16:21:44,044]\u001b[0m Trial 9 finished with value: 0.6215321875088196 and parameters: {'n_estimators': 900, 'learning_rate': 0.03448210576938666, 'reg_lambda': 0.0016871115563747542, 'reg_alpha': 74.0653329721519, 'subsample': 0.5909174325671464, 'colsample_bytree': 0.3517063352661358, 'max_depth': 2}. Best is trial 0 with value: 0.6918056613891006.\u001b[0m\n",
      "/home/watercar99/.local/lib/python3.9/site-packages/xgboost/sklearn.py:1395: UserWarning: `use_label_encoder` is deprecated in 1.7.0.\n",
      "  warnings.warn(\"`use_label_encoder` is deprecated in 1.7.0.\")\n",
      "\u001b[32m[I 2023-08-22 16:21:47,776]\u001b[0m Trial 10 finished with value: 0.6749992944430333 and parameters: {'n_estimators': 1100, 'learning_rate': 0.01058207799045598, 'reg_lambda': 1.3308414619467542e-08, 'reg_alpha': 3.905706379859168e-06, 'subsample': 0.7864939254656866, 'colsample_bytree': 0.9752184331135065, 'max_depth': 5}. Best is trial 0 with value: 0.6918056613891006.\u001b[0m\n",
      "/home/watercar99/.local/lib/python3.9/site-packages/xgboost/sklearn.py:1395: UserWarning: `use_label_encoder` is deprecated in 1.7.0.\n",
      "  warnings.warn(\"`use_label_encoder` is deprecated in 1.7.0.\")\n",
      "\u001b[32m[I 2023-08-22 16:21:50,538]\u001b[0m Trial 11 finished with value: 0.6887505997234217 and parameters: {'n_estimators': 800, 'learning_rate': 0.010854960336866573, 'reg_lambda': 0.5517521252686093, 'reg_alpha': 6.687071458751149e-06, 'subsample': 0.4209918290823815, 'colsample_bytree': 0.11387236278678572, 'max_depth': 5}. Best is trial 0 with value: 0.6918056613891006.\u001b[0m\n",
      "/home/watercar99/.local/lib/python3.9/site-packages/xgboost/sklearn.py:1395: UserWarning: `use_label_encoder` is deprecated in 1.7.0.\n",
      "  warnings.warn(\"`use_label_encoder` is deprecated in 1.7.0.\")\n",
      "\u001b[32m[I 2023-08-22 16:21:52,824]\u001b[0m Trial 12 finished with value: 0.6738845144356955 and parameters: {'n_estimators': 800, 'learning_rate': 0.016636823308916256, 'reg_lambda': 0.42811986585621103, 'reg_alpha': 1.3892014555268161e-05, 'subsample': 0.4034231212472886, 'colsample_bytree': 0.10373207618075432, 'max_depth': 5}. Best is trial 0 with value: 0.6918056613891006.\u001b[0m\n",
      "/home/watercar99/.local/lib/python3.9/site-packages/xgboost/sklearn.py:1395: UserWarning: `use_label_encoder` is deprecated in 1.7.0.\n",
      "  warnings.warn(\"`use_label_encoder` is deprecated in 1.7.0.\")\n",
      "\u001b[32m[I 2023-08-22 16:21:55,608]\u001b[0m Trial 13 finished with value: 0.7000324556204669 and parameters: {'n_estimators': 1100, 'learning_rate': 0.010043587333790332, 'reg_lambda': 0.09959715554599415, 'reg_alpha': 1.218461079411157e-08, 'subsample': 0.7132450592678944, 'colsample_bytree': 0.1411748004358308, 'max_depth': 5}. Best is trial 13 with value: 0.7000324556204669.\u001b[0m\n",
      "/home/watercar99/.local/lib/python3.9/site-packages/xgboost/sklearn.py:1395: UserWarning: `use_label_encoder` is deprecated in 1.7.0.\n",
      "  warnings.warn(\"`use_label_encoder` is deprecated in 1.7.0.\")\n",
      "\u001b[32m[I 2023-08-22 16:21:57,749]\u001b[0m Trial 14 finished with value: 0.6848135918494059 and parameters: {'n_estimators': 1100, 'learning_rate': 0.017203828247240902, 'reg_lambda': 0.0001092971127525162, 'reg_alpha': 1.7473893476001097e-08, 'subsample': 0.7858411284514675, 'colsample_bytree': 0.4783982189239376, 'max_depth': 3}. Best is trial 13 with value: 0.7000324556204669.\u001b[0m\n",
      "/home/watercar99/.local/lib/python3.9/site-packages/xgboost/sklearn.py:1395: UserWarning: `use_label_encoder` is deprecated in 1.7.0.\n",
      "  warnings.warn(\"`use_label_encoder` is deprecated in 1.7.0.\")\n",
      "\u001b[32m[I 2023-08-22 16:21:59,022]\u001b[0m Trial 15 finished with value: 0.6794654700420512 and parameters: {'n_estimators': 1100, 'learning_rate': 0.04131366089875784, 'reg_lambda': 0.10733992243060747, 'reg_alpha': 2.0299722975746698e-07, 'subsample': 0.6539129578437112, 'colsample_bytree': 0.6953847881636429, 'max_depth': 5}. Best is trial 13 with value: 0.7000324556204669.\u001b[0m\n",
      "/home/watercar99/.local/lib/python3.9/site-packages/xgboost/sklearn.py:1395: UserWarning: `use_label_encoder` is deprecated in 1.7.0.\n",
      "  warnings.warn(\"`use_label_encoder` is deprecated in 1.7.0.\")\n",
      "\u001b[32m[I 2023-08-22 16:22:01,252]\u001b[0m Trial 16 finished with value: 0.6654813309626618 and parameters: {'n_estimators': 900, 'learning_rate': 0.026269346663844215, 'reg_lambda': 36.989588450250636, 'reg_alpha': 1.1528781558381303e-08, 'subsample': 0.8660170620831589, 'colsample_bytree': 0.7610130629609098, 'max_depth': 5}. Best is trial 13 with value: 0.7000324556204669.\u001b[0m\n",
      "/home/watercar99/.local/lib/python3.9/site-packages/xgboost/sklearn.py:1395: UserWarning: `use_label_encoder` is deprecated in 1.7.0.\n",
      "  warnings.warn(\"`use_label_encoder` is deprecated in 1.7.0.\")\n",
      "\u001b[32m[I 2023-08-22 16:22:03,661]\u001b[0m Trial 17 finished with value: 0.6749710721643666 and parameters: {'n_estimators': 1000, 'learning_rate': 0.01546258469569975, 'reg_lambda': 0.07274319596050022, 'reg_alpha': 6.67076663365795e-07, 'subsample': 0.6823702059820372, 'colsample_bytree': 0.2242166686470689, 'max_depth': 3}. Best is trial 13 with value: 0.7000324556204669.\u001b[0m\n",
      "/home/watercar99/.local/lib/python3.9/site-packages/xgboost/sklearn.py:1395: UserWarning: `use_label_encoder` is deprecated in 1.7.0.\n",
      "  warnings.warn(\"`use_label_encoder` is deprecated in 1.7.0.\")\n",
      "\u001b[32m[I 2023-08-22 16:22:05,037]\u001b[0m Trial 18 finished with value: 0.677849744588378 and parameters: {'n_estimators': 400, 'learning_rate': 0.01370690531789136, 'reg_lambda': 1.560048106350742, 'reg_alpha': 4.378422546271454e-05, 'subsample': 0.8686174477258704, 'colsample_bytree': 0.4852249524028714, 'max_depth': 4}. Best is trial 13 with value: 0.7000324556204669.\u001b[0m\n",
      "/home/watercar99/.local/lib/python3.9/site-packages/xgboost/sklearn.py:1395: UserWarning: `use_label_encoder` is deprecated in 1.7.0.\n",
      "  warnings.warn(\"`use_label_encoder` is deprecated in 1.7.0.\")\n",
      "\u001b[32m[I 2023-08-22 16:22:07,562]\u001b[0m Trial 19 finished with value: 0.670152118082014 and parameters: {'n_estimators': 800, 'learning_rate': 0.01006894264610371, 'reg_lambda': 82.13260949448664, 'reg_alpha': 0.0001591032813938071, 'subsample': 0.5730565608536303, 'colsample_bytree': 0.5931620150623962, 'max_depth': 5}. Best is trial 13 with value: 0.7000324556204669.\u001b[0m\n",
      "/home/watercar99/.local/lib/python3.9/site-packages/xgboost/sklearn.py:1395: UserWarning: `use_label_encoder` is deprecated in 1.7.0.\n",
      "  warnings.warn(\"`use_label_encoder` is deprecated in 1.7.0.\")\n",
      "\u001b[32m[I 2023-08-22 16:22:09,047]\u001b[0m Trial 20 finished with value: 0.6898371574520927 and parameters: {'n_estimators': 1000, 'learning_rate': 0.02189890177702819, 'reg_lambda': 0.0003293300223997711, 'reg_alpha': 1.0098038238888423e-06, 'subsample': 0.719970517521087, 'colsample_bytree': 0.4388218564181384, 'max_depth': 4}. Best is trial 13 with value: 0.7000324556204669.\u001b[0m\n",
      "/home/watercar99/.local/lib/python3.9/site-packages/xgboost/sklearn.py:1395: UserWarning: `use_label_encoder` is deprecated in 1.7.0.\n",
      "  warnings.warn(\"`use_label_encoder` is deprecated in 1.7.0.\")\n",
      "\u001b[32m[I 2023-08-22 16:22:10,589]\u001b[0m Trial 21 finished with value: 0.7047032427398189 and parameters: {'n_estimators': 1000, 'learning_rate': 0.018962253337109262, 'reg_lambda': 0.00039971114563659786, 'reg_alpha': 5.103673267603467e-07, 'subsample': 0.7085712755279477, 'colsample_bytree': 0.4146494994116916, 'max_depth': 4}. Best is trial 21 with value: 0.7047032427398189.\u001b[0m\n",
      "/home/watercar99/.local/lib/python3.9/site-packages/xgboost/sklearn.py:1395: UserWarning: `use_label_encoder` is deprecated in 1.7.0.\n",
      "  warnings.warn(\"`use_label_encoder` is deprecated in 1.7.0.\")\n",
      "\u001b[32m[I 2023-08-22 16:22:12,550]\u001b[0m Trial 22 finished with value: 0.6807001947337228 and parameters: {'n_estimators': 1000, 'learning_rate': 0.014782045295175565, 'reg_lambda': 0.0004920898630826397, 'reg_alpha': 8.435046246360716e-08, 'subsample': 0.7936286058523201, 'colsample_bytree': 0.20436850825684438, 'max_depth': 5}. Best is trial 21 with value: 0.7047032427398189.\u001b[0m\n",
      "/home/watercar99/.local/lib/python3.9/site-packages/xgboost/sklearn.py:1395: UserWarning: `use_label_encoder` is deprecated in 1.7.0.\n",
      "  warnings.warn(\"`use_label_encoder` is deprecated in 1.7.0.\")\n",
      "\u001b[32m[I 2023-08-22 16:22:15,057]\u001b[0m Trial 23 finished with value: 0.6939505545677758 and parameters: {'n_estimators': 1100, 'learning_rate': 0.010045024061058947, 'reg_lambda': 0.04723775858202635, 'reg_alpha': 1.2124890909544944e-06, 'subsample': 0.6366746428088829, 'colsample_bytree': 0.387444081845018, 'max_depth': 4}. Best is trial 21 with value: 0.7047032427398189.\u001b[0m\n",
      "/home/watercar99/.local/lib/python3.9/site-packages/xgboost/sklearn.py:1395: UserWarning: `use_label_encoder` is deprecated in 1.7.0.\n",
      "  warnings.warn(\"`use_label_encoder` is deprecated in 1.7.0.\")\n",
      "\u001b[32m[I 2023-08-22 16:22:17,338]\u001b[0m Trial 24 finished with value: 0.6692419495950103 and parameters: {'n_estimators': 1100, 'learning_rate': 0.018682621986548867, 'reg_lambda': 0.04650754705581183, 'reg_alpha': 1.0250308379573155e-08, 'subsample': 0.651333930239485, 'colsample_bytree': 0.39697050364167313, 'max_depth': 3}. Best is trial 21 with value: 0.7047032427398189.\u001b[0m\n",
      "/home/watercar99/.local/lib/python3.9/site-packages/xgboost/sklearn.py:1395: UserWarning: `use_label_encoder` is deprecated in 1.7.0.\n",
      "  warnings.warn(\"`use_label_encoder` is deprecated in 1.7.0.\")\n",
      "\u001b[32m[I 2023-08-22 16:22:19,963]\u001b[0m Trial 25 finished with value: 0.6769395761013743 and parameters: {'n_estimators': 1100, 'learning_rate': 0.013587694038837483, 'reg_lambda': 2.8411544651005465, 'reg_alpha': 8.279005481580424e-07, 'subsample': 0.6119014640499065, 'colsample_bytree': 0.29331344911975443, 'max_depth': 4}. Best is trial 21 with value: 0.7047032427398189.\u001b[0m\n",
      "/home/watercar99/.local/lib/python3.9/site-packages/xgboost/sklearn.py:1395: UserWarning: `use_label_encoder` is deprecated in 1.7.0.\n",
      "  warnings.warn(\"`use_label_encoder` is deprecated in 1.7.0.\")\n",
      "\u001b[32m[I 2023-08-22 16:22:29,323]\u001b[0m Trial 26 finished with value: 0.6782025230717128 and parameters: {'n_estimators': 700, 'learning_rate': 0.020604802594973572, 'reg_lambda': 0.24986574466947048, 'reg_alpha': 6.717240526101639e-08, 'subsample': 0.5300054070943546, 'colsample_bytree': 0.5396341415457353, 'max_depth': 4}. Best is trial 21 with value: 0.7047032427398189.\u001b[0m\n",
      "/home/watercar99/.local/lib/python3.9/site-packages/xgboost/sklearn.py:1395: UserWarning: `use_label_encoder` is deprecated in 1.7.0.\n",
      "  warnings.warn(\"`use_label_encoder` is deprecated in 1.7.0.\")\n",
      "\u001b[32m[I 2023-08-22 16:22:31,443]\u001b[0m Trial 27 finished with value: 0.6805238054920554 and parameters: {'n_estimators': 1000, 'learning_rate': 0.010166532950047326, 'reg_lambda': 0.010850401200492986, 'reg_alpha': 3.3694172693995343e-07, 'subsample': 0.6929652445979475, 'colsample_bytree': 0.4306064527470857, 'max_depth': 3}. Best is trial 21 with value: 0.7047032427398189.\u001b[0m\n",
      "/home/watercar99/.local/lib/python3.9/site-packages/xgboost/sklearn.py:1395: UserWarning: `use_label_encoder` is deprecated in 1.7.0.\n",
      "  warnings.warn(\"`use_label_encoder` is deprecated in 1.7.0.\")\n",
      "\u001b[32m[I 2023-08-22 16:22:34,208]\u001b[0m Trial 28 finished with value: 0.673178957469026 and parameters: {'n_estimators': 1100, 'learning_rate': 0.014195320132571045, 'reg_lambda': 0.06297888343307849, 'reg_alpha': 4.962073086556825e-08, 'subsample': 0.4981146979755668, 'colsample_bytree': 0.2997385905422814, 'max_depth': 4}. Best is trial 21 with value: 0.7047032427398189.\u001b[0m\n",
      "/home/watercar99/.local/lib/python3.9/site-packages/xgboost/sklearn.py:1395: UserWarning: `use_label_encoder` is deprecated in 1.7.0.\n",
      "  warnings.warn(\"`use_label_encoder` is deprecated in 1.7.0.\")\n",
      "\u001b[32m[I 2023-08-22 16:22:36,472]\u001b[0m Trial 29 finished with value: 0.6774687438263766 and parameters: {'n_estimators': 900, 'learning_rate': 0.01286037845881026, 'reg_lambda': 0.0011523123680960653, 'reg_alpha': 2.8701506813442103e-06, 'subsample': 0.6280133489541377, 'colsample_bytree': 0.19881692737046947, 'max_depth': 4}. Best is trial 21 with value: 0.7047032427398189.\u001b[0m\n"
     ]
    }
   ],
   "source": [
    "study = optuna.create_study(direction=\"maximize\")\n",
    "study.optimize(tuning_params, n_trials=30, gc_after_trial=True)"
   ]
  },
  {
   "cell_type": "code",
   "execution_count": 70,
   "id": "be4f0ba9-1c0a-42e9-a5c3-486201916197",
   "metadata": {},
   "outputs": [
    {
     "name": "stdout",
     "output_type": "stream",
     "text": [
      "{'n_estimators': 1000, 'learning_rate': 0.018962253337109262, 'reg_lambda': 0.00039971114563659786, 'reg_alpha': 5.103673267603467e-07, 'subsample': 0.7085712755279477, 'colsample_bytree': 0.4146494994116916, 'max_depth': 4}\n"
     ]
    }
   ],
   "source": [
    "print(study.best_params)"
   ]
  },
  {
   "cell_type": "code",
   "execution_count": 71,
   "id": "c3defb2e-af79-4efe-9716-f5b7da240ccf",
   "metadata": {},
   "outputs": [
    {
     "name": "stderr",
     "output_type": "stream",
     "text": [
      "/home/watercar99/.local/lib/python3.9/site-packages/xgboost/sklearn.py:1395: UserWarning: `use_label_encoder` is deprecated in 1.7.0.\n",
      "  warnings.warn(\"`use_label_encoder` is deprecated in 1.7.0.\")\n",
      "/home/watercar99/.local/lib/python3.9/site-packages/xgboost/sklearn.py:835: UserWarning: `early_stopping_rounds` in `fit` method is deprecated for better compatibility with scikit-learn, use `early_stopping_rounds` in constructor or`set_params` instead.\n",
      "  warnings.warn(\n",
      "/home/watercar99/.local/lib/python3.9/site-packages/xgboost/sklearn.py:1395: UserWarning: `use_label_encoder` is deprecated in 1.7.0.\n",
      "  warnings.warn(\"`use_label_encoder` is deprecated in 1.7.0.\")\n",
      "/home/watercar99/.local/lib/python3.9/site-packages/xgboost/sklearn.py:835: UserWarning: `early_stopping_rounds` in `fit` method is deprecated for better compatibility with scikit-learn, use `early_stopping_rounds` in constructor or`set_params` instead.\n",
      "  warnings.warn(\n",
      "/home/watercar99/.local/lib/python3.9/site-packages/xgboost/sklearn.py:1395: UserWarning: `use_label_encoder` is deprecated in 1.7.0.\n",
      "  warnings.warn(\"`use_label_encoder` is deprecated in 1.7.0.\")\n",
      "/home/watercar99/.local/lib/python3.9/site-packages/xgboost/sklearn.py:835: UserWarning: `early_stopping_rounds` in `fit` method is deprecated for better compatibility with scikit-learn, use `early_stopping_rounds` in constructor or`set_params` instead.\n",
      "  warnings.warn(\n",
      "/home/watercar99/.local/lib/python3.9/site-packages/xgboost/sklearn.py:1395: UserWarning: `use_label_encoder` is deprecated in 1.7.0.\n",
      "  warnings.warn(\"`use_label_encoder` is deprecated in 1.7.0.\")\n",
      "/home/watercar99/.local/lib/python3.9/site-packages/xgboost/sklearn.py:835: UserWarning: `early_stopping_rounds` in `fit` method is deprecated for better compatibility with scikit-learn, use `early_stopping_rounds` in constructor or`set_params` instead.\n",
      "  warnings.warn(\n",
      "/home/watercar99/.local/lib/python3.9/site-packages/xgboost/sklearn.py:1395: UserWarning: `use_label_encoder` is deprecated in 1.7.0.\n",
      "  warnings.warn(\"`use_label_encoder` is deprecated in 1.7.0.\")\n",
      "/home/watercar99/.local/lib/python3.9/site-packages/xgboost/sklearn.py:835: UserWarning: `early_stopping_rounds` in `fit` method is deprecated for better compatibility with scikit-learn, use `early_stopping_rounds` in constructor or`set_params` instead.\n",
      "  warnings.warn(\n"
     ]
    }
   ],
   "source": [
    "for train_, val_ in cv.kfold_split(folds):\n",
    "        trainX = train_[features]\n",
    "        trainY = train_[target]\n",
    "        valX = val_[features]\n",
    "        valY = val_[target]\n",
    "        \n",
    "        model = xgb.XGBClassifier(\n",
    "            seed=1,\n",
    "            tree_method=\"gpu_hist\",\n",
    "            gpu_id=0,\n",
    "            predictor=\"gpu_predictor\",\n",
    "            n_estimators=study.best_params['n_estimators'],\n",
    "            learning_rate=study.best_params['learning_rate'],\n",
    "            reg_lambda=study.best_params['reg_lambda'],\n",
    "            reg_alpha=study.best_params['reg_alpha'],\n",
    "            subsample=study.best_params['subsample'],\n",
    "            colsample_bytree=study.best_params['colsample_bytree'],\n",
    "            max_depth=study.best_params['max_depth'],\n",
    "            use_label_encoder=False,\n",
    "        )\n",
    "        model.fit(trainX,trainY,\n",
    "                 early_stopping_rounds=300, \n",
    "                          eval_set=[(valX, valY)], verbose=False)"
   ]
  },
  {
   "cell_type": "code",
   "execution_count": 72,
   "id": "acdd6c16-8349-41c7-801e-660101aad87e",
   "metadata": {},
   "outputs": [
    {
     "name": "stdout",
     "output_type": "stream",
     "text": [
      "Train Accuracy: 0.8794139744552968\n",
      "Test Accuracy: 0.6564129301355579\n"
     ]
    },
    {
     "data": {
      "image/png": "[encoded data removed]",
      "text/plain": [
       "<Figure size 600x400 with 2 Axes>"
      ]
     },
     "metadata": {},
     "output_type": "display_data"
    },
    {
     "name": "stdout",
     "output_type": "stream",
     "text": [
      "              precision    recall  f1-score   support\n",
      "\n",
      "           0       0.81      0.65      0.72      1304\n",
      "           1       0.47      0.66      0.55       614\n",
      "\n",
      "    accuracy                           0.66      1918\n",
      "   macro avg       0.64      0.66      0.64      1918\n",
      "weighted avg       0.70      0.66      0.67      1918\n",
      "\n"
     ]
    }
   ],
   "source": [
    "y_pred2 = model.predict(X_train)\n",
    "y_pred = model.predict(X_test)\n",
    "accuracy = accuracy_score(train_data['y'], y_pred2)\n",
    "print(\"Train Accuracy:\", accuracy)\n",
    "accuracy = accuracy_score(test_data['y'], y_pred)\n",
    "print(\"Test Accuracy:\", accuracy)\n",
    "from sklearn.metrics import confusion_matrix\n",
    "import seaborn as sns\n",
    "from sklearn.metrics import precision_score, recall_score, f1_score\n",
    "cm = confusion_matrix(test_data['y'], y_pred)\n",
    "import matplotlib.pyplot as plt\n",
    "# Confusion matrix를 pandas DataFrame으로 변환합니다\n",
    "cm_df = pd.DataFrame(cm, index=['Actual 0', 'Actual 1'], columns=['Predicted 0', 'Predicted 1'])\n",
    "\n",
    "# Confusion matrix를 시각화합니다\n",
    "plt.figure(figsize=(6, 4))\n",
    "sns.heatmap(cm_df, annot=True, fmt='d', cmap='Blues')\n",
    "plt.title('Confusion Matrix')\n",
    "plt.xlabel('Predicted Label')\n",
    "plt.ylabel('Actual Label')\n",
    "plt.show()\n",
    "\n",
    "from sklearn.metrics import classification_report\n",
    "print(classification_report(test_data['y'], y_pred))"
   ]
  },
  {
   "cell_type": "code",
   "execution_count": 73,
   "id": "d19b7141-4a03-4f8a-829d-4e8b7e896fbe",
   "metadata": {},
   "outputs": [
    {
     "data": {
      "image/png": "[encoded data removed]",
      "text/plain": [
       "<Figure size 640x480 with 1 Axes>"
      ]
     },
     "metadata": {},
     "output_type": "display_data"
    }
   ],
   "source": [
    "feature_importance = model.feature_importances_\n",
    "\n",
    "# Get feature names\n",
    "feature_names = X_train.columns\n",
    "\n",
    "# Create a dictionary to store feature importance values and names\n",
    "feature_importance_dict = {feature: importance for feature, importance in zip(feature_names, feature_importance)}\n",
    "\n",
    "# Sort the feature importance dictionary by importance values in descending order\n",
    "sorted_feature_importance = sorted(feature_importance_dict.items(), key=lambda x: x[1], reverse=True)\n",
    "\n",
    "# Get the top 10 important features\n",
    "top_10_features = sorted_feature_importance[:10]\n",
    "\n",
    "# Extract feature names and importance values from the top 10 features\n",
    "top_10_feature_names = [feature[0] for feature in top_10_features]\n",
    "top_10_feature_importance = [feature[1] for feature in top_10_features]\n",
    "\n",
    "# Invert the lists to reverse the order\n",
    "top_10_feature_names.reverse()\n",
    "top_10_feature_importance.reverse()\n",
    "\n",
    "# Create a bar plot for the top 10 important features\n",
    "plt.barh(top_10_feature_names, top_10_feature_importance)\n",
    "plt.xlabel('Importance')\n",
    "plt.ylabel('Features')\n",
    "plt.title('Top 10 Important Features')\n",
    "plt.show()"
   ]
  },
  {
   "cell_type": "code",
   "execution_count": null,
   "id": "78da47ea-c8da-4782-838e-25f8010f7acc",
   "metadata": {},
   "outputs": [],
   "source": []
  }
 ],
 "metadata": {
  "kernelspec": {
   "display_name": "Python 3 (ipykernel)",
   "language": "python",
   "name": "python3"
  },
  "language_info": {
   "codemirror_mode": {
    "name": "ipython",
    "version": 3
   },
   "file_extension": ".py",
   "mimetype": "text/x-python",
   "name": "python",
   "nbconvert_exporter": "python",
   "pygments_lexer": "ipython3",
   "version": "3.9.12"
  }
 },
 "nbformat": 4,
 "nbformat_minor": 5
}
