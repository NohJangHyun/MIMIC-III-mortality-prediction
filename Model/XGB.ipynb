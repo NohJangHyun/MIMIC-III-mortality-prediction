{
 "cells": [
  {
   "cell_type": "code",
   "execution_count": 2,
   "id": "dc96886b-f25b-418d-9fd7-825bd5721f95",
   "metadata": {},
   "outputs": [],
   "source": [
    "import pandas as pd\n",
    "import xgboost as xgb\n",
    "from sklearn.metrics import accuracy_score\n",
    "from sklearn.model_selection import GridSearchCV\n",
    "import optuna\n",
    "import pandas as pd\n",
    "import numpy as np\n",
    "import xgboost as xgb\n",
    "import sklearn.metrics as metrics\n",
    "import sklearn.preprocessing as prep\n",
    "import sklearn.model_selection as ms\n",
    "from functools import partial\n",
    "from sklearn.utils import resample\n",
    "from sklearn.metrics import confusion_matrix, precision_recall_curve, average_precision_score, auc\n",
    "import matplotlib.pyplot as plt\n",
    "import seaborn as sns\n",
    "from sklearn.metrics import precision_score, recall_score, f1_score\n",
    "from sklearn.metrics import classification_report"
   ]
  },
  {
   "cell_type": "code",
   "execution_count": 62,
   "id": "0d200835-b119-4d6f-bc7e-be9aea704911",
   "metadata": {},
   "outputs": [
    {
     "name": "stdout",
     "output_type": "stream",
     "text": [
      "train shape\n",
      " (3442, 55) \n",
      "\n",
      "train shape\n",
      " (146, 55) \n",
      "\n",
      "train value\n",
      " 0    1721\n",
      "1    1721\n",
      "Name: y, dtype: int64\n",
      "test value\n",
      " 0    117\n",
      "1     29\n",
      "Name: y, dtype: int64\n"
     ]
    }
   ],
   "source": [
    "# 데이터 불러오기\n",
    "train_data = pd.read_csv(\"~/project/MIMIC-III/Baseline/overlap/All/overlap_All(1%)_train.csv\")\n",
    "test_data = pd.read_csv(\"~/project/MIMIC-III/Baseline/overlap/All/overlap_All(1%)_test.csv\")\n",
    "\n",
    "train_data.drop([\"SUBJECT_ID\",\"HADM_ID\", \"DOA\", \"TLOS\", \"ETHNICITY\"], axis=1, inplace=True)\n",
    "test_data.drop([\"SUBJECT_ID\",\"HADM_ID\", \"DOA\", \"TLOS\", \"ETHNICITY\"], axis=1, inplace=True)\n",
    "\n",
    "train_data = pd.get_dummies(train_data, columns=[\"GENDER\"])\n",
    "test_data = pd.get_dummies(test_data, columns=[\"GENDER\"])\n",
    "\n",
    "# train_data와 test_data의 칼럼을 맞추기 위해 차집합을 계산\n",
    "missing_columns_in_test = set(train_data.columns) - set(test_data.columns)\n",
    "missing_columns_in_train = set(test_data.columns) - set(train_data.columns)\n",
    "\n",
    "# test_data에 train_data의 더미 변수를 추가하고 0으로 채워주기\n",
    "for col in missing_columns_in_test:\n",
    "    test_data[col] = 0\n",
    "\n",
    "# train_data에 test_data의 더미 변수를 추가하고 0으로 채워주기\n",
    "for col in missing_columns_in_train:\n",
    "    train_data[col] = 0\n",
    "    \n",
    "####################################################################\n",
    "# Down Sampling\n",
    "# train 데이터의 레이블 비율 확인\n",
    "train_labels = train_data['y']\n",
    "label_counts = train_labels.value_counts()\n",
    "\n",
    "# train 데이터의 레이블 비율이 1:1이 되도록 분할\n",
    "class_0_data = train_data[train_data['y'] == 0]\n",
    "class_1_data = train_data[train_data['y'] == 1]\n",
    "\n",
    "# 레이블이 0인 데이터 중에서 샘플 개수가 적은 만큼만 선택\n",
    "num_samples = min(label_counts[0], label_counts[1])\n",
    "class_0_data = class_0_data.sample(num_samples, random_state=42)\n",
    "\n",
    "# 레이블이 1인 데이터 중에서 샘플 개수가 적은 만큼만 선택\n",
    "class_1_data = class_1_data.sample(num_samples, random_state=42)\n",
    "\n",
    "# 선택한 데이터를 결합하여 최종 train 데이터 생성\n",
    "train_data = pd.concat([class_0_data, class_1_data])\n",
    "####################################################################\n",
    "\n",
    "\n",
    "# Features와 Target 설정\n",
    "X_train = train_data.drop('y', axis=1)\n",
    "y_train = train_data['y']\n",
    "X_test = test_data.drop('y', axis=1)\n",
    "\n",
    "print(\"train shape\\n\",X_train.shape,\"\\n\")\n",
    "print(\"train shape\\n\",X_test.shape,\"\\n\")\n",
    "\n",
    "target = \"y\"\n",
    "features = [f for f in train_data.columns if f not in [target]]\n",
    "\n",
    "print(\"train value\\n\",train_data['y'].value_counts())\n",
    "print(\"test value\\n\",test_data['y'].value_counts())"
   ]
  },
  {
   "cell_type": "code",
   "execution_count": 63,
   "id": "3450d603-4b5d-4400-bd46-2458d1ff2023",
   "metadata": {},
   "outputs": [
    {
     "name": "stdout",
     "output_type": "stream",
     "text": [
      "칼럼 차이: set()\n"
     ]
    }
   ],
   "source": [
    "# test_data와 train_data의 칼럼 차이 확인\n",
    "column_difference = set(X_train.columns) - set(X_test.columns)\n",
    "print(\"칼럼 차이:\", column_difference)"
   ]
  },
  {
   "cell_type": "code",
   "execution_count": 64,
   "id": "b978230d-b165-41e5-90e0-ea4df87cc0aa",
   "metadata": {},
   "outputs": [
    {
     "data": {
      "text/plain": [
       "XGBClassifier(base_score=None, booster=None, callbacks=None,\n",
       "              colsample_bylevel=None, colsample_bynode=None,\n",
       "              colsample_bytree=None, early_stopping_rounds=None,\n",
       "              enable_categorical=False, eval_metric=None, feature_types=None,\n",
       "              gamma=None, gpu_id=0, grow_policy=None, importance_type=None,\n",
       "              interaction_constraints=None, learning_rate=None, max_bin=None,\n",
       "              max_cat_threshold=None, max_cat_to_onehot=None,\n",
       "              max_delta_step=None, max_depth=None, max_leaves=None,\n",
       "              min_child_weight=None, missing=nan, monotone_constraints=None,\n",
       "              n_estimators=100, n_jobs=None, num_parallel_tree=None,\n",
       "              predictor='gpu_predictor', random_state=None, ...)"
      ]
     },
     "execution_count": 64,
     "metadata": {},
     "output_type": "execute_result"
    }
   ],
   "source": [
    "model=xgb.XGBClassifier(seed=1,\n",
    "            tree_method=\"gpu_hist\",\n",
    "            gpu_id=0,\n",
    "            predictor=\"gpu_predictor\",\n",
    "            n_estimators=100)\n",
    "\n",
    "model.fit(X_train, y_train)"
   ]
  },
  {
   "cell_type": "code",
   "execution_count": 65,
   "id": "d6fbcaf7-ba9e-4765-99ab-2c42f04946be",
   "metadata": {},
   "outputs": [
    {
     "name": "stdout",
     "output_type": "stream",
     "text": [
      "Train Accuracy: 1.0\n",
      "Test Accuracy: 0.6438356164383562\n"
     ]
    }
   ],
   "source": [
    "y_pred2 = model.predict(X_train)\n",
    "y_pred = model.predict(X_test)\n",
    "accuracy = accuracy_score(train_data['y'], y_pred2)\n",
    "print(\"Train Accuracy:\", accuracy) \n",
    "accuracy = accuracy_score(test_data['y'], y_pred)\n",
    "print(\"Test Accuracy:\", accuracy)"
   ]
  },
  {
   "cell_type": "code",
   "execution_count": 66,
   "id": "424ced4c-704b-4638-8fd5-0f3a8c4cf847",
   "metadata": {},
   "outputs": [],
   "source": [
    "class CrossValidation:\n",
    "    def __init__(self, df, shuffle,random_state=None):\n",
    "        self.df = df\n",
    "        self.random_state = random_state\n",
    "        self.shuffle = shuffle\n",
    "        if shuffle is True:\n",
    "            self.df = df.sample(frac=1,\n",
    "                random_state=self.random_state).reset_index(drop=True)\n",
    "\n",
    "    def hold_out_split(self,percent,stratify=None):\n",
    "        if stratify is not None:\n",
    "            y = self.df[stratify]\n",
    "            train,val = ms.train_test_split(self.df, test_size=percent/100,\n",
    "                stratify=y, random_state=self.random_state)\n",
    "            return train,val\n",
    "        size = len(self.df) - int(len(self.df)*(percent/100))\n",
    "        train = self.df.iloc[:size,:]\n",
    "        val = self.df.iloc[size:,:]\n",
    "        return train,val\n",
    "\n",
    "    def kfold_split(self, splits, stratify=None):\n",
    "        if stratify is not None:\n",
    "            kf = ms.StratifiedKFold(n_splits=splits,\n",
    "                shuffle=self.shuffle,\n",
    "                random_state=self.random_state)\n",
    "            y = self.df[stratify]\n",
    "            for train, val in kf.split(X=self.df,y=y):\n",
    "                t = self.df.iloc[train,:]\n",
    "                v = self.df.iloc[val, :]\n",
    "                yield t,v\n",
    "        else:\n",
    "            kf = ms.KFold(n_splits=splits, shuffle=self.shuffle,\n",
    "                random_state=self.random_state)\n",
    "            for train, val in kf.split(X=self.df):\n",
    "                t = self.df.iloc[train,:]\n",
    "                v = self.df.iloc[val, :]\n",
    "                yield t,v\n",
    "seed = 42\n",
    "folds = 5\n",
    "cv = CrossValidation(train_data,\n",
    "                     shuffle=True,\n",
    "                     random_state=seed\n",
    "                    )"
   ]
  },
  {
   "cell_type": "code",
   "execution_count": 67,
   "id": "a433f517-2a23-43c7-9512-680605da6dc2",
   "metadata": {},
   "outputs": [],
   "source": [
    "def tuning_params(trial):\n",
    "    n_estimators = trial.suggest_int(\"n_estimators\", 100, 1100, step=100)\n",
    "    learning_rate = trial.suggest_float(\"learning_rate\", 1e-2, 0.25, log=True)\n",
    "    reg_lambda = trial.suggest_float(\"reg_lambda\", 1e-8, 100.0, log=True)\n",
    "    reg_alpha = trial.suggest_float(\"reg_alpha\", 1e-8, 100.0, log=True)\n",
    "    subsample = trial.suggest_float(\"subsample\", 0.1, 1.0)\n",
    "    colsample_bytree = trial.suggest_float(\"colsample_bytree\", 0.1, 1.0)\n",
    "    max_depth = trial.suggest_int(\"max_depth\", 2, 5)\n",
    "    \n",
    "    for train_, val_ in cv.kfold_split(folds):\n",
    "        trainX = train_[features]\n",
    "        trainY = train_[target]\n",
    "        valX = val_[features]\n",
    "        valY = val_[target]\n",
    "        \n",
    "        model = xgb.XGBClassifier(\n",
    "            seed=1,\n",
    "            tree_method=\"gpu_hist\",\n",
    "            gpu_id=0,\n",
    "            predictor=\"gpu_predictor\",\n",
    "            n_estimators=n_estimators,\n",
    "            learning_rate=learning_rate,\n",
    "            reg_lambda=reg_lambda,\n",
    "            reg_alpha=reg_alpha,\n",
    "            subsample=subsample,\n",
    "            colsample_bytree=colsample_bytree,\n",
    "            max_depth=max_depth,\n",
    "            use_label_encoder=False,\n",
    "            early_stopping_rounds=300, \n",
    "                 \n",
    "        )\n",
    "        \n",
    "        model.fit(trainX, trainY, \n",
    "                   eval_set=[(valX, valY)],\n",
    "                  verbose=False\n",
    "                 )\n",
    "    \n",
    "        predY = model.predict(valX)\n",
    "        val_auc = metrics.roc_auc_score(valY, predY)\n",
    "        return val_auc"
   ]
  },
  {
   "cell_type": "code",
   "execution_count": 68,
   "id": "b3dfac61-129d-4b81-ab0a-edcc4366335d",
   "metadata": {},
   "outputs": [
    {
     "name": "stderr",
     "output_type": "stream",
     "text": [
      "\u001b[32m[I 2023-08-26 11:19:48,567]\u001b[0m A new study created in memory with name: no-name-78003add-d859-4d47-98f3-dc004d998759\u001b[0m\n",
      "/home/watercar99/.local/lib/python3.9/site-packages/xgboost/sklearn.py:1395: UserWarning: `use_label_encoder` is deprecated in 1.7.0.\n",
      "  warnings.warn(\"`use_label_encoder` is deprecated in 1.7.0.\")\n",
      "\u001b[32m[I 2023-08-26 11:19:49,123]\u001b[0m Trial 0 finished with value: 0.6277581120943952 and parameters: {'n_estimators': 300, 'learning_rate': 0.018817452973048418, 'reg_lambda': 7.76469523375731e-06, 'reg_alpha': 1.897703932759831, 'subsample': 0.7404751730569208, 'colsample_bytree': 0.6028051870719396, 'max_depth': 3}. Best is trial 0 with value: 0.6277581120943952.\u001b[0m\n",
      "/home/watercar99/.local/lib/python3.9/site-packages/xgboost/sklearn.py:1395: UserWarning: `use_label_encoder` is deprecated in 1.7.0.\n",
      "  warnings.warn(\"`use_label_encoder` is deprecated in 1.7.0.\")\n",
      "\u001b[32m[I 2023-08-26 11:19:50,357]\u001b[0m Trial 1 finished with value: 0.627850821744627 and parameters: {'n_estimators': 1100, 'learning_rate': 0.024702974294418645, 'reg_lambda': 3.7439669034496063e-06, 'reg_alpha': 0.023430019396447427, 'subsample': 0.9431038093672416, 'colsample_bytree': 0.9943381168340286, 'max_depth': 2}. Best is trial 1 with value: 0.627850821744627.\u001b[0m\n",
      "/home/watercar99/.local/lib/python3.9/site-packages/xgboost/sklearn.py:1395: UserWarning: `use_label_encoder` is deprecated in 1.7.0.\n",
      "  warnings.warn(\"`use_label_encoder` is deprecated in 1.7.0.\")\n",
      "\u001b[32m[I 2023-08-26 11:19:51,398]\u001b[0m Trial 2 finished with value: 0.6393721028234303 and parameters: {'n_estimators': 700, 'learning_rate': 0.07391043694333164, 'reg_lambda': 5.984331376622849, 'reg_alpha': 6.5828095724475695, 'subsample': 0.8911754904228452, 'colsample_bytree': 0.5984118442639828, 'max_depth': 2}. Best is trial 2 with value: 0.6393721028234303.\u001b[0m\n",
      "/home/watercar99/.local/lib/python3.9/site-packages/xgboost/sklearn.py:1395: UserWarning: `use_label_encoder` is deprecated in 1.7.0.\n",
      "  warnings.warn(\"`use_label_encoder` is deprecated in 1.7.0.\")\n",
      "\u001b[32m[I 2023-08-26 11:19:52,442]\u001b[0m Trial 3 finished with value: 0.6509860935524652 and parameters: {'n_estimators': 700, 'learning_rate': 0.013896532301195565, 'reg_lambda': 0.001598730982265811, 'reg_alpha': 0.0031921657787213477, 'subsample': 0.26455034760911705, 'colsample_bytree': 0.14217582004572976, 'max_depth': 2}. Best is trial 3 with value: 0.6509860935524652.\u001b[0m\n",
      "/home/watercar99/.local/lib/python3.9/site-packages/xgboost/sklearn.py:1395: UserWarning: `use_label_encoder` is deprecated in 1.7.0.\n",
      "  warnings.warn(\"`use_label_encoder` is deprecated in 1.7.0.\")\n",
      "\u001b[32m[I 2023-08-26 11:19:53,103]\u001b[0m Trial 4 finished with value: 0.6555499367888749 and parameters: {'n_estimators': 600, 'learning_rate': 0.10382550489090901, 'reg_lambda': 4.4182380263844547e-07, 'reg_alpha': 0.020817121815830057, 'subsample': 0.5187532251757025, 'colsample_bytree': 0.16296514044038424, 'max_depth': 2}. Best is trial 4 with value: 0.6555499367888749.\u001b[0m\n",
      "/home/watercar99/.local/lib/python3.9/site-packages/xgboost/sklearn.py:1395: UserWarning: `use_label_encoder` is deprecated in 1.7.0.\n",
      "  warnings.warn(\"`use_label_encoder` is deprecated in 1.7.0.\")\n",
      "\u001b[32m[I 2023-08-26 11:19:53,789]\u001b[0m Trial 5 finished with value: 0.6316266329540666 and parameters: {'n_estimators': 500, 'learning_rate': 0.21971411038036662, 'reg_lambda': 3.611443748375164e-05, 'reg_alpha': 1.3290186522983237e-06, 'subsample': 0.48813326648322886, 'colsample_bytree': 0.7762870385874366, 'max_depth': 4}. Best is trial 4 with value: 0.6555499367888749.\u001b[0m\n",
      "/home/watercar99/.local/lib/python3.9/site-packages/xgboost/sklearn.py:1395: UserWarning: `use_label_encoder` is deprecated in 1.7.0.\n",
      "  warnings.warn(\"`use_label_encoder` is deprecated in 1.7.0.\")\n",
      "\u001b[32m[I 2023-08-26 11:19:55,174]\u001b[0m Trial 6 finished with value: 0.6220438263801095 and parameters: {'n_estimators': 900, 'learning_rate': 0.044736291638706606, 'reg_lambda': 3.2659744394635573e-06, 'reg_alpha': 0.19086019577072938, 'subsample': 0.9712671898364327, 'colsample_bytree': 0.14489725590387698, 'max_depth': 5}. Best is trial 4 with value: 0.6555499367888749.\u001b[0m\n",
      "/home/watercar99/.local/lib/python3.9/site-packages/xgboost/sklearn.py:1395: UserWarning: `use_label_encoder` is deprecated in 1.7.0.\n",
      "  warnings.warn(\"`use_label_encoder` is deprecated in 1.7.0.\")\n",
      "\u001b[32m[I 2023-08-26 11:19:55,655]\u001b[0m Trial 7 finished with value: 0.6277117572692793 and parameters: {'n_estimators': 100, 'learning_rate': 0.06612008850895053, 'reg_lambda': 2.555862581212768e-06, 'reg_alpha': 30.484705040573004, 'subsample': 0.9733798282965336, 'colsample_bytree': 0.962740943992243, 'max_depth': 3}. Best is trial 4 with value: 0.6555499367888749.\u001b[0m\n",
      "/home/watercar99/.local/lib/python3.9/site-packages/xgboost/sklearn.py:1395: UserWarning: `use_label_encoder` is deprecated in 1.7.0.\n",
      "  warnings.warn(\"`use_label_encoder` is deprecated in 1.7.0.\")\n",
      "\u001b[32m[I 2023-08-26 11:19:56,190]\u001b[0m Trial 8 finished with value: 0.6265613147914032 and parameters: {'n_estimators': 100, 'learning_rate': 0.015738148839788673, 'reg_lambda': 0.1773212297547379, 'reg_alpha': 1.3776357611643047e-05, 'subsample': 0.27292866022617146, 'colsample_bytree': 0.1761663582971933, 'max_depth': 2}. Best is trial 4 with value: 0.6555499367888749.\u001b[0m\n",
      "/home/watercar99/.local/lib/python3.9/site-packages/xgboost/sklearn.py:1395: UserWarning: `use_label_encoder` is deprecated in 1.7.0.\n",
      "  warnings.warn(\"`use_label_encoder` is deprecated in 1.7.0.\")\n",
      "\u001b[32m[I 2023-08-26 11:19:56,782]\u001b[0m Trial 9 finished with value: 0.6424610198061526 and parameters: {'n_estimators': 300, 'learning_rate': 0.015307124714216039, 'reg_lambda': 2.2495256477894688e-08, 'reg_alpha': 0.2958141608985887, 'subsample': 0.6413593430490108, 'colsample_bytree': 0.46164738412512396, 'max_depth': 2}. Best is trial 4 with value: 0.6555499367888749.\u001b[0m\n",
      "/home/watercar99/.local/lib/python3.9/site-packages/xgboost/sklearn.py:1395: UserWarning: `use_label_encoder` is deprecated in 1.7.0.\n",
      "  warnings.warn(\"`use_label_encoder` is deprecated in 1.7.0.\")\n",
      "\u001b[32m[I 2023-08-26 11:19:57,604]\u001b[0m Trial 10 finished with value: 0.6323683101559208 and parameters: {'n_estimators': 500, 'learning_rate': 0.14147734249563484, 'reg_lambda': 1.6275208365474072e-08, 'reg_alpha': 1.2431607397978783e-08, 'subsample': 0.4981723667180678, 'colsample_bytree': 0.33619077979945167, 'max_depth': 4}. Best is trial 4 with value: 0.6555499367888749.\u001b[0m\n",
      "/home/watercar99/.local/lib/python3.9/site-packages/xgboost/sklearn.py:1395: UserWarning: `use_label_encoder` is deprecated in 1.7.0.\n",
      "  warnings.warn(\"`use_label_encoder` is deprecated in 1.7.0.\")\n",
      "\u001b[32m[I 2023-08-26 11:19:58,736]\u001b[0m Trial 11 finished with value: 0.635086388537716 and parameters: {'n_estimators': 700, 'learning_rate': 0.010782897012233422, 'reg_lambda': 0.0033110058410077414, 'reg_alpha': 0.00207658084879836, 'subsample': 0.18349167814894662, 'colsample_bytree': 0.10776983163752332, 'max_depth': 3}. Best is trial 4 with value: 0.6555499367888749.\u001b[0m\n",
      "/home/watercar99/.local/lib/python3.9/site-packages/xgboost/sklearn.py:1395: UserWarning: `use_label_encoder` is deprecated in 1.7.0.\n",
      "  warnings.warn(\"`use_label_encoder` is deprecated in 1.7.0.\")\n",
      "\u001b[32m[I 2023-08-26 11:19:59,812]\u001b[0m Trial 12 finished with value: 0.6551327433628318 and parameters: {'n_estimators': 900, 'learning_rate': 0.03475815002207154, 'reg_lambda': 0.002332636221607757, 'reg_alpha': 0.0029174148220302456, 'subsample': 0.3483848412947036, 'colsample_bytree': 0.2903913665929365, 'max_depth': 2}. Best is trial 4 with value: 0.6555499367888749.\u001b[0m\n",
      "/home/watercar99/.local/lib/python3.9/site-packages/xgboost/sklearn.py:1395: UserWarning: `use_label_encoder` is deprecated in 1.7.0.\n",
      "  warnings.warn(\"`use_label_encoder` is deprecated in 1.7.0.\")\n",
      "\u001b[32m[I 2023-08-26 11:20:00,825]\u001b[0m Trial 13 finished with value: 0.6424610198061526 and parameters: {'n_estimators': 1000, 'learning_rate': 0.03399433386457532, 'reg_lambda': 0.04837348730265346, 'reg_alpha': 0.00013385043228743426, 'subsample': 0.40327965094695795, 'colsample_bytree': 0.2828880970471527, 'max_depth': 3}. Best is trial 4 with value: 0.6555499367888749.\u001b[0m\n",
      "/home/watercar99/.local/lib/python3.9/site-packages/xgboost/sklearn.py:1395: UserWarning: `use_label_encoder` is deprecated in 1.7.0.\n",
      "  warnings.warn(\"`use_label_encoder` is deprecated in 1.7.0.\")\n",
      "\u001b[32m[I 2023-08-26 11:20:01,846]\u001b[0m Trial 14 finished with value: 0.6216266329540666 and parameters: {'n_estimators': 900, 'learning_rate': 0.0883601467543161, 'reg_lambda': 0.00029628552086329425, 'reg_alpha': 0.038938002239612364, 'subsample': 0.12218256047914755, 'colsample_bytree': 0.3104049365092466, 'max_depth': 5}. Best is trial 4 with value: 0.6555499367888749.\u001b[0m\n",
      "/home/watercar99/.local/lib/python3.9/site-packages/xgboost/sklearn.py:1395: UserWarning: `use_label_encoder` is deprecated in 1.7.0.\n",
      "  warnings.warn(\"`use_label_encoder` is deprecated in 1.7.0.\")\n",
      "\u001b[32m[I 2023-08-26 11:20:02,350]\u001b[0m Trial 15 finished with value: 0.5 and parameters: {'n_estimators': 800, 'learning_rate': 0.0407658887807813, 'reg_lambda': 25.537345139170405, 'reg_alpha': 88.59106380240682, 'subsample': 0.38734740807959445, 'colsample_bytree': 0.41893838120705623, 'max_depth': 2}. Best is trial 4 with value: 0.6555499367888749.\u001b[0m\n",
      "/home/watercar99/.local/lib/python3.9/site-packages/xgboost/sklearn.py:1395: UserWarning: `use_label_encoder` is deprecated in 1.7.0.\n",
      "  warnings.warn(\"`use_label_encoder` is deprecated in 1.7.0.\")\n",
      "\u001b[32m[I 2023-08-26 11:20:03,299]\u001b[0m Trial 16 finished with value: 0.6352718078381795 and parameters: {'n_estimators': 500, 'learning_rate': 0.0289450082725039, 'reg_lambda': 2.225802552296897e-07, 'reg_alpha': 0.0009806071201397008, 'subsample': 0.5846317097808521, 'colsample_bytree': 0.24702270433403117, 'max_depth': 4}. Best is trial 4 with value: 0.6555499367888749.\u001b[0m\n",
      "/home/watercar99/.local/lib/python3.9/site-packages/xgboost/sklearn.py:1395: UserWarning: `use_label_encoder` is deprecated in 1.7.0.\n",
      "  warnings.warn(\"`use_label_encoder` is deprecated in 1.7.0.\")\n",
      "\u001b[32m[I 2023-08-26 11:20:04,084]\u001b[0m Trial 17 finished with value: 0.6425537294563843 and parameters: {'n_estimators': 1100, 'learning_rate': 0.058001648460641576, 'reg_lambda': 0.0003091767473628324, 'reg_alpha': 0.8375980343394561, 'subsample': 0.37495305584415206, 'colsample_bytree': 0.21645722251576105, 'max_depth': 3}. Best is trial 4 with value: 0.6555499367888749.\u001b[0m\n",
      "/home/watercar99/.local/lib/python3.9/site-packages/xgboost/sklearn.py:1395: UserWarning: `use_label_encoder` is deprecated in 1.7.0.\n",
      "  warnings.warn(\"`use_label_encoder` is deprecated in 1.7.0.\")\n",
      "\u001b[32m[I 2023-08-26 11:20:04,933]\u001b[0m Trial 18 finished with value: 0.6396038769490097 and parameters: {'n_estimators': 600, 'learning_rate': 0.08746660534874212, 'reg_lambda': 3.203992825784376e-07, 'reg_alpha': 0.02641927526811872, 'subsample': 0.6636117988444928, 'colsample_bytree': 0.3818592762524186, 'max_depth': 2}. Best is trial 4 with value: 0.6555499367888749.\u001b[0m\n",
      "/home/watercar99/.local/lib/python3.9/site-packages/xgboost/sklearn.py:1395: UserWarning: `use_label_encoder` is deprecated in 1.7.0.\n",
      "  warnings.warn(\"`use_label_encoder` is deprecated in 1.7.0.\")\n",
      "\u001b[32m[I 2023-08-26 11:20:05,623]\u001b[0m Trial 19 finished with value: 0.6325537294563843 and parameters: {'n_estimators': 300, 'learning_rate': 0.11887322318642302, 'reg_lambda': 5.9387266945696944e-05, 'reg_alpha': 0.00019069110894769195, 'subsample': 0.5305114117972365, 'colsample_bytree': 0.25225929726494506, 'max_depth': 3}. Best is trial 4 with value: 0.6555499367888749.\u001b[0m\n",
      "/home/watercar99/.local/lib/python3.9/site-packages/xgboost/sklearn.py:1395: UserWarning: `use_label_encoder` is deprecated in 1.7.0.\n",
      "  warnings.warn(\"`use_label_encoder` is deprecated in 1.7.0.\")\n",
      "\u001b[32m[I 2023-08-26 11:20:06,481]\u001b[0m Trial 20 finished with value: 0.637897176569743 and parameters: {'n_estimators': 900, 'learning_rate': 0.04575899213489671, 'reg_lambda': 0.008561945853092855, 'reg_alpha': 4.219100745290558, 'subsample': 0.4474533492613091, 'colsample_bytree': 0.47822590693236033, 'max_depth': 2}. Best is trial 4 with value: 0.6555499367888749.\u001b[0m\n",
      "/home/watercar99/.local/lib/python3.9/site-packages/xgboost/sklearn.py:1395: UserWarning: `use_label_encoder` is deprecated in 1.7.0.\n",
      "  warnings.warn(\"`use_label_encoder` is deprecated in 1.7.0.\")\n",
      "\u001b[32m[I 2023-08-26 11:20:07,515]\u001b[0m Trial 21 finished with value: 0.6539359460598398 and parameters: {'n_estimators': 700, 'learning_rate': 0.027686466193298714, 'reg_lambda': 0.0014713291960230944, 'reg_alpha': 0.0034054321541059666, 'subsample': 0.2832546402391651, 'colsample_bytree': 0.11060216970471065, 'max_depth': 2}. Best is trial 4 with value: 0.6555499367888749.\u001b[0m\n",
      "/home/watercar99/.local/lib/python3.9/site-packages/xgboost/sklearn.py:1395: UserWarning: `use_label_encoder` is deprecated in 1.7.0.\n",
      "  warnings.warn(\"`use_label_encoder` is deprecated in 1.7.0.\")\n",
      "\u001b[32m[I 2023-08-26 11:20:08,649]\u001b[0m Trial 22 finished with value: 0.6524146649810367 and parameters: {'n_estimators': 800, 'learning_rate': 0.02405799121973378, 'reg_lambda': 0.00015640968959430786, 'reg_alpha': 0.009003791898983699, 'subsample': 0.32242843463526516, 'colsample_bytree': 0.10562116924410268, 'max_depth': 2}. Best is trial 4 with value: 0.6555499367888749.\u001b[0m\n",
      "/home/watercar99/.local/lib/python3.9/site-packages/xgboost/sklearn.py:1395: UserWarning: `use_label_encoder` is deprecated in 1.7.0.\n",
      "  warnings.warn(\"`use_label_encoder` is deprecated in 1.7.0.\")\n",
      "\u001b[32m[I 2023-08-26 11:20:09,570]\u001b[0m Trial 23 finished with value: 0.6451327433628319 and parameters: {'n_estimators': 600, 'learning_rate': 0.03439664007857077, 'reg_lambda': 0.0010102626225440932, 'reg_alpha': 0.10782388132109028, 'subsample': 0.3079053701493276, 'colsample_bytree': 0.22180482705367885, 'max_depth': 2}. Best is trial 4 with value: 0.6555499367888749.\u001b[0m\n",
      "/home/watercar99/.local/lib/python3.9/site-packages/xgboost/sklearn.py:1395: UserWarning: `use_label_encoder` is deprecated in 1.7.0.\n",
      "  warnings.warn(\"`use_label_encoder` is deprecated in 1.7.0.\")\n",
      "\u001b[32m[I 2023-08-26 11:20:10,448]\u001b[0m Trial 24 finished with value: 0.6309860935524652 and parameters: {'n_estimators': 800, 'learning_rate': 0.05578457673704886, 'reg_lambda': 0.016145804964200323, 'reg_alpha': 0.009086760087242095, 'subsample': 0.17412671496103083, 'colsample_bytree': 0.19663876171757708, 'max_depth': 3}. Best is trial 4 with value: 0.6555499367888749.\u001b[0m\n",
      "/home/watercar99/.local/lib/python3.9/site-packages/xgboost/sklearn.py:1395: UserWarning: `use_label_encoder` is deprecated in 1.7.0.\n",
      "  warnings.warn(\"`use_label_encoder` is deprecated in 1.7.0.\")\n",
      "\u001b[32m[I 2023-08-26 11:20:11,120]\u001b[0m Trial 25 finished with value: 0.6437968815844922 and parameters: {'n_estimators': 400, 'learning_rate': 0.03738795218841536, 'reg_lambda': 0.09701536651333068, 'reg_alpha': 0.0007171989312191215, 'subsample': 0.43777634335455323, 'colsample_bytree': 0.3111378605327926, 'max_depth': 2}. Best is trial 4 with value: 0.6555499367888749.\u001b[0m\n",
      "/home/watercar99/.local/lib/python3.9/site-packages/xgboost/sklearn.py:1395: UserWarning: `use_label_encoder` is deprecated in 1.7.0.\n",
      "  warnings.warn(\"`use_label_encoder` is deprecated in 1.7.0.\")\n",
      "\u001b[32m[I 2023-08-26 11:20:11,929]\u001b[0m Trial 26 finished with value: 0.6337505267593764 and parameters: {'n_estimators': 1000, 'learning_rate': 0.052855311661972985, 'reg_lambda': 3.848118784152936e-05, 'reg_alpha': 0.3905670700834076, 'subsample': 0.3346912008206315, 'colsample_bytree': 0.17654306305414924, 'max_depth': 3}. Best is trial 4 with value: 0.6555499367888749.\u001b[0m\n",
      "/home/watercar99/.local/lib/python3.9/site-packages/xgboost/sklearn.py:1395: UserWarning: `use_label_encoder` is deprecated in 1.7.0.\n",
      "  warnings.warn(\"`use_label_encoder` is deprecated in 1.7.0.\")\n",
      "\u001b[32m[I 2023-08-26 11:20:12,941]\u001b[0m Trial 27 finished with value: 0.6524610198061526 and parameters: {'n_estimators': 700, 'learning_rate': 0.026417952203144746, 'reg_lambda': 0.0010921528889898374, 'reg_alpha': 0.1063539708715778, 'subsample': 0.22511332016527164, 'colsample_bytree': 0.1143409041319767, 'max_depth': 2}. Best is trial 4 with value: 0.6555499367888749.\u001b[0m\n",
      "/home/watercar99/.local/lib/python3.9/site-packages/xgboost/sklearn.py:1395: UserWarning: `use_label_encoder` is deprecated in 1.7.0.\n",
      "  warnings.warn(\"`use_label_encoder` is deprecated in 1.7.0.\")\n",
      "\u001b[32m[I 2023-08-26 11:20:14,110]\u001b[0m Trial 28 finished with value: 0.6395575221238938 and parameters: {'n_estimators': 600, 'learning_rate': 0.03020283564982017, 'reg_lambda': 0.005553306589304351, 'reg_alpha': 0.007108137760141126, 'subsample': 0.46400815371073856, 'colsample_bytree': 0.2604097624309559, 'max_depth': 4}. Best is trial 4 with value: 0.6555499367888749.\u001b[0m\n",
      "/home/watercar99/.local/lib/python3.9/site-packages/xgboost/sklearn.py:1395: UserWarning: `use_label_encoder` is deprecated in 1.7.0.\n",
      "  warnings.warn(\"`use_label_encoder` is deprecated in 1.7.0.\")\n",
      "\u001b[32m[I 2023-08-26 11:20:15,150]\u001b[0m Trial 29 finished with value: 0.6537968815844922 and parameters: {'n_estimators': 1000, 'learning_rate': 0.022285774088860778, 'reg_lambda': 1.1560172083216235e-05, 'reg_alpha': 1.1810755198834657, 'subsample': 0.37319326895630506, 'colsample_bytree': 0.3210235515035458, 'max_depth': 3}. Best is trial 4 with value: 0.6555499367888749.\u001b[0m\n"
     ]
    }
   ],
   "source": [
    "study = optuna.create_study(direction=\"maximize\")\n",
    "study.optimize(tuning_params, n_trials=30, gc_after_trial=True)"
   ]
  },
  {
   "cell_type": "code",
   "execution_count": 69,
   "id": "be4f0ba9-1c0a-42e9-a5c3-486201916197",
   "metadata": {},
   "outputs": [
    {
     "name": "stdout",
     "output_type": "stream",
     "text": [
      "{'n_estimators': 600, 'learning_rate': 0.10382550489090901, 'reg_lambda': 4.4182380263844547e-07, 'reg_alpha': 0.020817121815830057, 'subsample': 0.5187532251757025, 'colsample_bytree': 0.16296514044038424, 'max_depth': 2}\n"
     ]
    }
   ],
   "source": [
    "print(study.best_params)"
   ]
  },
  {
   "cell_type": "code",
   "execution_count": 70,
   "id": "c3defb2e-af79-4efe-9716-f5b7da240ccf",
   "metadata": {},
   "outputs": [
    {
     "name": "stderr",
     "output_type": "stream",
     "text": [
      "/home/watercar99/.local/lib/python3.9/site-packages/xgboost/sklearn.py:1395: UserWarning: `use_label_encoder` is deprecated in 1.7.0.\n",
      "  warnings.warn(\"`use_label_encoder` is deprecated in 1.7.0.\")\n",
      "/home/watercar99/.local/lib/python3.9/site-packages/xgboost/sklearn.py:835: UserWarning: `early_stopping_rounds` in `fit` method is deprecated for better compatibility with scikit-learn, use `early_stopping_rounds` in constructor or`set_params` instead.\n",
      "  warnings.warn(\n",
      "/home/watercar99/.local/lib/python3.9/site-packages/xgboost/sklearn.py:1395: UserWarning: `use_label_encoder` is deprecated in 1.7.0.\n",
      "  warnings.warn(\"`use_label_encoder` is deprecated in 1.7.0.\")\n",
      "/home/watercar99/.local/lib/python3.9/site-packages/xgboost/sklearn.py:835: UserWarning: `early_stopping_rounds` in `fit` method is deprecated for better compatibility with scikit-learn, use `early_stopping_rounds` in constructor or`set_params` instead.\n",
      "  warnings.warn(\n",
      "/home/watercar99/.local/lib/python3.9/site-packages/xgboost/sklearn.py:1395: UserWarning: `use_label_encoder` is deprecated in 1.7.0.\n",
      "  warnings.warn(\"`use_label_encoder` is deprecated in 1.7.0.\")\n",
      "/home/watercar99/.local/lib/python3.9/site-packages/xgboost/sklearn.py:835: UserWarning: `early_stopping_rounds` in `fit` method is deprecated for better compatibility with scikit-learn, use `early_stopping_rounds` in constructor or`set_params` instead.\n",
      "  warnings.warn(\n",
      "/home/watercar99/.local/lib/python3.9/site-packages/xgboost/sklearn.py:1395: UserWarning: `use_label_encoder` is deprecated in 1.7.0.\n",
      "  warnings.warn(\"`use_label_encoder` is deprecated in 1.7.0.\")\n",
      "/home/watercar99/.local/lib/python3.9/site-packages/xgboost/sklearn.py:835: UserWarning: `early_stopping_rounds` in `fit` method is deprecated for better compatibility with scikit-learn, use `early_stopping_rounds` in constructor or`set_params` instead.\n",
      "  warnings.warn(\n",
      "/home/watercar99/.local/lib/python3.9/site-packages/xgboost/sklearn.py:1395: UserWarning: `use_label_encoder` is deprecated in 1.7.0.\n",
      "  warnings.warn(\"`use_label_encoder` is deprecated in 1.7.0.\")\n",
      "/home/watercar99/.local/lib/python3.9/site-packages/xgboost/sklearn.py:835: UserWarning: `early_stopping_rounds` in `fit` method is deprecated for better compatibility with scikit-learn, use `early_stopping_rounds` in constructor or`set_params` instead.\n",
      "  warnings.warn(\n"
     ]
    }
   ],
   "source": [
    "for train_, val_ in cv.kfold_split(folds):\n",
    "        trainX = train_[features]\n",
    "        trainY = train_[target]\n",
    "        valX = val_[features]\n",
    "        valY = val_[target]\n",
    "        \n",
    "        model = xgb.XGBClassifier(\n",
    "            seed=1,\n",
    "            tree_method=\"gpu_hist\",\n",
    "            gpu_id=0,\n",
    "            predictor=\"gpu_predictor\",\n",
    "            n_estimators=study.best_params['n_estimators'],\n",
    "            learning_rate=study.best_params['learning_rate'],\n",
    "            reg_lambda=study.best_params['reg_lambda'],\n",
    "            reg_alpha=study.best_params['reg_alpha'],\n",
    "            subsample=study.best_params['subsample'],\n",
    "            colsample_bytree=study.best_params['colsample_bytree'],\n",
    "            max_depth=study.best_params['max_depth'],\n",
    "            use_label_encoder=False,\n",
    "        )\n",
    "        model.fit(trainX,trainY,\n",
    "                 early_stopping_rounds=300, \n",
    "                          eval_set=[(valX, valY)], verbose=False)"
   ]
  },
  {
   "cell_type": "code",
   "execution_count": 71,
   "id": "83d9575c-6b54-4c42-bb1f-b459ff0272c4",
   "metadata": {},
   "outputs": [
    {
     "name": "stdout",
     "output_type": "stream",
     "text": [
      "Test Accuracy: 0.678082191780822\n",
      "Precision: 0.3392857142857143\n",
      "Recall: 0.6551724137931034\n",
      "F1-score: 0.44705882352941173\n"
     ]
    },
    {
     "data": {
      "image/png": "[encoded data removed]",
      "text/plain": [
       "<Figure size 600x400 with 2 Axes>"
      ]
     },
     "metadata": {},
     "output_type": "display_data"
    },
    {
     "name": "stdout",
     "output_type": "stream",
     "text": [
      "Classification Report:\n",
      "              precision    recall  f1-score   support\n",
      "\n",
      "           0       0.89      0.68      0.77       117\n",
      "           1       0.34      0.66      0.45        29\n",
      "\n",
      "    accuracy                           0.68       146\n",
      "   macro avg       0.61      0.67      0.61       146\n",
      "weighted avg       0.78      0.68      0.71       146\n",
      "\n"
     ]
    },
    {
     "data": {
      "image/png": "[encoded data removed]",
      "text/plain": [
       "<Figure size 640x480 with 1 Axes>"
      ]
     },
     "metadata": {},
     "output_type": "display_data"
    }
   ],
   "source": [
    "y_pred2 = model.predict(X_train)\n",
    "y_pred = model.predict(X_test)\n",
    "cm = confusion_matrix(test_data['y'], y_pred)\n",
    "\n",
    "\n",
    "# Precision, Recall, F1-score 계산\n",
    "precision = precision_score(test_data['y'], y_pred)\n",
    "recall = recall_score(test_data['y'], y_pred)\n",
    "f1 = f1_score(test_data['y'], y_pred)\n",
    "accuracy = accuracy_score(test_data['y'], y_pred)\n",
    "\n",
    "print(\"Test Accuracy:\", accuracy)\n",
    "print(\"Precision:\", precision)\n",
    "print(\"Recall:\", recall)\n",
    "print(\"F1-score:\", f1)\n",
    "\n",
    "# Confusion Matrix 시각화\n",
    "cm_df = pd.DataFrame(cm, index=['Actual 0', 'Actual 1'], columns=['Predicted 0', 'Predicted 1'])\n",
    "plt.figure(figsize=(6, 4))\n",
    "sns.heatmap(cm_df, annot=True, fmt='d', cmap='Blues')\n",
    "plt.title('Confusion Matrix')\n",
    "plt.xlabel('Predicted Label')\n",
    "plt.ylabel('Actual Label')\n",
    "plt.show()\n",
    "\n",
    "# Classification Report 출력\n",
    "print(\"Classification Report:\")\n",
    "print(classification_report(test_data['y'], y_pred))\n",
    "\n",
    "# Precision-Recall Curve 그리기\n",
    "precision, recall, _ = precision_recall_curve(test_data['y'], y_pred)\n",
    "average_precision = average_precision_score(test_data['y'], y_pred)\n",
    "area_under_curve = auc(recall, precision)\n",
    "\n",
    "# Precision-Recall Curve 시각화\n",
    "plt.figure()\n",
    "plt.step(recall, precision, color='b', alpha=0.2, where='post')\n",
    "plt.fill_between(recall, precision, step='post', alpha=0.2, color='b')\n",
    "plt.xlabel('Recall')\n",
    "plt.ylabel('Precision')\n",
    "plt.title(f'Precision-Recall Curve (AP = {average_precision:.2f})')\n",
    "# plt.title(f'Precision-Recall Curve (AUC = {area_under_curve:.2f})')\n",
    "plt.show()\n"
   ]
  },
  {
   "cell_type": "code",
   "execution_count": 72,
   "id": "d19b7141-4a03-4f8a-829d-4e8b7e896fbe",
   "metadata": {},
   "outputs": [
    {
     "data": {
      "image/png": "[encoded data removed]",
      "text/plain": [
       "<Figure size 640x480 with 1 Axes>"
      ]
     },
     "metadata": {},
     "output_type": "display_data"
    }
   ],
   "source": [
    "feature_importance = model.feature_importances_\n",
    "\n",
    "# Get feature names\n",
    "feature_names = X_train.columns\n",
    "\n",
    "# Create a dictionary to store feature importance values and names\n",
    "feature_importance_dict = {feature: importance for feature, importance in zip(feature_names, feature_importance)}\n",
    "\n",
    "# Sort the feature importance dictionary by importance values in descending order\n",
    "sorted_feature_importance = sorted(feature_importance_dict.items(), key=lambda x: x[1], reverse=True)\n",
    "\n",
    "# Get the top 10 important features\n",
    "top_10_features = sorted_feature_importance[:10]\n",
    "\n",
    "# Extract feature names and importance values from the top 10 features\n",
    "top_10_feature_names = [feature[0] for feature in top_10_features]\n",
    "top_10_feature_importance = [feature[1] for feature in top_10_features]\n",
    "\n",
    "# Invert the lists to reverse the order\n",
    "top_10_feature_names.reverse()\n",
    "top_10_feature_importance.reverse()\n",
    "\n",
    "# Create a bar plot for the top 10 important features\n",
    "plt.barh(top_10_feature_names, top_10_feature_importance)\n",
    "plt.xlabel('Importance')\n",
    "plt.ylabel('Features')\n",
    "plt.title('Top 10 Important Features')\n",
    "plt.show()"
   ]
  },
  {
   "cell_type": "code",
   "execution_count": 50,
   "id": "acdd6c16-8349-41c7-801e-660101aad87e",
   "metadata": {},
   "outputs": [],
   "source": [
    "# y_pred2 = model.predict(X_train)\n",
    "# y_pred = model.predict(X_test)\n",
    "# accuracy = accuracy_score(train_data['y'], y_pred2)\n",
    "# print(\"Train Accuracy:\", accuracy)\n",
    "# accuracy = accuracy_score(test_data['y'], y_pred)\n",
    "# print(\"Test Accuracy:\", accuracy)\n",
    "# from sklearn.metrics import confusion_matrix\n",
    "# import seaborn as sns\n",
    "# from sklearn.metrics import precision_score, recall_score, f1_score\n",
    "# cm = confusion_matrix(test_data['y'], y_pred)\n",
    "# import matplotlib.pyplot as plt\n",
    "# # Confusion matrix를 pandas DataFrame으로 변환합니다\n",
    "# cm_df = pd.DataFrame(cm, index=['Actual 0', 'Actual 1'], columns=['Predicted 0', 'Predicted 1'])\n",
    "\n",
    "# # Confusion matrix를 시각화합니다\n",
    "# plt.figure(figsize=(6, 4))\n",
    "# sns.heatmap(cm_df, annot=True, fmt='d', cmap='Blues')\n",
    "# plt.title('Confusion Matrix')\n",
    "# plt.xlabel('Predicted Label')\n",
    "# plt.ylabel('Actual Label')\n",
    "# plt.show()\n",
    "\n",
    "# from sklearn.metrics import classification_report\n",
    "# print(classification_report(test_data['y'], y_pred))"
   ]
  },
  {
   "cell_type": "code",
   "execution_count": null,
   "id": "78da47ea-c8da-4782-838e-25f8010f7acc",
   "metadata": {},
   "outputs": [],
   "source": []
  },
  {
   "cell_type": "code",
   "execution_count": null,
   "id": "ed990556-a890-452b-ad89-f7a63471cea0",
   "metadata": {},
   "outputs": [],
   "source": []
  }
 ],
 "metadata": {
  "kernelspec": {
   "display_name": "Python 3 (ipykernel)",
   "language": "python",
   "name": "python3"
  },
  "language_info": {
   "codemirror_mode": {
    "name": "ipython",
    "version": 3
   },
   "file_extension": ".py",
   "mimetype": "text/x-python",
   "name": "python",
   "nbconvert_exporter": "python",
   "pygments_lexer": "ipython3",
   "version": "3.9.12"
  }
 },
 "nbformat": 4,
 "nbformat_minor": 5
}
