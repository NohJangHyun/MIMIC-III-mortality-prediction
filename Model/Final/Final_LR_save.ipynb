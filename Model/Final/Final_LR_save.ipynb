{
 "cells": [
  {
   "cell_type": "code",
   "execution_count": 1,
   "id": "fc7ce4f4-f2b2-4eb6-b164-ce4a61104333",
   "metadata": {},
   "outputs": [],
   "source": [
    "import pandas as pd\n",
    "import optuna\n",
    "from sklearn.model_selection import cross_val_score\n",
    "from sklearn.metrics import roc_curve, roc_auc_score\n",
    "from sklearn.linear_model import LogisticRegression\n",
    "from sklearn.metrics import accuracy_score, precision_score, recall_score, f1_score\n",
    "from sklearn.metrics import confusion_matrix, classification_report, precision_recall_curve, auc\n",
    "import matplotlib.pyplot as plt\n",
    "import seaborn as sns\n",
    "import warnings\n",
    "warnings.filterwarnings('ignore')"
   ]
  },
  {
   "cell_type": "code",
   "execution_count": 2,
   "id": "ad9d3574-b7c1-4d74-aaf8-7e54f42c88c0",
   "metadata": {},
   "outputs": [],
   "source": [
    "# 데이터 불러오기\n",
    "\n",
    "per = 1\n",
    "\n",
    "train_data = pd.read_csv(\"/home/watercar99/project/MIMIC-III/Data Extract/Tabular Data/FINAL Data Extract/DATA/train_test_data/Final_train_data(\"+str(per)+\"%)_down.csv\")\n",
    "test_data = pd.read_csv(\"/home/watercar99/project/MIMIC-III/Data Extract/Tabular Data/FINAL Data Extract/DATA/train_test_data/Final_test_data(\"+str(per)+\"%)_down.csv\")\n",
    "\n",
    "train_data.drop([\"SUBJECT_ID\",\"HADM_ID\", \"DOA\", \"ETHNICITY\", \"TLOS\", \"LOS\"], axis=1, inplace=True)\n",
    "test_data.drop([\"SUBJECT_ID\",\"HADM_ID\", \"DOA\",  \"ETHNICITY\", \"TLOS\", \"LOS\"], axis=1, inplace=True)\n",
    "\n",
    "# train 데이터의 모드(Mode) 값 및 중앙값(Median) 계산\n",
    "mode_values = train_data[['GENDER', 'Ventilator', 'Anisocytosis', 'Macrocytes', 'Poikilocytosis', 'Bacteria', 'Bilirubin', 'Urine Appearance', 'Urine Color']].mode().iloc[0]\n",
    "median_values = train_data.drop(columns=['GENDER', 'Ventilator', 'Anisocytosis', 'Macrocytes', 'Poikilocytosis', 'Bacteria', 'Bilirubin', 'Urine Appearance', 'Urine Color']).median()\n",
    "\n",
    "# train 데이터와 test 데이터의 결측치를 채움\n",
    "train_data[['GENDER', 'Ventilator', 'Anisocytosis', 'Macrocytes', 'Poikilocytosis', 'Bacteria', 'Bilirubin', 'Urine Appearance', 'Urine Color']] = train_data[['GENDER', 'Ventilator', 'Anisocytosis', 'Macrocytes', 'Poikilocytosis', 'Bacteria', 'Bilirubin', 'Urine Appearance', 'Urine Color']].fillna(mode_values)\n",
    "test_data[['GENDER', 'Ventilator', 'Anisocytosis', 'Macrocytes', 'Poikilocytosis', 'Bacteria', 'Bilirubin', 'Urine Appearance', 'Urine Color']] = test_data[['GENDER', 'Ventilator', 'Anisocytosis', 'Macrocytes', 'Poikilocytosis', 'Bacteria', 'Bilirubin', 'Urine Appearance', 'Urine Color']].fillna(mode_values)\n",
    "\n",
    "# 나머지 칼럼들의 결측치를 중앙값으로 채움\n",
    "train_data = train_data.fillna(median_values)\n",
    "test_data = test_data.fillna(median_values)\n",
    "\n",
    "                \n",
    "train_data = pd.get_dummies(train_data, columns=['GENDER', 'Ventilator', 'Anisocytosis', 'Macrocytes', 'Poikilocytosis', 'Bacteria', 'Bilirubin', 'Urine Appearance', 'Urine Color'])\n",
    "test_data = pd.get_dummies(test_data, columns=['GENDER', 'Ventilator', 'Anisocytosis', 'Macrocytes', 'Poikilocytosis', 'Bacteria', 'Bilirubin', 'Urine Appearance', 'Urine Color'])\n",
    "\n",
    "# 결측치가 있는 칼럼을 확인하고 제거합니다.\n",
    "train_data = train_data.dropna(axis=1)\n",
    "test_data = test_data.dropna(axis=1)"
   ]
  },
  {
   "cell_type": "code",
   "execution_count": 3,
   "id": "4a00c5bd-01b9-4d19-90b4-fde61ee1d8bf",
   "metadata": {},
   "outputs": [
    {
     "name": "stdout",
     "output_type": "stream",
     "text": [
      "train shape\n",
      " (978, 98) \n",
      "\n",
      "train shape\n",
      " (457, 98) \n",
      "\n",
      "train value\n",
      " 1    489\n",
      "0    489\n",
      "Name: y, dtype: int64\n",
      "test value\n",
      " 0    341\n",
      "1    116\n",
      "Name: y, dtype: int64\n"
     ]
    }
   ],
   "source": [
    "# train_data와 test_data의 칼럼을 맞추기 위해 차집합을 계산\n",
    "missing_columns_in_test = set(train_data.columns) - set(test_data.columns)\n",
    "missing_columns_in_train = set(test_data.columns) - set(train_data.columns)\n",
    "\n",
    "# test_data에 train_data의 더미 변수를 추가하고 0으로 채워주기\n",
    "for col in missing_columns_in_test:\n",
    "    test_data[col] = 0\n",
    "\n",
    "# train_data에 test_data의 더미 변수를 추가하고 0으로 채워주기\n",
    "for col in missing_columns_in_train:\n",
    "    train_data[col] = 0\n",
    "    \n",
    "# Features와 Target 설정\n",
    "X_train = train_data.drop('y', axis=1)\n",
    "y_train = train_data['y']\n",
    "X_test = test_data.drop('y', axis=1)\n",
    "\n",
    "print(\"train shape\\n\",X_train.shape,\"\\n\")\n",
    "print(\"train shape\\n\",X_test.shape,\"\\n\")\n",
    "\n",
    "target = \"y\"\n",
    "features = [f for f in train_data.columns if f not in [target]]\n",
    "\n",
    "print(\"train value\\n\",train_data['y'].value_counts())\n",
    "print(\"test value\\n\",test_data['y'].value_counts())"
   ]
  },
  {
   "cell_type": "code",
   "execution_count": 4,
   "id": "4adca55d-9636-45f0-b4fb-1bdb93737bdd",
   "metadata": {},
   "outputs": [],
   "source": [
    "# 로지스틱 회귀 모델 학습\n",
    "def objective(trial):\n",
    "    c = trial.suggest_float(\"c\", 1e-8, 10.0, log=True)\n",
    "    \n",
    "    model = LogisticRegression(C=c, random_state=42)\n",
    "    \n",
    "    # Cross Validation을 통한 평가 지표 계산\n",
    "    scores = cross_val_score(model, X_train, y_train, cv=5, scoring='f1')\n",
    "    return scores.mean()"
   ]
  },
  {
   "cell_type": "code",
   "execution_count": null,
   "id": "14c3dd66-7de2-4757-9a99-6f33ec1d76ac",
   "metadata": {},
   "outputs": [
    {
     "name": "stderr",
     "output_type": "stream",
     "text": [
      "\u001b[32m[I 2023-10-07 02:11:52,668]\u001b[0m A new study created in memory with name: no-name-fbfb3d80-dc03-4ac5-a45d-d84f748b5f3c\u001b[0m\n",
      "\u001b[32m[I 2023-10-07 02:11:54,205]\u001b[0m Trial 0 finished with value: 0.629434151643817 and parameters: {'c': 7.492303373262485}. Best is trial 0 with value: 0.629434151643817.\u001b[0m\n",
      "\u001b[32m[I 2023-10-07 02:11:55,283]\u001b[0m Trial 1 finished with value: 0.6315063152339307 and parameters: {'c': 3.342812165737714}. Best is trial 1 with value: 0.6315063152339307.\u001b[0m\n",
      "\u001b[32m[I 2023-10-07 02:11:56,166]\u001b[0m Trial 2 finished with value: 0.6051761858213471 and parameters: {'c': 9.392769400881427e-06}. Best is trial 1 with value: 0.6315063152339307.\u001b[0m\n",
      "\u001b[32m[I 2023-10-07 02:11:58,143]\u001b[0m Trial 3 finished with value: 0.6231841406063177 and parameters: {'c': 0.0025795838707744203}. Best is trial 1 with value: 0.6315063152339307.\u001b[0m\n",
      "\u001b[32m[I 2023-10-07 02:11:59,349]\u001b[0m Trial 4 finished with value: 0.6293349939416991 and parameters: {'c': 0.00010969083580106145}. Best is trial 1 with value: 0.6315063152339307.\u001b[0m\n"
     ]
    }
   ],
   "source": [
    "from sklearn.metrics import roc_auc_score\n",
    "\n",
    "accuracy_list = []\n",
    "precision_list = []\n",
    "recall_list = []\n",
    "f1_list = []\n",
    "y_pred_list = []\n",
    "model_list = []\n",
    "auroc_list = []\n",
    "\n",
    "for _ in range(10):\n",
    "    study = optuna.create_study(direction=\"maximize\")\n",
    "    study.optimize(objective, n_trials=30, gc_after_trial=True)\n",
    "\n",
    "    # 최적 하이퍼파라미터 확인\n",
    "    best_c = study.best_params[\"c\"]\n",
    "\n",
    "    # 최적 모델 학습 및 평가\n",
    "    best_model = LogisticRegression(C=best_c, random_state=42)\n",
    "    best_model.fit(X_train, y_train)\n",
    "\n",
    "    # Test 데이터로 모델 평가\n",
    "    y_pred = best_model.predict(X_test)\n",
    "    y_score = best_model.predict_proba(X_test)\n",
    "\n",
    "    accuracy = accuracy_score(test_data['y'], y_pred)\n",
    "    precision = precision_score(test_data['y'], y_pred)\n",
    "    recall = recall_score(test_data['y'], y_pred)\n",
    "    f1 = f1_score(test_data['y'], y_pred)\n",
    "    auroc = roc_auc_score(test_data['y'], y_score[:,1])\n",
    "\n",
    "    rounded_accuracy = round(accuracy * 100, 2)\n",
    "    rounded_precision = round(precision * 100, 2)\n",
    "    rounded_recall = round(recall * 100, 2)\n",
    "    rounded_f1 = round(f1 * 100, 2)\n",
    "    rounded_auroc = round(auroc * 100, 2)\n",
    "    \n",
    "    accuracy_list.append(rounded_accuracy)\n",
    "    precision_list.append(rounded_precision)\n",
    "    recall_list.append(rounded_recall)\n",
    "    f1_list.append(rounded_f1)\n",
    "    y_pred_list.append(y_pred)\n",
    "    auroc_list.append(rounded_auroc)\n",
    "\n",
    "    print(\"Test Accuracy:\", rounded_accuracy)\n",
    "    print(\"Precision:\", rounded_precision)\n",
    "    print(\"Recall:\", rounded_recall)\n",
    "    print(\"F1-score:\", rounded_f1)\n",
    "    print(\"AUROC:\", rounded_auroc)"
   ]
  },
  {
   "cell_type": "code",
   "execution_count": null,
   "id": "e776c718-b593-48d3-8df0-54c6143e9cbf",
   "metadata": {},
   "outputs": [],
   "source": [
    "data = {\n",
    "    'Accuracy': accuracy_list,\n",
    "    'Precision': precision_list,\n",
    "    'Recall': recall_list,\n",
    "    'F1 Score': f1_list,\n",
    "    'AUROC':auroc_list,\n",
    "    'Predictions': y_pred_list\n",
    "    \n",
    "}\n",
    "\n",
    "# 딕셔너리를 DataFrame으로 변환\n",
    "df = pd.DataFrame(data)\n",
    "df"
   ]
  },
  {
   "cell_type": "markdown",
   "id": "d30020ed-758d-4e6b-a313-e32c5c6558b3",
   "metadata": {},
   "source": [
    "### DataFrame을 CSV 파일로 저장"
   ]
  },
  {
   "cell_type": "code",
   "execution_count": null,
   "id": "0d2b14f1-bcd9-4031-a97e-61afc830d409",
   "metadata": {},
   "outputs": [],
   "source": [
    "df.to_csv('~/project/MIMIC-III/Model/Output/LR/LR_'+str(per)+'%_output.csv', index=False)"
   ]
  },
  {
   "cell_type": "code",
   "execution_count": null,
   "id": "ae9ee891-2705-4255-9910-ff41bec31c5f",
   "metadata": {},
   "outputs": [],
   "source": [
    "# 그리고 싶은 confusion matrix index\n",
    "idx = 1 \n",
    "\n",
    "cm = confusion_matrix(test_data['y'], y_pred_list[idx])\n",
    "\n",
    "# Confusion Matrix 시각화\n",
    "cm_df = pd.DataFrame(cm, index=['Actual 0', 'Actual 1'], columns=['Predicted 0', 'Predicted 1'])\n",
    "plt.figure(figsize=(6, 4))\n",
    "sns.heatmap(cm_df, annot=True, fmt='d', cmap='Blues')\n",
    "plt.title('Confusion Matrix')\n",
    "plt.xlabel('Predicted Label')\n",
    "plt.ylabel('Actual Label')\n",
    "plt.show()\n",
    "\n",
    "# Classification Report 출력\n",
    "print(\"Classification Report:\")\n",
    "print(classification_report(test_data['y'], y_pred))\n",
    "\n",
    "# Precision-Recall Curve 계산 및 시각화\n",
    "precision, recall, _ = precision_recall_curve(test_data['y'], best_model.predict_proba(X_test)[:, 1])\n",
    "average_precision = auc(recall, precision)\n",
    "plt.figure()\n",
    "plt.step(recall, precision, color='b', alpha=0.2, where='post')\n",
    "plt.fill_between(recall, precision, step='post', alpha=0.2, color='b')\n",
    "plt.xlabel('Recall')\n",
    "plt.ylabel('Precision')\n",
    "plt.title(f'Precision-Recall Curve (AP = {average_precision:.2f})')\n",
    "plt.show()\n"
   ]
  },
  {
   "cell_type": "code",
   "execution_count": null,
   "id": "26724f8f-9bf4-41a7-864e-32b63f76dea4",
   "metadata": {},
   "outputs": [],
   "source": [
    "# 특성 중요도를 얻기 위한 모델 또는 변수에 따라 조정이 필요할 수 있음\n",
    "feature_importance = best_model.feature_importances_\n",
    "\n",
    "# 상위 10개의 특성 중요도를 얻기 위해 argsort 사용\n",
    "top_10_indices = feature_importance.argsort()[-10:][::-1]\n",
    "\n",
    "# 상위 10개의 특성과 중요도 출력\n",
    "for idx in top_10_indices:\n",
    "    print(f\"Feature: {X_test.columns[idx]}, Importance: {feature_importance[idx]}\")"
   ]
  },
  {
   "cell_type": "code",
   "execution_count": null,
   "id": "0767121e-8b65-4977-ba08-5c45721ff808",
   "metadata": {},
   "outputs": [],
   "source": []
  }
 ],
 "metadata": {
  "kernelspec": {
   "display_name": "Python 3 (ipykernel)",
   "language": "python",
   "name": "python3"
  },
  "language_info": {
   "codemirror_mode": {
    "name": "ipython",
    "version": 3
   },
   "file_extension": ".py",
   "mimetype": "text/x-python",
   "name": "python",
   "nbconvert_exporter": "python",
   "pygments_lexer": "ipython3",
   "version": "3.9.12"
  }
 },
 "nbformat": 4,
 "nbformat_minor": 5
}
