{
 "cells": [
  {
   "cell_type": "markdown",
   "id": "b5d1e345-c175-4e53-aff5-76a91d47cd9c",
   "metadata": {},
   "source": [
    "### Decision Tree"
   ]
  },
  {
   "cell_type": "code",
   "execution_count": 1,
   "id": "a1a6b203-88db-406a-a5fb-7a112a7d1506",
   "metadata": {},
   "outputs": [],
   "source": [
    "import optuna\n",
    "import pandas as pd\n",
    "from sklearn.tree import DecisionTreeClassifier\n",
    "from sklearn.metrics import roc_curve, roc_auc_score\n",
    "from sklearn.metrics import accuracy_score, precision_score, recall_score, f1_score\n",
    "from sklearn.model_selection import cross_val_score\n",
    "from sklearn.metrics import confusion_matrix, classification_report, precision_recall_curve, auc\n",
    "import matplotlib.pyplot as plt\n",
    "import seaborn as sns\n",
    "import warnings\n",
    "warnings.filterwarnings('ignore')"
   ]
  },
  {
   "cell_type": "code",
   "execution_count": 2,
   "id": "62ed981a-870f-4995-9b21-ae33e7861cb2",
   "metadata": {},
   "outputs": [],
   "source": [
    "# 데이터 불러오기\n",
    "\n",
    "per = 1\n",
    "\n",
    "train_data = pd.read_csv(\"/home/watercar99/project/MIMIC-III/Data/FINAL/FINAL_Split/Final_train_data(\"+str(per)+\"%)_down.csv\")\n",
    "test_data = pd.read_csv(\"/home/watercar99/project/MIMIC-III/Data/FINAL/FINAL_Split/Final_test_data(\"+str(per)+\"%)_down.csv\")\n",
    "\n",
    "train_data.drop([\"SUBJECT_ID\",\"HADM_ID\", \"DOA\", \"ETHNICITY\"], axis=1, inplace=True)\n",
    "test_data.drop([\"SUBJECT_ID\",\"HADM_ID\", \"DOA\",  \"ETHNICITY\"], axis=1, inplace=True)\n",
    "                \n",
    "train_data = pd.get_dummies(train_data, columns=['GENDER', 'Ventilator', 'Anisocytosis', 'Macrocytes', 'Poikilocytosis', 'Bacteria', 'Bilirubin', 'Urine Appearance', 'Urine Color'])\n",
    "test_data = pd.get_dummies(test_data, columns=['GENDER', 'Ventilator', 'Anisocytosis', 'Macrocytes', 'Poikilocytosis', 'Bacteria', 'Bilirubin', 'Urine Appearance', 'Urine Color'])"
   ]
  },
  {
   "cell_type": "code",
   "execution_count": 3,
   "id": "f301297c-4f46-4401-b54c-60d479219d5c",
   "metadata": {},
   "outputs": [
    {
     "name": "stdout",
     "output_type": "stream",
     "text": [
      "train shape\n",
      " (978, 100) \n",
      "\n",
      "train shape\n",
      " (457, 100) \n",
      "\n",
      "train value\n",
      " 1    489\n",
      "0    489\n",
      "Name: y, dtype: int64\n",
      "test value\n",
      " 0    341\n",
      "1    116\n",
      "Name: y, dtype: int64\n"
     ]
    }
   ],
   "source": [
    "# train_data와 test_data의 칼럼을 맞추기 위해 차집합을 계산\n",
    "missing_columns_in_test = set(train_data.columns) - set(test_data.columns)\n",
    "missing_columns_in_train = set(test_data.columns) - set(train_data.columns)\n",
    "\n",
    "# test_data에 train_data의 더미 변수를 추가하고 0으로 채워주기\n",
    "for col in missing_columns_in_test:\n",
    "    test_data[col] = 0\n",
    "\n",
    "# train_data에 test_data의 더미 변수를 추가하고 0으로 채워주기\n",
    "for col in missing_columns_in_train:\n",
    "    train_data[col] = 0\n",
    "\n",
    "# Features와 Target 설정\n",
    "X_train = train_data.drop('y', axis=1)\n",
    "y_train = train_data['y']\n",
    "X_test = test_data.drop('y', axis=1)\n",
    "\n",
    "print(\"train shape\\n\",X_train.shape,\"\\n\")\n",
    "print(\"train shape\\n\",X_test.shape,\"\\n\")\n",
    "\n",
    "target = \"y\"\n",
    "features = [f for f in train_data.columns if f not in [target]]\n",
    "\n",
    "print(\"train value\\n\",train_data['y'].value_counts())\n",
    "print(\"test value\\n\",test_data['y'].value_counts())"
   ]
  },
  {
   "cell_type": "code",
   "execution_count": 4,
   "id": "c7dacd8e-e077-49c3-8764-48165f099c61",
   "metadata": {},
   "outputs": [],
   "source": [
    "# Objective 함수 정의\n",
    "def objective(trial):\n",
    "    max_depth = trial.suggest_int(\"max_depth\", 2, 10)\n",
    "    min_samples_split = trial.suggest_float(\"min_samples_split\", 0.1, 1.0)\n",
    "    min_samples_leaf = trial.suggest_float(\"min_samples_leaf\", 0.1, 0.5)\n",
    "    \n",
    "    model = DecisionTreeClassifier(\n",
    "        max_depth=max_depth,\n",
    "        min_samples_split=min_samples_split,\n",
    "        min_samples_leaf=min_samples_leaf,\n",
    "        random_state=42\n",
    "    )\n",
    "    \n",
    "    # Cross Validation을 활용한 평가 지표 계산\n",
    "    scores = cross_val_score(model, X_train, y_train, cv=5, scoring=\"f1\")\n",
    "    return scores.mean()"
   ]
  },
  {
   "cell_type": "code",
   "execution_count": 5,
   "id": "2ca1034f-5815-48fd-8245-19de8314619d",
   "metadata": {},
   "outputs": [
    {
     "name": "stderr",
     "output_type": "stream",
     "text": [
      "\u001b[32m[I 2023-10-05 22:38:21,796]\u001b[0m A new study created in memory with name: no-name-1137477c-e171-4936-a210-4cce6d4a850f\u001b[0m\n"
     ]
    },
    {
     "data": {
      "application/vnd.jupyter.widget-view+json": {
       "model_id": "368c49feb64349d3a206920c627a5547",
       "version_major": 2,
       "version_minor": 0
      },
      "text/plain": [
       "  0%|          | 0/30 [00:00<?, ?it/s]"
      ]
     },
     "metadata": {},
     "output_type": "display_data"
    },
    {
     "name": "stdout",
     "output_type": "stream",
     "text": [
      "\u001b[32m[I 2023-10-05 22:38:21,866]\u001b[0m Trial 0 finished with value: 0.5762044398681251 and parameters: {'max_depth': 3, 'min_samples_split': 0.9039791213087237, 'min_samples_leaf': 0.3388904097781721}. Best is trial 0 with value: 0.5762044398681251.\u001b[0m\n",
      "\u001b[32m[I 2023-10-05 22:38:21,905]\u001b[0m Trial 1 finished with value: 0.5788870505632289 and parameters: {'max_depth': 10, 'min_samples_split': 0.44003216533529366, 'min_samples_leaf': 0.4146720760795547}. Best is trial 1 with value: 0.5788870505632289.\u001b[0m\n",
      "\u001b[32m[I 2023-10-05 22:38:21,961]\u001b[0m Trial 2 finished with value: 0.5970354967841452 and parameters: {'max_depth': 3, 'min_samples_split': 0.38480521240974896, 'min_samples_leaf': 0.47034878366287225}. Best is trial 2 with value: 0.5970354967841452.\u001b[0m\n",
      "\u001b[32m[I 2023-10-05 22:38:21,998]\u001b[0m Trial 3 finished with value: 0.580965397940465 and parameters: {'max_depth': 6, 'min_samples_split': 0.11789096589680943, 'min_samples_leaf': 0.4265524190015376}. Best is trial 2 with value: 0.5970354967841452.\u001b[0m\n",
      "\u001b[32m[I 2023-10-05 22:38:22,036]\u001b[0m Trial 4 finished with value: 0.584391574371049 and parameters: {'max_depth': 6, 'min_samples_split': 0.44984100222493806, 'min_samples_leaf': 0.35726832496244165}. Best is trial 2 with value: 0.5970354967841452.\u001b[0m\n",
      "\u001b[32m[I 2023-10-05 22:38:22,077]\u001b[0m Trial 5 finished with value: 0.584391574371049 and parameters: {'max_depth': 7, 'min_samples_split': 0.13267280808133966, 'min_samples_leaf': 0.3745931922340705}. Best is trial 2 with value: 0.5970354967841452.\u001b[0m\n",
      "\u001b[32m[I 2023-10-05 22:38:22,113]\u001b[0m Trial 6 finished with value: 0.584391574371049 and parameters: {'max_depth': 10, 'min_samples_split': 0.40437801171592147, 'min_samples_leaf': 0.3438508769269304}. Best is trial 2 with value: 0.5970354967841452.\u001b[0m\n",
      "\u001b[32m[I 2023-10-05 22:38:22,171]\u001b[0m Trial 7 finished with value: 0.6596198137691406 and parameters: {'max_depth': 2, 'min_samples_split': 0.2983780519488295, 'min_samples_leaf': 0.3285190441960941}. Best is trial 7 with value: 0.6596198137691406.\u001b[0m\n",
      "\u001b[32m[I 2023-10-05 22:38:22,210]\u001b[0m Trial 8 finished with value: 0.584391574371049 and parameters: {'max_depth': 4, 'min_samples_split': 0.6171612284207607, 'min_samples_leaf': 0.3481222265210965}. Best is trial 7 with value: 0.6596198137691406.\u001b[0m\n",
      "\u001b[32m[I 2023-10-05 22:38:22,248]\u001b[0m Trial 9 finished with value: 0.584391574371049 and parameters: {'max_depth': 4, 'min_samples_split': 0.47864637548678, 'min_samples_leaf': 0.35661443806129}. Best is trial 7 with value: 0.6596198137691406.\u001b[0m\n",
      "\u001b[32m[I 2023-10-05 22:38:22,303]\u001b[0m Trial 10 finished with value: 0.6874300738598168 and parameters: {'max_depth': 2, 'min_samples_split': 0.2465669113158039, 'min_samples_leaf': 0.20421181894023857}. Best is trial 10 with value: 0.6874300738598168.\u001b[0m\n",
      "\u001b[32m[I 2023-10-05 22:38:22,359]\u001b[0m Trial 11 finished with value: 0.6874300738598168 and parameters: {'max_depth': 2, 'min_samples_split': 0.26656173086799656, 'min_samples_leaf': 0.20318357394167316}. Best is trial 10 with value: 0.6874300738598168.\u001b[0m\n",
      "\u001b[32m[I 2023-10-05 22:38:22,414]\u001b[0m Trial 12 finished with value: 0.6772664044316496 and parameters: {'max_depth': 2, 'min_samples_split': 0.22772987266133957, 'min_samples_leaf': 0.17515792908841657}. Best is trial 10 with value: 0.6874300738598168.\u001b[0m\n",
      "\u001b[32m[I 2023-10-05 22:38:22,468]\u001b[0m Trial 13 finished with value: 0.691094365522628 and parameters: {'max_depth': 2, 'min_samples_split': 0.6432930110397972, 'min_samples_leaf': 0.21453799900416717}. Best is trial 13 with value: 0.691094365522628.\u001b[0m\n",
      "\u001b[32m[I 2023-10-05 22:38:22,525]\u001b[0m Trial 14 finished with value: 0.6941559188581098 and parameters: {'max_depth': 8, 'min_samples_split': 0.6559687214728259, 'min_samples_leaf': 0.2444102186017211}. Best is trial 14 with value: 0.6941559188581098.\u001b[0m\n",
      "\u001b[32m[I 2023-10-05 22:38:22,571]\u001b[0m Trial 15 finished with value: 0.5794085203667447 and parameters: {'max_depth': 8, 'min_samples_split': 0.6876208867782115, 'min_samples_leaf': 0.2552373995264169}. Best is trial 14 with value: 0.6941559188581098.\u001b[0m\n",
      "\u001b[32m[I 2023-10-05 22:38:22,619]\u001b[0m Trial 16 finished with value: 0.5490889240673335 and parameters: {'max_depth': 8, 'min_samples_split': 0.7690155912249119, 'min_samples_leaf': 0.10950015845664285}. Best is trial 14 with value: 0.6941559188581098.\u001b[0m\n",
      "\u001b[32m[I 2023-10-05 22:38:22,681]\u001b[0m Trial 17 finished with value: 0.5490889240673335 and parameters: {'max_depth': 9, 'min_samples_split': 0.865620761159595, 'min_samples_leaf': 0.2664046283065593}. Best is trial 14 with value: 0.6941559188581098.\u001b[0m\n",
      "\u001b[32m[I 2023-10-05 22:38:22,724]\u001b[0m Trial 18 finished with value: 0.5490889240673335 and parameters: {'max_depth': 5, 'min_samples_split': 0.9924734125030654, 'min_samples_leaf': 0.10070867990416671}. Best is trial 14 with value: 0.6941559188581098.\u001b[0m\n",
      "\u001b[32m[I 2023-10-05 22:38:22,779]\u001b[0m Trial 19 finished with value: 0.6772664044316496 and parameters: {'max_depth': 8, 'min_samples_split': 0.5825348647111535, 'min_samples_leaf': 0.15291359783269376}. Best is trial 14 with value: 0.6941559188581098.\u001b[0m\n",
      "\u001b[32m[I 2023-10-05 22:38:22,844]\u001b[0m Trial 20 finished with value: 0.5490889240673335 and parameters: {'max_depth': 7, 'min_samples_split': 0.727858006712949, 'min_samples_leaf': 0.27200478220379143}. Best is trial 14 with value: 0.6941559188581098.\u001b[0m\n",
      "\u001b[32m[I 2023-10-05 22:38:22,897]\u001b[0m Trial 21 finished with value: 0.691094365522628 and parameters: {'max_depth': 3, 'min_samples_split': 0.6334547561470353, 'min_samples_leaf': 0.22132029767303218}. Best is trial 14 with value: 0.6941559188581098.\u001b[0m\n",
      "\u001b[32m[I 2023-10-05 22:38:22,954]\u001b[0m Trial 22 finished with value: 0.691094365522628 and parameters: {'max_depth': 4, 'min_samples_split': 0.6216212106484913, 'min_samples_leaf': 0.2243677504992405}. Best is trial 14 with value: 0.6941559188581098.\u001b[0m\n",
      "\u001b[32m[I 2023-10-05 22:38:23,009]\u001b[0m Trial 23 finished with value: 0.5490889240673335 and parameters: {'max_depth': 5, 'min_samples_split': 0.807385693431393, 'min_samples_leaf': 0.14946385788876576}. Best is trial 14 with value: 0.6941559188581098.\u001b[0m\n",
      "\u001b[32m[I 2023-10-05 22:38:23,064]\u001b[0m Trial 24 finished with value: 0.691094365522628 and parameters: {'max_depth': 4, 'min_samples_split': 0.5147809754617725, 'min_samples_leaf': 0.23636690462186205}. Best is trial 14 with value: 0.6941559188581098.\u001b[0m\n",
      "\u001b[32m[I 2023-10-05 22:38:23,115]\u001b[0m Trial 25 finished with value: 0.6960798079294814 and parameters: {'max_depth': 5, 'min_samples_split': 0.5399679044845492, 'min_samples_leaf': 0.2966691807650159}. Best is trial 25 with value: 0.6960798079294814.\u001b[0m\n",
      "\u001b[32m[I 2023-10-05 22:38:23,195]\u001b[0m Trial 26 finished with value: 0.6960798079294814 and parameters: {'max_depth': 5, 'min_samples_split': 0.5245603737488495, 'min_samples_leaf': 0.28286543556189797}. Best is trial 25 with value: 0.6960798079294814.\u001b[0m\n",
      "\u001b[32m[I 2023-10-05 22:38:23,263]\u001b[0m Trial 27 finished with value: 0.6958831433605701 and parameters: {'max_depth': 5, 'min_samples_split': 0.5327397811434076, 'min_samples_leaf': 0.29908703122376895}. Best is trial 25 with value: 0.6960798079294814.\u001b[0m\n"
     ]
    },
    {
     "name": "stderr",
     "output_type": "stream",
     "text": [
      "\u001b[32m[I 2023-10-05 22:38:23,453]\u001b[0m A new study created in memory with name: no-name-5647ae6e-c0cf-4505-99a4-2deb90e804f6\u001b[0m\n"
     ]
    },
    {
     "name": "stdout",
     "output_type": "stream",
     "text": [
      "\u001b[32m[I 2023-10-05 22:38:23,348]\u001b[0m Trial 28 finished with value: 0.6958831433605701 and parameters: {'max_depth': 5, 'min_samples_split': 0.535454561806582, 'min_samples_leaf': 0.30095718278357647}. Best is trial 25 with value: 0.6960798079294814.\u001b[0m\n",
      "\u001b[32m[I 2023-10-05 22:38:23,432]\u001b[0m Trial 29 finished with value: 0.6958831433605701 and parameters: {'max_depth': 5, 'min_samples_split': 0.3628560210217098, 'min_samples_leaf': 0.30265188181171443}. Best is trial 25 with value: 0.6960798079294814.\u001b[0m\n",
      "Test Accuracy: 56.02\n",
      "Precision: 32.93\n",
      "Recall: 70.69\n",
      "F1-score: 44.93\n",
      "AUROC: 60.86\n"
     ]
    },
    {
     "data": {
      "application/vnd.jupyter.widget-view+json": {
       "model_id": "8d09f702b3eb44199c66a5d7a195636c",
       "version_major": 2,
       "version_minor": 0
      },
      "text/plain": [
       "  0%|          | 0/30 [00:00<?, ?it/s]"
      ]
     },
     "metadata": {},
     "output_type": "display_data"
    },
    {
     "name": "stdout",
     "output_type": "stream",
     "text": [
      "\u001b[32m[I 2023-10-05 22:38:23,517]\u001b[0m Trial 0 finished with value: 0.6874300738598168 and parameters: {'max_depth': 5, 'min_samples_split': 0.30557791871912815, 'min_samples_leaf': 0.20769288399208197}. Best is trial 0 with value: 0.6874300738598168.\u001b[0m\n",
      "\u001b[32m[I 2023-10-05 22:38:23,553]\u001b[0m Trial 1 finished with value: 0.584391574371049 and parameters: {'max_depth': 10, 'min_samples_split': 0.5352637026691349, 'min_samples_leaf': 0.36092680763053153}. Best is trial 0 with value: 0.6874300738598168.\u001b[0m\n",
      "\u001b[32m[I 2023-10-05 22:38:23,592]\u001b[0m Trial 2 finished with value: 0.5797801761743611 and parameters: {'max_depth': 2, 'min_samples_split': 0.9620175925878026, 'min_samples_leaf': 0.441063606483717}. Best is trial 0 with value: 0.6874300738598168.\u001b[0m\n",
      "\u001b[32m[I 2023-10-05 22:38:23,628]\u001b[0m Trial 3 finished with value: 0.584391574371049 and parameters: {'max_depth': 3, 'min_samples_split': 0.9931068325675649, 'min_samples_leaf': 0.3610341300111207}. Best is trial 0 with value: 0.6874300738598168.\u001b[0m\n",
      "\u001b[32m[I 2023-10-05 22:38:23,673]\u001b[0m Trial 4 finished with value: 0.6958831433605701 and parameters: {'max_depth': 3, 'min_samples_split': 0.42656071017872677, 'min_samples_leaf': 0.2982554688157169}. Best is trial 4 with value: 0.6958831433605701.\u001b[0m\n",
      "\u001b[32m[I 2023-10-05 22:38:23,712]\u001b[0m Trial 5 finished with value: 0.5806546997658167 and parameters: {'max_depth': 8, 'min_samples_split': 0.7865985919700765, 'min_samples_leaf': 0.4581557230877421}. Best is trial 4 with value: 0.6958831433605701.\u001b[0m\n",
      "\u001b[32m[I 2023-10-05 22:38:23,773]\u001b[0m Trial 6 finished with value: 0.584391574371049 and parameters: {'max_depth': 2, 'min_samples_split': 0.5823198576375102, 'min_samples_leaf': 0.3740365389366521}. Best is trial 4 with value: 0.6958831433605701.\u001b[0m\n",
      "\u001b[32m[I 2023-10-05 22:38:23,841]\u001b[0m Trial 7 finished with value: 0.6772664044316496 and parameters: {'max_depth': 2, 'min_samples_split': 0.10734416291333598, 'min_samples_leaf': 0.16713788049535286}. Best is trial 4 with value: 0.6958831433605701.\u001b[0m\n",
      "\u001b[32m[I 2023-10-05 22:38:23,888]\u001b[0m Trial 8 finished with value: 0.6958831433605701 and parameters: {'max_depth': 10, 'min_samples_split': 0.3444457323126654, 'min_samples_leaf': 0.305056735588355}. Best is trial 4 with value: 0.6958831433605701.\u001b[0m\n",
      "\u001b[32m[I 2023-10-05 22:38:23,942]\u001b[0m Trial 9 finished with value: 0.5490889240673335 and parameters: {'max_depth': 6, 'min_samples_split': 0.7819593005245993, 'min_samples_leaf': 0.1939249762249763}. Best is trial 4 with value: 0.6958831433605701.\u001b[0m\n",
      "\u001b[32m[I 2023-10-05 22:38:24,009]\u001b[0m Trial 10 finished with value: 0.6450836554775423 and parameters: {'max_depth': 4, 'min_samples_split': 0.11296981425305574, 'min_samples_leaf': 0.10900120716749226}. Best is trial 4 with value: 0.6958831433605701.\u001b[0m\n",
      "\u001b[32m[I 2023-10-05 22:38:24,080]\u001b[0m Trial 11 finished with value: 0.6960798079294814 and parameters: {'max_depth': 10, 'min_samples_split': 0.3569991923914066, 'min_samples_leaf': 0.2734468164930342}. Best is trial 11 with value: 0.6960798079294814.\u001b[0m\n",
      "\u001b[32m[I 2023-10-05 22:38:24,133]\u001b[0m Trial 12 finished with value: 0.6960798079294814 and parameters: {'max_depth': 7, 'min_samples_split': 0.3650264469391183, 'min_samples_leaf': 0.2686658247753189}. Best is trial 11 with value: 0.6960798079294814.\u001b[0m\n",
      "\u001b[32m[I 2023-10-05 22:38:24,188]\u001b[0m Trial 13 finished with value: 0.6941559188581098 and parameters: {'max_depth': 8, 'min_samples_split': 0.21918836138581363, 'min_samples_leaf': 0.25363980246316875}. Best is trial 11 with value: 0.6960798079294814.\u001b[0m\n",
      "\u001b[32m[I 2023-10-05 22:38:24,241]\u001b[0m Trial 14 finished with value: 0.6960798079294814 and parameters: {'max_depth': 8, 'min_samples_split': 0.49140096594540034, 'min_samples_leaf': 0.2694671395761957}. Best is trial 11 with value: 0.6960798079294814.\u001b[0m\n",
      "\u001b[32m[I 2023-10-05 22:38:24,308]\u001b[0m Trial 15 finished with value: 0.6545318126007544 and parameters: {'max_depth': 7, 'min_samples_split': 0.24044348381415956, 'min_samples_leaf': 0.13492746445211462}. Best is trial 11 with value: 0.6960798079294814.\u001b[0m\n",
      "\u001b[32m[I 2023-10-05 22:38:24,360]\u001b[0m Trial 16 finished with value: 0.691094365522628 and parameters: {'max_depth': 9, 'min_samples_split': 0.6618930852523103, 'min_samples_leaf': 0.21525189593593616}. Best is trial 11 with value: 0.6960798079294814.\u001b[0m\n",
      "\u001b[32m[I 2023-10-05 22:38:24,414]\u001b[0m Trial 17 finished with value: 0.6941559188581098 and parameters: {'max_depth': 7, 'min_samples_split': 0.4665817158410827, 'min_samples_leaf': 0.243994835162176}. Best is trial 11 with value: 0.6960798079294814.\u001b[0m\n",
      "\u001b[32m[I 2023-10-05 22:38:24,463]\u001b[0m Trial 18 finished with value: 0.7022309976350279 and parameters: {'max_depth': 6, 'min_samples_split': 0.6752903808425067, 'min_samples_leaf': 0.3217783241495804}. Best is trial 18 with value: 0.7022309976350279.\u001b[0m\n",
      "\u001b[32m[I 2023-10-05 22:38:24,534]\u001b[0m Trial 19 finished with value: 0.5797660815511708 and parameters: {'max_depth': 5, 'min_samples_split': 0.6988774868138047, 'min_samples_leaf': 0.40763430191284256}. Best is trial 18 with value: 0.7022309976350279.\u001b[0m\n",
      "\u001b[32m[I 2023-10-05 22:38:24,579]\u001b[0m Trial 20 finished with value: 0.6064050296180776 and parameters: {'max_depth': 6, 'min_samples_split': 0.8064466227018472, 'min_samples_leaf': 0.49876239182321735}. Best is trial 18 with value: 0.7022309976350279.\u001b[0m\n",
      "\u001b[32m[I 2023-10-05 22:38:24,642]\u001b[0m Trial 21 finished with value: 0.5762044398681251 and parameters: {'max_depth': 7, 'min_samples_split': 0.5604061289002549, 'min_samples_leaf': 0.33153410185495924}. Best is trial 18 with value: 0.7022309976350279.\u001b[0m\n",
      "\u001b[32m[I 2023-10-05 22:38:24,697]\u001b[0m Trial 22 finished with value: 0.7022930408876256 and parameters: {'max_depth': 8, 'min_samples_split': 0.45391948556794004, 'min_samples_leaf': 0.31595109163902957}. Best is trial 22 with value: 0.7022930408876256.\u001b[0m\n",
      "\u001b[32m[I 2023-10-05 22:38:24,752]\u001b[0m Trial 23 finished with value: 0.6999794288081167 and parameters: {'max_depth': 9, 'min_samples_split': 0.47456919747152143, 'min_samples_leaf': 0.3227112368877477}. Best is trial 22 with value: 0.7022930408876256.\u001b[0m\n",
      "\u001b[32m[I 2023-10-05 22:38:24,796]\u001b[0m Trial 24 finished with value: 0.5762044398681251 and parameters: {'max_depth': 9, 'min_samples_split': 0.6265655633679135, 'min_samples_leaf': 0.3296582469551836}. Best is trial 22 with value: 0.7022930408876256.\u001b[0m\n",
      "\u001b[32m[I 2023-10-05 22:38:24,840]\u001b[0m Trial 25 finished with value: 0.5837289762890961 and parameters: {'max_depth': 9, 'min_samples_split': 0.7115581498685692, 'min_samples_leaf': 0.3909784439287966}. Best is trial 22 with value: 0.7022930408876256.\u001b[0m\n",
      "\u001b[32m[I 2023-10-05 22:38:24,887]\u001b[0m Trial 26 finished with value: 0.5716205135704695 and parameters: {'max_depth': 5, 'min_samples_split': 0.8767790752210699, 'min_samples_leaf': 0.32918434914212674}. Best is trial 22 with value: 0.7022930408876256.\u001b[0m\n"
     ]
    },
    {
     "name": "stderr",
     "output_type": "stream",
     "text": [
      "\u001b[32m[I 2023-10-05 22:38:25,042]\u001b[0m A new study created in memory with name: no-name-387cd9a2-2060-40f1-b87f-83b2f4a9afda\u001b[0m\n"
     ]
    },
    {
     "name": "stdout",
     "output_type": "stream",
     "text": [
      "\u001b[32m[I 2023-10-05 22:38:24,937]\u001b[0m Trial 27 finished with value: 0.6958831433605701 and parameters: {'max_depth': 8, 'min_samples_split': 0.42788263475386873, 'min_samples_leaf': 0.29990232251370197}. Best is trial 22 with value: 0.7022930408876256.\u001b[0m\n",
      "\u001b[32m[I 2023-10-05 22:38:24,982]\u001b[0m Trial 28 finished with value: 0.5797801761743611 and parameters: {'max_depth': 9, 'min_samples_split': 0.6049486025540587, 'min_samples_leaf': 0.4380992940092763}. Best is trial 22 with value: 0.7022930408876256.\u001b[0m\n",
      "\u001b[32m[I 2023-10-05 22:38:25,028]\u001b[0m Trial 29 finished with value: 0.5762044398681251 and parameters: {'max_depth': 6, 'min_samples_split': 0.5120720110244718, 'min_samples_leaf': 0.3355977304317162}. Best is trial 22 with value: 0.7022930408876256.\u001b[0m\n",
      "Test Accuracy: 52.08\n",
      "Precision: 31.27\n",
      "Recall: 74.14\n",
      "F1-score: 43.99\n",
      "AUROC: 59.36\n"
     ]
    },
    {
     "data": {
      "application/vnd.jupyter.widget-view+json": {
       "model_id": "5a1847fde97c447f8c0e85a9d533fb82",
       "version_major": 2,
       "version_minor": 0
      },
      "text/plain": [
       "  0%|          | 0/30 [00:00<?, ?it/s]"
      ]
     },
     "metadata": {},
     "output_type": "display_data"
    },
    {
     "name": "stdout",
     "output_type": "stream",
     "text": [
      "\u001b[32m[I 2023-10-05 22:38:25,113]\u001b[0m Trial 0 finished with value: 0.5879995194571959 and parameters: {'max_depth': 5, 'min_samples_split': 0.715961066155875, 'min_samples_leaf': 0.4874398264599006}. Best is trial 0 with value: 0.5879995194571959.\u001b[0m\n",
      "\u001b[32m[I 2023-10-05 22:38:25,153]\u001b[0m Trial 1 finished with value: 0.5490889240673335 and parameters: {'max_depth': 3, 'min_samples_split': 0.8906055577921925, 'min_samples_leaf': 0.2607638662030479}. Best is trial 0 with value: 0.5879995194571959.\u001b[0m\n",
      "\u001b[32m[I 2023-10-05 22:38:25,208]\u001b[0m Trial 2 finished with value: 0.6941559188581098 and parameters: {'max_depth': 3, 'min_samples_split': 0.5423724575804861, 'min_samples_leaf': 0.25567898487392327}. Best is trial 2 with value: 0.6941559188581098.\u001b[0m\n",
      "\u001b[32m[I 2023-10-05 22:38:25,254]\u001b[0m Trial 3 finished with value: 0.5490889240673335 and parameters: {'max_depth': 6, 'min_samples_split': 0.920929986432528, 'min_samples_leaf': 0.22271519668461034}. Best is trial 2 with value: 0.6941559188581098.\u001b[0m\n",
      "\u001b[32m[I 2023-10-05 22:38:25,300]\u001b[0m Trial 4 finished with value: 0.6941559188581098 and parameters: {'max_depth': 8, 'min_samples_split': 0.5348899057178118, 'min_samples_leaf': 0.24996082275192655}. Best is trial 2 with value: 0.6941559188581098.\u001b[0m\n",
      "\u001b[32m[I 2023-10-05 22:38:25,346]\u001b[0m Trial 5 finished with value: 0.6772664044316496 and parameters: {'max_depth': 10, 'min_samples_split': 0.4680995403298447, 'min_samples_leaf': 0.14644343814487765}. Best is trial 2 with value: 0.6941559188581098.\u001b[0m\n",
      "\u001b[32m[I 2023-10-05 22:38:25,385]\u001b[0m Trial 6 finished with value: 0.5490889240673335 and parameters: {'max_depth': 2, 'min_samples_split': 0.9284442861141013, 'min_samples_leaf': 0.26499061735892604}. Best is trial 2 with value: 0.6941559188581098.\u001b[0m\n",
      "\u001b[32m[I 2023-10-05 22:38:25,424]\u001b[0m Trial 7 finished with value: 0.5879995194571959 and parameters: {'max_depth': 5, 'min_samples_split': 0.636078105817314, 'min_samples_leaf': 0.49044519570818}. Best is trial 2 with value: 0.6941559188581098.\u001b[0m\n",
      "\u001b[32m[I 2023-10-05 22:38:25,478]\u001b[0m Trial 8 finished with value: 0.6645990071658155 and parameters: {'max_depth': 5, 'min_samples_split': 0.14403594680484344, 'min_samples_leaf': 0.15288566212220545}. Best is trial 2 with value: 0.6941559188581098.\u001b[0m\n",
      "\u001b[32m[I 2023-10-05 22:38:25,529]\u001b[0m Trial 9 finished with value: 0.6772664044316496 and parameters: {'max_depth': 8, 'min_samples_split': 0.3264317264046199, 'min_samples_leaf': 0.15837588249314544}. Best is trial 2 with value: 0.6941559188581098.\u001b[0m\n",
      "\u001b[32m[I 2023-10-05 22:38:25,578]\u001b[0m Trial 10 finished with value: 0.584391574371049 and parameters: {'max_depth': 2, 'min_samples_split': 0.2638769151990033, 'min_samples_leaf': 0.37383697843067804}. Best is trial 2 with value: 0.6941559188581098.\u001b[0m\n",
      "\u001b[32m[I 2023-10-05 22:38:25,622]\u001b[0m Trial 11 finished with value: 0.5762044398681251 and parameters: {'max_depth': 9, 'min_samples_split': 0.48596330184566916, 'min_samples_leaf': 0.34081143415998344}. Best is trial 2 with value: 0.6941559188581098.\u001b[0m\n",
      "\u001b[32m[I 2023-10-05 22:38:25,667]\u001b[0m Trial 12 finished with value: 0.5838953109675075 and parameters: {'max_depth': 7, 'min_samples_split': 0.681952097018558, 'min_samples_leaf': 0.39489123806324194}. Best is trial 2 with value: 0.6941559188581098.\u001b[0m\n",
      "\u001b[32m[I 2023-10-05 22:38:25,742]\u001b[0m Trial 13 finished with value: 0.691094365522628 and parameters: {'max_depth': 8, 'min_samples_split': 0.3718259509770152, 'min_samples_leaf': 0.21649062710645528}. Best is trial 2 with value: 0.6941559188581098.\u001b[0m\n",
      "\u001b[32m[I 2023-10-05 22:38:25,795]\u001b[0m Trial 14 finished with value: 0.6996037439718117 and parameters: {'max_depth': 3, 'min_samples_split': 0.5762014526564643, 'min_samples_leaf': 0.30666425003830267}. Best is trial 14 with value: 0.6996037439718117.\u001b[0m\n",
      "\u001b[32m[I 2023-10-05 22:38:25,841]\u001b[0m Trial 15 finished with value: 0.5495071989571529 and parameters: {'max_depth': 3, 'min_samples_split': 0.8024319513923572, 'min_samples_leaf': 0.3178850917618022}. Best is trial 14 with value: 0.6996037439718117.\u001b[0m\n",
      "\u001b[32m[I 2023-10-05 22:38:25,889]\u001b[0m Trial 16 finished with value: 0.5776750441244446 and parameters: {'max_depth': 3, 'min_samples_split': 0.5993817951562412, 'min_samples_leaf': 0.41671430143507204}. Best is trial 14 with value: 0.6996037439718117.\u001b[0m\n",
      "\u001b[32m[I 2023-10-05 22:38:25,940]\u001b[0m Trial 17 finished with value: 0.6996037439718117 and parameters: {'max_depth': 4, 'min_samples_split': 0.40609294065752555, 'min_samples_leaf': 0.30747217595793047}. Best is trial 14 with value: 0.6996037439718117.\u001b[0m\n",
      "\u001b[32m[I 2023-10-05 22:38:25,987]\u001b[0m Trial 18 finished with value: 0.5797801761743611 and parameters: {'max_depth': 4, 'min_samples_split': 0.10630439856345564, 'min_samples_leaf': 0.4386978933633572}. Best is trial 14 with value: 0.6996037439718117.\u001b[0m\n",
      "\u001b[32m[I 2023-10-05 22:38:26,051]\u001b[0m Trial 19 finished with value: 0.584391574371049 and parameters: {'max_depth': 2, 'min_samples_split': 0.38605923113490065, 'min_samples_leaf': 0.34956167756265377}. Best is trial 14 with value: 0.6996037439718117.\u001b[0m\n",
      "\u001b[32m[I 2023-10-05 22:38:26,103]\u001b[0m Trial 20 finished with value: 0.6958831433605701 and parameters: {'max_depth': 4, 'min_samples_split': 0.21924188115559345, 'min_samples_leaf': 0.30399315233619384}. Best is trial 14 with value: 0.6996037439718117.\u001b[0m\n",
      "\u001b[32m[I 2023-10-05 22:38:26,154]\u001b[0m Trial 21 finished with value: 0.6958831433605701 and parameters: {'max_depth': 4, 'min_samples_split': 0.2002502316749224, 'min_samples_leaf': 0.3009006715580204}. Best is trial 14 with value: 0.6996037439718117.\u001b[0m\n",
      "\u001b[32m[I 2023-10-05 22:38:26,208]\u001b[0m Trial 22 finished with value: 0.6960798079294814 and parameters: {'max_depth': 4, 'min_samples_split': 0.4492986527840518, 'min_samples_leaf': 0.29463246800552756}. Best is trial 14 with value: 0.6996037439718117.\u001b[0m\n",
      "\u001b[32m[I 2023-10-05 22:38:26,263]\u001b[0m Trial 23 finished with value: 0.6874300738598168 and parameters: {'max_depth': 6, 'min_samples_split': 0.4075221124944688, 'min_samples_leaf': 0.1938666750252659}. Best is trial 14 with value: 0.6996037439718117.\u001b[0m\n",
      "\u001b[32m[I 2023-10-05 22:38:26,323]\u001b[0m Trial 24 finished with value: 0.6772664044316496 and parameters: {'max_depth': 4, 'min_samples_split': 0.45510855834380204, 'min_samples_leaf': 0.10214304962816523}. Best is trial 14 with value: 0.6996037439718117.\u001b[0m\n",
      "\u001b[32m[I 2023-10-05 22:38:26,369]\u001b[0m Trial 25 finished with value: 0.5762044398681251 and parameters: {'max_depth': 5, 'min_samples_split': 0.3022129123637074, 'min_samples_leaf': 0.33931266969561896}. Best is trial 14 with value: 0.6996037439718117.\u001b[0m\n",
      "\u001b[32m[I 2023-10-05 22:38:26,425]\u001b[0m Trial 26 finished with value: 0.6960798079294814 and parameters: {'max_depth': 3, 'min_samples_split': 0.6007563965151222, 'min_samples_leaf': 0.28232205028735213}. Best is trial 14 with value: 0.6996037439718117.\u001b[0m\n"
     ]
    },
    {
     "name": "stderr",
     "output_type": "stream",
     "text": [
      "\u001b[32m[I 2023-10-05 22:38:26,575]\u001b[0m A new study created in memory with name: no-name-c193c63a-f64d-4078-a146-7e507f287cf7\u001b[0m\n"
     ]
    },
    {
     "name": "stdout",
     "output_type": "stream",
     "text": [
      "\u001b[32m[I 2023-10-05 22:38:26,470]\u001b[0m Trial 27 finished with value: 0.5490889240673335 and parameters: {'max_depth': 2, 'min_samples_split': 0.7880238419923319, 'min_samples_leaf': 0.2809764442503737}. Best is trial 14 with value: 0.6996037439718117.\u001b[0m\n",
      "\u001b[32m[I 2023-10-05 22:38:26,518]\u001b[0m Trial 28 finished with value: 0.584391574371049 and parameters: {'max_depth': 4, 'min_samples_split': 0.5093057686019378, 'min_samples_leaf': 0.37333081524957523}. Best is trial 14 with value: 0.6996037439718117.\u001b[0m\n",
      "\u001b[32m[I 2023-10-05 22:38:26,561]\u001b[0m Trial 29 finished with value: 0.5806546997658167 and parameters: {'max_depth': 3, 'min_samples_split': 0.743084246571131, 'min_samples_leaf': 0.453414273980645}. Best is trial 14 with value: 0.6996037439718117.\u001b[0m\n",
      "Test Accuracy: 52.08\n",
      "Precision: 31.27\n",
      "Recall: 74.14\n",
      "F1-score: 43.99\n",
      "AUROC: 59.36\n"
     ]
    },
    {
     "data": {
      "application/vnd.jupyter.widget-view+json": {
       "model_id": "ae04e37e7a5a42ca9c31cbd320fcc5bd",
       "version_major": 2,
       "version_minor": 0
      },
      "text/plain": [
       "  0%|          | 0/30 [00:00<?, ?it/s]"
      ]
     },
     "metadata": {},
     "output_type": "display_data"
    },
    {
     "name": "stdout",
     "output_type": "stream",
     "text": [
      "\u001b[32m[I 2023-10-05 22:38:26,643]\u001b[0m Trial 0 finished with value: 0.5837557381609728 and parameters: {'max_depth': 6, 'min_samples_split': 0.6561525034814786, 'min_samples_leaf': 0.4663601731036794}. Best is trial 0 with value: 0.5837557381609728.\u001b[0m\n",
      "\u001b[32m[I 2023-10-05 22:38:26,707]\u001b[0m Trial 1 finished with value: 0.6772664044316496 and parameters: {'max_depth': 9, 'min_samples_split': 0.3680545988999795, 'min_samples_leaf': 0.11864677682554406}. Best is trial 1 with value: 0.6772664044316496.\u001b[0m\n",
      "\u001b[32m[I 2023-10-05 22:38:26,762]\u001b[0m Trial 2 finished with value: 0.5490889240673335 and parameters: {'max_depth': 8, 'min_samples_split': 0.8059943309120744, 'min_samples_leaf': 0.2676131732753675}. Best is trial 1 with value: 0.6772664044316496.\u001b[0m\n",
      "\u001b[32m[I 2023-10-05 22:38:26,821]\u001b[0m Trial 3 finished with value: 0.691094365522628 and parameters: {'max_depth': 8, 'min_samples_split': 0.12893200797810436, 'min_samples_leaf': 0.231322131285297}. Best is trial 3 with value: 0.691094365522628.\u001b[0m\n",
      "\u001b[32m[I 2023-10-05 22:38:26,884]\u001b[0m Trial 4 finished with value: 0.5806546997658167 and parameters: {'max_depth': 6, 'min_samples_split': 0.9511659191966878, 'min_samples_leaf': 0.4617002911216902}. Best is trial 3 with value: 0.691094365522628.\u001b[0m\n",
      "\u001b[32m[I 2023-10-05 22:38:26,950]\u001b[0m Trial 5 finished with value: 0.6960798079294814 and parameters: {'max_depth': 8, 'min_samples_split': 0.42517852038319537, 'min_samples_leaf': 0.2966581749875833}. Best is trial 5 with value: 0.6960798079294814.\u001b[0m\n",
      "\u001b[32m[I 2023-10-05 22:38:26,989]\u001b[0m Trial 6 finished with value: 0.584391574371049 and parameters: {'max_depth': 3, 'min_samples_split': 0.8884882022830567, 'min_samples_leaf': 0.3614862856670662}. Best is trial 5 with value: 0.6960798079294814.\u001b[0m\n",
      "\u001b[32m[I 2023-10-05 22:38:27,026]\u001b[0m Trial 7 finished with value: 0.5797660815511708 and parameters: {'max_depth': 2, 'min_samples_split': 0.4719326781319775, 'min_samples_leaf': 0.40922628731122856}. Best is trial 5 with value: 0.6960798079294814.\u001b[0m\n",
      "\u001b[32m[I 2023-10-05 22:38:27,084]\u001b[0m Trial 8 finished with value: 0.6465399915873438 and parameters: {'max_depth': 7, 'min_samples_split': 0.267591445777905, 'min_samples_leaf': 0.10517163775777863}. Best is trial 5 with value: 0.6960798079294814.\u001b[0m\n",
      "\u001b[32m[I 2023-10-05 22:38:27,132]\u001b[0m Trial 9 finished with value: 0.6996037439718117 and parameters: {'max_depth': 6, 'min_samples_split': 0.47459491193545933, 'min_samples_leaf': 0.3119138379874905}. Best is trial 9 with value: 0.6996037439718117.\u001b[0m\n",
      "\u001b[32m[I 2023-10-05 22:38:27,186]\u001b[0m Trial 10 finished with value: 0.6874300738598168 and parameters: {'max_depth': 4, 'min_samples_split': 0.6617710949261656, 'min_samples_leaf': 0.19904221990004872}. Best is trial 9 with value: 0.6996037439718117.\u001b[0m\n",
      "\u001b[32m[I 2023-10-05 22:38:27,238]\u001b[0m Trial 11 finished with value: 0.6596198137691406 and parameters: {'max_depth': 10, 'min_samples_split': 0.5250977985734094, 'min_samples_leaf': 0.327472274340033}. Best is trial 9 with value: 0.6996037439718117.\u001b[0m\n",
      "\u001b[32m[I 2023-10-05 22:38:27,290]\u001b[0m Trial 12 finished with value: 0.6958831433605701 and parameters: {'max_depth': 5, 'min_samples_split': 0.28703326222022535, 'min_samples_leaf': 0.2981342795606497}. Best is trial 9 with value: 0.6996037439718117.\u001b[0m\n",
      "\u001b[32m[I 2023-10-05 22:38:27,337]\u001b[0m Trial 13 finished with value: 0.5837289762890961 and parameters: {'max_depth': 10, 'min_samples_split': 0.414510160904561, 'min_samples_leaf': 0.3838973790771717}. Best is trial 9 with value: 0.6996037439718117.\u001b[0m\n",
      "\u001b[32m[I 2023-10-05 22:38:27,391]\u001b[0m Trial 14 finished with value: 0.6874300738598168 and parameters: {'max_depth': 7, 'min_samples_split': 0.6383097411289337, 'min_samples_leaf': 0.19116187112808058}. Best is trial 9 with value: 0.6996037439718117.\u001b[0m\n",
      "\u001b[32m[I 2023-10-05 22:38:27,447]\u001b[0m Trial 15 finished with value: 0.6960798079294814 and parameters: {'max_depth': 5, 'min_samples_split': 0.12396837255819987, 'min_samples_leaf': 0.2662938921028165}. Best is trial 9 with value: 0.6996037439718117.\u001b[0m\n",
      "\u001b[32m[I 2023-10-05 22:38:27,493]\u001b[0m Trial 16 finished with value: 0.5997629922281085 and parameters: {'max_depth': 8, 'min_samples_split': 0.2828001524904642, 'min_samples_leaf': 0.32877101763351124}. Best is trial 9 with value: 0.6996037439718117.\u001b[0m\n",
      "\u001b[32m[I 2023-10-05 22:38:27,542]\u001b[0m Trial 17 finished with value: 0.5776750441244446 and parameters: {'max_depth': 7, 'min_samples_split': 0.5779148314851218, 'min_samples_leaf': 0.4197195752930556}. Best is trial 9 with value: 0.6996037439718117.\u001b[0m\n",
      "\u001b[32m[I 2023-10-05 22:38:27,602]\u001b[0m Trial 18 finished with value: 0.6651107988173713 and parameters: {'max_depth': 4, 'min_samples_split': 0.12558680637465264, 'min_samples_leaf': 0.1599295410042524}. Best is trial 9 with value: 0.6996037439718117.\u001b[0m\n",
      "\u001b[32m[I 2023-10-05 22:38:27,658]\u001b[0m Trial 19 finished with value: 0.6941559188581098 and parameters: {'max_depth': 5, 'min_samples_split': 0.20662489983765547, 'min_samples_leaf': 0.24574941496615132}. Best is trial 9 with value: 0.6996037439718117.\u001b[0m\n",
      "\u001b[32m[I 2023-10-05 22:38:27,702]\u001b[0m Trial 20 finished with value: 0.584391574371049 and parameters: {'max_depth': 5, 'min_samples_split': 0.7470817455798712, 'min_samples_leaf': 0.34408054444601127}. Best is trial 9 with value: 0.6996037439718117.\u001b[0m\n",
      "\u001b[32m[I 2023-10-05 22:38:27,757]\u001b[0m Trial 21 finished with value: 0.6960798079294814 and parameters: {'max_depth': 6, 'min_samples_split': 0.4295057487995554, 'min_samples_leaf': 0.2897555666849536}. Best is trial 9 with value: 0.6996037439718117.\u001b[0m\n",
      "\u001b[32m[I 2023-10-05 22:38:27,811]\u001b[0m Trial 22 finished with value: 0.6960798079294814 and parameters: {'max_depth': 4, 'min_samples_split': 0.3464188541539591, 'min_samples_leaf': 0.2686845239585971}. Best is trial 9 with value: 0.6996037439718117.\u001b[0m\n",
      "\u001b[32m[I 2023-10-05 22:38:27,880]\u001b[0m Trial 23 finished with value: 0.691094365522628 and parameters: {'max_depth': 2, 'min_samples_split': 0.3565609225261905, 'min_samples_leaf': 0.2166042100740937}. Best is trial 9 with value: 0.6996037439718117.\u001b[0m\n",
      "\u001b[32m[I 2023-10-05 22:38:27,947]\u001b[0m Trial 24 finished with value: 0.6960798079294814 and parameters: {'max_depth': 9, 'min_samples_split': 0.4664910583166792, 'min_samples_leaf': 0.28772559861393515}. Best is trial 9 with value: 0.6996037439718117.\u001b[0m\n",
      "\u001b[32m[I 2023-10-05 22:38:28,023]\u001b[0m Trial 25 finished with value: 0.6941559188581098 and parameters: {'max_depth': 3, 'min_samples_split': 0.5191200467373812, 'min_samples_leaf': 0.25769869588391514}. Best is trial 9 with value: 0.6996037439718117.\u001b[0m\n",
      "\u001b[32m[I 2023-10-05 22:38:28,072]\u001b[0m Trial 26 finished with value: 0.6998217096304384 and parameters: {'max_depth': 4, 'min_samples_split': 0.3464559533936997, 'min_samples_leaf': 0.3239697641538084}. Best is trial 26 with value: 0.6998217096304384.\u001b[0m\n",
      "\u001b[32m[I 2023-10-05 22:38:28,120]\u001b[0m Trial 27 finished with value: 0.584391574371049 and parameters: {'max_depth': 3, 'min_samples_split': 0.19691562600509174, 'min_samples_leaf': 0.37306773602319143}. Best is trial 26 with value: 0.6998217096304384.\u001b[0m\n",
      "\u001b[32m[I 2023-10-05 22:38:28,169]\u001b[0m Trial 28 finished with value: 0.7022309976350279 and parameters: {'max_depth': 6, 'min_samples_split': 0.5925524199014334, 'min_samples_leaf': 0.3218757830287827}. Best is trial 28 with value: 0.7022309976350279.\u001b[0m\n",
      "\u001b[32m[I 2023-10-05 22:38:28,210]\u001b[0m Trial 29 finished with value: 0.5933523076855987 and parameters: {'max_depth': 6, 'min_samples_split': 0.5858145347135693, 'min_samples_leaf': 0.4957735602913673}. Best is trial 28 with value: 0.7022309976350279.\u001b[0m\n"
     ]
    },
    {
     "name": "stderr",
     "output_type": "stream",
     "text": [
      "\u001b[32m[I 2023-10-05 22:38:28,225]\u001b[0m A new study created in memory with name: no-name-a514eadb-3aad-43d6-8342-2836a371081f\u001b[0m\n"
     ]
    },
    {
     "name": "stdout",
     "output_type": "stream",
     "text": [
      "Test Accuracy: 51.2\n",
      "Precision: 31.1\n",
      "Recall: 75.86\n",
      "F1-score: 44.11\n",
      "AUROC: 59.34\n"
     ]
    },
    {
     "data": {
      "application/vnd.jupyter.widget-view+json": {
       "model_id": "8c4013995a4c4428bd049de93cbbd87b",
       "version_major": 2,
       "version_minor": 0
      },
      "text/plain": [
       "  0%|          | 0/30 [00:00<?, ?it/s]"
      ]
     },
     "metadata": {},
     "output_type": "display_data"
    },
    {
     "name": "stdout",
     "output_type": "stream",
     "text": [
      "\u001b[32m[I 2023-10-05 22:38:28,288]\u001b[0m Trial 0 finished with value: 0.5490889240673335 and parameters: {'max_depth': 8, 'min_samples_split': 0.9603714487931281, 'min_samples_leaf': 0.22655545446738096}. Best is trial 0 with value: 0.5490889240673335.\u001b[0m\n",
      "\u001b[32m[I 2023-10-05 22:38:28,320]\u001b[0m Trial 1 finished with value: 0.584391574371049 and parameters: {'max_depth': 2, 'min_samples_split': 0.8292994183669711, 'min_samples_leaf': 0.34147747770761777}. Best is trial 1 with value: 0.584391574371049.\u001b[0m\n",
      "\u001b[32m[I 2023-10-05 22:38:28,360]\u001b[0m Trial 2 finished with value: 0.691094365522628 and parameters: {'max_depth': 6, 'min_samples_split': 0.2079074241027713, 'min_samples_leaf': 0.23264646837138747}. Best is trial 2 with value: 0.691094365522628.\u001b[0m\n",
      "\u001b[32m[I 2023-10-05 22:38:28,402]\u001b[0m Trial 3 finished with value: 0.6772664044316496 and parameters: {'max_depth': 8, 'min_samples_split': 0.605095821098356, 'min_samples_leaf': 0.145233475325393}. Best is trial 2 with value: 0.691094365522628.\u001b[0m\n",
      "\u001b[32m[I 2023-10-05 22:38:28,444]\u001b[0m Trial 4 finished with value: 0.6960798079294814 and parameters: {'max_depth': 2, 'min_samples_split': 0.4001344408953996, 'min_samples_leaf': 0.284108448014623}. Best is trial 4 with value: 0.6960798079294814.\u001b[0m\n",
      "\u001b[32m[I 2023-10-05 22:38:28,503]\u001b[0m Trial 5 finished with value: 0.6941559188581098 and parameters: {'max_depth': 8, 'min_samples_split': 0.3351417673006819, 'min_samples_leaf': 0.25802953422497266}. Best is trial 4 with value: 0.6960798079294814.\u001b[0m\n",
      "\u001b[32m[I 2023-10-05 22:38:28,549]\u001b[0m Trial 6 finished with value: 0.691094365522628 and parameters: {'max_depth': 3, 'min_samples_split': 0.6565902619100307, 'min_samples_leaf': 0.2193421202150582}. Best is trial 4 with value: 0.6960798079294814.\u001b[0m\n",
      "\u001b[32m[I 2023-10-05 22:38:28,637]\u001b[0m Trial 7 finished with value: 0.5490889240673335 and parameters: {'max_depth': 3, 'min_samples_split': 0.9937049385956273, 'min_samples_leaf': 0.11330877134398004}. Best is trial 4 with value: 0.6960798079294814.\u001b[0m\n",
      "\u001b[32m[I 2023-10-05 22:38:28,701]\u001b[0m Trial 8 finished with value: 0.584391574371049 and parameters: {'max_depth': 4, 'min_samples_split': 0.16891784652013164, 'min_samples_leaf': 0.36528465422428946}. Best is trial 4 with value: 0.6960798079294814.\u001b[0m\n",
      "\u001b[32m[I 2023-10-05 22:38:28,753]\u001b[0m Trial 9 finished with value: 0.6772664044316496 and parameters: {'max_depth': 8, 'min_samples_split': 0.46716736840325535, 'min_samples_leaf': 0.18654557342068168}. Best is trial 4 with value: 0.6960798079294814.\u001b[0m\n",
      "\u001b[32m[I 2023-10-05 22:38:28,800]\u001b[0m Trial 10 finished with value: 0.5970354967841452 and parameters: {'max_depth': 5, 'min_samples_split': 0.36947305983617446, 'min_samples_leaf': 0.4717735464914589}. Best is trial 4 with value: 0.6960798079294814.\u001b[0m\n",
      "\u001b[32m[I 2023-10-05 22:38:28,870]\u001b[0m Trial 11 finished with value: 0.6958831433605701 and parameters: {'max_depth': 10, 'min_samples_split': 0.31374758123303836, 'min_samples_leaf': 0.30528984344391835}. Best is trial 4 with value: 0.6960798079294814.\u001b[0m\n",
      "\u001b[32m[I 2023-10-05 22:38:28,921]\u001b[0m Trial 12 finished with value: 0.5788870505632289 and parameters: {'max_depth': 10, 'min_samples_split': 0.28402320931917446, 'min_samples_leaf': 0.41563732021267674}. Best is trial 4 with value: 0.6960798079294814.\u001b[0m\n",
      "\u001b[32m[I 2023-10-05 22:38:28,974]\u001b[0m Trial 13 finished with value: 0.6996037439718117 and parameters: {'max_depth': 10, 'min_samples_split': 0.48706395930765517, 'min_samples_leaf': 0.30592720623015834}. Best is trial 13 with value: 0.6996037439718117.\u001b[0m\n",
      "\u001b[32m[I 2023-10-05 22:38:29,031]\u001b[0m Trial 14 finished with value: 0.6960798079294814 and parameters: {'max_depth': 6, 'min_samples_split': 0.5042674904921783, 'min_samples_leaf': 0.29476898587673805}. Best is trial 13 with value: 0.6996037439718117.\u001b[0m\n",
      "\u001b[32m[I 2023-10-05 22:38:29,077]\u001b[0m Trial 15 finished with value: 0.5792374088956895 and parameters: {'max_depth': 10, 'min_samples_split': 0.734066159782837, 'min_samples_leaf': 0.39757897768489714}. Best is trial 13 with value: 0.6996037439718117.\u001b[0m\n",
      "\u001b[32m[I 2023-10-05 22:38:29,135]\u001b[0m Trial 16 finished with value: 0.6960798079294814 and parameters: {'max_depth': 2, 'min_samples_split': 0.48466735674809897, 'min_samples_leaf': 0.2953259057317725}. Best is trial 13 with value: 0.6996037439718117.\u001b[0m\n",
      "\u001b[32m[I 2023-10-05 22:38:29,181]\u001b[0m Trial 17 finished with value: 0.584391574371049 and parameters: {'max_depth': 7, 'min_samples_split': 0.5433286927947776, 'min_samples_leaf': 0.34259091495177696}. Best is trial 13 with value: 0.6996037439718117.\u001b[0m\n",
      "\u001b[32m[I 2023-10-05 22:38:29,232]\u001b[0m Trial 18 finished with value: 0.5806546997658167 and parameters: {'max_depth': 6, 'min_samples_split': 0.7332558307182875, 'min_samples_leaf': 0.46260733851139846}. Best is trial 13 with value: 0.6996037439718117.\u001b[0m\n",
      "\u001b[32m[I 2023-10-05 22:38:29,301]\u001b[0m Trial 19 finished with value: 0.6960798079294814 and parameters: {'max_depth': 9, 'min_samples_split': 0.10399300505223502, 'min_samples_leaf': 0.2792424456086449}. Best is trial 13 with value: 0.6996037439718117.\u001b[0m\n",
      "\u001b[32m[I 2023-10-05 22:38:29,413]\u001b[0m Trial 20 finished with value: 0.6772664044316496 and parameters: {'max_depth': 9, 'min_samples_split': 0.1506488916980273, 'min_samples_leaf': 0.16652091729512616}. Best is trial 13 with value: 0.6996037439718117.\u001b[0m\n",
      "\u001b[32m[I 2023-10-05 22:38:29,468]\u001b[0m Trial 21 finished with value: 0.7016562849913498 and parameters: {'max_depth': 2, 'min_samples_split': 0.443145412847624, 'min_samples_leaf': 0.3173802083246329}. Best is trial 21 with value: 0.7016562849913498.\u001b[0m\n",
      "\u001b[32m[I 2023-10-05 22:38:29,519]\u001b[0m Trial 22 finished with value: 0.5762044398681251 and parameters: {'max_depth': 9, 'min_samples_split': 0.2374959153337075, 'min_samples_leaf': 0.33168848893267555}. Best is trial 21 with value: 0.7016562849913498.\u001b[0m\n",
      "\u001b[32m[I 2023-10-05 22:38:29,565]\u001b[0m Trial 23 finished with value: 0.5837289762890961 and parameters: {'max_depth': 9, 'min_samples_split': 0.10282805714756234, 'min_samples_leaf': 0.38104258916714795}. Best is trial 21 with value: 0.7016562849913498.\u001b[0m\n",
      "\u001b[32m[I 2023-10-05 22:38:29,620]\u001b[0m Trial 24 finished with value: 0.7016562849913498 and parameters: {'max_depth': 3, 'min_samples_split': 0.4354955738923783, 'min_samples_leaf': 0.3177306160202187}. Best is trial 21 with value: 0.7016562849913498.\u001b[0m\n",
      "\u001b[32m[I 2023-10-05 22:38:29,670]\u001b[0m Trial 25 finished with value: 0.5797801761743611 and parameters: {'max_depth': 4, 'min_samples_split': 0.42443151715993216, 'min_samples_leaf': 0.4355406141337199}. Best is trial 21 with value: 0.7016562849913498.\u001b[0m\n",
      "\u001b[32m[I 2023-10-05 22:38:29,724]\u001b[0m Trial 26 finished with value: 0.6941559188581098 and parameters: {'max_depth': 3, 'min_samples_split': 0.587761466093703, 'min_samples_leaf': 0.2551829732499228}. Best is trial 21 with value: 0.7016562849913498.\u001b[0m\n",
      "\u001b[32m[I 2023-10-05 22:38:29,788]\u001b[0m Trial 27 finished with value: 0.5762044398681251 and parameters: {'max_depth': 4, 'min_samples_split': 0.4194089270566944, 'min_samples_leaf': 0.3361696227497073}. Best is trial 21 with value: 0.7016562849913498.\u001b[0m\n"
     ]
    },
    {
     "name": "stderr",
     "output_type": "stream",
     "text": [
      "\u001b[32m[I 2023-10-05 22:38:29,915]\u001b[0m A new study created in memory with name: no-name-483b6f46-d265-4a9d-b40d-eca53de126fe\u001b[0m\n"
     ]
    },
    {
     "name": "stdout",
     "output_type": "stream",
     "text": [
      "\u001b[32m[I 2023-10-05 22:38:29,835]\u001b[0m Trial 28 finished with value: 0.584391574371049 and parameters: {'max_depth': 5, 'min_samples_split': 0.6740761303931618, 'min_samples_leaf': 0.36911344608756247}. Best is trial 21 with value: 0.7016562849913498.\u001b[0m\n",
      "\u001b[32m[I 2023-10-05 22:38:29,894]\u001b[0m Trial 29 finished with value: 0.7016562849913498 and parameters: {'max_depth': 3, 'min_samples_split': 0.5502164203141511, 'min_samples_leaf': 0.31818209313051454}. Best is trial 21 with value: 0.7016562849913498.\u001b[0m\n",
      "Test Accuracy: 52.08\n",
      "Precision: 31.27\n",
      "Recall: 74.14\n",
      "F1-score: 43.99\n",
      "AUROC: 59.36\n"
     ]
    },
    {
     "data": {
      "application/vnd.jupyter.widget-view+json": {
       "model_id": "fc41bd36f2e54487bfc2c9c76f75189f",
       "version_major": 2,
       "version_minor": 0
      },
      "text/plain": [
       "  0%|          | 0/30 [00:00<?, ?it/s]"
      ]
     },
     "metadata": {},
     "output_type": "display_data"
    },
    {
     "name": "stdout",
     "output_type": "stream",
     "text": [
      "\u001b[32m[I 2023-10-05 22:38:30,000]\u001b[0m Trial 0 finished with value: 0.5490889240673335 and parameters: {'max_depth': 2, 'min_samples_split': 0.8727327065387647, 'min_samples_leaf': 0.20291568605643714}. Best is trial 0 with value: 0.5490889240673335.\u001b[0m\n",
      "\u001b[32m[I 2023-10-05 22:38:30,038]\u001b[0m Trial 1 finished with value: 0.584391574371049 and parameters: {'max_depth': 2, 'min_samples_split': 0.9468894375748714, 'min_samples_leaf': 0.34589496239863987}. Best is trial 1 with value: 0.584391574371049.\u001b[0m\n",
      "\u001b[32m[I 2023-10-05 22:38:30,080]\u001b[0m Trial 2 finished with value: 0.5797660815511708 and parameters: {'max_depth': 8, 'min_samples_split': 0.7223597525844594, 'min_samples_leaf': 0.4091312815146724}. Best is trial 1 with value: 0.584391574371049.\u001b[0m\n",
      "\u001b[32m[I 2023-10-05 22:38:30,118]\u001b[0m Trial 3 finished with value: 0.5811506599901902 and parameters: {'max_depth': 3, 'min_samples_split': 0.2102127624328049, 'min_samples_leaf': 0.4011370430547673}. Best is trial 1 with value: 0.584391574371049.\u001b[0m\n",
      "\u001b[32m[I 2023-10-05 22:38:30,171]\u001b[0m Trial 4 finished with value: 0.6772664044316496 and parameters: {'max_depth': 6, 'min_samples_split': 0.11031109888847841, 'min_samples_leaf': 0.16836452286475584}. Best is trial 4 with value: 0.6772664044316496.\u001b[0m\n",
      "\u001b[32m[I 2023-10-05 22:38:30,212]\u001b[0m Trial 5 finished with value: 0.5837289762890961 and parameters: {'max_depth': 9, 'min_samples_split': 0.7438862518232052, 'min_samples_leaf': 0.38179390299624316}. Best is trial 4 with value: 0.6772664044316496.\u001b[0m\n",
      "\u001b[32m[I 2023-10-05 22:38:30,248]\u001b[0m Trial 6 finished with value: 0.5806546997658167 and parameters: {'max_depth': 5, 'min_samples_split': 0.48799518619108373, 'min_samples_leaf': 0.45572575723898157}. Best is trial 4 with value: 0.6772664044316496.\u001b[0m\n",
      "\u001b[32m[I 2023-10-05 22:38:30,284]\u001b[0m Trial 7 finished with value: 0.5806546997658167 and parameters: {'max_depth': 8, 'min_samples_split': 0.25032172586654633, 'min_samples_leaf': 0.44884493912493106}. Best is trial 4 with value: 0.6772664044316496.\u001b[0m\n",
      "\u001b[32m[I 2023-10-05 22:38:30,348]\u001b[0m Trial 8 finished with value: 0.6772664044316496 and parameters: {'max_depth': 3, 'min_samples_split': 0.6358862161430234, 'min_samples_leaf': 0.10925485866918808}. Best is trial 4 with value: 0.6772664044316496.\u001b[0m\n",
      "\u001b[32m[I 2023-10-05 22:38:30,392]\u001b[0m Trial 9 finished with value: 0.6941559188581098 and parameters: {'max_depth': 6, 'min_samples_split': 0.12042360649707237, 'min_samples_leaf': 0.25022448105394857}. Best is trial 9 with value: 0.6941559188581098.\u001b[0m\n",
      "\u001b[32m[I 2023-10-05 22:38:30,444]\u001b[0m Trial 10 finished with value: 0.6941559188581098 and parameters: {'max_depth': 6, 'min_samples_split': 0.43093037111882593, 'min_samples_leaf': 0.25639667655467185}. Best is trial 9 with value: 0.6941559188581098.\u001b[0m\n",
      "\u001b[32m[I 2023-10-05 22:38:30,516]\u001b[0m Trial 11 finished with value: 0.6921757208383078 and parameters: {'max_depth': 6, 'min_samples_split': 0.4075987591389242, 'min_samples_leaf': 0.26422296392354466}. Best is trial 9 with value: 0.6941559188581098.\u001b[0m\n",
      "\u001b[32m[I 2023-10-05 22:38:30,581]\u001b[0m Trial 12 finished with value: 0.6960798079294814 and parameters: {'max_depth': 5, 'min_samples_split': 0.35146050327755024, 'min_samples_leaf': 0.2697572939698972}. Best is trial 12 with value: 0.6960798079294814.\u001b[0m\n",
      "\u001b[32m[I 2023-10-05 22:38:30,633]\u001b[0m Trial 13 finished with value: 0.7016562849913498 and parameters: {'max_depth': 4, 'min_samples_split': 0.27279795809500673, 'min_samples_leaf': 0.31843150828610406}. Best is trial 13 with value: 0.7016562849913498.\u001b[0m\n",
      "\u001b[32m[I 2023-10-05 22:38:30,706]\u001b[0m Trial 14 finished with value: 0.7022309976350279 and parameters: {'max_depth': 4, 'min_samples_split': 0.32426616990259766, 'min_samples_leaf': 0.31967107253469174}. Best is trial 14 with value: 0.7022309976350279.\u001b[0m\n",
      "\u001b[32m[I 2023-10-05 22:38:30,757]\u001b[0m Trial 15 finished with value: 0.6739331316118702 and parameters: {'max_depth': 4, 'min_samples_split': 0.2909550617388455, 'min_samples_leaf': 0.3273207003970399}. Best is trial 14 with value: 0.7022309976350279.\u001b[0m\n",
      "\u001b[32m[I 2023-10-05 22:38:30,830]\u001b[0m Trial 16 finished with value: 0.7022309976350279 and parameters: {'max_depth': 4, 'min_samples_split': 0.5738140895698947, 'min_samples_leaf': 0.32051360122464934}. Best is trial 14 with value: 0.7022309976350279.\u001b[0m\n",
      "\u001b[32m[I 2023-10-05 22:38:30,876]\u001b[0m Trial 17 finished with value: 0.584391574371049 and parameters: {'max_depth': 4, 'min_samples_split': 0.5837537085764307, 'min_samples_leaf': 0.3557935578454203}. Best is trial 14 with value: 0.7022309976350279.\u001b[0m\n",
      "\u001b[32m[I 2023-10-05 22:38:30,967]\u001b[0m Trial 18 finished with value: 0.6874300738598168 and parameters: {'max_depth': 3, 'min_samples_split': 0.5128552429154741, 'min_samples_leaf': 0.20580796172502763}. Best is trial 14 with value: 0.7022309976350279.\u001b[0m\n",
      "\u001b[32m[I 2023-10-05 22:38:31,013]\u001b[0m Trial 19 finished with value: 0.6064050296180776 and parameters: {'max_depth': 5, 'min_samples_split': 0.6730490726379499, 'min_samples_leaf': 0.49900822577134485}. Best is trial 14 with value: 0.7022309976350279.\u001b[0m\n",
      "\u001b[32m[I 2023-10-05 22:38:31,063]\u001b[0m Trial 20 finished with value: 0.5490889240673335 and parameters: {'max_depth': 7, 'min_samples_split': 0.8152121412974309, 'min_samples_leaf': 0.2975392383311212}. Best is trial 14 with value: 0.7022309976350279.\u001b[0m\n",
      "\u001b[32m[I 2023-10-05 22:38:31,117]\u001b[0m Trial 21 finished with value: 0.6996037439718117 and parameters: {'max_depth': 4, 'min_samples_split': 0.1803271737403946, 'min_samples_leaf': 0.3087804271885008}. Best is trial 14 with value: 0.7022309976350279.\u001b[0m\n",
      "\u001b[32m[I 2023-10-05 22:38:31,167]\u001b[0m Trial 22 finished with value: 0.584391574371049 and parameters: {'max_depth': 4, 'min_samples_split': 0.3240002818556935, 'min_samples_leaf': 0.37276158718062485}. Best is trial 14 with value: 0.7022309976350279.\u001b[0m\n",
      "\u001b[32m[I 2023-10-05 22:38:31,227]\u001b[0m Trial 23 finished with value: 0.6958831433605701 and parameters: {'max_depth': 3, 'min_samples_split': 0.40597339444158387, 'min_samples_leaf': 0.29843093424520367}. Best is trial 14 with value: 0.7022309976350279.\u001b[0m\n",
      "\u001b[32m[I 2023-10-05 22:38:31,280]\u001b[0m Trial 24 finished with value: 0.6596198137691406 and parameters: {'max_depth': 2, 'min_samples_split': 0.47545250412998086, 'min_samples_leaf': 0.3280263964315139}. Best is trial 14 with value: 0.7022309976350279.\u001b[0m\n",
      "\u001b[32m[I 2023-10-05 22:38:31,348]\u001b[0m Trial 25 finished with value: 0.691094365522628 and parameters: {'max_depth': 5, 'min_samples_split': 0.5589623095764049, 'min_samples_leaf': 0.2183773616231796}. Best is trial 14 with value: 0.7022309976350279.\u001b[0m\n",
      "\u001b[32m[I 2023-10-05 22:38:31,396]\u001b[0m Trial 26 finished with value: 0.580965397940465 and parameters: {'max_depth': 4, 'min_samples_split': 0.3537194998905993, 'min_samples_leaf': 0.42571120152202724}. Best is trial 14 with value: 0.7022309976350279.\u001b[0m\n"
     ]
    },
    {
     "name": "stderr",
     "output_type": "stream",
     "text": [
      "\u001b[32m[I 2023-10-05 22:38:31,622]\u001b[0m A new study created in memory with name: no-name-c99fef89-de05-4d2f-88cb-95e297ac25b9\u001b[0m\n"
     ]
    },
    {
     "name": "stdout",
     "output_type": "stream",
     "text": [
      "\u001b[32m[I 2023-10-05 22:38:31,465]\u001b[0m Trial 27 finished with value: 0.6958831433605701 and parameters: {'max_depth': 3, 'min_samples_split': 0.17620901425481356, 'min_samples_leaf': 0.29845681040018474}. Best is trial 14 with value: 0.7022309976350279.\u001b[0m\n",
      "\u001b[32m[I 2023-10-05 22:38:31,537]\u001b[0m Trial 28 finished with value: 0.584391574371049 and parameters: {'max_depth': 5, 'min_samples_split': 0.2731430375624812, 'min_samples_leaf': 0.3680559631108124}. Best is trial 14 with value: 0.7022309976350279.\u001b[0m\n",
      "\u001b[32m[I 2023-10-05 22:38:31,592]\u001b[0m Trial 29 finished with value: 0.6772664044316496 and parameters: {'max_depth': 2, 'min_samples_split': 0.6044746681718641, 'min_samples_leaf': 0.17113605606723642}. Best is trial 14 with value: 0.7022309976350279.\u001b[0m\n",
      "Test Accuracy: 51.42\n",
      "Precision: 31.21\n",
      "Recall: 75.86\n",
      "F1-score: 44.22\n",
      "AUROC: 59.49\n"
     ]
    },
    {
     "data": {
      "application/vnd.jupyter.widget-view+json": {
       "model_id": "c4a1e26d0f1241a08f3d0c8a3de9ea62",
       "version_major": 2,
       "version_minor": 0
      },
      "text/plain": [
       "  0%|          | 0/30 [00:00<?, ?it/s]"
      ]
     },
     "metadata": {},
     "output_type": "display_data"
    },
    {
     "name": "stdout",
     "output_type": "stream",
     "text": [
      "\u001b[32m[I 2023-10-05 22:38:31,692]\u001b[0m Trial 0 finished with value: 0.5490889240673335 and parameters: {'max_depth': 9, 'min_samples_split': 0.7676723457585413, 'min_samples_leaf': 0.20157946008783723}. Best is trial 0 with value: 0.5490889240673335.\u001b[0m\n",
      "\u001b[32m[I 2023-10-05 22:38:31,741]\u001b[0m Trial 1 finished with value: 0.691094365522628 and parameters: {'max_depth': 8, 'min_samples_split': 0.34510849307864344, 'min_samples_leaf': 0.23444153545388133}. Best is trial 1 with value: 0.691094365522628.\u001b[0m\n",
      "\u001b[32m[I 2023-10-05 22:38:31,782]\u001b[0m Trial 2 finished with value: 0.5806546997658167 and parameters: {'max_depth': 8, 'min_samples_split': 0.8627276949739419, 'min_samples_leaf': 0.4495773770087562}. Best is trial 1 with value: 0.691094365522628.\u001b[0m\n",
      "\u001b[32m[I 2023-10-05 22:38:31,820]\u001b[0m Trial 3 finished with value: 0.5490889240673335 and parameters: {'max_depth': 10, 'min_samples_split': 0.9657214392388425, 'min_samples_leaf': 0.18486557632198175}. Best is trial 1 with value: 0.691094365522628.\u001b[0m\n",
      "\u001b[32m[I 2023-10-05 22:38:31,883]\u001b[0m Trial 4 finished with value: 0.6960798079294814 and parameters: {'max_depth': 5, 'min_samples_split': 0.5300442088381354, 'min_samples_leaf': 0.2973359979455572}. Best is trial 4 with value: 0.6960798079294814.\u001b[0m\n",
      "\u001b[32m[I 2023-10-05 22:38:31,938]\u001b[0m Trial 5 finished with value: 0.584391574371049 and parameters: {'max_depth': 4, 'min_samples_split': 0.6105891827445533, 'min_samples_leaf': 0.3430648996744363}. Best is trial 4 with value: 0.6960798079294814.\u001b[0m\n",
      "\u001b[32m[I 2023-10-05 22:38:31,992]\u001b[0m Trial 6 finished with value: 0.5791415383314512 and parameters: {'max_depth': 2, 'min_samples_split': 0.9324909920323997, 'min_samples_leaf': 0.4106949939618155}. Best is trial 4 with value: 0.6960798079294814.\u001b[0m\n",
      "\u001b[32m[I 2023-10-05 22:38:32,049]\u001b[0m Trial 7 finished with value: 0.5490889240673335 and parameters: {'max_depth': 9, 'min_samples_split': 0.6983840689081938, 'min_samples_leaf': 0.11858845765068421}. Best is trial 4 with value: 0.6960798079294814.\u001b[0m\n",
      "\u001b[32m[I 2023-10-05 22:38:32,086]\u001b[0m Trial 8 finished with value: 0.5490889240673335 and parameters: {'max_depth': 7, 'min_samples_split': 0.8533739146310461, 'min_samples_leaf': 0.20925431177532774}. Best is trial 4 with value: 0.6960798079294814.\u001b[0m\n",
      "\u001b[32m[I 2023-10-05 22:38:32,124]\u001b[0m Trial 9 finished with value: 0.5797801761743611 and parameters: {'max_depth': 2, 'min_samples_split': 0.8328943135522641, 'min_samples_leaf': 0.43784419787202167}. Best is trial 4 with value: 0.6960798079294814.\u001b[0m\n",
      "\u001b[32m[I 2023-10-05 22:38:32,171]\u001b[0m Trial 10 finished with value: 0.5762044398681251 and parameters: {'max_depth': 5, 'min_samples_split': 0.36561200162318597, 'min_samples_leaf': 0.3308135444401987}. Best is trial 4 with value: 0.6960798079294814.\u001b[0m\n",
      "\u001b[32m[I 2023-10-05 22:38:32,223]\u001b[0m Trial 11 finished with value: 0.6960798079294814 and parameters: {'max_depth': 6, 'min_samples_split': 0.10591021445514279, 'min_samples_leaf': 0.2696590955807007}. Best is trial 4 with value: 0.6960798079294814.\u001b[0m\n",
      "\u001b[32m[I 2023-10-05 22:38:32,292]\u001b[0m Trial 12 finished with value: 0.6960798079294814 and parameters: {'max_depth': 5, 'min_samples_split': 0.11133899755771591, 'min_samples_leaf': 0.27212660178433073}. Best is trial 4 with value: 0.6960798079294814.\u001b[0m\n",
      "\u001b[32m[I 2023-10-05 22:38:32,345]\u001b[0m Trial 13 finished with value: 0.584391574371049 and parameters: {'max_depth': 4, 'min_samples_split': 0.12360511086508008, 'min_samples_leaf': 0.37675463247031227}. Best is trial 4 with value: 0.6960798079294814.\u001b[0m\n",
      "\u001b[32m[I 2023-10-05 22:38:32,396]\u001b[0m Trial 14 finished with value: 0.6960798079294814 and parameters: {'max_depth': 6, 'min_samples_split': 0.4318124990216021, 'min_samples_leaf': 0.2762505200672753}. Best is trial 4 with value: 0.6960798079294814.\u001b[0m\n",
      "\u001b[32m[I 2023-10-05 22:38:32,451]\u001b[0m Trial 15 finished with value: 0.6996037439718117 and parameters: {'max_depth': 6, 'min_samples_split': 0.23894684131810234, 'min_samples_leaf': 0.3062246820595638}. Best is trial 15 with value: 0.6996037439718117.\u001b[0m\n",
      "\u001b[32m[I 2023-10-05 22:38:32,513]\u001b[0m Trial 16 finished with value: 0.6503948737357939 and parameters: {'max_depth': 4, 'min_samples_split': 0.2502434533782326, 'min_samples_leaf': 0.1411354330593731}. Best is trial 15 with value: 0.6996037439718117.\u001b[0m\n",
      "\u001b[32m[I 2023-10-05 22:38:32,562]\u001b[0m Trial 17 finished with value: 0.584391574371049 and parameters: {'max_depth': 7, 'min_samples_split': 0.4265273864872156, 'min_samples_leaf': 0.3614478532494219}. Best is trial 15 with value: 0.6996037439718117.\u001b[0m\n",
      "\u001b[32m[I 2023-10-05 22:38:32,609]\u001b[0m Trial 18 finished with value: 0.5866342252950363 and parameters: {'max_depth': 3, 'min_samples_split': 0.5546866763877236, 'min_samples_leaf': 0.4955228379776365}. Best is trial 15 with value: 0.6996037439718117.\u001b[0m\n",
      "\u001b[32m[I 2023-10-05 22:38:32,663]\u001b[0m Trial 19 finished with value: 0.6958831433605701 and parameters: {'max_depth': 5, 'min_samples_split': 0.22451941212968654, 'min_samples_leaf': 0.30139251982930615}. Best is trial 15 with value: 0.6996037439718117.\u001b[0m\n",
      "\u001b[32m[I 2023-10-05 22:38:32,721]\u001b[0m Trial 20 finished with value: 0.7017920093521114 and parameters: {'max_depth': 7, 'min_samples_split': 0.4958303352167631, 'min_samples_leaf': 0.314694429662065}. Best is trial 20 with value: 0.7017920093521114.\u001b[0m\n",
      "\u001b[32m[I 2023-10-05 22:38:32,774]\u001b[0m Trial 21 finished with value: 0.6996037439718117 and parameters: {'max_depth': 7, 'min_samples_split': 0.5075676808365609, 'min_samples_leaf': 0.31242645218626364}. Best is trial 20 with value: 0.7017920093521114.\u001b[0m\n",
      "\u001b[32m[I 2023-10-05 22:38:32,831]\u001b[0m Trial 22 finished with value: 0.6998217096304384 and parameters: {'max_depth': 7, 'min_samples_split': 0.6484863663033242, 'min_samples_leaf': 0.3235343284806777}. Best is trial 20 with value: 0.7017920093521114.\u001b[0m\n",
      "\u001b[32m[I 2023-10-05 22:38:32,877]\u001b[0m Trial 23 finished with value: 0.5837289762890961 and parameters: {'max_depth': 8, 'min_samples_split': 0.6278144965954923, 'min_samples_leaf': 0.38774070855568493}. Best is trial 20 with value: 0.7017920093521114.\u001b[0m\n",
      "\u001b[32m[I 2023-10-05 22:38:32,926]\u001b[0m Trial 24 finished with value: 0.5762044398681251 and parameters: {'max_depth': 7, 'min_samples_split': 0.5042331196950364, 'min_samples_leaf': 0.33577796223486694}. Best is trial 20 with value: 0.7017920093521114.\u001b[0m\n",
      "\u001b[32m[I 2023-10-05 22:38:32,971]\u001b[0m Trial 25 finished with value: 0.5490889240673335 and parameters: {'max_depth': 6, 'min_samples_split': 0.7178133726293223, 'min_samples_leaf': 0.23054831970861456}. Best is trial 20 with value: 0.7017920093521114.\u001b[0m\n"
     ]
    },
    {
     "name": "stderr",
     "output_type": "stream",
     "text": [
      "\u001b[32m[I 2023-10-05 22:38:33,214]\u001b[0m A new study created in memory with name: no-name-01f009df-b532-4be4-a5f4-a6d1a793cdb0\u001b[0m\n"
     ]
    },
    {
     "name": "stdout",
     "output_type": "stream",
     "text": [
      "\u001b[32m[I 2023-10-05 22:38:33,041]\u001b[0m Trial 26 finished with value: 0.6941559188581098 and parameters: {'max_depth': 9, 'min_samples_split': 0.2397731412365373, 'min_samples_leaf': 0.24749611482954137}. Best is trial 20 with value: 0.7017920093521114.\u001b[0m\n",
      "\u001b[32m[I 2023-10-05 22:38:33,096]\u001b[0m Trial 27 finished with value: 0.6993273966411964 and parameters: {'max_depth': 7, 'min_samples_split': 0.6388545487022095, 'min_samples_leaf': 0.3234206855301851}. Best is trial 20 with value: 0.7017920093521114.\u001b[0m\n",
      "\u001b[32m[I 2023-10-05 22:38:33,140]\u001b[0m Trial 28 finished with value: 0.5797660815511708 and parameters: {'max_depth': 8, 'min_samples_split': 0.45847501274200814, 'min_samples_leaf': 0.4087895796469848}. Best is trial 20 with value: 0.7017920093521114.\u001b[0m\n",
      "\u001b[32m[I 2023-10-05 22:38:33,186]\u001b[0m Trial 29 finished with value: 0.5490889240673335 and parameters: {'max_depth': 10, 'min_samples_split': 0.7677543580377458, 'min_samples_leaf': 0.171522561407531}. Best is trial 20 with value: 0.7017920093521114.\u001b[0m\n",
      "Test Accuracy: 52.08\n",
      "Precision: 31.27\n",
      "Recall: 74.14\n",
      "F1-score: 43.99\n",
      "AUROC: 59.36\n"
     ]
    },
    {
     "data": {
      "application/vnd.jupyter.widget-view+json": {
       "model_id": "a2623aa47ae54cca9d87f8736a1d586d",
       "version_major": 2,
       "version_minor": 0
      },
      "text/plain": [
       "  0%|          | 0/30 [00:00<?, ?it/s]"
      ]
     },
     "metadata": {},
     "output_type": "display_data"
    },
    {
     "name": "stdout",
     "output_type": "stream",
     "text": [
      "\u001b[32m[I 2023-10-05 22:38:33,299]\u001b[0m Trial 0 finished with value: 0.5824189257974981 and parameters: {'max_depth': 10, 'min_samples_split': 0.12607391879349764, 'min_samples_leaf': 0.3978866514615482}. Best is trial 0 with value: 0.5824189257974981.\u001b[0m\n",
      "\u001b[32m[I 2023-10-05 22:38:33,340]\u001b[0m Trial 1 finished with value: 0.5970354967841452 and parameters: {'max_depth': 2, 'min_samples_split': 0.5507238271785986, 'min_samples_leaf': 0.4730044110628765}. Best is trial 1 with value: 0.5970354967841452.\u001b[0m\n",
      "\u001b[32m[I 2023-10-05 22:38:33,398]\u001b[0m Trial 2 finished with value: 0.5797801761743611 and parameters: {'max_depth': 2, 'min_samples_split': 0.313774973288826, 'min_samples_leaf': 0.4368992592367923}. Best is trial 1 with value: 0.5970354967841452.\u001b[0m\n",
      "\u001b[32m[I 2023-10-05 22:38:33,441]\u001b[0m Trial 3 finished with value: 0.5985015407798971 and parameters: {'max_depth': 10, 'min_samples_split': 0.6840601477732536, 'min_samples_leaf': 0.16494193821588513}. Best is trial 3 with value: 0.5985015407798971.\u001b[0m\n",
      "\u001b[32m[I 2023-10-05 22:38:33,478]\u001b[0m Trial 4 finished with value: 0.5490889240673335 and parameters: {'max_depth': 5, 'min_samples_split': 0.9683088024190593, 'min_samples_leaf': 0.29336195392354736}. Best is trial 3 with value: 0.5985015407798971.\u001b[0m\n",
      "\u001b[32m[I 2023-10-05 22:38:33,520]\u001b[0m Trial 5 finished with value: 0.691094365522628 and parameters: {'max_depth': 10, 'min_samples_split': 0.3138179511248034, 'min_samples_leaf': 0.21780628422380427}. Best is trial 5 with value: 0.691094365522628.\u001b[0m\n",
      "\u001b[32m[I 2023-10-05 22:38:33,555]\u001b[0m Trial 6 finished with value: 0.5762044398681251 and parameters: {'max_depth': 7, 'min_samples_split': 0.4233894368950095, 'min_samples_leaf': 0.3299110237187697}. Best is trial 5 with value: 0.691094365522628.\u001b[0m\n",
      "\u001b[32m[I 2023-10-05 22:38:33,591]\u001b[0m Trial 7 finished with value: 0.584391574371049 and parameters: {'max_depth': 7, 'min_samples_split': 0.4674283506232664, 'min_samples_leaf': 0.37561082361336817}. Best is trial 5 with value: 0.691094365522628.\u001b[0m\n",
      "\u001b[32m[I 2023-10-05 22:38:33,624]\u001b[0m Trial 8 finished with value: 0.5797801761743611 and parameters: {'max_depth': 6, 'min_samples_split': 0.8686759844002832, 'min_samples_leaf': 0.4298219452553954}. Best is trial 5 with value: 0.691094365522628.\u001b[0m\n",
      "\u001b[32m[I 2023-10-05 22:38:33,662]\u001b[0m Trial 9 finished with value: 0.5490889240673335 and parameters: {'max_depth': 9, 'min_samples_split': 0.8476677776535819, 'min_samples_leaf': 0.23741173906762914}. Best is trial 5 with value: 0.691094365522628.\u001b[0m\n",
      "\u001b[32m[I 2023-10-05 22:38:33,723]\u001b[0m Trial 10 finished with value: 0.656487891837563 and parameters: {'max_depth': 4, 'min_samples_split': 0.12501801523133155, 'min_samples_leaf': 0.10272866661290754}. Best is trial 5 with value: 0.691094365522628.\u001b[0m\n",
      "\u001b[32m[I 2023-10-05 22:38:33,779]\u001b[0m Trial 11 finished with value: 0.6418696497289142 and parameters: {'max_depth': 4, 'min_samples_split': 0.10267072733864041, 'min_samples_leaf': 0.11252279866348974}. Best is trial 5 with value: 0.691094365522628.\u001b[0m\n",
      "\u001b[32m[I 2023-10-05 22:38:33,855]\u001b[0m Trial 12 finished with value: 0.6450836554775423 and parameters: {'max_depth': 4, 'min_samples_split': 0.23265593813153312, 'min_samples_leaf': 0.10448686167349852}. Best is trial 5 with value: 0.691094365522628.\u001b[0m\n",
      "\u001b[32m[I 2023-10-05 22:38:33,907]\u001b[0m Trial 13 finished with value: 0.6772664044316496 and parameters: {'max_depth': 3, 'min_samples_split': 0.2725652054023733, 'min_samples_leaf': 0.1869042890303552}. Best is trial 5 with value: 0.691094365522628.\u001b[0m\n",
      "\u001b[32m[I 2023-10-05 22:38:33,954]\u001b[0m Trial 14 finished with value: 0.6874300738598168 and parameters: {'max_depth': 8, 'min_samples_split': 0.32330942198940804, 'min_samples_leaf': 0.20270562338770395}. Best is trial 5 with value: 0.691094365522628.\u001b[0m\n",
      "\u001b[32m[I 2023-10-05 22:38:34,001]\u001b[0m Trial 15 finished with value: 0.6941559188581098 and parameters: {'max_depth': 8, 'min_samples_split': 0.3801513866778506, 'min_samples_leaf': 0.2399052468372161}. Best is trial 15 with value: 0.6941559188581098.\u001b[0m\n",
      "\u001b[32m[I 2023-10-05 22:38:34,049]\u001b[0m Trial 16 finished with value: 0.6960798079294814 and parameters: {'max_depth': 9, 'min_samples_split': 0.6013944678059588, 'min_samples_leaf': 0.27121091578599305}. Best is trial 16 with value: 0.6960798079294814.\u001b[0m\n",
      "\u001b[32m[I 2023-10-05 22:38:34,103]\u001b[0m Trial 17 finished with value: 0.6960798079294814 and parameters: {'max_depth': 8, 'min_samples_split': 0.6480750093068792, 'min_samples_leaf': 0.2791314925369967}. Best is trial 16 with value: 0.6960798079294814.\u001b[0m\n",
      "\u001b[32m[I 2023-10-05 22:38:34,159]\u001b[0m Trial 18 finished with value: 0.6960798079294814 and parameters: {'max_depth': 9, 'min_samples_split': 0.6507464901983541, 'min_samples_leaf': 0.29061340381855794}. Best is trial 16 with value: 0.6960798079294814.\u001b[0m\n",
      "\u001b[32m[I 2023-10-05 22:38:34,224]\u001b[0m Trial 19 finished with value: 0.5762044398681251 and parameters: {'max_depth': 9, 'min_samples_split': 0.6999512752523398, 'min_samples_leaf': 0.33829642756614164}. Best is trial 16 with value: 0.6960798079294814.\u001b[0m\n",
      "\u001b[32m[I 2023-10-05 22:38:34,277]\u001b[0m Trial 20 finished with value: 0.6960798079294814 and parameters: {'max_depth': 7, 'min_samples_split': 0.5725634217395064, 'min_samples_leaf': 0.2680167581344153}. Best is trial 16 with value: 0.6960798079294814.\u001b[0m\n",
      "\u001b[32m[I 2023-10-05 22:38:34,360]\u001b[0m Trial 21 finished with value: 0.5501955125887557 and parameters: {'max_depth': 7, 'min_samples_split': 0.6974815364566092, 'min_samples_leaf': 0.3163210653662476}. Best is trial 16 with value: 0.6960798079294814.\u001b[0m\n",
      "\u001b[32m[I 2023-10-05 22:38:34,444]\u001b[0m Trial 22 finished with value: 0.6960798079294814 and parameters: {'max_depth': 9, 'min_samples_split': 0.6393340060063268, 'min_samples_leaf': 0.27767593297574095}. Best is trial 16 with value: 0.6960798079294814.\u001b[0m\n",
      "\u001b[32m[I 2023-10-05 22:38:34,489]\u001b[0m Trial 23 finished with value: 0.584391574371049 and parameters: {'max_depth': 6, 'min_samples_split': 0.5035183196759472, 'min_samples_leaf': 0.3565668333131268}. Best is trial 16 with value: 0.6960798079294814.\u001b[0m\n",
      "\u001b[32m[I 2023-10-05 22:38:34,536]\u001b[0m Trial 24 finished with value: 0.5490889240673335 and parameters: {'max_depth': 8, 'min_samples_split': 0.8355237207735324, 'min_samples_leaf': 0.2655937150101908}. Best is trial 16 with value: 0.6960798079294814.\u001b[0m\n",
      "\u001b[32m[I 2023-10-05 22:38:34,588]\u001b[0m Trial 25 finished with value: 0.6996037439718117 and parameters: {'max_depth': 9, 'min_samples_split': 0.5666424565321351, 'min_samples_leaf': 0.308052451364965}. Best is trial 25 with value: 0.6996037439718117.\u001b[0m\n",
      "\u001b[32m[I 2023-10-05 22:38:34,635]\u001b[0m Trial 26 finished with value: 0.5490889240673335 and parameters: {'max_depth': 7, 'min_samples_split': 0.7836395355905217, 'min_samples_leaf': 0.1536488129344938}. Best is trial 25 with value: 0.6996037439718117.\u001b[0m\n"
     ]
    },
    {
     "name": "stderr",
     "output_type": "stream",
     "text": [
      "\u001b[32m[I 2023-10-05 22:38:34,792]\u001b[0m A new study created in memory with name: no-name-c9d31e53-5972-4f58-8c75-3232c14e50b7\u001b[0m\n"
     ]
    },
    {
     "name": "stdout",
     "output_type": "stream",
     "text": [
      "\u001b[32m[I 2023-10-05 22:38:34,682]\u001b[0m Trial 27 finished with value: 0.5490889240673335 and parameters: {'max_depth': 8, 'min_samples_split': 0.7501927524970488, 'min_samples_leaf': 0.30128978391900174}. Best is trial 25 with value: 0.6996037439718117.\u001b[0m\n",
      "\u001b[32m[I 2023-10-05 22:38:34,734]\u001b[0m Trial 28 finished with value: 0.6941559188581098 and parameters: {'max_depth': 6, 'min_samples_split': 0.5616902608502569, 'min_samples_leaf': 0.23990622107778772}. Best is trial 25 with value: 0.6996037439718117.\u001b[0m\n",
      "\u001b[32m[I 2023-10-05 22:38:34,778]\u001b[0m Trial 29 finished with value: 0.5837289762890961 and parameters: {'max_depth': 10, 'min_samples_split': 0.6031139180797811, 'min_samples_leaf': 0.39097351455108226}. Best is trial 25 with value: 0.6996037439718117.\u001b[0m\n",
      "Test Accuracy: 52.08\n",
      "Precision: 31.27\n",
      "Recall: 74.14\n",
      "F1-score: 43.99\n",
      "AUROC: 59.36\n"
     ]
    },
    {
     "data": {
      "application/vnd.jupyter.widget-view+json": {
       "model_id": "53814de098d04ac592c406cadb1555a4",
       "version_major": 2,
       "version_minor": 0
      },
      "text/plain": [
       "  0%|          | 0/30 [00:00<?, ?it/s]"
      ]
     },
     "metadata": {},
     "output_type": "display_data"
    },
    {
     "name": "stdout",
     "output_type": "stream",
     "text": [
      "\u001b[32m[I 2023-10-05 22:38:34,844]\u001b[0m Trial 0 finished with value: 0.5933523076855987 and parameters: {'max_depth': 6, 'min_samples_split': 0.5381475518550863, 'min_samples_leaf': 0.49651561889489815}. Best is trial 0 with value: 0.5933523076855987.\u001b[0m\n",
      "\u001b[32m[I 2023-10-05 22:38:34,881]\u001b[0m Trial 1 finished with value: 0.5490889240673335 and parameters: {'max_depth': 6, 'min_samples_split': 0.8433471233250324, 'min_samples_leaf': 0.24470700746770102}. Best is trial 0 with value: 0.5933523076855987.\u001b[0m\n",
      "\u001b[32m[I 2023-10-05 22:38:34,920]\u001b[0m Trial 2 finished with value: 0.5490889240673335 and parameters: {'max_depth': 3, 'min_samples_split': 0.8791206672634766, 'min_samples_leaf': 0.29404703497658813}. Best is trial 0 with value: 0.5933523076855987.\u001b[0m\n",
      "\u001b[32m[I 2023-10-05 22:38:34,997]\u001b[0m Trial 3 finished with value: 0.5490889240673335 and parameters: {'max_depth': 7, 'min_samples_split': 0.6970231536242644, 'min_samples_leaf': 0.21315037819088112}. Best is trial 0 with value: 0.5933523076855987.\u001b[0m\n",
      "\u001b[32m[I 2023-10-05 22:38:35,038]\u001b[0m Trial 4 finished with value: 0.5806546997658167 and parameters: {'max_depth': 7, 'min_samples_split': 0.9826854015904927, 'min_samples_leaf': 0.45611024736315686}. Best is trial 0 with value: 0.5933523076855987.\u001b[0m\n",
      "\u001b[32m[I 2023-10-05 22:38:35,087]\u001b[0m Trial 5 finished with value: 0.6921757208383078 and parameters: {'max_depth': 5, 'min_samples_split': 0.28004649006714294, 'min_samples_leaf': 0.2625833187900305}. Best is trial 5 with value: 0.6921757208383078.\u001b[0m\n",
      "\u001b[32m[I 2023-10-05 22:38:35,158]\u001b[0m Trial 6 finished with value: 0.6996037439718117 and parameters: {'max_depth': 4, 'min_samples_split': 0.20706033994230483, 'min_samples_leaf': 0.30613047629461865}. Best is trial 6 with value: 0.6996037439718117.\u001b[0m\n",
      "\u001b[32m[I 2023-10-05 22:38:35,228]\u001b[0m Trial 7 finished with value: 0.5797801761743611 and parameters: {'max_depth': 7, 'min_samples_split': 0.5624103447742255, 'min_samples_leaf': 0.44255878361127343}. Best is trial 6 with value: 0.6996037439718117.\u001b[0m\n",
      "\u001b[32m[I 2023-10-05 22:38:35,267]\u001b[0m Trial 8 finished with value: 0.5806546997658167 and parameters: {'max_depth': 2, 'min_samples_split': 0.7414832919880784, 'min_samples_leaf': 0.4537548100844869}. Best is trial 6 with value: 0.6996037439718117.\u001b[0m\n",
      "\u001b[32m[I 2023-10-05 22:38:35,308]\u001b[0m Trial 9 finished with value: 0.5490889240673335 and parameters: {'max_depth': 10, 'min_samples_split': 0.9190017759827571, 'min_samples_leaf': 0.22828816202790947}. Best is trial 6 with value: 0.6996037439718117.\u001b[0m\n",
      "\u001b[32m[I 2023-10-05 22:38:35,374]\u001b[0m Trial 10 finished with value: 0.6450836554775423 and parameters: {'max_depth': 4, 'min_samples_split': 0.10333082776155583, 'min_samples_leaf': 0.10946266843699207}. Best is trial 6 with value: 0.6996037439718117.\u001b[0m\n",
      "\u001b[32m[I 2023-10-05 22:38:35,419]\u001b[0m Trial 11 finished with value: 0.584391574371049 and parameters: {'max_depth': 4, 'min_samples_split': 0.20278013336704503, 'min_samples_leaf': 0.35462634926801234}. Best is trial 6 with value: 0.6996037439718117.\u001b[0m\n",
      "\u001b[32m[I 2023-10-05 22:38:35,463]\u001b[0m Trial 12 finished with value: 0.584391574371049 and parameters: {'max_depth': 4, 'min_samples_split': 0.28255156982292434, 'min_samples_leaf': 0.352542032859453}. Best is trial 6 with value: 0.6996037439718117.\u001b[0m\n",
      "\u001b[32m[I 2023-10-05 22:38:35,521]\u001b[0m Trial 13 finished with value: 0.6772664044316496 and parameters: {'max_depth': 5, 'min_samples_split': 0.3584054228942799, 'min_samples_leaf': 0.14633984562417862}. Best is trial 6 with value: 0.6996037439718117.\u001b[0m\n",
      "\u001b[32m[I 2023-10-05 22:38:35,587]\u001b[0m Trial 14 finished with value: 0.5762044398681251 and parameters: {'max_depth': 2, 'min_samples_split': 0.10204449999240449, 'min_samples_leaf': 0.3325464810465945}. Best is trial 6 with value: 0.6996037439718117.\u001b[0m\n",
      "\u001b[32m[I 2023-10-05 22:38:35,640]\u001b[0m Trial 15 finished with value: 0.6960798079294814 and parameters: {'max_depth': 9, 'min_samples_split': 0.3791701949043329, 'min_samples_leaf': 0.2758056357886884}. Best is trial 6 with value: 0.6996037439718117.\u001b[0m\n",
      "\u001b[32m[I 2023-10-05 22:38:35,712]\u001b[0m Trial 16 finished with value: 0.6772664044316496 and parameters: {'max_depth': 10, 'min_samples_split': 0.44330606502363357, 'min_samples_leaf': 0.18101558215658403}. Best is trial 6 with value: 0.6996037439718117.\u001b[0m\n",
      "\u001b[32m[I 2023-10-05 22:38:35,756]\u001b[0m Trial 17 finished with value: 0.5792374088956895 and parameters: {'max_depth': 9, 'min_samples_split': 0.18453655946783748, 'min_samples_leaf': 0.3972861172919222}. Best is trial 6 with value: 0.6996037439718117.\u001b[0m\n",
      "\u001b[32m[I 2023-10-05 22:38:35,811]\u001b[0m Trial 18 finished with value: 0.6958831433605701 and parameters: {'max_depth': 8, 'min_samples_split': 0.3935433065677248, 'min_samples_leaf': 0.2989804766570701}. Best is trial 6 with value: 0.6996037439718117.\u001b[0m\n",
      "\u001b[32m[I 2023-10-05 22:38:35,854]\u001b[0m Trial 19 finished with value: 0.5837289762890961 and parameters: {'max_depth': 9, 'min_samples_split': 0.5143650313056429, 'min_samples_leaf': 0.3819893827046907}. Best is trial 6 with value: 0.6996037439718117.\u001b[0m\n",
      "\u001b[32m[I 2023-10-05 22:38:35,907]\u001b[0m Trial 20 finished with value: 0.6960798079294814 and parameters: {'max_depth': 3, 'min_samples_split': 0.28380957253238676, 'min_samples_leaf': 0.2690471725293557}. Best is trial 6 with value: 0.6996037439718117.\u001b[0m\n",
      "\u001b[32m[I 2023-10-05 22:38:35,961]\u001b[0m Trial 21 finished with value: 0.6960798079294814 and parameters: {'max_depth': 3, 'min_samples_split': 0.2876980694642252, 'min_samples_leaf': 0.2777651075161347}. Best is trial 6 with value: 0.6996037439718117.\u001b[0m\n",
      "\u001b[32m[I 2023-10-05 22:38:36,012]\u001b[0m Trial 22 finished with value: 0.7022309976350279 and parameters: {'max_depth': 3, 'min_samples_split': 0.19493100138658742, 'min_samples_leaf': 0.32047758220356576}. Best is trial 22 with value: 0.7022309976350279.\u001b[0m\n",
      "\u001b[32m[I 2023-10-05 22:38:36,069]\u001b[0m Trial 23 finished with value: 0.6874300738598168 and parameters: {'max_depth': 3, 'min_samples_split': 0.17032796991026256, 'min_samples_leaf': 0.20176960097477187}. Best is trial 22 with value: 0.7022309976350279.\u001b[0m\n",
      "\u001b[32m[I 2023-10-05 22:38:36,114]\u001b[0m Trial 24 finished with value: 0.5762044398681251 and parameters: {'max_depth': 2, 'min_samples_split': 0.2179447795446044, 'min_samples_leaf': 0.3325133961727393}. Best is trial 22 with value: 0.7022309976350279.\u001b[0m\n",
      "\u001b[32m[I 2023-10-05 22:38:36,192]\u001b[0m Trial 25 finished with value: 0.5762044398681251 and parameters: {'max_depth': 3, 'min_samples_split': 0.1032355253831947, 'min_samples_leaf': 0.3337023656700687}. Best is trial 22 with value: 0.7022309976350279.\u001b[0m\n",
      "\u001b[32m[I 2023-10-05 22:38:36,246]\u001b[0m Trial 26 finished with value: 0.6996037439718117 and parameters: {'max_depth': 5, 'min_samples_split': 0.32986141719354023, 'min_samples_leaf': 0.31111476423127693}. Best is trial 22 with value: 0.7022309976350279.\u001b[0m\n",
      "\u001b[32m[I 2023-10-05 22:38:36,296]\u001b[0m Trial 27 finished with value: 0.5776750441244446 and parameters: {'max_depth': 5, 'min_samples_split': 0.14021323160972632, 'min_samples_leaf': 0.41788913880187795}. Best is trial 22 with value: 0.7022309976350279.\u001b[0m\n",
      "\u001b[32m[I 2023-10-05 22:38:36,342]\u001b[0m Trial 28 finished with value: 0.584391574371049 and parameters: {'max_depth': 4, 'min_samples_split': 0.23618592205737884, 'min_samples_leaf': 0.3738025245477745}. Best is trial 22 with value: 0.7022309976350279.\u001b[0m\n",
      "\u001b[32m[I 2023-10-05 22:38:36,385]\u001b[0m Trial 29 finished with value: 0.4981385258664428 and parameters: {'max_depth': 5, 'min_samples_split': 0.4906804158290059, 'min_samples_leaf': 0.4995052247442394}. Best is trial 22 with value: 0.7022309976350279.\u001b[0m\n"
     ]
    },
    {
     "name": "stderr",
     "output_type": "stream",
     "text": [
      "\u001b[32m[I 2023-10-05 22:38:36,401]\u001b[0m A new study created in memory with name: no-name-798f4b7d-2bb8-4601-b073-3e3d2d30aeb5\u001b[0m\n"
     ]
    },
    {
     "name": "stdout",
     "output_type": "stream",
     "text": [
      "Test Accuracy: 51.2\n",
      "Precision: 31.1\n",
      "Recall: 75.86\n",
      "F1-score: 44.11\n",
      "AUROC: 59.34\n"
     ]
    },
    {
     "data": {
      "application/vnd.jupyter.widget-view+json": {
       "model_id": "1d64812c8bb04b73a3eee749d2fe33c8",
       "version_major": 2,
       "version_minor": 0
      },
      "text/plain": [
       "  0%|          | 0/30 [00:00<?, ?it/s]"
      ]
     },
     "metadata": {},
     "output_type": "display_data"
    },
    {
     "name": "stdout",
     "output_type": "stream",
     "text": [
      "\u001b[32m[I 2023-10-05 22:38:36,456]\u001b[0m Trial 0 finished with value: 0.5490889240673335 and parameters: {'max_depth': 8, 'min_samples_split': 0.6975224323517952, 'min_samples_leaf': 0.30758478427056846}. Best is trial 0 with value: 0.5490889240673335.\u001b[0m\n",
      "\u001b[32m[I 2023-10-05 22:38:36,494]\u001b[0m Trial 1 finished with value: 0.5762044398681251 and parameters: {'max_depth': 3, 'min_samples_split': 0.2768871334387265, 'min_samples_leaf': 0.3349529119077235}. Best is trial 1 with value: 0.5762044398681251.\u001b[0m\n",
      "\u001b[32m[I 2023-10-05 22:38:36,534]\u001b[0m Trial 2 finished with value: 0.584391574371049 and parameters: {'max_depth': 2, 'min_samples_split': 0.5945331772494724, 'min_samples_leaf': 0.3770122701383851}. Best is trial 2 with value: 0.584391574371049.\u001b[0m\n",
      "\u001b[32m[I 2023-10-05 22:38:36,573]\u001b[0m Trial 3 finished with value: 0.5806546997658167 and parameters: {'max_depth': 8, 'min_samples_split': 0.4636825534756386, 'min_samples_leaf': 0.450744536763935}. Best is trial 2 with value: 0.584391574371049.\u001b[0m\n",
      "\u001b[32m[I 2023-10-05 22:38:36,612]\u001b[0m Trial 4 finished with value: 0.5490889240673335 and parameters: {'max_depth': 2, 'min_samples_split': 0.8310457738167079, 'min_samples_leaf': 0.13467723647561827}. Best is trial 2 with value: 0.584391574371049.\u001b[0m\n",
      "\u001b[32m[I 2023-10-05 22:38:36,651]\u001b[0m Trial 5 finished with value: 0.5838953109675075 and parameters: {'max_depth': 6, 'min_samples_split': 0.20928111894762655, 'min_samples_leaf': 0.3941451042942232}. Best is trial 2 with value: 0.584391574371049.\u001b[0m\n",
      "\u001b[32m[I 2023-10-05 22:38:36,693]\u001b[0m Trial 6 finished with value: 0.5797801761743611 and parameters: {'max_depth': 4, 'min_samples_split': 0.9591532531165556, 'min_samples_leaf': 0.44567356893342847}. Best is trial 2 with value: 0.584391574371049.\u001b[0m\n",
      "\u001b[32m[I 2023-10-05 22:38:36,734]\u001b[0m Trial 7 finished with value: 0.5490889240673335 and parameters: {'max_depth': 9, 'min_samples_split': 0.8247850403960201, 'min_samples_leaf': 0.15092079837845462}. Best is trial 2 with value: 0.584391574371049.\u001b[0m\n",
      "\u001b[32m[I 2023-10-05 22:38:36,777]\u001b[0m Trial 8 finished with value: 0.5490889240673335 and parameters: {'max_depth': 2, 'min_samples_split': 0.8381108828686405, 'min_samples_leaf': 0.2829712287131288}. Best is trial 2 with value: 0.584391574371049.\u001b[0m\n",
      "\u001b[32m[I 2023-10-05 22:38:36,822]\u001b[0m Trial 9 finished with value: 0.5797801761743611 and parameters: {'max_depth': 3, 'min_samples_split': 0.9985275297779672, 'min_samples_leaf': 0.4344745704825058}. Best is trial 2 with value: 0.584391574371049.\u001b[0m\n",
      "\u001b[32m[I 2023-10-05 22:38:36,879]\u001b[0m Trial 10 finished with value: 0.691094365522628 and parameters: {'max_depth': 5, 'min_samples_split': 0.482148188693734, 'min_samples_leaf': 0.22104918300016183}. Best is trial 10 with value: 0.691094365522628.\u001b[0m\n",
      "\u001b[32m[I 2023-10-05 22:38:36,936]\u001b[0m Trial 11 finished with value: 0.691094365522628 and parameters: {'max_depth': 5, 'min_samples_split': 0.4966542920021398, 'min_samples_leaf': 0.2217065663368839}. Best is trial 10 with value: 0.691094365522628.\u001b[0m\n",
      "\u001b[32m[I 2023-10-05 22:38:36,997]\u001b[0m Trial 12 finished with value: 0.691094365522628 and parameters: {'max_depth': 5, 'min_samples_split': 0.3881936671326499, 'min_samples_leaf': 0.22452041751882085}. Best is trial 10 with value: 0.691094365522628.\u001b[0m\n",
      "\u001b[32m[I 2023-10-05 22:38:37,054]\u001b[0m Trial 13 finished with value: 0.691094365522628 and parameters: {'max_depth': 6, 'min_samples_split': 0.5668792614316261, 'min_samples_leaf': 0.23108393725617757}. Best is trial 10 with value: 0.691094365522628.\u001b[0m\n",
      "\u001b[32m[I 2023-10-05 22:38:37,113]\u001b[0m Trial 14 finished with value: 0.691094365522628 and parameters: {'max_depth': 5, 'min_samples_split': 0.38005824285913836, 'min_samples_leaf': 0.21596212296478817}. Best is trial 10 with value: 0.691094365522628.\u001b[0m\n",
      "\u001b[32m[I 2023-10-05 22:38:37,173]\u001b[0m Trial 15 finished with value: 0.6772664044316496 and parameters: {'max_depth': 7, 'min_samples_split': 0.4549451338617031, 'min_samples_leaf': 0.17609765971947816}. Best is trial 10 with value: 0.691094365522628.\u001b[0m\n",
      "\u001b[32m[I 2023-10-05 22:38:37,243]\u001b[0m Trial 16 finished with value: 0.656487891837563 and parameters: {'max_depth': 4, 'min_samples_split': 0.11532622443027529, 'min_samples_leaf': 0.10189370063802947}. Best is trial 10 with value: 0.691094365522628.\u001b[0m\n",
      "\u001b[32m[I 2023-10-05 22:38:37,312]\u001b[0m Trial 17 finished with value: 0.6921757208383078 and parameters: {'max_depth': 6, 'min_samples_split': 0.6103647298987279, 'min_samples_leaf': 0.2643903965699495}. Best is trial 17 with value: 0.6921757208383078.\u001b[0m\n",
      "\u001b[32m[I 2023-10-05 22:38:37,371]\u001b[0m Trial 18 finished with value: 0.6960798079294814 and parameters: {'max_depth': 10, 'min_samples_split': 0.33197964326880336, 'min_samples_leaf': 0.2708749317572386}. Best is trial 18 with value: 0.6960798079294814.\u001b[0m\n",
      "\u001b[32m[I 2023-10-05 22:38:37,439]\u001b[0m Trial 19 finished with value: 0.6960798079294814 and parameters: {'max_depth': 10, 'min_samples_split': 0.652411791070491, 'min_samples_leaf': 0.27139777307463103}. Best is trial 18 with value: 0.6960798079294814.\u001b[0m\n",
      "\u001b[32m[I 2023-10-05 22:38:37,526]\u001b[0m Trial 20 finished with value: 0.5762044398681251 and parameters: {'max_depth': 10, 'min_samples_split': 0.7185283939686857, 'min_samples_leaf': 0.33638153136535653}. Best is trial 18 with value: 0.6960798079294814.\u001b[0m\n",
      "\u001b[32m[I 2023-10-05 22:38:37,595]\u001b[0m Trial 21 finished with value: 0.6960798079294814 and parameters: {'max_depth': 10, 'min_samples_split': 0.6666677422080697, 'min_samples_leaf': 0.2762843941646881}. Best is trial 18 with value: 0.6960798079294814.\u001b[0m\n",
      "\u001b[32m[I 2023-10-05 22:38:37,680]\u001b[0m Trial 22 finished with value: 0.6004254298512687 and parameters: {'max_depth': 10, 'min_samples_split': 0.685089503393536, 'min_samples_leaf': 0.2704014938559185}. Best is trial 18 with value: 0.6960798079294814.\u001b[0m\n",
      "\u001b[32m[I 2023-10-05 22:38:37,751]\u001b[0m Trial 23 finished with value: 0.5488239691434884 and parameters: {'max_depth': 9, 'min_samples_split': 0.7646741788744643, 'min_samples_leaf': 0.3184143826363164}. Best is trial 18 with value: 0.6960798079294814.\u001b[0m\n",
      "\u001b[32m[I 2023-10-05 22:38:37,800]\u001b[0m Trial 24 finished with value: 0.584391574371049 and parameters: {'max_depth': 10, 'min_samples_split': 0.6247725112078933, 'min_samples_leaf': 0.37033489785372775}. Best is trial 18 with value: 0.6960798079294814.\u001b[0m\n",
      "\u001b[32m[I 2023-10-05 22:38:37,852]\u001b[0m Trial 25 finished with value: 0.6941559188581098 and parameters: {'max_depth': 9, 'min_samples_split': 0.3257993332672471, 'min_samples_leaf': 0.25562098767659874}. Best is trial 18 with value: 0.6960798079294814.\u001b[0m\n",
      "\u001b[32m[I 2023-10-05 22:38:37,914]\u001b[0m Trial 26 finished with value: 0.6772664044316496 and parameters: {'max_depth': 8, 'min_samples_split': 0.10808495713042898, 'min_samples_leaf': 0.17635246387104564}. Best is trial 18 with value: 0.6960798079294814.\u001b[0m\n",
      "\u001b[32m[I 2023-10-05 22:38:37,961]\u001b[0m Trial 27 finished with value: 0.5490889240673335 and parameters: {'max_depth': 10, 'min_samples_split': 0.9288814405349746, 'min_samples_leaf': 0.2901252455484205}. Best is trial 18 with value: 0.6960798079294814.\u001b[0m\n",
      "\u001b[32m[I 2023-10-05 22:38:38,010]\u001b[0m Trial 28 finished with value: 0.584391574371049 and parameters: {'max_depth': 9, 'min_samples_split': 0.6526055266840503, 'min_samples_leaf': 0.3492692353988286}. Best is trial 18 with value: 0.6960798079294814.\u001b[0m\n",
      "\u001b[32m[I 2023-10-05 22:38:38,055]\u001b[0m Trial 29 finished with value: 0.5495071989571529 and parameters: {'max_depth': 8, 'min_samples_split': 0.7308985711166437, 'min_samples_leaf': 0.3177482369571965}. Best is trial 18 with value: 0.6960798079294814.\u001b[0m\n",
      "Test Accuracy: 56.02\n",
      "Precision: 32.93\n",
      "Recall: 70.69\n",
      "F1-score: 44.93\n",
      "AUROC: 60.86\n"
     ]
    }
   ],
   "source": [
    "from sklearn.metrics import roc_auc_score\n",
    "\n",
    "accuracy_list = []\n",
    "precision_list = []\n",
    "recall_list = []\n",
    "f1_list = []\n",
    "y_pred_list = []\n",
    "model_list = []\n",
    "auroc_list = []\n",
    "\n",
    "for _ in range(10):\n",
    "\n",
    "    # Optuna를 활용한 Hyperparameter tuning\n",
    "    study = optuna.create_study(direction=\"maximize\")\n",
    "    study.optimize(objective, n_trials=30, show_progress_bar=True)\n",
    "\n",
    "    # 최적의 Hyperparameter로 모델 학습\n",
    "    best_params = study.best_params\n",
    "    best_model = DecisionTreeClassifier(\n",
    "        max_depth=best_params[\"max_depth\"],\n",
    "        min_samples_split=best_params[\"min_samples_split\"],\n",
    "        min_samples_leaf=best_params[\"min_samples_leaf\"],\n",
    "        random_state=42\n",
    "    )\n",
    "    best_model.fit(X_train, y_train)\n",
    "    \n",
    "    # Test 데이터로 모델 평가\n",
    "    y_pred = best_model.predict(X_test)\n",
    "    accuracy = accuracy_score(test_data['y'], y_pred)\n",
    "    precision = precision_score(test_data['y'], y_pred)\n",
    "    recall = recall_score(test_data['y'], y_pred)\n",
    "    f1 = f1_score(test_data['y'], y_pred)\n",
    "    auroc = roc_auc_score(test_data['y'], y_pred)\n",
    "\n",
    "    rounded_accuracy = round(accuracy * 100, 2)\n",
    "    rounded_precision = round(precision * 100, 2)\n",
    "    rounded_recall = round(recall * 100, 2)\n",
    "    rounded_f1 = round(f1 * 100, 2)\n",
    "    rounded_auroc = round(auroc * 100, 2)\n",
    "    \n",
    "    accuracy_list.append(rounded_accuracy)\n",
    "    precision_list.append(rounded_precision)\n",
    "    recall_list.append(rounded_recall)\n",
    "    f1_list.append(rounded_f1)\n",
    "    y_pred_list.append(y_pred)\n",
    "    auroc_list.append(rounded_auroc)\n",
    "    \n",
    "    print(\"Test Accuracy:\", rounded_accuracy)\n",
    "    print(\"Precision:\", rounded_precision)\n",
    "    print(\"Recall:\", rounded_recall)\n",
    "    print(\"F1-score:\", rounded_f1)\n",
    "    print(\"AUROC:\", rounded_auroc)"
   ]
  },
  {
   "cell_type": "code",
   "execution_count": 6,
   "id": "58bad576-51e2-4016-8344-a75019257cbb",
   "metadata": {},
   "outputs": [
    {
     "data": {
      "image/png": "[encoded data removed]",
      "text/plain": [
       "<Figure size 1000x600 with 1 Axes>"
      ]
     },
     "metadata": {},
     "output_type": "display_data"
    }
   ],
   "source": [
    "import matplotlib.pyplot as plt\n",
    "\n",
    "# 박스 플롯 그리기\n",
    "data = [accuracy_list, precision_list, recall_list, f1_list, auroc_list]\n",
    "labels = ['Accuracy', 'Precision', 'Recall', 'F1 Score','AUROC']\n",
    "\n",
    "plt.figure(figsize=(10, 6))\n",
    "plt.boxplot(data, labels=labels)\n",
    "plt.title('Box Plot of Evaluation Metrics')\n",
    "plt.ylabel('Value')\n",
    "plt.grid(True)\n",
    "plt.show()"
   ]
  },
  {
   "cell_type": "code",
   "execution_count": 7,
   "id": "e7e85e64-032a-42a2-82db-3d10b3d0575c",
   "metadata": {},
   "outputs": [
    {
     "data": {
      "text/html": [
       "<div>\n",
       "<style scoped>\n",
       "    .dataframe tbody tr th:only-of-type {\n",
       "        vertical-align: middle;\n",
       "    }\n",
       "\n",
       "    .dataframe tbody tr th {\n",
       "        vertical-align: top;\n",
       "    }\n",
       "\n",
       "    .dataframe thead th {\n",
       "        text-align: right;\n",
       "    }\n",
       "</style>\n",
       "<table border=\"1\" class=\"dataframe\">\n",
       "  <thead>\n",
       "    <tr style=\"text-align: right;\">\n",
       "      <th></th>\n",
       "      <th>Accuracy</th>\n",
       "      <th>Precision</th>\n",
       "      <th>Recall</th>\n",
       "      <th>F1 Score</th>\n",
       "      <th>AUROC</th>\n",
       "      <th>Predictions</th>\n",
       "    </tr>\n",
       "  </thead>\n",
       "  <tbody>\n",
       "    <tr>\n",
       "      <th>0</th>\n",
       "      <td>56.02</td>\n",
       "      <td>32.93</td>\n",
       "      <td>70.69</td>\n",
       "      <td>44.93</td>\n",
       "      <td>60.86</td>\n",
       "      <td>[1, 1, 0, 0, 1, 0, 0, 1, 1, 1, 1, 1, 0, 0, 1, ...</td>\n",
       "    </tr>\n",
       "    <tr>\n",
       "      <th>1</th>\n",
       "      <td>52.08</td>\n",
       "      <td>31.27</td>\n",
       "      <td>74.14</td>\n",
       "      <td>43.99</td>\n",
       "      <td>59.36</td>\n",
       "      <td>[1, 1, 0, 1, 1, 0, 0, 1, 1, 1, 1, 1, 0, 0, 1, ...</td>\n",
       "    </tr>\n",
       "    <tr>\n",
       "      <th>2</th>\n",
       "      <td>52.08</td>\n",
       "      <td>31.27</td>\n",
       "      <td>74.14</td>\n",
       "      <td>43.99</td>\n",
       "      <td>59.36</td>\n",
       "      <td>[1, 1, 0, 1, 1, 0, 0, 1, 1, 1, 1, 1, 0, 0, 1, ...</td>\n",
       "    </tr>\n",
       "    <tr>\n",
       "      <th>3</th>\n",
       "      <td>51.20</td>\n",
       "      <td>31.10</td>\n",
       "      <td>75.86</td>\n",
       "      <td>44.11</td>\n",
       "      <td>59.34</td>\n",
       "      <td>[1, 1, 0, 1, 1, 0, 0, 1, 1, 1, 1, 1, 0, 0, 1, ...</td>\n",
       "    </tr>\n",
       "    <tr>\n",
       "      <th>4</th>\n",
       "      <td>52.08</td>\n",
       "      <td>31.27</td>\n",
       "      <td>74.14</td>\n",
       "      <td>43.99</td>\n",
       "      <td>59.36</td>\n",
       "      <td>[1, 1, 0, 1, 1, 0, 0, 1, 1, 1, 1, 1, 0, 0, 1, ...</td>\n",
       "    </tr>\n",
       "    <tr>\n",
       "      <th>5</th>\n",
       "      <td>51.42</td>\n",
       "      <td>31.21</td>\n",
       "      <td>75.86</td>\n",
       "      <td>44.22</td>\n",
       "      <td>59.49</td>\n",
       "      <td>[1, 1, 0, 1, 1, 0, 0, 1, 1, 1, 1, 1, 0, 0, 1, ...</td>\n",
       "    </tr>\n",
       "    <tr>\n",
       "      <th>6</th>\n",
       "      <td>52.08</td>\n",
       "      <td>31.27</td>\n",
       "      <td>74.14</td>\n",
       "      <td>43.99</td>\n",
       "      <td>59.36</td>\n",
       "      <td>[1, 1, 0, 1, 1, 0, 0, 1, 1, 1, 1, 1, 0, 0, 1, ...</td>\n",
       "    </tr>\n",
       "    <tr>\n",
       "      <th>7</th>\n",
       "      <td>52.08</td>\n",
       "      <td>31.27</td>\n",
       "      <td>74.14</td>\n",
       "      <td>43.99</td>\n",
       "      <td>59.36</td>\n",
       "      <td>[1, 1, 0, 1, 1, 0, 0, 1, 1, 1, 1, 1, 0, 0, 1, ...</td>\n",
       "    </tr>\n",
       "    <tr>\n",
       "      <th>8</th>\n",
       "      <td>51.20</td>\n",
       "      <td>31.10</td>\n",
       "      <td>75.86</td>\n",
       "      <td>44.11</td>\n",
       "      <td>59.34</td>\n",
       "      <td>[1, 1, 0, 1, 1, 0, 0, 1, 1, 1, 1, 1, 0, 0, 1, ...</td>\n",
       "    </tr>\n",
       "    <tr>\n",
       "      <th>9</th>\n",
       "      <td>56.02</td>\n",
       "      <td>32.93</td>\n",
       "      <td>70.69</td>\n",
       "      <td>44.93</td>\n",
       "      <td>60.86</td>\n",
       "      <td>[1, 1, 0, 0, 1, 0, 0, 1, 1, 1, 1, 1, 0, 0, 1, ...</td>\n",
       "    </tr>\n",
       "  </tbody>\n",
       "</table>\n",
       "</div>"
      ],
      "text/plain": [
       "   Accuracy  Precision  Recall  F1 Score  AUROC  \\\n",
       "0     56.02      32.93   70.69     44.93  60.86   \n",
       "1     52.08      31.27   74.14     43.99  59.36   \n",
       "2     52.08      31.27   74.14     43.99  59.36   \n",
       "3     51.20      31.10   75.86     44.11  59.34   \n",
       "4     52.08      31.27   74.14     43.99  59.36   \n",
       "5     51.42      31.21   75.86     44.22  59.49   \n",
       "6     52.08      31.27   74.14     43.99  59.36   \n",
       "7     52.08      31.27   74.14     43.99  59.36   \n",
       "8     51.20      31.10   75.86     44.11  59.34   \n",
       "9     56.02      32.93   70.69     44.93  60.86   \n",
       "\n",
       "                                         Predictions  \n",
       "0  [1, 1, 0, 0, 1, 0, 0, 1, 1, 1, 1, 1, 0, 0, 1, ...  \n",
       "1  [1, 1, 0, 1, 1, 0, 0, 1, 1, 1, 1, 1, 0, 0, 1, ...  \n",
       "2  [1, 1, 0, 1, 1, 0, 0, 1, 1, 1, 1, 1, 0, 0, 1, ...  \n",
       "3  [1, 1, 0, 1, 1, 0, 0, 1, 1, 1, 1, 1, 0, 0, 1, ...  \n",
       "4  [1, 1, 0, 1, 1, 0, 0, 1, 1, 1, 1, 1, 0, 0, 1, ...  \n",
       "5  [1, 1, 0, 1, 1, 0, 0, 1, 1, 1, 1, 1, 0, 0, 1, ...  \n",
       "6  [1, 1, 0, 1, 1, 0, 0, 1, 1, 1, 1, 1, 0, 0, 1, ...  \n",
       "7  [1, 1, 0, 1, 1, 0, 0, 1, 1, 1, 1, 1, 0, 0, 1, ...  \n",
       "8  [1, 1, 0, 1, 1, 0, 0, 1, 1, 1, 1, 1, 0, 0, 1, ...  \n",
       "9  [1, 1, 0, 0, 1, 0, 0, 1, 1, 1, 1, 1, 0, 0, 1, ...  "
      ]
     },
     "execution_count": 7,
     "metadata": {},
     "output_type": "execute_result"
    }
   ],
   "source": [
    "data = {\n",
    "    'Accuracy': accuracy_list,\n",
    "    'Precision': precision_list,\n",
    "    'Recall': recall_list,\n",
    "    'F1 Score': f1_list,\n",
    "    'AUROC':auroc_list,\n",
    "    'Predictions': y_pred_list\n",
    "    \n",
    "}\n",
    "\n",
    "# 딕셔너리를 DataFrame으로 변환\n",
    "df = pd.DataFrame(data)\n",
    "df"
   ]
  },
  {
   "cell_type": "markdown",
   "id": "74ee0e47-4216-4493-b76f-32b4414f2fc0",
   "metadata": {},
   "source": [
    "### result"
   ]
  },
  {
   "cell_type": "code",
   "execution_count": 8,
   "id": "efa9650c-78cd-4494-a4cb-839679b04479",
   "metadata": {},
   "outputs": [],
   "source": [
    "df.to_csv('~/project/MIMIC-III/Model/Output/FINAL/DT/DT_'+str(per)+'%_output.csv', index=False)"
   ]
  },
  {
   "cell_type": "code",
   "execution_count": 9,
   "id": "6ece6e96-2fac-48d6-bbc0-d104def6ec54",
   "metadata": {},
   "outputs": [],
   "source": [
    "# # 그리고 싶은 confusion matrix index\n",
    "# idx = 1 \n",
    "\n",
    "# cm = confusion_matrix(test_data['y'], y_pred_list[idx])\n",
    "\n",
    "\n",
    "# # Confusion Matrix 시각화\n",
    "# cm_df = pd.DataFrame(cm, index=['Actual 0', 'Actual 1'], columns=['Predicted 0', 'Predicted 1'])\n",
    "# plt.figure(figsize=(6, 4))\n",
    "# sns.heatmap(cm_df, annot=True, fmt='d', cmap='Blues')\n",
    "# plt.title('Confusion Matrix')\n",
    "# plt.xlabel('Predicted Label')\n",
    "# plt.ylabel('Actual Label')\n",
    "# plt.show()\n",
    "\n",
    "# # Classification Report 출력\n",
    "# print(\"Classification Report:\")\n",
    "# print(classification_report(test_data['y'], y_pred))\n",
    "\n",
    "# # Precision-Recall Curve 계산 및 시각화\n",
    "# precision, recall, _ = precision_recall_curve(test_data['y'], best_model.predict_proba(X_test)[:, 1])\n",
    "# average_precision = auc(recall, precision)\n",
    "# plt.figure()\n",
    "# plt.step(recall, precision, color='b', alpha=0.2, where='post')\n",
    "# plt.fill_between(recall, precision, step='post', alpha=0.2, color='b')\n",
    "# plt.xlabel('Recall')\n",
    "# plt.ylabel('Precision')\n",
    "# plt.title(f'Precision-Recall Curve (AP = {average_precision:.2f})')\n",
    "# plt.show()\n",
    "\n",
    "# # Feature Importance 계산\n",
    "# feature_importance = best_model.feature_importances_\n",
    "\n",
    "# # Feature Importance 시각화\n",
    "# plt.figure(figsize=(10, 6))\n",
    "# sns.barplot(x=feature_importance, y=features)\n",
    "# plt.title('Feature Importance')\n",
    "# plt.xlabel('Importance')\n",
    "# plt.ylabel('Feature')\n",
    "# plt.show()"
   ]
  },
  {
   "cell_type": "code",
   "execution_count": null,
   "id": "82a2c1a9-fa90-452d-ad92-9ab02e378c30",
   "metadata": {},
   "outputs": [],
   "source": []
  },
  {
   "cell_type": "code",
   "execution_count": null,
   "id": "31b1d7b5-40ef-4b4b-b2a7-d89c5b79e3a9",
   "metadata": {},
   "outputs": [],
   "source": []
  }
 ],
 "metadata": {
  "kernelspec": {
   "display_name": "Python 3 (ipykernel)",
   "language": "python",
   "name": "python3"
  },
  "language_info": {
   "codemirror_mode": {
    "name": "ipython",
    "version": 3
   },
   "file_extension": ".py",
   "mimetype": "text/x-python",
   "name": "python",
   "nbconvert_exporter": "python",
   "pygments_lexer": "ipython3",
   "version": "3.9.12"
  }
 },
 "nbformat": 4,
 "nbformat_minor": 5
}
