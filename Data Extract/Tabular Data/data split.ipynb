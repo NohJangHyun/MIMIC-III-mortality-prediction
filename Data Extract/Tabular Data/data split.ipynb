{
 "cells": [
  {
   "cell_type": "code",
   "execution_count": 4,
   "id": "017bcfea-f5dd-40b8-96a5-36c6ec672033",
   "metadata": {},
   "outputs": [],
   "source": [
    "import pandas as pd\n",
    "from sklearn.model_selection import train_test_split"
   ]
  },
  {
   "cell_type": "code",
   "execution_count": 43,
   "id": "19899c64-0de9-4e27-9bb4-ca208a0313ae",
   "metadata": {},
   "outputs": [],
   "source": [
    "df = pd.read_csv(\"~/project/MIMIC-III/Data/FINAL/New_Demo+Lab/Demo_Lab(50%).csv\")"
   ]
  },
  {
   "cell_type": "code",
   "execution_count": 44,
   "id": "44b650b5-ea11-425f-8bbc-b7d350d4f3dc",
   "metadata": {},
   "outputs": [
    {
     "name": "stdout",
     "output_type": "stream",
     "text": [
      "훈련 세트 크기: (1825, 152)\n",
      "테스트 세트 크기: (457, 152)\n"
     ]
    }
   ],
   "source": [
    "# 데이터를 훈련 세트와 테스트 세트로 나눕니다 (예: 80% 훈련, 20% 테스트)\n",
    "train_data, test_data = train_test_split(df, test_size=0.2, random_state=42)\n",
    "\n",
    "# 나눈 데이터를 확인\n",
    "print(\"훈련 세트 크기:\", train_data.shape)\n",
    "print(\"테스트 세트 크기:\", test_data.shape)"
   ]
  },
  {
   "cell_type": "code",
   "execution_count": 45,
   "id": "51a78ff9-3386-4841-bc0e-ef70ff6a2813",
   "metadata": {},
   "outputs": [
    {
     "data": {
      "text/plain": [
       "0    0.732055\n",
       "1    0.267945\n",
       "Name: y, dtype: float64"
      ]
     },
     "execution_count": 45,
     "metadata": {},
     "output_type": "execute_result"
    }
   ],
   "source": [
    "train_y = train_data[\"y\"].value_counts(normalize=True)\n",
    "train_y"
   ]
  },
  {
   "cell_type": "code",
   "execution_count": 41,
   "id": "86d1f843-ec9b-41a1-b4fc-114d168c3971",
   "metadata": {},
   "outputs": [
    {
     "data": {
      "text/plain": [
       "0    0.746171\n",
       "1    0.253829\n",
       "Name: y, dtype: float64"
      ]
     },
     "execution_count": 41,
     "metadata": {},
     "output_type": "execute_result"
    }
   ],
   "source": [
    "test_y = test_data[\"y\"].value_counts(normalize=True)\n",
    "test_y"
   ]
  },
  {
   "cell_type": "code",
   "execution_count": 42,
   "id": "82538f0c-7c21-4e1f-a5a3-d903e25b20f2",
   "metadata": {},
   "outputs": [],
   "source": [
    "train_data.to_csv(\"~/project/MIMIC-III/Data/FINAL/Final Data_Split/train_data(30%).csv\", index=False)\n",
    "test_data.to_csv(\"~/project/MIMIC-III/Data/FINAL/Final Data_Split/test_data(30%).csv\", index=False)"
   ]
  },
  {
   "cell_type": "code",
   "execution_count": null,
   "id": "7ffc5579-16d8-4286-b4b2-2bf253de460a",
   "metadata": {},
   "outputs": [],
   "source": []
  }
 ],
 "metadata": {
  "kernelspec": {
   "display_name": "Python 3 (ipykernel)",
   "language": "python",
   "name": "python3"
  },
  "language_info": {
   "codemirror_mode": {
    "name": "ipython",
    "version": 3
   },
   "file_extension": ".py",
   "mimetype": "text/x-python",
   "name": "python",
   "nbconvert_exporter": "python",
   "pygments_lexer": "ipython3",
   "version": "3.9.12"
  }
 },
 "nbformat": 4,
 "nbformat_minor": 5
}
