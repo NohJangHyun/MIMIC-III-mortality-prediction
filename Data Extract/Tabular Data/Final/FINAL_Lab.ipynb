{
 "cells": [
  {
   "cell_type": "code",
   "execution_count": 1,
   "id": "2881e6d9-47c8-42c3-95de-b6f8a77224ea",
   "metadata": {},
   "outputs": [],
   "source": [
    "import pandas as pd\n",
    "import numpy as np\n",
    "from datetime import timedelta\n",
    "from scipy import stats"
   ]
  },
  {
   "cell_type": "markdown",
   "id": "1e43a925-b3b3-4b6c-972d-9b5a3289c5e2",
   "metadata": {
    "tags": []
   },
   "source": [
    "### 1. Categorical - mode"
   ]
  },
  {
   "cell_type": "code",
   "execution_count": 2,
   "id": "9fc803a6-bda0-4cc1-a58b-89c95fd0412e",
   "metadata": {},
   "outputs": [
    {
     "data": {
      "text/html": [
       "<div>\n",
       "<style scoped>\n",
       "    .dataframe tbody tr th:only-of-type {\n",
       "        vertical-align: middle;\n",
       "    }\n",
       "\n",
       "    .dataframe tbody tr th {\n",
       "        vertical-align: top;\n",
       "    }\n",
       "\n",
       "    .dataframe thead th {\n",
       "        text-align: right;\n",
       "    }\n",
       "</style>\n",
       "<table border=\"1\" class=\"dataframe\">\n",
       "  <thead>\n",
       "    <tr style=\"text-align: right;\">\n",
       "      <th></th>\n",
       "      <th>SUBJECT_ID</th>\n",
       "      <th>HADM_ID</th>\n",
       "      <th>ITEMID</th>\n",
       "      <th>CHARTTIME</th>\n",
       "      <th>VALUE</th>\n",
       "      <th>VALUENUM</th>\n",
       "      <th>LABEL</th>\n",
       "    </tr>\n",
       "  </thead>\n",
       "  <tbody>\n",
       "    <tr>\n",
       "      <th>0</th>\n",
       "      <td>101</td>\n",
       "      <td>175533</td>\n",
       "      <td>50828</td>\n",
       "      <td>2196-09-26 14:04:00</td>\n",
       "      <td>CONTROLLED</td>\n",
       "      <td>NaN</td>\n",
       "      <td>Ventilator</td>\n",
       "    </tr>\n",
       "    <tr>\n",
       "      <th>1</th>\n",
       "      <td>101</td>\n",
       "      <td>175533</td>\n",
       "      <td>50800</td>\n",
       "      <td>2196-09-26 19:38:00</td>\n",
       "      <td>ART</td>\n",
       "      <td>NaN</td>\n",
       "      <td>SPECIMEN TYPE</td>\n",
       "    </tr>\n",
       "    <tr>\n",
       "      <th>2</th>\n",
       "      <td>101</td>\n",
       "      <td>175533</td>\n",
       "      <td>51484</td>\n",
       "      <td>2196-09-26 12:59:00</td>\n",
       "      <td>NEG</td>\n",
       "      <td>NaN</td>\n",
       "      <td>Ketone</td>\n",
       "    </tr>\n",
       "    <tr>\n",
       "      <th>3</th>\n",
       "      <td>101</td>\n",
       "      <td>175533</td>\n",
       "      <td>51486</td>\n",
       "      <td>2196-09-26 12:59:00</td>\n",
       "      <td>NEG</td>\n",
       "      <td>NaN</td>\n",
       "      <td>Leukocytes</td>\n",
       "    </tr>\n",
       "    <tr>\n",
       "      <th>4</th>\n",
       "      <td>101</td>\n",
       "      <td>175533</td>\n",
       "      <td>51487</td>\n",
       "      <td>2196-09-26 12:59:00</td>\n",
       "      <td>NEG</td>\n",
       "      <td>NaN</td>\n",
       "      <td>Nitrite</td>\n",
       "    </tr>\n",
       "    <tr>\n",
       "      <th>...</th>\n",
       "      <td>...</td>\n",
       "      <td>...</td>\n",
       "      <td>...</td>\n",
       "      <td>...</td>\n",
       "      <td>...</td>\n",
       "      <td>...</td>\n",
       "      <td>...</td>\n",
       "    </tr>\n",
       "    <tr>\n",
       "      <th>69360</th>\n",
       "      <td>32800</td>\n",
       "      <td>179038</td>\n",
       "      <td>50800</td>\n",
       "      <td>2189-02-02 16:23:00</td>\n",
       "      <td>ART</td>\n",
       "      <td>NaN</td>\n",
       "      <td>SPECIMEN TYPE</td>\n",
       "    </tr>\n",
       "    <tr>\n",
       "      <th>69361</th>\n",
       "      <td>32800</td>\n",
       "      <td>179038</td>\n",
       "      <td>50812</td>\n",
       "      <td>2189-02-02 16:23:00</td>\n",
       "      <td>INTUBATED</td>\n",
       "      <td>NaN</td>\n",
       "      <td>Intubated</td>\n",
       "    </tr>\n",
       "    <tr>\n",
       "      <th>69362</th>\n",
       "      <td>32800</td>\n",
       "      <td>179038</td>\n",
       "      <td>50827</td>\n",
       "      <td>2189-02-02 16:23:00</td>\n",
       "      <td>20/</td>\n",
       "      <td>NaN</td>\n",
       "      <td>Ventilation Rate</td>\n",
       "    </tr>\n",
       "    <tr>\n",
       "      <th>69363</th>\n",
       "      <td>32800</td>\n",
       "      <td>179038</td>\n",
       "      <td>50800</td>\n",
       "      <td>2189-02-02 17:58:00</td>\n",
       "      <td>ART</td>\n",
       "      <td>NaN</td>\n",
       "      <td>SPECIMEN TYPE</td>\n",
       "    </tr>\n",
       "    <tr>\n",
       "      <th>69364</th>\n",
       "      <td>32800</td>\n",
       "      <td>179038</td>\n",
       "      <td>50882</td>\n",
       "      <td>2189-02-02 19:15:00</td>\n",
       "      <td>LESS THAN 5</td>\n",
       "      <td>NaN</td>\n",
       "      <td>Bicarbonate</td>\n",
       "    </tr>\n",
       "  </tbody>\n",
       "</table>\n",
       "<p>69365 rows × 7 columns</p>\n",
       "</div>"
      ],
      "text/plain": [
       "       SUBJECT_ID  HADM_ID  ITEMID            CHARTTIME        VALUE  \\\n",
       "0             101   175533   50828  2196-09-26 14:04:00   CONTROLLED   \n",
       "1             101   175533   50800  2196-09-26 19:38:00          ART   \n",
       "2             101   175533   51484  2196-09-26 12:59:00          NEG   \n",
       "3             101   175533   51486  2196-09-26 12:59:00          NEG   \n",
       "4             101   175533   51487  2196-09-26 12:59:00          NEG   \n",
       "...           ...      ...     ...                  ...          ...   \n",
       "69360       32800   179038   50800  2189-02-02 16:23:00          ART   \n",
       "69361       32800   179038   50812  2189-02-02 16:23:00    INTUBATED   \n",
       "69362       32800   179038   50827  2189-02-02 16:23:00          20/   \n",
       "69363       32800   179038   50800  2189-02-02 17:58:00          ART   \n",
       "69364       32800   179038   50882  2189-02-02 19:15:00  LESS THAN 5   \n",
       "\n",
       "       VALUENUM             LABEL  \n",
       "0           NaN        Ventilator  \n",
       "1           NaN     SPECIMEN TYPE  \n",
       "2           NaN            Ketone  \n",
       "3           NaN        Leukocytes  \n",
       "4           NaN           Nitrite  \n",
       "...         ...               ...  \n",
       "69360       NaN     SPECIMEN TYPE  \n",
       "69361       NaN         Intubated  \n",
       "69362       NaN  Ventilation Rate  \n",
       "69363       NaN     SPECIMEN TYPE  \n",
       "69364       NaN       Bicarbonate  \n",
       "\n",
       "[69365 rows x 7 columns]"
      ]
     },
     "execution_count": 2,
     "metadata": {},
     "output_type": "execute_result"
    }
   ],
   "source": [
    "df = pd.read_csv('~/project/MIMIC-III/Data/FINAL/Lab/LABORATORY_VALUE_24h_category.csv')\n",
    "df"
   ]
  },
  {
   "cell_type": "code",
   "execution_count": 3,
   "id": "32f3f16f-6c70-4ad4-a659-e19e85798318",
   "metadata": {},
   "outputs": [
    {
     "data": {
      "text/html": [
       "<div>\n",
       "<style scoped>\n",
       "    .dataframe tbody tr th:only-of-type {\n",
       "        vertical-align: middle;\n",
       "    }\n",
       "\n",
       "    .dataframe tbody tr th {\n",
       "        vertical-align: top;\n",
       "    }\n",
       "\n",
       "    .dataframe thead th {\n",
       "        text-align: right;\n",
       "    }\n",
       "</style>\n",
       "<table border=\"1\" class=\"dataframe\">\n",
       "  <thead>\n",
       "    <tr style=\"text-align: right;\">\n",
       "      <th></th>\n",
       "      <th>LABEL</th>\n",
       "      <th>COUNT</th>\n",
       "      <th>ITEMID</th>\n",
       "    </tr>\n",
       "  </thead>\n",
       "  <tbody>\n",
       "    <tr>\n",
       "      <th>0</th>\n",
       "      <td>SPECIMEN TYPE</td>\n",
       "      <td>9629</td>\n",
       "      <td>50800</td>\n",
       "    </tr>\n",
       "    <tr>\n",
       "      <th>1</th>\n",
       "      <td>Intubated</td>\n",
       "      <td>4870</td>\n",
       "      <td>50812</td>\n",
       "    </tr>\n",
       "    <tr>\n",
       "      <th>2</th>\n",
       "      <td>Ventilation Rate</td>\n",
       "      <td>2954</td>\n",
       "      <td>50827</td>\n",
       "    </tr>\n",
       "    <tr>\n",
       "      <th>3</th>\n",
       "      <td>Urine Color</td>\n",
       "      <td>2017</td>\n",
       "      <td>51508</td>\n",
       "    </tr>\n",
       "    <tr>\n",
       "      <th>4</th>\n",
       "      <td>Urine Appearance</td>\n",
       "      <td>2016</td>\n",
       "      <td>51506</td>\n",
       "    </tr>\n",
       "    <tr>\n",
       "      <th>5</th>\n",
       "      <td>Blood</td>\n",
       "      <td>2016</td>\n",
       "      <td>51466</td>\n",
       "    </tr>\n",
       "    <tr>\n",
       "      <th>6</th>\n",
       "      <td>Bilirubin</td>\n",
       "      <td>2015</td>\n",
       "      <td>51464</td>\n",
       "    </tr>\n",
       "    <tr>\n",
       "      <th>7</th>\n",
       "      <td>Nitrite</td>\n",
       "      <td>2015</td>\n",
       "      <td>51487</td>\n",
       "    </tr>\n",
       "    <tr>\n",
       "      <th>8</th>\n",
       "      <td>Leukocytes</td>\n",
       "      <td>1951</td>\n",
       "      <td>51486</td>\n",
       "    </tr>\n",
       "    <tr>\n",
       "      <th>9</th>\n",
       "      <td>Ketone</td>\n",
       "      <td>1761</td>\n",
       "      <td>51484</td>\n",
       "    </tr>\n",
       "    <tr>\n",
       "      <th>10</th>\n",
       "      <td>Glucose</td>\n",
       "      <td>1733</td>\n",
       "      <td>51478</td>\n",
       "    </tr>\n",
       "    <tr>\n",
       "      <th>11</th>\n",
       "      <td>Glucose</td>\n",
       "      <td>1733</td>\n",
       "      <td>50809</td>\n",
       "    </tr>\n",
       "    <tr>\n",
       "      <th>12</th>\n",
       "      <td>Yeast</td>\n",
       "      <td>1683</td>\n",
       "      <td>51519</td>\n",
       "    </tr>\n",
       "    <tr>\n",
       "      <th>13</th>\n",
       "      <td>Bacteria</td>\n",
       "      <td>1661</td>\n",
       "      <td>51463</td>\n",
       "    </tr>\n",
       "    <tr>\n",
       "      <th>14</th>\n",
       "      <td>Ventilator</td>\n",
       "      <td>1462</td>\n",
       "      <td>50828</td>\n",
       "    </tr>\n",
       "    <tr>\n",
       "      <th>15</th>\n",
       "      <td>Hypochromia</td>\n",
       "      <td>1438</td>\n",
       "      <td>51233</td>\n",
       "    </tr>\n",
       "    <tr>\n",
       "      <th>16</th>\n",
       "      <td>Macrocytes</td>\n",
       "      <td>1421</td>\n",
       "      <td>51246</td>\n",
       "    </tr>\n",
       "    <tr>\n",
       "      <th>17</th>\n",
       "      <td>Anisocytosis</td>\n",
       "      <td>1396</td>\n",
       "      <td>51137</td>\n",
       "    </tr>\n",
       "    <tr>\n",
       "      <th>18</th>\n",
       "      <td>Urobilinogen</td>\n",
       "      <td>1395</td>\n",
       "      <td>51514</td>\n",
       "    </tr>\n",
       "    <tr>\n",
       "      <th>19</th>\n",
       "      <td>Microcytes</td>\n",
       "      <td>1352</td>\n",
       "      <td>51252</td>\n",
       "    </tr>\n",
       "    <tr>\n",
       "      <th>20</th>\n",
       "      <td>Poikilocytosis</td>\n",
       "      <td>1336</td>\n",
       "      <td>51267</td>\n",
       "    </tr>\n",
       "  </tbody>\n",
       "</table>\n",
       "</div>"
      ],
      "text/plain": [
       "               LABEL  COUNT  ITEMID\n",
       "0      SPECIMEN TYPE   9629   50800\n",
       "1          Intubated   4870   50812\n",
       "2   Ventilation Rate   2954   50827\n",
       "3        Urine Color   2017   51508\n",
       "4   Urine Appearance   2016   51506\n",
       "5              Blood   2016   51466\n",
       "6          Bilirubin   2015   51464\n",
       "7            Nitrite   2015   51487\n",
       "8         Leukocytes   1951   51486\n",
       "9             Ketone   1761   51484\n",
       "10           Glucose   1733   51478\n",
       "11           Glucose   1733   50809\n",
       "12             Yeast   1683   51519\n",
       "13          Bacteria   1661   51463\n",
       "14        Ventilator   1462   50828\n",
       "15       Hypochromia   1438   51233\n",
       "16        Macrocytes   1421   51246\n",
       "17      Anisocytosis   1396   51137\n",
       "18      Urobilinogen   1395   51514\n",
       "19        Microcytes   1352   51252\n",
       "20    Poikilocytosis   1336   51267"
      ]
     },
     "execution_count": 3,
     "metadata": {},
     "output_type": "execute_result"
    }
   ],
   "source": [
    "top_20_labels = df['LABEL'].value_counts().head(20).reset_index()\n",
    "top_20_labels.columns = ['LABEL', 'COUNT']\n",
    "top_20_items = df[df['LABEL'].isin(top_20_labels['LABEL'])][['LABEL', 'ITEMID']].drop_duplicates()\n",
    "result_df = pd.merge(top_20_labels, top_20_items, on='LABEL', how='left')\n",
    "result_df"
   ]
  },
  {
   "cell_type": "markdown",
   "id": "859b74bf-6eea-4fb1-be21-880f5d0d3770",
   "metadata": {},
   "source": [
    "#### 1-1. SPECIMEN TYPE(모식)"
   ]
  },
  {
   "cell_type": "code",
   "execution_count": 4,
   "id": "36bde5d4-7823-4f26-9546-c1a16398f020",
   "metadata": {},
   "outputs": [
    {
     "name": "stdout",
     "output_type": "stream",
     "text": [
      "SUBJECT_ID와 HADM_ID 별로 mode 값이 두 개인 경우의 개수: 130\n"
     ]
    }
   ],
   "source": [
    "df1 = df[df['LABEL'] == 'SPECIMEN TYPE']\n",
    "# df1['VALUE'].value_counts()\n",
    "\n",
    "mode_counts = df1.groupby(['SUBJECT_ID', 'HADM_ID'])['VALUE'].transform(lambda x: x.mode().count())\n",
    "count_of_double_modes = (mode_counts == 2).sum()\n",
    "print(\"SUBJECT_ID와 HADM_ID 별로 mode 값이 두 개인 경우의 개수:\", count_of_double_modes)"
   ]
  },
  {
   "cell_type": "code",
   "execution_count": 5,
   "id": "a088f23a-6ac1-4ec8-a368-84ee654c807e",
   "metadata": {},
   "outputs": [
    {
     "data": {
      "text/plain": [
       "ART    1816\n",
       "VEN      26\n",
       "MIX       9\n",
       "Name: VALUE, dtype: int64"
      ]
     },
     "execution_count": 5,
     "metadata": {},
     "output_type": "execute_result"
    }
   ],
   "source": [
    "def mode_with_max_charttime(x):\n",
    "    mode_value = stats.mode(x['VALUE'])[0][0]  \n",
    "    max_charttime = x[x['VALUE'] == mode_value]['CHARTTIME'].max()  \n",
    "    return mode_value\n",
    "\n",
    "df2 = df1.groupby(['SUBJECT_ID', 'HADM_ID']).apply(mode_with_max_charttime).reset_index()\n",
    "df2.columns = ['SUBJECT_ID', 'HADM_ID', 'VALUE']\n",
    "# df2.to_csv('~/project/MIMIC-III/Data/FINAL/FINAL_LAB/Categorical/SPECIMEN TYPE.csv', index=False)\n",
    "\n",
    "df2['VALUE'].value_counts()"
   ]
  },
  {
   "cell_type": "markdown",
   "id": "0da8ba85-fa7f-4179-aea4-a3c56f7ae793",
   "metadata": {},
   "source": [
    "#### 1-2. Intubated(삽관)"
   ]
  },
  {
   "cell_type": "code",
   "execution_count": 6,
   "id": "b1d16218-74f0-4eae-8493-085fe1a3b7e6",
   "metadata": {},
   "outputs": [
    {
     "name": "stdout",
     "output_type": "stream",
     "text": [
      "SUBJECT_ID와 HADM_ID 별로 mode 값이 두 개인 경우의 개수: 124\n"
     ]
    }
   ],
   "source": [
    "df1 = df[df['LABEL'] == 'Intubated']\n",
    "# df1['VALUE'].value_counts()\n",
    "\n",
    "mode_counts = df1.groupby(['SUBJECT_ID', 'HADM_ID'])['VALUE'].transform(lambda x: x.mode().count())\n",
    "count_of_double_modes = (mode_counts == 2).sum()\n",
    "print(\"SUBJECT_ID와 HADM_ID 별로 mode 값이 두 개인 경우의 개수:\", count_of_double_modes)"
   ]
  },
  {
   "cell_type": "code",
   "execution_count": 7,
   "id": "15618ab2-dfed-486a-91b4-21913e387d30",
   "metadata": {},
   "outputs": [
    {
     "data": {
      "text/plain": [
       "INTUBATED        1440\n",
       "NOT INTUBATED     159\n",
       "Name: VALUE, dtype: int64"
      ]
     },
     "execution_count": 7,
     "metadata": {},
     "output_type": "execute_result"
    }
   ],
   "source": [
    "def mode_with_max_charttime(x):\n",
    "    mode_value = stats.mode(x['VALUE'])[0][0]  \n",
    "    max_charttime = x[x['VALUE'] == mode_value]['CHARTTIME'].max()  \n",
    "    return mode_value\n",
    "\n",
    "df2 = df1.groupby(['SUBJECT_ID', 'HADM_ID']).apply(mode_with_max_charttime).reset_index()\n",
    "df2.columns = ['SUBJECT_ID', 'HADM_ID', 'VALUE']\n",
    "# df2.to_csv('~/project/MIMIC-III/Data/FINAL/FINAL_LAB/Categorical/Intubated.csv', index=False)\n",
    "df2['VALUE'].value_counts()"
   ]
  },
  {
   "cell_type": "markdown",
   "id": "7a297fcd-1466-456f-b306-e4e5ee275337",
   "metadata": {},
   "source": [
    "#### 1-3. Ventilation Rate"
   ]
  },
  {
   "cell_type": "code",
   "execution_count": 63,
   "id": "6d5b226a-edad-4c8d-9ffc-62e0c1462e89",
   "metadata": {},
   "outputs": [
    {
     "name": "stdout",
     "output_type": "stream",
     "text": [
      "SUBJECT_ID와 HADM_ID 별로 mode 값이 두 개인 경우의 개수: 608\n"
     ]
    }
   ],
   "source": [
    "df1 = df[df['LABEL'] == 'Ventilation Rate']\n",
    "# df1['VALUE'].value_counts()\n",
    "\n",
    "mode_counts = df1.groupby(['SUBJECT_ID', 'HADM_ID'])['VALUE'].transform(lambda x: x.mode().count())\n",
    "count_of_double_modes = (mode_counts == 2).sum()\n",
    "print(\"SUBJECT_ID와 HADM_ID 별로 mode 값이 두 개인 경우의 개수:\", count_of_double_modes)"
   ]
  },
  {
   "cell_type": "code",
   "execution_count": 66,
   "id": "ca7d55da-b642-4ff6-998f-8c0f9859aa89",
   "metadata": {},
   "outputs": [
    {
     "name": "stdout",
     "output_type": "stream",
     "text": [
      "LABEL: Ventilation Rate\n",
      "Unique Label: 193\n"
     ]
    },
    {
     "data": {
      "text/plain": [
       "14/      90\n",
       "12/      76\n",
       "/12      63\n",
       "16/      63\n",
       "/14      62\n",
       "         ..\n",
       "20/14     1\n",
       "16/13     1\n",
       "24/9      1\n",
       "18/12     1\n",
       "28/14     1\n",
       "Name: VALUE, Length: 193, dtype: int64"
      ]
     },
     "execution_count": 66,
     "metadata": {},
     "output_type": "execute_result"
    }
   ],
   "source": [
    "def mode_with_max_charttime(x):\n",
    "    mode_value = stats.mode(x['VALUE'])[0][0]  \n",
    "    max_charttime = x[x['VALUE'] == mode_value]['CHARTTIME'].max()  \n",
    "    return mode_value\n",
    "\n",
    "df2 = df1.groupby(['SUBJECT_ID', 'HADM_ID']).apply(mode_with_max_charttime).reset_index()\n",
    "df2.columns = ['SUBJECT_ID', 'HADM_ID', 'VALUE']\n",
    "# df2.to_csv('~/project/MIMIC-III/Data/FINAL/FINAL_LAB/Categorical/Ventilation Rate.csv', index=False)\n",
    "print(\"LABEL: Ventilation Rate\")\n",
    "print(\"Unique Label:\", len(df2['VALUE'].value_counts()))\n",
    "df2['VALUE'].value_counts()"
   ]
  },
  {
   "cell_type": "markdown",
   "id": "c30fc0c4-a527-4a5d-9eb4-f6364553df7f",
   "metadata": {},
   "source": [
    "#### 1-4. Urine Color"
   ]
  },
  {
   "cell_type": "code",
   "execution_count": 10,
   "id": "94ca62a6-a39b-4122-93b3-0589982e28e8",
   "metadata": {},
   "outputs": [
    {
     "name": "stdout",
     "output_type": "stream",
     "text": [
      "SUBJECT_ID와 HADM_ID 별로 mode 값이 두 개인 경우의 개수: 272\n"
     ]
    }
   ],
   "source": [
    "df1 = df[df['LABEL'] == 'Urine Color']\n",
    "# df1['VALUE'].value_counts()\n",
    "\n",
    "mode_counts = df1.groupby(['SUBJECT_ID', 'HADM_ID'])['VALUE'].transform(lambda x: x.mode().count())\n",
    "count_of_double_modes = (mode_counts == 2).sum()\n",
    "print(\"SUBJECT_ID와 HADM_ID 별로 mode 값이 두 개인 경우의 개수:\", count_of_double_modes)"
   ]
  },
  {
   "cell_type": "code",
   "execution_count": 11,
   "id": "97971627-f339-4c06-9034-7bd1ba66fa1d",
   "metadata": {},
   "outputs": [
    {
     "data": {
      "text/plain": [
       "Yellow     801\n",
       "Straw      415\n",
       "Amber      254\n",
       "LtAmb       70\n",
       "YELLOW      42\n",
       "Red         18\n",
       "Orange      18\n",
       "STRAW       14\n",
       "DkAmb       13\n",
       "Brown       12\n",
       "AMBER        8\n",
       "RED          3\n",
       "DKAMBER      1\n",
       "Other        1\n",
       "Pink         1\n",
       "Black        1\n",
       "None         1\n",
       "PINK         1\n",
       "Lt           1\n",
       "GREEN        1\n",
       "Name: VALUE, dtype: int64"
      ]
     },
     "execution_count": 11,
     "metadata": {},
     "output_type": "execute_result"
    }
   ],
   "source": [
    "def mode_with_max_charttime(x):\n",
    "    mode_value = stats.mode(x['VALUE'])[0][0]  \n",
    "    max_charttime = x[x['VALUE'] == mode_value]['CHARTTIME'].max()  \n",
    "    return mode_value\n",
    "\n",
    "df2 = df1.groupby(['SUBJECT_ID', 'HADM_ID']).apply(mode_with_max_charttime).reset_index()\n",
    "df2.columns = ['SUBJECT_ID', 'HADM_ID', 'VALUE']\n",
    "# df2.to_csv('~/project/MIMIC-III/Data/FINAL/FINAL_LAB/Categorical/Urine Color.csv', index=False)\n",
    "df2['VALUE'].value_counts()"
   ]
  },
  {
   "cell_type": "markdown",
   "id": "b145cca1-4d8e-40e9-b69a-a3c8392869a7",
   "metadata": {},
   "source": [
    "#### 1-5. Blood"
   ]
  },
  {
   "cell_type": "code",
   "execution_count": 12,
   "id": "c1d6a15a-ca46-4101-8c8d-ab8638b46e7c",
   "metadata": {},
   "outputs": [
    {
     "name": "stdout",
     "output_type": "stream",
     "text": [
      "SUBJECT_ID와 HADM_ID 별로 mode 값이 두 개인 경우의 개수: 374\n"
     ]
    }
   ],
   "source": [
    "df1 = df[df['LABEL'] == 'Blood']\n",
    "# df1['VALUE'].value_counts()\n",
    "\n",
    "mode_counts = df1.groupby(['SUBJECT_ID', 'HADM_ID'])['VALUE'].transform(lambda x: x.mode().count())\n",
    "count_of_double_modes = (mode_counts == 2).sum()\n",
    "print(\"SUBJECT_ID와 HADM_ID 별로 mode 값이 두 개인 경우의 개수:\", count_of_double_modes)"
   ]
  },
  {
   "cell_type": "code",
   "execution_count": 13,
   "id": "802b3c06-f347-4e95-a11c-3fd0b7769eeb",
   "metadata": {},
   "outputs": [
    {
     "data": {
      "text/plain": [
       "LG     552\n",
       "NEG    493\n",
       "MOD    190\n",
       "SM     185\n",
       "LGE    135\n",
       "TR     120\n",
       "Name: VALUE, dtype: int64"
      ]
     },
     "execution_count": 13,
     "metadata": {},
     "output_type": "execute_result"
    }
   ],
   "source": [
    "def mode_with_max_charttime(x):\n",
    "    mode_value = stats.mode(x['VALUE'])[0][0]  \n",
    "    max_charttime = x[x['VALUE'] == mode_value]['CHARTTIME'].max()  \n",
    "    return mode_value\n",
    "\n",
    "df2 = df1.groupby(['SUBJECT_ID', 'HADM_ID']).apply(mode_with_max_charttime).reset_index()\n",
    "df2.columns = ['SUBJECT_ID', 'HADM_ID', 'VALUE']\n",
    "# df2.to_csv('~/project/MIMIC-III/Data/FINAL/FINAL_LAB/Categorical/Blood.csv', index=False)\n",
    "df2['VALUE'].value_counts()"
   ]
  },
  {
   "cell_type": "markdown",
   "id": "aafb0571-f420-4a7b-865c-6507edfddefe",
   "metadata": {},
   "source": [
    "#### 1-6. Urine Appearance"
   ]
  },
  {
   "cell_type": "code",
   "execution_count": 14,
   "id": "c1fd79e9-e68a-44f8-9ba5-fdb7f83ae31e",
   "metadata": {},
   "outputs": [
    {
     "name": "stdout",
     "output_type": "stream",
     "text": [
      "SUBJECT_ID와 HADM_ID 별로 mode 값이 두 개인 경우의 개수: 232\n"
     ]
    }
   ],
   "source": [
    "df1 = df[df['LABEL'] == 'Urine Appearance']\n",
    "# df1['VALUE'].value_counts()\n",
    "\n",
    "mode_counts = df1.groupby(['SUBJECT_ID', 'HADM_ID'])['VALUE'].transform(lambda x: x.mode().count())\n",
    "count_of_double_modes = (mode_counts == 2).sum()\n",
    "print(\"SUBJECT_ID와 HADM_ID 별로 mode 값이 두 개인 경우의 개수:\", count_of_double_modes)"
   ]
  },
  {
   "cell_type": "code",
   "execution_count": 15,
   "id": "8057c713-6a1c-466d-be53-3d0784ef73f9",
   "metadata": {},
   "outputs": [
    {
     "data": {
      "text/plain": [
       "Clear       1161\n",
       "Hazy         217\n",
       "Cloudy       151\n",
       "SlHazy        66\n",
       "CLEAR         33\n",
       "SlCldy        17\n",
       "HAZY          10\n",
       "SLHAZY         9\n",
       "CLOUDY         7\n",
       "SlCloudy       4\n",
       "Name: VALUE, dtype: int64"
      ]
     },
     "execution_count": 15,
     "metadata": {},
     "output_type": "execute_result"
    }
   ],
   "source": [
    "def mode_with_max_charttime(x):\n",
    "    mode_value = stats.mode(x['VALUE'])[0][0]  \n",
    "    max_charttime = x[x['VALUE'] == mode_value]['CHARTTIME'].max()  \n",
    "    return mode_value\n",
    "\n",
    "df2 = df1.groupby(['SUBJECT_ID', 'HADM_ID']).apply(mode_with_max_charttime).reset_index()\n",
    "df2.columns = ['SUBJECT_ID', 'HADM_ID', 'VALUE']\n",
    "# df2.to_csv('~/project/MIMIC-III/Data/FINAL/FINAL_LAB/Categorical/Urine Appearance.csv', index=False)\n",
    "df2['VALUE'].value_counts()"
   ]
  },
  {
   "cell_type": "markdown",
   "id": "f9e96ee4-a1ef-44ee-9ead-df17376530ca",
   "metadata": {},
   "source": [
    "#### 1-7. Nitrite"
   ]
  },
  {
   "cell_type": "code",
   "execution_count": 16,
   "id": "d405a9f8-e9f0-4c6d-8c5d-f7cae46b7483",
   "metadata": {},
   "outputs": [
    {
     "name": "stdout",
     "output_type": "stream",
     "text": [
      "SUBJECT_ID와 HADM_ID 별로 mode 값이 두 개인 경우의 개수: 46\n"
     ]
    }
   ],
   "source": [
    "df1 = df[df['LABEL'] == 'Nitrite']\n",
    "# df1['VALUE'].value_counts()\n",
    "\n",
    "mode_counts = df1.groupby(['SUBJECT_ID', 'HADM_ID'])['VALUE'].transform(lambda x: x.mode().count())\n",
    "count_of_double_modes = (mode_counts == 2).sum()\n",
    "print(\"SUBJECT_ID와 HADM_ID 별로 mode 값이 두 개인 경우의 개수:\", count_of_double_modes)"
   ]
  },
  {
   "cell_type": "code",
   "execution_count": 17,
   "id": "840313b1-e87b-4a1f-9117-99c392c559db",
   "metadata": {},
   "outputs": [
    {
     "data": {
      "text/plain": [
       "NEG    1584\n",
       "POS      91\n",
       "Name: VALUE, dtype: int64"
      ]
     },
     "execution_count": 17,
     "metadata": {},
     "output_type": "execute_result"
    }
   ],
   "source": [
    "def mode_with_max_charttime(x):\n",
    "    mode_value = stats.mode(x['VALUE'])[0][0]  \n",
    "    max_charttime = x[x['VALUE'] == mode_value]['CHARTTIME'].max()  \n",
    "    return mode_value\n",
    "\n",
    "df2 = df1.groupby(['SUBJECT_ID', 'HADM_ID']).apply(mode_with_max_charttime).reset_index()\n",
    "df2.columns = ['SUBJECT_ID', 'HADM_ID', 'VALUE']\n",
    "# df2.to_csv('~/project/MIMIC-III/Data/FINAL/FINAL_LAB/Categorical/Nitrite.csv', index=False)\n",
    "df2['VALUE'].value_counts()"
   ]
  },
  {
   "cell_type": "markdown",
   "id": "bffe2f92-4952-416c-8d44-04c12956d8cb",
   "metadata": {},
   "source": [
    "#### 1-8. Bilirubin"
   ]
  },
  {
   "cell_type": "code",
   "execution_count": 18,
   "id": "f2b78a7c-85aa-4a23-8e57-00d2e6ea6245",
   "metadata": {},
   "outputs": [
    {
     "name": "stdout",
     "output_type": "stream",
     "text": [
      "SUBJECT_ID와 HADM_ID 별로 mode 값이 두 개인 경우의 개수: 104\n"
     ]
    }
   ],
   "source": [
    "df1 = df[df['LABEL'] == 'Bilirubin']\n",
    "# df1['VALUE'].value_counts()\n",
    "\n",
    "mode_counts = df1.groupby(['SUBJECT_ID', 'HADM_ID'])['VALUE'].transform(lambda x: x.mode().count())\n",
    "count_of_double_modes = (mode_counts == 2).sum()\n",
    "print(\"SUBJECT_ID와 HADM_ID 별로 mode 값이 두 개인 경우의 개수:\", count_of_double_modes)"
   ]
  },
  {
   "cell_type": "code",
   "execution_count": 19,
   "id": "50623807-12fa-4939-a013-b1d70e944d75",
   "metadata": {},
   "outputs": [
    {
     "data": {
      "text/plain": [
       "NEG    1419\n",
       "SM      172\n",
       "MOD      53\n",
       "LG       31\n",
       "Name: VALUE, dtype: int64"
      ]
     },
     "execution_count": 19,
     "metadata": {},
     "output_type": "execute_result"
    }
   ],
   "source": [
    "def mode_with_max_charttime(x):\n",
    "    mode_value = stats.mode(x['VALUE'])[0][0]  \n",
    "    max_charttime = x[x['VALUE'] == mode_value]['CHARTTIME'].max()  \n",
    "    return mode_value\n",
    "\n",
    "df2 = df1.groupby(['SUBJECT_ID', 'HADM_ID']).apply(mode_with_max_charttime).reset_index()\n",
    "df2.columns = ['SUBJECT_ID', 'HADM_ID', 'VALUE']\n",
    "# df2.to_csv('~/project/MIMIC-III/Data/FINAL/FINAL_LAB/Categorical/Bilirubin.csv', index=False)\n",
    "df2['VALUE'].value_counts()"
   ]
  },
  {
   "cell_type": "markdown",
   "id": "85f39d2e-dc18-4960-859d-e6010651ef36",
   "metadata": {},
   "source": [
    "#### 1-9. Leukocytes"
   ]
  },
  {
   "cell_type": "code",
   "execution_count": 20,
   "id": "acbb35f0-cc35-4fc2-824a-fdc9a73d413f",
   "metadata": {},
   "outputs": [
    {
     "name": "stdout",
     "output_type": "stream",
     "text": [
      "SUBJECT_ID와 HADM_ID 별로 mode 값이 두 개인 경우의 개수: 166\n"
     ]
    }
   ],
   "source": [
    "df1 = df[df['LABEL'] == 'Leukocytes']\n",
    "# df1['VALUE'].value_counts()\n",
    "\n",
    "mode_counts = df1.groupby(['SUBJECT_ID', 'HADM_ID'])['VALUE'].transform(lambda x: x.mode().count())\n",
    "count_of_double_modes = (mode_counts == 2).sum()\n",
    "print(\"SUBJECT_ID와 HADM_ID 별로 mode 값이 두 개인 경우의 개수:\", count_of_double_modes)"
   ]
  },
  {
   "cell_type": "code",
   "execution_count": 21,
   "id": "f02ca4b3-5793-4866-8187-72db6c0c1ff2",
   "metadata": {},
   "outputs": [
    {
     "data": {
      "text/plain": [
       "NEG    1244\n",
       "MOD     152\n",
       "SM      111\n",
       "TR      101\n",
       "LG       10\n",
       "Name: VALUE, dtype: int64"
      ]
     },
     "execution_count": 21,
     "metadata": {},
     "output_type": "execute_result"
    }
   ],
   "source": [
    "def mode_with_max_charttime(x):\n",
    "    mode_value = stats.mode(x['VALUE'])[0][0]  \n",
    "    max_charttime = x[x['VALUE'] == mode_value]['CHARTTIME'].max()  \n",
    "    return mode_value\n",
    "\n",
    "df2 = df1.groupby(['SUBJECT_ID', 'HADM_ID']).apply(mode_with_max_charttime).reset_index()\n",
    "df2.columns = ['SUBJECT_ID', 'HADM_ID', 'VALUE']\n",
    "# df2.to_csv('~/project/MIMIC-III/Data/FINAL/FINAL_LAB/Categorical/Leukocytes.csv', index=False)\n",
    "df2['VALUE'].value_counts()"
   ]
  },
  {
   "cell_type": "markdown",
   "id": "8afbad46-0318-4cf9-b028-efb8727baef4",
   "metadata": {},
   "source": [
    "#### 1-10. Ketone"
   ]
  },
  {
   "cell_type": "code",
   "execution_count": 22,
   "id": "15917875-df60-4358-b19e-bf795e055b77",
   "metadata": {},
   "outputs": [
    {
     "name": "stdout",
     "output_type": "stream",
     "text": [
      "SUBJECT_ID와 HADM_ID 별로 mode 값이 두 개인 경우의 개수: 112\n"
     ]
    }
   ],
   "source": [
    "df1 = df[df['LABEL'] == 'Ketone']\n",
    "# df1['VALUE'].value_counts()\n",
    "\n",
    "mode_counts = df1.groupby(['SUBJECT_ID', 'HADM_ID'])['VALUE'].transform(lambda x: x.mode().count())\n",
    "count_of_double_modes = (mode_counts == 2).sum()\n",
    "print(\"SUBJECT_ID와 HADM_ID 별로 mode 값이 두 개인 경우의 개수:\", count_of_double_modes)"
   ]
  },
  {
   "cell_type": "code",
   "execution_count": 23,
   "id": "1db162fb-fb6b-4d2b-8108-360a845c6b0a",
   "metadata": {},
   "outputs": [
    {
     "data": {
      "text/plain": [
       "NEG    1189\n",
       "TR      307\n",
       ">80       5\n",
       "Name: VALUE, dtype: int64"
      ]
     },
     "execution_count": 23,
     "metadata": {},
     "output_type": "execute_result"
    }
   ],
   "source": [
    "def mode_with_max_charttime(x):\n",
    "    mode_value = stats.mode(x['VALUE'])[0][0]  \n",
    "    max_charttime = x[x['VALUE'] == mode_value]['CHARTTIME'].max()  \n",
    "    return mode_value\n",
    "\n",
    "df2 = df1.groupby(['SUBJECT_ID', 'HADM_ID']).apply(mode_with_max_charttime).reset_index()\n",
    "df2.columns = ['SUBJECT_ID', 'HADM_ID', 'VALUE']\n",
    "# df2.to_csv('~/project/MIMIC-III/Data/FINAL/FINAL_LAB/Categorical/Ketone.csv', index=False)\n",
    "df2['VALUE'].value_counts()"
   ]
  },
  {
   "cell_type": "markdown",
   "id": "7520576c-e6dc-46b8-b008-3fe0f12d30ec",
   "metadata": {},
   "source": [
    "#### 1-11/12. Glucose(51478/50809)"
   ]
  },
  {
   "cell_type": "code",
   "execution_count": 24,
   "id": "21ec686c-2f67-4f52-9cd3-b5d4a1332190",
   "metadata": {},
   "outputs": [
    {
     "name": "stdout",
     "output_type": "stream",
     "text": [
      "SUBJECT_ID와 HADM_ID 별로 mode 값이 두 개인 경우의 개수: 38\n"
     ]
    }
   ],
   "source": [
    "df1 = df[df['LABEL'] == 'Glucose']\n",
    "# df1['VALUE'].value_counts()\n",
    "\n",
    "mode_counts = df1.groupby(['SUBJECT_ID', 'HADM_ID'])['VALUE'].transform(lambda x: x.mode().count())\n",
    "count_of_double_modes = (mode_counts == 2).sum()\n",
    "print(\"SUBJECT_ID와 HADM_ID 별로 mode 값이 두 개인 경우의 개수:\", count_of_double_modes)"
   ]
  },
  {
   "cell_type": "code",
   "execution_count": 25,
   "id": "99e657e6-361a-41b8-af6c-cdd874970c65",
   "metadata": {},
   "outputs": [
    {
     "data": {
      "text/plain": [
       "NEG                                     1359\n",
       "TR                                        97\n",
       ">1000                                     14\n",
       "GREATER THAN 500                           1\n",
       "<10                                        1\n",
       "EXCEEDS REFERENCE RANGE OF 999 MG/DL       1\n",
       "INTERFERING SUBSTANCES                     1\n",
       "Name: VALUE, dtype: int64"
      ]
     },
     "execution_count": 25,
     "metadata": {},
     "output_type": "execute_result"
    }
   ],
   "source": [
    "def mode_with_max_charttime(x):\n",
    "    mode_value = stats.mode(x['VALUE'])[0][0]  \n",
    "    max_charttime = x[x['VALUE'] == mode_value]['CHARTTIME'].max()  \n",
    "    return mode_value\n",
    "\n",
    "df2 = df1.groupby(['SUBJECT_ID', 'HADM_ID']).apply(mode_with_max_charttime).reset_index()\n",
    "df2.columns = ['SUBJECT_ID', 'HADM_ID', 'VALUE']\n",
    "# df2.to_csv('~/project/MIMIC-III/Data/FINAL/FINAL_LAB/Categorical/Glucose.csv', index=False)\n",
    "df2['VALUE'].value_counts()"
   ]
  },
  {
   "cell_type": "markdown",
   "id": "91eb803f-6b13-4368-9394-8d917fb96d04",
   "metadata": {},
   "source": [
    "#### 1-13. Yeast"
   ]
  },
  {
   "cell_type": "code",
   "execution_count": 26,
   "id": "624bd467-dbb6-4b70-9196-27c4c04a186c",
   "metadata": {},
   "outputs": [
    {
     "name": "stdout",
     "output_type": "stream",
     "text": [
      "SUBJECT_ID와 HADM_ID 별로 mode 값이 두 개인 경우의 개수: 40\n"
     ]
    }
   ],
   "source": [
    "df1 = df[df['LABEL'] == 'Yeast']\n",
    "# df1['VALUE'].value_counts()\n",
    "\n",
    "mode_counts = df1.groupby(['SUBJECT_ID', 'HADM_ID'])['VALUE'].transform(lambda x: x.mode().count())\n",
    "count_of_double_modes = (mode_counts == 2).sum()\n",
    "print(\"SUBJECT_ID와 HADM_ID 별로 mode 값이 두 개인 경우의 개수:\", count_of_double_modes)"
   ]
  },
  {
   "cell_type": "code",
   "execution_count": 27,
   "id": "622996aa-0ced-469a-8a63-aa864d4025aa",
   "metadata": {},
   "outputs": [
    {
     "data": {
      "text/plain": [
       "NONE       1326\n",
       "FEW          26\n",
       "MANY         24\n",
       "MOD          22\n",
       "OCC          17\n",
       "RARE          9\n",
       "              3\n",
       "NOTDONE       1\n",
       "Name: VALUE, dtype: int64"
      ]
     },
     "execution_count": 27,
     "metadata": {},
     "output_type": "execute_result"
    }
   ],
   "source": [
    "def mode_with_max_charttime(x):\n",
    "    mode_value = stats.mode(x['VALUE'])[0][0]  \n",
    "    max_charttime = x[x['VALUE'] == mode_value]['CHARTTIME'].max()  \n",
    "    return mode_value\n",
    "\n",
    "df2 = df1.groupby(['SUBJECT_ID', 'HADM_ID']).apply(mode_with_max_charttime).reset_index()\n",
    "df2.columns = ['SUBJECT_ID', 'HADM_ID', 'VALUE']\n",
    "# df2.to_csv('~/project/MIMIC-III/Data/FINAL/FINAL_LAB/Categorical/Yeast.csv', index=False)\n",
    "df2['VALUE'].value_counts()"
   ]
  },
  {
   "cell_type": "markdown",
   "id": "cc0912af-2328-46fc-be99-b51d520a0daa",
   "metadata": {},
   "source": [
    "#### 1-14. Bacteria"
   ]
  },
  {
   "cell_type": "code",
   "execution_count": 71,
   "id": "5cdcba64-e3be-4b02-9069-6530d532f282",
   "metadata": {},
   "outputs": [
    {
     "name": "stdout",
     "output_type": "stream",
     "text": [
      "SUBJECT_ID와 HADM_ID 별로 mode 값이 두 개인 경우의 개수: 282\n"
     ]
    }
   ],
   "source": [
    "df1 = df[df['LABEL'] == 'Bacteria']\n",
    "# df1['VALUE'].value_counts()\n",
    "\n",
    "mode_counts = df1.groupby(['SUBJECT_ID', 'HADM_ID'])['VALUE'].transform(lambda x: x.mode().count())\n",
    "count_of_double_modes = (mode_counts == 2).sum()\n",
    "print(\"SUBJECT_ID와 HADM_ID 별로 mode 값이 두 개인 경우의 개수:\", count_of_double_modes)"
   ]
  },
  {
   "cell_type": "code",
   "execution_count": 72,
   "id": "d769282a-12d9-4721-aaee-4262547fb668",
   "metadata": {},
   "outputs": [
    {
     "name": "stdout",
     "output_type": "stream",
     "text": [
      "Label: Bacteria\n"
     ]
    },
    {
     "data": {
      "text/plain": [
       "NONE       359\n",
       "FEW        342\n",
       "OCC        216\n",
       "MOD        180\n",
       "MANY       160\n",
       "RARE       126\n",
       "NEG         26\n",
       "             3\n",
       "NOTDONE      1\n",
       "F            1\n",
       "Name: VALUE, dtype: int64"
      ]
     },
     "execution_count": 72,
     "metadata": {},
     "output_type": "execute_result"
    }
   ],
   "source": [
    "def mode_with_max_charttime(x):\n",
    "    mode_value = stats.mode(x['VALUE'])[0][0]  \n",
    "    max_charttime = x[x['VALUE'] == mode_value]['CHARTTIME'].max()  \n",
    "    return mode_value\n",
    "\n",
    "df2 = df1.groupby(['SUBJECT_ID', 'HADM_ID']).apply(mode_with_max_charttime).reset_index()\n",
    "df2.columns = ['SUBJECT_ID', 'HADM_ID', 'VALUE']\n",
    "# df2.to_csv('~/project/MIMIC-III/Data/FINAL/FINAL_LAB/Categorical/Bacteria.csv', index=False)\n",
    "print(\"Label: Bacteria\")\n",
    "df2['VALUE'].value_counts()"
   ]
  },
  {
   "cell_type": "markdown",
   "id": "951f1f05-1a0f-40c5-ae10-86292ba8c42a",
   "metadata": {
    "tags": []
   },
   "source": [
    "#### 1-15. Ventilator"
   ]
  },
  {
   "cell_type": "code",
   "execution_count": 30,
   "id": "cd266fac-e4fd-4e7b-b4f2-dfe6df322bcf",
   "metadata": {},
   "outputs": [
    {
     "name": "stdout",
     "output_type": "stream",
     "text": [
      "SUBJECT_ID와 HADM_ID 별로 mode 값이 두 개인 경우의 개수: 122\n"
     ]
    }
   ],
   "source": [
    "# 24h mode 가져오기, mode 2개인 경우 가장 최근 값으로\n",
    "df1 = df[df['LABEL'] == 'Ventilator']\n",
    "# df1['VALUE'].value_counts()\n",
    "\n",
    "mode_counts = df1.groupby(['SUBJECT_ID', 'HADM_ID'])['VALUE'].transform(lambda x: x.mode().count())\n",
    "count_of_double_modes = (mode_counts == 2).sum()\n",
    "print(\"SUBJECT_ID와 HADM_ID 별로 mode 값이 두 개인 경우의 개수:\", count_of_double_modes)"
   ]
  },
  {
   "cell_type": "code",
   "execution_count": 31,
   "id": "1b066095-d321-47fb-9ba9-0a0e382ff4ab",
   "metadata": {},
   "outputs": [
    {
     "data": {
      "text/plain": [
       "CONTROLLED     476\n",
       "SPONTANEOUS    187\n",
       "IMV            149\n",
       "Name: VALUE, dtype: int64"
      ]
     },
     "execution_count": 31,
     "metadata": {},
     "output_type": "execute_result"
    }
   ],
   "source": [
    "def mode_with_max_charttime(x):\n",
    "    mode_value = stats.mode(x['VALUE'])[0][0]  \n",
    "    max_charttime = x[x['VALUE'] == mode_value]['CHARTTIME'].max()  \n",
    "    return mode_value\n",
    "\n",
    "df2 = df1.groupby(['SUBJECT_ID', 'HADM_ID']).apply(mode_with_max_charttime).reset_index()\n",
    "df2.columns = ['SUBJECT_ID', 'HADM_ID', 'VALUE']\n",
    "# df2.to_csv('~/project/MIMIC-III/Data/FINAL/FINAL_LAB/Categorical/Ventilator.csv', index=False)\n",
    "df2['VALUE'].value_counts()"
   ]
  },
  {
   "cell_type": "markdown",
   "id": "295b9d92-e70a-40d6-8c77-5133b9b7396c",
   "metadata": {},
   "source": [
    "#### 1-16. Hypochromia "
   ]
  },
  {
   "cell_type": "code",
   "execution_count": 32,
   "id": "6afbcf11-c93a-4acb-a635-d8abd6aef943",
   "metadata": {},
   "outputs": [
    {
     "name": "stdout",
     "output_type": "stream",
     "text": [
      "SUBJECT_ID와 HADM_ID 별로 mode 값이 두 개인 경우의 개수: 142\n"
     ]
    }
   ],
   "source": [
    "df1 = df[df['LABEL'] == 'Hypochromia']\n",
    "# df1['VALUE'].value_counts()\n",
    "\n",
    "mode_counts = df1.groupby(['SUBJECT_ID', 'HADM_ID'])['VALUE'].transform(lambda x: x.mode().count())\n",
    "count_of_double_modes = (mode_counts == 2).sum()\n",
    "print(\"SUBJECT_ID와 HADM_ID 별로 mode 값이 두 개인 경우의 개수:\", count_of_double_modes)"
   ]
  },
  {
   "cell_type": "code",
   "execution_count": 33,
   "id": "1173d6ad-68ee-43ab-b83f-069080e0542d",
   "metadata": {},
   "outputs": [
    {
     "data": {
      "text/plain": [
       "NORMAL        606\n",
       "1+            289\n",
       "2+            121\n",
       "3+            109\n",
       "OCCASIONAL     24\n",
       "Name: VALUE, dtype: int64"
      ]
     },
     "execution_count": 33,
     "metadata": {},
     "output_type": "execute_result"
    }
   ],
   "source": [
    "def mode_with_max_charttime(x):\n",
    "    mode_value = stats.mode(x['VALUE'])[0][0]  \n",
    "    max_charttime = x[x['VALUE'] == mode_value]['CHARTTIME'].max()  \n",
    "    return mode_value\n",
    "\n",
    "df2 = df1.groupby(['SUBJECT_ID', 'HADM_ID']).apply(mode_with_max_charttime).reset_index()\n",
    "df2.columns = ['SUBJECT_ID', 'HADM_ID', 'VALUE']\n",
    "# df2.to_csv('~/project/MIMIC-III/Data/FINAL/FINAL_LAB/Categorical/Hypochromia.csv', index=False)\n",
    "df2['VALUE'].value_counts()"
   ]
  },
  {
   "cell_type": "markdown",
   "id": "9519bc7c-81f6-47d2-9a22-be77f6500cea",
   "metadata": {},
   "source": [
    "#### 1-17. Macrocytes "
   ]
  },
  {
   "cell_type": "code",
   "execution_count": 34,
   "id": "6f4be4c7-ebe3-4f7e-86fe-315e0fbb659b",
   "metadata": {},
   "outputs": [
    {
     "name": "stdout",
     "output_type": "stream",
     "text": [
      "SUBJECT_ID와 HADM_ID 별로 mode 값이 두 개인 경우의 개수: 158\n"
     ]
    }
   ],
   "source": [
    "df1 = df[df['LABEL'] == 'Macrocytes']\n",
    "# df1['VALUE'].value_counts()\n",
    "\n",
    "mode_counts = df1.groupby(['SUBJECT_ID', 'HADM_ID'])['VALUE'].transform(lambda x: x.mode().count())\n",
    "count_of_double_modes = (mode_counts == 2).sum()\n",
    "print(\"SUBJECT_ID와 HADM_ID 별로 mode 값이 두 개인 경우의 개수:\", count_of_double_modes)"
   ]
  },
  {
   "cell_type": "code",
   "execution_count": 35,
   "id": "87d8cfb6-2d23-4524-8ecf-6a185ebd3fc5",
   "metadata": {},
   "outputs": [
    {
     "data": {
      "text/plain": [
       "NORMAL        633\n",
       "1+            302\n",
       "2+            117\n",
       "3+             50\n",
       "OCCASIONAL     39\n",
       "Name: VALUE, dtype: int64"
      ]
     },
     "execution_count": 35,
     "metadata": {},
     "output_type": "execute_result"
    }
   ],
   "source": [
    "def mode_with_max_charttime(x):\n",
    "    mode_value = stats.mode(x['VALUE'])[0][0]  \n",
    "    max_charttime = x[x['VALUE'] == mode_value]['CHARTTIME'].max()  \n",
    "    return mode_value\n",
    "\n",
    "df2 = df1.groupby(['SUBJECT_ID', 'HADM_ID']).apply(mode_with_max_charttime).reset_index()\n",
    "df2.columns = ['SUBJECT_ID', 'HADM_ID', 'VALUE']\n",
    "# df2.to_csv('~/project/MIMIC-III/Data/FINAL/FINAL_LAB/Categorical/Macrocytes.csv', index=False)\n",
    "df2['VALUE'].value_counts()"
   ]
  },
  {
   "cell_type": "markdown",
   "id": "c724829f-a3e1-41ca-aa79-d6b205c0aa72",
   "metadata": {},
   "source": [
    "#### 1-18. Anisocytosis"
   ]
  },
  {
   "cell_type": "code",
   "execution_count": 36,
   "id": "bcc0c51e-134d-4e83-a925-e2438eb4acb9",
   "metadata": {},
   "outputs": [
    {
     "name": "stdout",
     "output_type": "stream",
     "text": [
      "SUBJECT_ID와 HADM_ID 별로 mode 값이 두 개인 경우의 개수: 160\n"
     ]
    }
   ],
   "source": [
    "df1 = df[df['LABEL'] == 'Anisocytosis']\n",
    "# df1['VALUE'].value_counts()\n",
    "\n",
    "mode_counts = df1.groupby(['SUBJECT_ID', 'HADM_ID'])['VALUE'].transform(lambda x: x.mode().count())\n",
    "count_of_double_modes = (mode_counts == 2).sum()\n",
    "print(\"SUBJECT_ID와 HADM_ID 별로 mode 값이 두 개인 경우의 개수:\", count_of_double_modes)"
   ]
  },
  {
   "cell_type": "code",
   "execution_count": 37,
   "id": "a0b1620a-f833-47bb-a0ab-050eb88071a5",
   "metadata": {},
   "outputs": [
    {
     "data": {
      "text/plain": [
       "NORMAL        481\n",
       "1+            450\n",
       "2+            138\n",
       "OCCASIONAL     29\n",
       "3+             18\n",
       "Name: VALUE, dtype: int64"
      ]
     },
     "execution_count": 37,
     "metadata": {},
     "output_type": "execute_result"
    }
   ],
   "source": [
    "def mode_with_max_charttime(x):\n",
    "    mode_value = stats.mode(x['VALUE'])[0][0]  \n",
    "    max_charttime = x[x['VALUE'] == mode_value]['CHARTTIME'].max()  \n",
    "    return mode_value\n",
    "\n",
    "df2 = df1.groupby(['SUBJECT_ID', 'HADM_ID']).apply(mode_with_max_charttime).reset_index()\n",
    "df2.columns = ['SUBJECT_ID', 'HADM_ID', 'VALUE']\n",
    "# df2.to_csv('~/project/MIMIC-III/Data/FINAL/FINAL_LAB/Categorical/Anisocytosis.csv', index=False)\n",
    "df2['VALUE'].value_counts()"
   ]
  },
  {
   "cell_type": "markdown",
   "id": "7595bb6d-3b71-4b44-9f5c-f4c74082244c",
   "metadata": {},
   "source": [
    "#### 1-19. Urobilinogen"
   ]
  },
  {
   "cell_type": "code",
   "execution_count": 68,
   "id": "47e94b68-2a51-48a5-9de3-f70acd3ca6cf",
   "metadata": {},
   "outputs": [
    {
     "name": "stdout",
     "output_type": "stream",
     "text": [
      "SUBJECT_ID와 HADM_ID 별로 mode 값이 두 개인 경우의 개수: 0\n"
     ]
    }
   ],
   "source": [
    "df1 = df[df['LABEL'] == 'Urobilinogen']\n",
    "# df1['VALUE'].value_counts()\n",
    "\n",
    "mode_counts = df1.groupby(['SUBJECT_ID', 'HADM_ID'])['VALUE'].transform(lambda x: x.mode().count())\n",
    "count_of_double_modes = (mode_counts == 2).sum()\n",
    "print(\"SUBJECT_ID와 HADM_ID 별로 mode 값이 두 개인 경우의 개수:\", count_of_double_modes)"
   ]
  },
  {
   "cell_type": "code",
   "execution_count": 69,
   "id": "acc931e6-9301-44cc-84a3-8c7c51cc5cea",
   "metadata": {},
   "outputs": [
    {
     "data": {
      "text/plain": [
       "NEG    1184\n",
       ">8        1\n",
       "          1\n",
       "Name: VALUE, dtype: int64"
      ]
     },
     "execution_count": 69,
     "metadata": {},
     "output_type": "execute_result"
    }
   ],
   "source": [
    "def mode_with_max_charttime(x):\n",
    "    mode_value = stats.mode(x['VALUE'])[0][0]  \n",
    "    max_charttime = x[x['VALUE'] == mode_value]['CHARTTIME'].max()  \n",
    "    return mode_value\n",
    "\n",
    "df2 = df1.groupby(['SUBJECT_ID', 'HADM_ID']).apply(mode_with_max_charttime).reset_index()\n",
    "df2.columns = ['SUBJECT_ID', 'HADM_ID', 'VALUE']\n",
    "# df2.to_csv('~/project/MIMIC-III/Data/FINAL/FINAL_LAB/Categorical/Urobilinogen.csv', index=False)\n",
    "df2['VALUE'].value_counts()"
   ]
  },
  {
   "cell_type": "markdown",
   "id": "7ee2da76-577e-4920-b6de-fa26cb784fa2",
   "metadata": {},
   "source": [
    "#### 1-20. Poikilocytosis"
   ]
  },
  {
   "cell_type": "code",
   "execution_count": 40,
   "id": "99775b7c-1337-4434-86c3-1e580799e863",
   "metadata": {},
   "outputs": [
    {
     "name": "stdout",
     "output_type": "stream",
     "text": [
      "SUBJECT_ID와 HADM_ID 별로 mode 값이 두 개인 경우의 개수: 154\n"
     ]
    }
   ],
   "source": [
    "df1 = df[df['LABEL'] == 'Poikilocytosis']\n",
    "# df1['VALUE'].value_counts()\n",
    "\n",
    "mode_counts = df1.groupby(['SUBJECT_ID', 'HADM_ID'])['VALUE'].transform(lambda x: x.mode().count())\n",
    "count_of_double_modes = (mode_counts == 2).sum()\n",
    "print(\"SUBJECT_ID와 HADM_ID 별로 mode 값이 두 개인 경우의 개수:\", count_of_double_modes)"
   ]
  },
  {
   "cell_type": "code",
   "execution_count": 41,
   "id": "b819b630-b404-4960-81a9-f5d3bfad71a4",
   "metadata": {},
   "outputs": [
    {
     "data": {
      "text/plain": [
       "NORMAL        585\n",
       "1+            332\n",
       "OCCASIONAL     76\n",
       "2+             70\n",
       "3+             11\n",
       "Name: VALUE, dtype: int64"
      ]
     },
     "execution_count": 41,
     "metadata": {},
     "output_type": "execute_result"
    }
   ],
   "source": [
    "def mode_with_max_charttime(x):\n",
    "    mode_value = stats.mode(x['VALUE'])[0][0]  \n",
    "    max_charttime = x[x['VALUE'] == mode_value]['CHARTTIME'].max()  \n",
    "    return mode_value\n",
    "\n",
    "df2 = df1.groupby(['SUBJECT_ID', 'HADM_ID']).apply(mode_with_max_charttime).reset_index()\n",
    "df2.columns = ['SUBJECT_ID', 'HADM_ID', 'VALUE']\n",
    "# df2.to_csv('~/project/MIMIC-III/Data/FINAL/FINAL_LAB/Categorical/Poikilocytosis.csv', index=False)\n",
    "df2['VALUE'].value_counts()"
   ]
  },
  {
   "cell_type": "code",
   "execution_count": 50,
   "id": "ea81b898-9c3a-4614-8079-e94e7c8bc8e3",
   "metadata": {},
   "outputs": [],
   "source": [
    "# [130+124+608+272+374+232+46+104+166+112+38+40+282+122+142+158+160+0+154]"
   ]
  },
  {
   "cell_type": "markdown",
   "id": "e629f241-7e42-4f74-b71b-cde601a7ae1a",
   "metadata": {
    "tags": []
   },
   "source": [
    "### 2. Numerical - mean, max, min"
   ]
  },
  {
   "cell_type": "code",
   "execution_count": 42,
   "id": "bd310562-274e-41d8-aca6-37c1341c24a6",
   "metadata": {},
   "outputs": [
    {
     "data": {
      "text/html": [
       "<div>\n",
       "<style scoped>\n",
       "    .dataframe tbody tr th:only-of-type {\n",
       "        vertical-align: middle;\n",
       "    }\n",
       "\n",
       "    .dataframe tbody tr th {\n",
       "        vertical-align: top;\n",
       "    }\n",
       "\n",
       "    .dataframe thead th {\n",
       "        text-align: right;\n",
       "    }\n",
       "</style>\n",
       "<table border=\"1\" class=\"dataframe\">\n",
       "  <thead>\n",
       "    <tr style=\"text-align: right;\">\n",
       "      <th></th>\n",
       "      <th>SUBJECT_ID</th>\n",
       "      <th>HADM_ID</th>\n",
       "      <th>ITEMID</th>\n",
       "      <th>VALUENUM</th>\n",
       "    </tr>\n",
       "  </thead>\n",
       "  <tbody>\n",
       "    <tr>\n",
       "      <th>0</th>\n",
       "      <td>101</td>\n",
       "      <td>175533</td>\n",
       "      <td>50801</td>\n",
       "      <td>622.000000</td>\n",
       "    </tr>\n",
       "    <tr>\n",
       "      <th>1</th>\n",
       "      <td>101</td>\n",
       "      <td>175533</td>\n",
       "      <td>50802</td>\n",
       "      <td>-9.000000</td>\n",
       "    </tr>\n",
       "    <tr>\n",
       "      <th>2</th>\n",
       "      <td>101</td>\n",
       "      <td>175533</td>\n",
       "      <td>50804</td>\n",
       "      <td>16.750000</td>\n",
       "    </tr>\n",
       "    <tr>\n",
       "      <th>3</th>\n",
       "      <td>101</td>\n",
       "      <td>175533</td>\n",
       "      <td>50808</td>\n",
       "      <td>1.053333</td>\n",
       "    </tr>\n",
       "    <tr>\n",
       "      <th>4</th>\n",
       "      <td>101</td>\n",
       "      <td>175533</td>\n",
       "      <td>50809</td>\n",
       "      <td>218.000000</td>\n",
       "    </tr>\n",
       "    <tr>\n",
       "      <th>...</th>\n",
       "      <td>...</td>\n",
       "      <td>...</td>\n",
       "      <td>...</td>\n",
       "      <td>...</td>\n",
       "    </tr>\n",
       "    <tr>\n",
       "      <th>121511</th>\n",
       "      <td>32800</td>\n",
       "      <td>179038</td>\n",
       "      <td>51478</td>\n",
       "      <td>100.000000</td>\n",
       "    </tr>\n",
       "    <tr>\n",
       "      <th>121512</th>\n",
       "      <td>32800</td>\n",
       "      <td>179038</td>\n",
       "      <td>51484</td>\n",
       "      <td>50.000000</td>\n",
       "    </tr>\n",
       "    <tr>\n",
       "      <th>121513</th>\n",
       "      <td>32800</td>\n",
       "      <td>179038</td>\n",
       "      <td>51491</td>\n",
       "      <td>5.000000</td>\n",
       "    </tr>\n",
       "    <tr>\n",
       "      <th>121514</th>\n",
       "      <td>32800</td>\n",
       "      <td>179038</td>\n",
       "      <td>51498</td>\n",
       "      <td>1.020500</td>\n",
       "    </tr>\n",
       "    <tr>\n",
       "      <th>121515</th>\n",
       "      <td>32800</td>\n",
       "      <td>179038</td>\n",
       "      <td>51514</td>\n",
       "      <td>1.000000</td>\n",
       "    </tr>\n",
       "  </tbody>\n",
       "</table>\n",
       "<p>121516 rows × 4 columns</p>\n",
       "</div>"
      ],
      "text/plain": [
       "        SUBJECT_ID  HADM_ID  ITEMID    VALUENUM\n",
       "0              101   175533   50801  622.000000\n",
       "1              101   175533   50802   -9.000000\n",
       "2              101   175533   50804   16.750000\n",
       "3              101   175533   50808    1.053333\n",
       "4              101   175533   50809  218.000000\n",
       "...            ...      ...     ...         ...\n",
       "121511       32800   179038   51478  100.000000\n",
       "121512       32800   179038   51484   50.000000\n",
       "121513       32800   179038   51491    5.000000\n",
       "121514       32800   179038   51498    1.020500\n",
       "121515       32800   179038   51514    1.000000\n",
       "\n",
       "[121516 rows x 4 columns]"
      ]
     },
     "execution_count": 42,
     "metadata": {},
     "output_type": "execute_result"
    }
   ],
   "source": [
    "result = pd.read_csv('~/project/MIMIC-III/Data/FINAL/Lab/Lab_Result.csv')\n",
    "patients = pd.read_csv('~/project/MIMIC-III/Data/OI&OSI/new_OI&OSI(down).csv')\n",
    "\n",
    "df_mean = pd.read_csv('~/project/MIMIC-III/Data/FINAL/Lab/LABORATORY_VALUE_24h_mean.csv')\n",
    "# df_mean = pd.read_csv('~/project/MIMIC-III/Data/FINAL/Lab/LABORATORY_VALUE_24h_max.csv')\n",
    "# df_mean = pd.read_csv('~/project/MIMIC-III/Data/FINAL/Lab/LABORATORY_VALUE_24h_min.csv')\n",
    "df_mean"
   ]
  },
  {
   "cell_type": "code",
   "execution_count": 43,
   "id": "1410485c-f756-4c89-bf6b-a66ed16fcac2",
   "metadata": {},
   "outputs": [
    {
     "data": {
      "text/html": [
       "<div>\n",
       "<style scoped>\n",
       "    .dataframe tbody tr th:only-of-type {\n",
       "        vertical-align: middle;\n",
       "    }\n",
       "\n",
       "    .dataframe tbody tr th {\n",
       "        vertical-align: top;\n",
       "    }\n",
       "\n",
       "    .dataframe thead th {\n",
       "        text-align: right;\n",
       "    }\n",
       "</style>\n",
       "<table border=\"1\" class=\"dataframe\">\n",
       "  <thead>\n",
       "    <tr style=\"text-align: right;\">\n",
       "      <th></th>\n",
       "      <th>SUBJECT_ID</th>\n",
       "      <th>HADM_ID</th>\n",
       "      <th>50801</th>\n",
       "      <th>50802</th>\n",
       "      <th>50803</th>\n",
       "      <th>50804</th>\n",
       "      <th>50805</th>\n",
       "      <th>50806</th>\n",
       "      <th>50808</th>\n",
       "      <th>50809</th>\n",
       "      <th>...</th>\n",
       "      <th>51492</th>\n",
       "      <th>51493</th>\n",
       "      <th>51497</th>\n",
       "      <th>51498</th>\n",
       "      <th>51501</th>\n",
       "      <th>51507</th>\n",
       "      <th>51514</th>\n",
       "      <th>51516</th>\n",
       "      <th>51517</th>\n",
       "      <th>51519</th>\n",
       "    </tr>\n",
       "  </thead>\n",
       "  <tbody>\n",
       "    <tr>\n",
       "      <th>0</th>\n",
       "      <td>101</td>\n",
       "      <td>175533</td>\n",
       "      <td>622.0</td>\n",
       "      <td>-9.000000</td>\n",
       "      <td>NaN</td>\n",
       "      <td>16.750000</td>\n",
       "      <td>NaN</td>\n",
       "      <td>NaN</td>\n",
       "      <td>1.053333</td>\n",
       "      <td>218.00</td>\n",
       "      <td>...</td>\n",
       "      <td>NaN</td>\n",
       "      <td>229.0</td>\n",
       "      <td>NaN</td>\n",
       "      <td>1.0225</td>\n",
       "      <td>NaN</td>\n",
       "      <td>NaN</td>\n",
       "      <td>0.2</td>\n",
       "      <td>5.0</td>\n",
       "      <td>NaN</td>\n",
       "      <td>NaN</td>\n",
       "    </tr>\n",
       "    <tr>\n",
       "      <th>1</th>\n",
       "      <td>111</td>\n",
       "      <td>192123</td>\n",
       "      <td>NaN</td>\n",
       "      <td>-3.444444</td>\n",
       "      <td>NaN</td>\n",
       "      <td>25.333333</td>\n",
       "      <td>NaN</td>\n",
       "      <td>NaN</td>\n",
       "      <td>NaN</td>\n",
       "      <td>137.00</td>\n",
       "      <td>...</td>\n",
       "      <td>NaN</td>\n",
       "      <td>112.0</td>\n",
       "      <td>NaN</td>\n",
       "      <td>1.0200</td>\n",
       "      <td>NaN</td>\n",
       "      <td>NaN</td>\n",
       "      <td>NaN</td>\n",
       "      <td>3.0</td>\n",
       "      <td>NaN</td>\n",
       "      <td>NaN</td>\n",
       "    </tr>\n",
       "    <tr>\n",
       "      <th>2</th>\n",
       "      <td>141</td>\n",
       "      <td>168006</td>\n",
       "      <td>350.0</td>\n",
       "      <td>-7.250000</td>\n",
       "      <td>NaN</td>\n",
       "      <td>17.625000</td>\n",
       "      <td>NaN</td>\n",
       "      <td>NaN</td>\n",
       "      <td>NaN</td>\n",
       "      <td>NaN</td>\n",
       "      <td>...</td>\n",
       "      <td>NaN</td>\n",
       "      <td>NaN</td>\n",
       "      <td>NaN</td>\n",
       "      <td>NaN</td>\n",
       "      <td>NaN</td>\n",
       "      <td>NaN</td>\n",
       "      <td>0.2</td>\n",
       "      <td>NaN</td>\n",
       "      <td>NaN</td>\n",
       "      <td>NaN</td>\n",
       "    </tr>\n",
       "    <tr>\n",
       "      <th>3</th>\n",
       "      <td>148</td>\n",
       "      <td>199488</td>\n",
       "      <td>NaN</td>\n",
       "      <td>NaN</td>\n",
       "      <td>NaN</td>\n",
       "      <td>NaN</td>\n",
       "      <td>NaN</td>\n",
       "      <td>NaN</td>\n",
       "      <td>NaN</td>\n",
       "      <td>NaN</td>\n",
       "      <td>...</td>\n",
       "      <td>NaN</td>\n",
       "      <td>3.0</td>\n",
       "      <td>NaN</td>\n",
       "      <td>1.0100</td>\n",
       "      <td>NaN</td>\n",
       "      <td>NaN</td>\n",
       "      <td>NaN</td>\n",
       "      <td>3.0</td>\n",
       "      <td>NaN</td>\n",
       "      <td>NaN</td>\n",
       "    </tr>\n",
       "    <tr>\n",
       "      <th>4</th>\n",
       "      <td>170</td>\n",
       "      <td>175350</td>\n",
       "      <td>NaN</td>\n",
       "      <td>2.500000</td>\n",
       "      <td>NaN</td>\n",
       "      <td>27.500000</td>\n",
       "      <td>NaN</td>\n",
       "      <td>NaN</td>\n",
       "      <td>NaN</td>\n",
       "      <td>NaN</td>\n",
       "      <td>...</td>\n",
       "      <td>NaN</td>\n",
       "      <td>NaN</td>\n",
       "      <td>NaN</td>\n",
       "      <td>NaN</td>\n",
       "      <td>NaN</td>\n",
       "      <td>NaN</td>\n",
       "      <td>NaN</td>\n",
       "      <td>NaN</td>\n",
       "      <td>NaN</td>\n",
       "      <td>NaN</td>\n",
       "    </tr>\n",
       "    <tr>\n",
       "      <th>...</th>\n",
       "      <td>...</td>\n",
       "      <td>...</td>\n",
       "      <td>...</td>\n",
       "      <td>...</td>\n",
       "      <td>...</td>\n",
       "      <td>...</td>\n",
       "      <td>...</td>\n",
       "      <td>...</td>\n",
       "      <td>...</td>\n",
       "      <td>...</td>\n",
       "      <td>...</td>\n",
       "      <td>...</td>\n",
       "      <td>...</td>\n",
       "      <td>...</td>\n",
       "      <td>...</td>\n",
       "      <td>...</td>\n",
       "      <td>...</td>\n",
       "      <td>...</td>\n",
       "      <td>...</td>\n",
       "      <td>...</td>\n",
       "      <td>...</td>\n",
       "    </tr>\n",
       "    <tr>\n",
       "      <th>2277</th>\n",
       "      <td>32763</td>\n",
       "      <td>160695</td>\n",
       "      <td>NaN</td>\n",
       "      <td>NaN</td>\n",
       "      <td>NaN</td>\n",
       "      <td>NaN</td>\n",
       "      <td>NaN</td>\n",
       "      <td>NaN</td>\n",
       "      <td>NaN</td>\n",
       "      <td>NaN</td>\n",
       "      <td>...</td>\n",
       "      <td>NaN</td>\n",
       "      <td>0.0</td>\n",
       "      <td>NaN</td>\n",
       "      <td>1.0220</td>\n",
       "      <td>NaN</td>\n",
       "      <td>NaN</td>\n",
       "      <td>NaN</td>\n",
       "      <td>NaN</td>\n",
       "      <td>NaN</td>\n",
       "      <td>NaN</td>\n",
       "    </tr>\n",
       "    <tr>\n",
       "      <th>2278</th>\n",
       "      <td>32779</td>\n",
       "      <td>133757</td>\n",
       "      <td>NaN</td>\n",
       "      <td>-4.833333</td>\n",
       "      <td>NaN</td>\n",
       "      <td>23.000000</td>\n",
       "      <td>NaN</td>\n",
       "      <td>NaN</td>\n",
       "      <td>NaN</td>\n",
       "      <td>NaN</td>\n",
       "      <td>...</td>\n",
       "      <td>NaN</td>\n",
       "      <td>51.5</td>\n",
       "      <td>NaN</td>\n",
       "      <td>1.0225</td>\n",
       "      <td>NaN</td>\n",
       "      <td>NaN</td>\n",
       "      <td>NaN</td>\n",
       "      <td>1.5</td>\n",
       "      <td>NaN</td>\n",
       "      <td>NaN</td>\n",
       "    </tr>\n",
       "    <tr>\n",
       "      <th>2279</th>\n",
       "      <td>32781</td>\n",
       "      <td>142684</td>\n",
       "      <td>269.0</td>\n",
       "      <td>-10.666667</td>\n",
       "      <td>NaN</td>\n",
       "      <td>15.000000</td>\n",
       "      <td>NaN</td>\n",
       "      <td>NaN</td>\n",
       "      <td>1.010000</td>\n",
       "      <td>NaN</td>\n",
       "      <td>...</td>\n",
       "      <td>NaN</td>\n",
       "      <td>9.0</td>\n",
       "      <td>NaN</td>\n",
       "      <td>1.0250</td>\n",
       "      <td>NaN</td>\n",
       "      <td>NaN</td>\n",
       "      <td>4.0</td>\n",
       "      <td>9.0</td>\n",
       "      <td>NaN</td>\n",
       "      <td>NaN</td>\n",
       "    </tr>\n",
       "    <tr>\n",
       "      <th>2280</th>\n",
       "      <td>32786</td>\n",
       "      <td>165351</td>\n",
       "      <td>NaN</td>\n",
       "      <td>-2.200000</td>\n",
       "      <td>NaN</td>\n",
       "      <td>22.400000</td>\n",
       "      <td>NaN</td>\n",
       "      <td>106.0</td>\n",
       "      <td>1.060000</td>\n",
       "      <td>151.00</td>\n",
       "      <td>...</td>\n",
       "      <td>100.0</td>\n",
       "      <td>NaN</td>\n",
       "      <td>NaN</td>\n",
       "      <td>1.0270</td>\n",
       "      <td>NaN</td>\n",
       "      <td>NaN</td>\n",
       "      <td>NaN</td>\n",
       "      <td>NaN</td>\n",
       "      <td>NaN</td>\n",
       "      <td>NaN</td>\n",
       "    </tr>\n",
       "    <tr>\n",
       "      <th>2281</th>\n",
       "      <td>32800</td>\n",
       "      <td>179038</td>\n",
       "      <td>NaN</td>\n",
       "      <td>-15.500000</td>\n",
       "      <td>NaN</td>\n",
       "      <td>10.000000</td>\n",
       "      <td>0.7</td>\n",
       "      <td>110.0</td>\n",
       "      <td>1.025000</td>\n",
       "      <td>153.25</td>\n",
       "      <td>...</td>\n",
       "      <td>NaN</td>\n",
       "      <td>NaN</td>\n",
       "      <td>NaN</td>\n",
       "      <td>1.0205</td>\n",
       "      <td>NaN</td>\n",
       "      <td>NaN</td>\n",
       "      <td>1.0</td>\n",
       "      <td>NaN</td>\n",
       "      <td>NaN</td>\n",
       "      <td>NaN</td>\n",
       "    </tr>\n",
       "  </tbody>\n",
       "</table>\n",
       "<p>2282 rows × 303 columns</p>\n",
       "</div>"
      ],
      "text/plain": [
       "      SUBJECT_ID  HADM_ID  50801      50802  50803      50804  50805  50806  \\\n",
       "0            101   175533  622.0  -9.000000    NaN  16.750000    NaN    NaN   \n",
       "1            111   192123    NaN  -3.444444    NaN  25.333333    NaN    NaN   \n",
       "2            141   168006  350.0  -7.250000    NaN  17.625000    NaN    NaN   \n",
       "3            148   199488    NaN        NaN    NaN        NaN    NaN    NaN   \n",
       "4            170   175350    NaN   2.500000    NaN  27.500000    NaN    NaN   \n",
       "...          ...      ...    ...        ...    ...        ...    ...    ...   \n",
       "2277       32763   160695    NaN        NaN    NaN        NaN    NaN    NaN   \n",
       "2278       32779   133757    NaN  -4.833333    NaN  23.000000    NaN    NaN   \n",
       "2279       32781   142684  269.0 -10.666667    NaN  15.000000    NaN    NaN   \n",
       "2280       32786   165351    NaN  -2.200000    NaN  22.400000    NaN  106.0   \n",
       "2281       32800   179038    NaN -15.500000    NaN  10.000000    0.7  110.0   \n",
       "\n",
       "         50808   50809  ...  51492  51493  51497   51498  51501  51507  51514  \\\n",
       "0     1.053333  218.00  ...    NaN  229.0    NaN  1.0225    NaN    NaN    0.2   \n",
       "1          NaN  137.00  ...    NaN  112.0    NaN  1.0200    NaN    NaN    NaN   \n",
       "2          NaN     NaN  ...    NaN    NaN    NaN     NaN    NaN    NaN    0.2   \n",
       "3          NaN     NaN  ...    NaN    3.0    NaN  1.0100    NaN    NaN    NaN   \n",
       "4          NaN     NaN  ...    NaN    NaN    NaN     NaN    NaN    NaN    NaN   \n",
       "...        ...     ...  ...    ...    ...    ...     ...    ...    ...    ...   \n",
       "2277       NaN     NaN  ...    NaN    0.0    NaN  1.0220    NaN    NaN    NaN   \n",
       "2278       NaN     NaN  ...    NaN   51.5    NaN  1.0225    NaN    NaN    NaN   \n",
       "2279  1.010000     NaN  ...    NaN    9.0    NaN  1.0250    NaN    NaN    4.0   \n",
       "2280  1.060000  151.00  ...  100.0    NaN    NaN  1.0270    NaN    NaN    NaN   \n",
       "2281  1.025000  153.25  ...    NaN    NaN    NaN  1.0205    NaN    NaN    1.0   \n",
       "\n",
       "      51516  51517  51519  \n",
       "0       5.0    NaN    NaN  \n",
       "1       3.0    NaN    NaN  \n",
       "2       NaN    NaN    NaN  \n",
       "3       3.0    NaN    NaN  \n",
       "4       NaN    NaN    NaN  \n",
       "...     ...    ...    ...  \n",
       "2277    NaN    NaN    NaN  \n",
       "2278    1.5    NaN    NaN  \n",
       "2279    9.0    NaN    NaN  \n",
       "2280    NaN    NaN    NaN  \n",
       "2281    NaN    NaN    NaN  \n",
       "\n",
       "[2282 rows x 303 columns]"
      ]
     },
     "execution_count": 43,
     "metadata": {},
     "output_type": "execute_result"
    }
   ],
   "source": [
    "# df_mean을 pivot_table로 변환\n",
    "pivot_table = df_mean.pivot_table(index=['SUBJECT_ID', 'HADM_ID'], columns='ITEMID', values='VALUENUM', aggfunc='first')\n",
    "\n",
    "# pivot_table을 patients DataFrame과 병합\n",
    "patients = patients[['SUBJECT_ID', 'HADM_ID']].merge(pivot_table, on=['SUBJECT_ID', 'HADM_ID'], how='left')\n",
    "\n",
    "# 결과 출력\n",
    "patients"
   ]
  },
  {
   "cell_type": "code",
   "execution_count": 44,
   "id": "d758f706-4e9c-4e53-ae2b-94d61dc22497",
   "metadata": {},
   "outputs": [
    {
     "data": {
      "text/html": [
       "<div>\n",
       "<style scoped>\n",
       "    .dataframe tbody tr th:only-of-type {\n",
       "        vertical-align: middle;\n",
       "    }\n",
       "\n",
       "    .dataframe tbody tr th {\n",
       "        vertical-align: top;\n",
       "    }\n",
       "\n",
       "    .dataframe thead th {\n",
       "        text-align: right;\n",
       "    }\n",
       "</style>\n",
       "<table border=\"1\" class=\"dataframe\">\n",
       "  <thead>\n",
       "    <tr style=\"text-align: right;\">\n",
       "      <th></th>\n",
       "      <th>ITEMID</th>\n",
       "      <th>LABEL</th>\n",
       "      <th>FLUID</th>\n",
       "      <th>ZERO_RATIOS</th>\n",
       "    </tr>\n",
       "  </thead>\n",
       "  <tbody>\n",
       "    <tr>\n",
       "      <th>0</th>\n",
       "      <td>50801</td>\n",
       "      <td>Alveolar-arterial Gradient</td>\n",
       "      <td>Blood</td>\n",
       "      <td>0.000000</td>\n",
       "    </tr>\n",
       "    <tr>\n",
       "      <th>163</th>\n",
       "      <td>51104</td>\n",
       "      <td>Urea Nitrogen, Urine</td>\n",
       "      <td>Urine</td>\n",
       "      <td>0.000000</td>\n",
       "    </tr>\n",
       "    <tr>\n",
       "      <th>164</th>\n",
       "      <td>51105</td>\n",
       "      <td>Uric Acid, Urine</td>\n",
       "      <td>Urine</td>\n",
       "      <td>0.000000</td>\n",
       "    </tr>\n",
       "    <tr>\n",
       "      <th>165</th>\n",
       "      <td>51110</td>\n",
       "      <td>Atypical Lymphocytes</td>\n",
       "      <td>Ascites</td>\n",
       "      <td>0.000000</td>\n",
       "    </tr>\n",
       "    <tr>\n",
       "      <th>166</th>\n",
       "      <td>51114</td>\n",
       "      <td>Eosinophils</td>\n",
       "      <td>Ascites</td>\n",
       "      <td>0.000000</td>\n",
       "    </tr>\n",
       "    <tr>\n",
       "      <th>...</th>\n",
       "      <td>...</td>\n",
       "      <td>...</td>\n",
       "      <td>...</td>\n",
       "      <td>...</td>\n",
       "    </tr>\n",
       "    <tr>\n",
       "      <th>284</th>\n",
       "      <td>51476</td>\n",
       "      <td>Epithelial Cells</td>\n",
       "      <td>Urine</td>\n",
       "      <td>0.231814</td>\n",
       "    </tr>\n",
       "    <tr>\n",
       "      <th>185</th>\n",
       "      <td>51143</td>\n",
       "      <td>Atypical Lymphocytes</td>\n",
       "      <td>Blood</td>\n",
       "      <td>0.235758</td>\n",
       "    </tr>\n",
       "    <tr>\n",
       "      <th>186</th>\n",
       "      <td>51144</td>\n",
       "      <td>Bands</td>\n",
       "      <td>Blood</td>\n",
       "      <td>0.247152</td>\n",
       "    </tr>\n",
       "    <tr>\n",
       "      <th>187</th>\n",
       "      <td>51146</td>\n",
       "      <td>Basophils</td>\n",
       "      <td>Blood</td>\n",
       "      <td>0.258107</td>\n",
       "    </tr>\n",
       "    <tr>\n",
       "      <th>215</th>\n",
       "      <td>51255</td>\n",
       "      <td>Myelocytes</td>\n",
       "      <td>Blood</td>\n",
       "      <td>0.271691</td>\n",
       "    </tr>\n",
       "  </tbody>\n",
       "</table>\n",
       "<p>301 rows × 4 columns</p>\n",
       "</div>"
      ],
      "text/plain": [
       "     ITEMID                       LABEL    FLUID  ZERO_RATIOS\n",
       "0     50801  Alveolar-arterial Gradient    Blood     0.000000\n",
       "163   51104        Urea Nitrogen, Urine    Urine     0.000000\n",
       "164   51105            Uric Acid, Urine    Urine     0.000000\n",
       "165   51110        Atypical Lymphocytes  Ascites     0.000000\n",
       "166   51114                 Eosinophils  Ascites     0.000000\n",
       "..      ...                         ...      ...          ...\n",
       "284   51476            Epithelial Cells    Urine     0.231814\n",
       "185   51143        Atypical Lymphocytes    Blood     0.235758\n",
       "186   51144                       Bands    Blood     0.247152\n",
       "187   51146                   Basophils    Blood     0.258107\n",
       "215   51255                  Myelocytes    Blood     0.271691\n",
       "\n",
       "[301 rows x 4 columns]"
      ]
     },
     "execution_count": 44,
     "metadata": {},
     "output_type": "execute_result"
    }
   ],
   "source": [
    "# 칼럼 별로 관측되지 않은 laboratory value 값(0) 비율 확인 \n",
    "zero_ratios = (patients == 0).sum() / len(patients)\n",
    "zero_ratios = zero_ratios.to_frame()[2:]\n",
    "zero_ratios = zero_ratios.reset_index().rename(columns={'index': 'ITEMID', 0:'ZERO_RATIOS'})\n",
    "zero_ratios = pd.merge(zero_ratios, result[[\"ITEMID\", \"LABEL\", \"FLUID\"]], on='ITEMID')\n",
    "zero_ratios = zero_ratios.reindex(columns=[\"ITEMID\", \"LABEL\", \"FLUID\", \"ZERO_RATIOS\"])\n",
    "zero_ratios = zero_ratios.sort_values(by='ZERO_RATIOS', ascending=True)\n",
    "zero_ratios"
   ]
  },
  {
   "cell_type": "code",
   "execution_count": 45,
   "id": "a3f7fe51-b33c-4bb9-97cd-0a77bfba44cb",
   "metadata": {},
   "outputs": [
    {
     "data": {
      "text/html": [
       "<div>\n",
       "<style scoped>\n",
       "    .dataframe tbody tr th:only-of-type {\n",
       "        vertical-align: middle;\n",
       "    }\n",
       "\n",
       "    .dataframe tbody tr th {\n",
       "        vertical-align: top;\n",
       "    }\n",
       "\n",
       "    .dataframe thead th {\n",
       "        text-align: right;\n",
       "    }\n",
       "</style>\n",
       "<table border=\"1\" class=\"dataframe\">\n",
       "  <thead>\n",
       "    <tr style=\"text-align: right;\">\n",
       "      <th></th>\n",
       "      <th>ITEMID</th>\n",
       "      <th>LABEL</th>\n",
       "      <th>FLUID</th>\n",
       "      <th>MISSING_VALUE_RATIOS</th>\n",
       "    </tr>\n",
       "  </thead>\n",
       "  <tbody>\n",
       "    <tr>\n",
       "      <th>70</th>\n",
       "      <td>50912</td>\n",
       "      <td>Creatinine</td>\n",
       "      <td>Blood</td>\n",
       "      <td>0.001753</td>\n",
       "    </tr>\n",
       "    <tr>\n",
       "      <th>123</th>\n",
       "      <td>51006</td>\n",
       "      <td>Urea Nitrogen</td>\n",
       "      <td>Blood</td>\n",
       "      <td>0.002191</td>\n",
       "    </tr>\n",
       "    <tr>\n",
       "      <th>200</th>\n",
       "      <td>51221</td>\n",
       "      <td>Hematocrit</td>\n",
       "      <td>Blood</td>\n",
       "      <td>0.003067</td>\n",
       "    </tr>\n",
       "    <tr>\n",
       "      <th>220</th>\n",
       "      <td>51265</td>\n",
       "      <td>Platelet Count</td>\n",
       "      <td>Blood</td>\n",
       "      <td>0.003506</td>\n",
       "    </tr>\n",
       "    <tr>\n",
       "      <th>103</th>\n",
       "      <td>50971</td>\n",
       "      <td>Potassium</td>\n",
       "      <td>Blood</td>\n",
       "      <td>0.003944</td>\n",
       "    </tr>\n",
       "    <tr>\n",
       "      <th>...</th>\n",
       "      <td>...</td>\n",
       "      <td>...</td>\n",
       "      <td>...</td>\n",
       "      <td>...</td>\n",
       "    </tr>\n",
       "    <tr>\n",
       "      <th>183</th>\n",
       "      <td>51139</td>\n",
       "      <td>Anticardiolipin Antibody IgM</td>\n",
       "      <td>Blood</td>\n",
       "      <td>0.999562</td>\n",
       "    </tr>\n",
       "    <tr>\n",
       "      <th>182</th>\n",
       "      <td>51138</td>\n",
       "      <td>Anticardiolipin Antibody IgG</td>\n",
       "      <td>Blood</td>\n",
       "      <td>0.999562</td>\n",
       "    </tr>\n",
       "    <tr>\n",
       "      <th>174</th>\n",
       "      <td>51124</td>\n",
       "      <td>Plasma</td>\n",
       "      <td>Ascites</td>\n",
       "      <td>0.999562</td>\n",
       "    </tr>\n",
       "    <tr>\n",
       "      <th>251</th>\n",
       "      <td>51377</td>\n",
       "      <td>Mesothelial Cells</td>\n",
       "      <td>Joint Fluid</td>\n",
       "      <td>0.999562</td>\n",
       "    </tr>\n",
       "    <tr>\n",
       "      <th>150</th>\n",
       "      <td>51072</td>\n",
       "      <td>Amylase, Urine</td>\n",
       "      <td>Urine</td>\n",
       "      <td>0.999562</td>\n",
       "    </tr>\n",
       "  </tbody>\n",
       "</table>\n",
       "<p>301 rows × 4 columns</p>\n",
       "</div>"
      ],
      "text/plain": [
       "    ITEMID                         LABEL        FLUID  MISSING_VALUE_RATIOS\n",
       "70   50912                    Creatinine        Blood              0.001753\n",
       "123  51006                 Urea Nitrogen        Blood              0.002191\n",
       "200  51221                    Hematocrit        Blood              0.003067\n",
       "220  51265                Platelet Count        Blood              0.003506\n",
       "103  50971                     Potassium        Blood              0.003944\n",
       "..     ...                           ...          ...                   ...\n",
       "183  51139  Anticardiolipin Antibody IgM        Blood              0.999562\n",
       "182  51138  Anticardiolipin Antibody IgG        Blood              0.999562\n",
       "174  51124                        Plasma      Ascites              0.999562\n",
       "251  51377             Mesothelial Cells  Joint Fluid              0.999562\n",
       "150  51072                Amylase, Urine        Urine              0.999562\n",
       "\n",
       "[301 rows x 4 columns]"
      ]
     },
     "execution_count": 45,
     "metadata": {},
     "output_type": "execute_result"
    }
   ],
   "source": [
    "# 칼럼 별로 결측치 비율 확인\n",
    "missing_value_ratios = (patients.isnull().sum() / len(patients)).to_frame().reset_index()\n",
    "missing_value_ratios = missing_value_ratios.rename(columns={'index': 'ITEMID', 0: 'MISSING_VALUE_RATIOS'})\n",
    "missing_value_ratios = pd.merge(missing_value_ratios, result[[\"ITEMID\", \"LABEL\", \"FLUID\"]], on='ITEMID')\n",
    "missing_value_ratios = missing_value_ratios.reindex(columns=[\"ITEMID\", \"LABEL\", \"FLUID\", \"MISSING_VALUE_RATIOS\"])\n",
    "missing_value_ratios = missing_value_ratios.sort_values(by='MISSING_VALUE_RATIOS', ascending=True)\n",
    "missing_value_ratios"
   ]
  },
  {
   "cell_type": "code",
   "execution_count": 46,
   "id": "9f6d351f-9b0e-4908-b48a-21f21242ce33",
   "metadata": {},
   "outputs": [
    {
     "name": "stdout",
     "output_type": "stream",
     "text": [
      "ITEMID 개수: 301\n"
     ]
    }
   ],
   "source": [
    "################ Missing Value 설정 ################\n",
    "\n",
    "# 관측되지 않은 값이 n% 미만인 ITEMID만 선정\n",
    "data = missing_value_ratios[missing_value_ratios['MISSING_VALUE_RATIOS'] <= 1.0]\n",
    "below_list = data['ITEMID'].tolist()\n",
    "print(\"ITEMID 개수:\", len(below_list))\n",
    "# data"
   ]
  },
  {
   "cell_type": "code",
   "execution_count": 47,
   "id": "3c976824-8c30-42da-b874-03973dffd2c0",
   "metadata": {},
   "outputs": [
    {
     "name": "stderr",
     "output_type": "stream",
     "text": [
      "/home/watercar99/.local/lib/python3.9/site-packages/pandas/core/series.py:4530: SettingWithCopyWarning: \n",
      "A value is trying to be set on a copy of a slice from a DataFrame\n",
      "\n",
      "See the caveats in the documentation: https://pandas.pydata.org/pandas-docs/stable/user_guide/indexing.html#returning-a-view-versus-a-copy\n",
      "  return super().fillna(\n"
     ]
    },
    {
     "data": {
      "text/html": [
       "<div>\n",
       "<style scoped>\n",
       "    .dataframe tbody tr th:only-of-type {\n",
       "        vertical-align: middle;\n",
       "    }\n",
       "\n",
       "    .dataframe tbody tr th {\n",
       "        vertical-align: top;\n",
       "    }\n",
       "\n",
       "    .dataframe thead th {\n",
       "        text-align: right;\n",
       "    }\n",
       "</style>\n",
       "<table border=\"1\" class=\"dataframe\">\n",
       "  <thead>\n",
       "    <tr style=\"text-align: right;\">\n",
       "      <th></th>\n",
       "      <th>SUBJECT_ID</th>\n",
       "      <th>HADM_ID</th>\n",
       "      <th>Creatinine</th>\n",
       "      <th>Urea Nitrogen</th>\n",
       "      <th>Hematocrit</th>\n",
       "      <th>Platelet Count</th>\n",
       "      <th>Potassium</th>\n",
       "      <th>Chloride</th>\n",
       "      <th>Bicarbonate</th>\n",
       "      <th>Sodium</th>\n",
       "      <th>...</th>\n",
       "      <th>Atypical Lymphocytes</th>\n",
       "      <th>Factor VIII</th>\n",
       "      <th>Basophils</th>\n",
       "      <th>Factor V</th>\n",
       "      <th>Antithrombin</th>\n",
       "      <th>Anticardiolipin Antibody IgM</th>\n",
       "      <th>Anticardiolipin Antibody IgG</th>\n",
       "      <th>Plasma</th>\n",
       "      <th>Mesothelial Cells</th>\n",
       "      <th>Amylase, Urine</th>\n",
       "    </tr>\n",
       "  </thead>\n",
       "  <tbody>\n",
       "    <tr>\n",
       "      <th>0</th>\n",
       "      <td>101</td>\n",
       "      <td>175533</td>\n",
       "      <td>0.925000</td>\n",
       "      <td>16.000000</td>\n",
       "      <td>34.133333</td>\n",
       "      <td>223.666667</td>\n",
       "      <td>4.100000</td>\n",
       "      <td>112.250000</td>\n",
       "      <td>14.750000</td>\n",
       "      <td>143.000000</td>\n",
       "      <td>...</td>\n",
       "      <td>1.0</td>\n",
       "      <td>44.0</td>\n",
       "      <td>1.0</td>\n",
       "      <td>90.0</td>\n",
       "      <td>55.0</td>\n",
       "      <td>5.1</td>\n",
       "      <td>1.9</td>\n",
       "      <td>2.0</td>\n",
       "      <td>5.0</td>\n",
       "      <td>104.0</td>\n",
       "    </tr>\n",
       "    <tr>\n",
       "      <th>1</th>\n",
       "      <td>111</td>\n",
       "      <td>192123</td>\n",
       "      <td>0.600000</td>\n",
       "      <td>12.500000</td>\n",
       "      <td>41.700000</td>\n",
       "      <td>145.500000</td>\n",
       "      <td>4.100000</td>\n",
       "      <td>107.000000</td>\n",
       "      <td>24.000000</td>\n",
       "      <td>141.000000</td>\n",
       "      <td>...</td>\n",
       "      <td>1.0</td>\n",
       "      <td>44.0</td>\n",
       "      <td>1.0</td>\n",
       "      <td>90.0</td>\n",
       "      <td>55.0</td>\n",
       "      <td>5.1</td>\n",
       "      <td>1.9</td>\n",
       "      <td>2.0</td>\n",
       "      <td>5.0</td>\n",
       "      <td>104.0</td>\n",
       "    </tr>\n",
       "    <tr>\n",
       "      <th>2</th>\n",
       "      <td>141</td>\n",
       "      <td>168006</td>\n",
       "      <td>1.466667</td>\n",
       "      <td>29.166667</td>\n",
       "      <td>21.280000</td>\n",
       "      <td>80.400000</td>\n",
       "      <td>4.483333</td>\n",
       "      <td>105.333333</td>\n",
       "      <td>16.666667</td>\n",
       "      <td>139.666667</td>\n",
       "      <td>...</td>\n",
       "      <td>1.0</td>\n",
       "      <td>44.0</td>\n",
       "      <td>1.0</td>\n",
       "      <td>90.0</td>\n",
       "      <td>55.0</td>\n",
       "      <td>5.1</td>\n",
       "      <td>1.9</td>\n",
       "      <td>2.0</td>\n",
       "      <td>5.0</td>\n",
       "      <td>104.0</td>\n",
       "    </tr>\n",
       "    <tr>\n",
       "      <th>3</th>\n",
       "      <td>148</td>\n",
       "      <td>199488</td>\n",
       "      <td>1.000000</td>\n",
       "      <td>23.000000</td>\n",
       "      <td>24.450000</td>\n",
       "      <td>29.500000</td>\n",
       "      <td>3.950000</td>\n",
       "      <td>107.500000</td>\n",
       "      <td>21.500000</td>\n",
       "      <td>142.000000</td>\n",
       "      <td>...</td>\n",
       "      <td>1.0</td>\n",
       "      <td>44.0</td>\n",
       "      <td>1.0</td>\n",
       "      <td>90.0</td>\n",
       "      <td>55.0</td>\n",
       "      <td>5.1</td>\n",
       "      <td>1.9</td>\n",
       "      <td>2.0</td>\n",
       "      <td>5.0</td>\n",
       "      <td>104.0</td>\n",
       "    </tr>\n",
       "    <tr>\n",
       "      <th>4</th>\n",
       "      <td>170</td>\n",
       "      <td>175350</td>\n",
       "      <td>0.700000</td>\n",
       "      <td>14.000000</td>\n",
       "      <td>32.450000</td>\n",
       "      <td>252.000000</td>\n",
       "      <td>3.900000</td>\n",
       "      <td>108.000000</td>\n",
       "      <td>24.500000</td>\n",
       "      <td>142.500000</td>\n",
       "      <td>...</td>\n",
       "      <td>1.0</td>\n",
       "      <td>44.0</td>\n",
       "      <td>1.0</td>\n",
       "      <td>90.0</td>\n",
       "      <td>55.0</td>\n",
       "      <td>5.1</td>\n",
       "      <td>1.9</td>\n",
       "      <td>2.0</td>\n",
       "      <td>5.0</td>\n",
       "      <td>104.0</td>\n",
       "    </tr>\n",
       "    <tr>\n",
       "      <th>...</th>\n",
       "      <td>...</td>\n",
       "      <td>...</td>\n",
       "      <td>...</td>\n",
       "      <td>...</td>\n",
       "      <td>...</td>\n",
       "      <td>...</td>\n",
       "      <td>...</td>\n",
       "      <td>...</td>\n",
       "      <td>...</td>\n",
       "      <td>...</td>\n",
       "      <td>...</td>\n",
       "      <td>...</td>\n",
       "      <td>...</td>\n",
       "      <td>...</td>\n",
       "      <td>...</td>\n",
       "      <td>...</td>\n",
       "      <td>...</td>\n",
       "      <td>...</td>\n",
       "      <td>...</td>\n",
       "      <td>...</td>\n",
       "      <td>...</td>\n",
       "    </tr>\n",
       "    <tr>\n",
       "      <th>2277</th>\n",
       "      <td>32763</td>\n",
       "      <td>160695</td>\n",
       "      <td>1.400000</td>\n",
       "      <td>35.000000</td>\n",
       "      <td>30.200000</td>\n",
       "      <td>181.000000</td>\n",
       "      <td>4.500000</td>\n",
       "      <td>98.000000</td>\n",
       "      <td>24.000000</td>\n",
       "      <td>133.000000</td>\n",
       "      <td>...</td>\n",
       "      <td>1.0</td>\n",
       "      <td>44.0</td>\n",
       "      <td>1.0</td>\n",
       "      <td>90.0</td>\n",
       "      <td>55.0</td>\n",
       "      <td>5.1</td>\n",
       "      <td>1.9</td>\n",
       "      <td>2.0</td>\n",
       "      <td>5.0</td>\n",
       "      <td>104.0</td>\n",
       "    </tr>\n",
       "    <tr>\n",
       "      <th>2278</th>\n",
       "      <td>32779</td>\n",
       "      <td>133757</td>\n",
       "      <td>1.466667</td>\n",
       "      <td>30.333333</td>\n",
       "      <td>29.100000</td>\n",
       "      <td>239.333333</td>\n",
       "      <td>4.733333</td>\n",
       "      <td>114.666667</td>\n",
       "      <td>19.333333</td>\n",
       "      <td>144.666667</td>\n",
       "      <td>...</td>\n",
       "      <td>1.0</td>\n",
       "      <td>44.0</td>\n",
       "      <td>1.0</td>\n",
       "      <td>90.0</td>\n",
       "      <td>55.0</td>\n",
       "      <td>5.1</td>\n",
       "      <td>1.9</td>\n",
       "      <td>2.0</td>\n",
       "      <td>5.0</td>\n",
       "      <td>104.0</td>\n",
       "    </tr>\n",
       "    <tr>\n",
       "      <th>2279</th>\n",
       "      <td>32781</td>\n",
       "      <td>142684</td>\n",
       "      <td>2.025000</td>\n",
       "      <td>29.250000</td>\n",
       "      <td>29.933333</td>\n",
       "      <td>119.000000</td>\n",
       "      <td>4.280000</td>\n",
       "      <td>112.000000</td>\n",
       "      <td>14.750000</td>\n",
       "      <td>140.250000</td>\n",
       "      <td>...</td>\n",
       "      <td>1.0</td>\n",
       "      <td>44.0</td>\n",
       "      <td>1.0</td>\n",
       "      <td>90.0</td>\n",
       "      <td>55.0</td>\n",
       "      <td>5.1</td>\n",
       "      <td>1.9</td>\n",
       "      <td>2.0</td>\n",
       "      <td>5.0</td>\n",
       "      <td>104.0</td>\n",
       "    </tr>\n",
       "    <tr>\n",
       "      <th>2280</th>\n",
       "      <td>32786</td>\n",
       "      <td>165351</td>\n",
       "      <td>1.033333</td>\n",
       "      <td>15.666667</td>\n",
       "      <td>39.666667</td>\n",
       "      <td>340.333333</td>\n",
       "      <td>4.500000</td>\n",
       "      <td>104.666667</td>\n",
       "      <td>22.333333</td>\n",
       "      <td>139.000000</td>\n",
       "      <td>...</td>\n",
       "      <td>1.0</td>\n",
       "      <td>44.0</td>\n",
       "      <td>1.0</td>\n",
       "      <td>90.0</td>\n",
       "      <td>55.0</td>\n",
       "      <td>5.1</td>\n",
       "      <td>1.9</td>\n",
       "      <td>2.0</td>\n",
       "      <td>5.0</td>\n",
       "      <td>104.0</td>\n",
       "    </tr>\n",
       "    <tr>\n",
       "      <th>2281</th>\n",
       "      <td>32800</td>\n",
       "      <td>179038</td>\n",
       "      <td>1.233333</td>\n",
       "      <td>23.000000</td>\n",
       "      <td>31.625000</td>\n",
       "      <td>161.250000</td>\n",
       "      <td>3.050000</td>\n",
       "      <td>108.500000</td>\n",
       "      <td>10.000000</td>\n",
       "      <td>141.000000</td>\n",
       "      <td>...</td>\n",
       "      <td>1.0</td>\n",
       "      <td>44.0</td>\n",
       "      <td>1.0</td>\n",
       "      <td>90.0</td>\n",
       "      <td>55.0</td>\n",
       "      <td>5.1</td>\n",
       "      <td>1.9</td>\n",
       "      <td>2.0</td>\n",
       "      <td>5.0</td>\n",
       "      <td>104.0</td>\n",
       "    </tr>\n",
       "  </tbody>\n",
       "</table>\n",
       "<p>2282 rows × 303 columns</p>\n",
       "</div>"
      ],
      "text/plain": [
       "      SUBJECT_ID  HADM_ID  Creatinine  Urea Nitrogen  Hematocrit  \\\n",
       "0            101   175533    0.925000      16.000000   34.133333   \n",
       "1            111   192123    0.600000      12.500000   41.700000   \n",
       "2            141   168006    1.466667      29.166667   21.280000   \n",
       "3            148   199488    1.000000      23.000000   24.450000   \n",
       "4            170   175350    0.700000      14.000000   32.450000   \n",
       "...          ...      ...         ...            ...         ...   \n",
       "2277       32763   160695    1.400000      35.000000   30.200000   \n",
       "2278       32779   133757    1.466667      30.333333   29.100000   \n",
       "2279       32781   142684    2.025000      29.250000   29.933333   \n",
       "2280       32786   165351    1.033333      15.666667   39.666667   \n",
       "2281       32800   179038    1.233333      23.000000   31.625000   \n",
       "\n",
       "      Platelet Count  Potassium    Chloride  Bicarbonate      Sodium  ...  \\\n",
       "0         223.666667   4.100000  112.250000    14.750000  143.000000  ...   \n",
       "1         145.500000   4.100000  107.000000    24.000000  141.000000  ...   \n",
       "2          80.400000   4.483333  105.333333    16.666667  139.666667  ...   \n",
       "3          29.500000   3.950000  107.500000    21.500000  142.000000  ...   \n",
       "4         252.000000   3.900000  108.000000    24.500000  142.500000  ...   \n",
       "...              ...        ...         ...          ...         ...  ...   \n",
       "2277      181.000000   4.500000   98.000000    24.000000  133.000000  ...   \n",
       "2278      239.333333   4.733333  114.666667    19.333333  144.666667  ...   \n",
       "2279      119.000000   4.280000  112.000000    14.750000  140.250000  ...   \n",
       "2280      340.333333   4.500000  104.666667    22.333333  139.000000  ...   \n",
       "2281      161.250000   3.050000  108.500000    10.000000  141.000000  ...   \n",
       "\n",
       "      Atypical Lymphocytes  Factor VIII  Basophils  Factor V  Antithrombin  \\\n",
       "0                      1.0         44.0        1.0      90.0          55.0   \n",
       "1                      1.0         44.0        1.0      90.0          55.0   \n",
       "2                      1.0         44.0        1.0      90.0          55.0   \n",
       "3                      1.0         44.0        1.0      90.0          55.0   \n",
       "4                      1.0         44.0        1.0      90.0          55.0   \n",
       "...                    ...          ...        ...       ...           ...   \n",
       "2277                   1.0         44.0        1.0      90.0          55.0   \n",
       "2278                   1.0         44.0        1.0      90.0          55.0   \n",
       "2279                   1.0         44.0        1.0      90.0          55.0   \n",
       "2280                   1.0         44.0        1.0      90.0          55.0   \n",
       "2281                   1.0         44.0        1.0      90.0          55.0   \n",
       "\n",
       "      Anticardiolipin Antibody IgM  Anticardiolipin Antibody IgG  Plasma  \\\n",
       "0                              5.1                           1.9     2.0   \n",
       "1                              5.1                           1.9     2.0   \n",
       "2                              5.1                           1.9     2.0   \n",
       "3                              5.1                           1.9     2.0   \n",
       "4                              5.1                           1.9     2.0   \n",
       "...                            ...                           ...     ...   \n",
       "2277                           5.1                           1.9     2.0   \n",
       "2278                           5.1                           1.9     2.0   \n",
       "2279                           5.1                           1.9     2.0   \n",
       "2280                           5.1                           1.9     2.0   \n",
       "2281                           5.1                           1.9     2.0   \n",
       "\n",
       "      Mesothelial Cells  Amylase, Urine  \n",
       "0                   5.0           104.0  \n",
       "1                   5.0           104.0  \n",
       "2                   5.0           104.0  \n",
       "3                   5.0           104.0  \n",
       "4                   5.0           104.0  \n",
       "...                 ...             ...  \n",
       "2277                5.0           104.0  \n",
       "2278                5.0           104.0  \n",
       "2279                5.0           104.0  \n",
       "2280                5.0           104.0  \n",
       "2281                5.0           104.0  \n",
       "\n",
       "[2282 rows x 303 columns]"
      ]
     },
     "execution_count": 47,
     "metadata": {},
     "output_type": "execute_result"
    }
   ],
   "source": [
    "# mean_patients에서 관측되지 않은 값이 n%이하인 칼럼의 값만 가져오기\n",
    "i_list = ['SUBJECT_ID', 'HADM_ID']\n",
    "i_list.extend(data['ITEMID'].tolist())\n",
    "\n",
    "result1 = patients[i_list]\n",
    "\n",
    "# 각 열의 median 값을 계산하고 NaN을 해당 median 값으로 채웁니다.\n",
    "for col in result1.columns:\n",
    "    median_val = result1[col].median()\n",
    "    result1[col].fillna(median_val, inplace=True)\n",
    "\n",
    "# 칼럼 명 변경을 위해 dict 생성 후 rename\n",
    "id_dict = dict(zip(data['ITEMID'], data['LABEL']))\n",
    "result1 = result1.rename(columns=id_dict)\n",
    "result1"
   ]
  },
  {
   "cell_type": "code",
   "execution_count": 48,
   "id": "b4c35eab-d047-453f-8eb1-ea7458c3e23a",
   "metadata": {},
   "outputs": [],
   "source": [
    "# result1.to_csv(\"~/project/MIMIC-III/Data/FINAL/FINAL_LAB/Final_lab(100%)_min.csv\", index=False)"
   ]
  }
 ],
 "metadata": {
  "kernelspec": {
   "display_name": "Python 3 (ipykernel)",
   "language": "python",
   "name": "python3"
  },
  "language_info": {
   "codemirror_mode": {
    "name": "ipython",
    "version": 3
   },
   "file_extension": ".py",
   "mimetype": "text/x-python",
   "name": "python",
   "nbconvert_exporter": "python",
   "pygments_lexer": "ipython3",
   "version": "3.9.12"
  }
 },
 "nbformat": 4,
 "nbformat_minor": 5
}
