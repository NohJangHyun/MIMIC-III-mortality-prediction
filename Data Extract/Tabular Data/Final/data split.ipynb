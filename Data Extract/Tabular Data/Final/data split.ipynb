{
 "cells": [
  {
   "cell_type": "code",
   "execution_count": 15,
   "id": "017bcfea-f5dd-40b8-96a5-36c6ec672033",
   "metadata": {},
   "outputs": [],
   "source": [
    "import pandas as pd\n",
    "from sklearn.model_selection import train_test_split"
   ]
  },
  {
   "cell_type": "code",
   "execution_count": 67,
   "id": "19899c64-0de9-4e27-9bb4-ca208a0313ae",
   "metadata": {},
   "outputs": [],
   "source": [
    "df = pd.read_csv(\"~/project/MIMIC-III/Data Extract/Tabular Data/FINAL Data Extract/DATA/Demo+Lab+Chart/FINAL_Demo_Lab_Chart(100%).csv\")"
   ]
  },
  {
   "cell_type": "code",
   "execution_count": 68,
   "id": "44b650b5-ea11-425f-8bbc-b7d350d4f3dc",
   "metadata": {},
   "outputs": [
    {
     "name": "stdout",
     "output_type": "stream",
     "text": [
      "훈련 세트 크기: (1825, 932)\n",
      "테스트 세트 크기: (457, 932)\n"
     ]
    }
   ],
   "source": [
    "# 데이터를 훈련 세트와 테스트 세트로 나눕니다 (예: 80% 훈련, 20% 테스트)\n",
    "train_data, test_data = train_test_split(df, test_size=0.2, random_state=42)\n",
    "\n",
    "# 나눈 데이터를 확인\n",
    "print(\"훈련 세트 크기:\", train_data.shape)\n",
    "print(\"테스트 세트 크기:\", test_data.shape)"
   ]
  },
  {
   "cell_type": "code",
   "execution_count": 69,
   "id": "51a78ff9-3386-4841-bc0e-ef70ff6a2813",
   "metadata": {},
   "outputs": [
    {
     "data": {
      "text/plain": [
       "0    0.732055\n",
       "1    0.267945\n",
       "Name: y, dtype: float64"
      ]
     },
     "execution_count": 69,
     "metadata": {},
     "output_type": "execute_result"
    }
   ],
   "source": [
    "train_y = train_data[\"y\"].value_counts(normalize=True)\n",
    "train_y"
   ]
  },
  {
   "cell_type": "code",
   "execution_count": 70,
   "id": "86d1f843-ec9b-41a1-b4fc-114d168c3971",
   "metadata": {},
   "outputs": [
    {
     "data": {
      "text/plain": [
       "0    0.746171\n",
       "1    0.253829\n",
       "Name: y, dtype: float64"
      ]
     },
     "execution_count": 70,
     "metadata": {},
     "output_type": "execute_result"
    }
   ],
   "source": [
    "test_y = test_data[\"y\"].value_counts(normalize=True)\n",
    "test_y"
   ]
  },
  {
   "cell_type": "code",
   "execution_count": 71,
   "id": "34431d9b-2e12-44b6-9707-15937d067ece",
   "metadata": {},
   "outputs": [],
   "source": [
    "# data1 = pd.read_csv(\"~/project/MIMIC-III/Data/FINAL/FINAL_Split/Final_test_data(1%).csv\")\n",
    "# data2 = pd.read_csv(\"~/project/MIMIC-III/Data/FINAL/FINAL_Split/Final_test_data(70%).csv\")"
   ]
  },
  {
   "cell_type": "code",
   "execution_count": 72,
   "id": "ae576b9a-7e82-4e80-9012-eabcaab4e8db",
   "metadata": {},
   "outputs": [],
   "source": [
    "# # 두 데이터프레임에서 SUBJECT_ID 및 HADM_ID 열의 값만 추출합니다.\n",
    "# subset1 = data1[['SUBJECT_ID', 'HADM_ID']]\n",
    "# subset2 = data2[['SUBJECT_ID', 'HADM_ID']]\n",
    "\n",
    "# # 두 데이터프레임을 합치고 중복된 행을 찾습니다.\n",
    "# common_rows = pd.merge(subset1, subset2, on=['SUBJECT_ID', 'HADM_ID'], how='inner')\n",
    "\n",
    "# if common_rows.empty:\n",
    "#     print(\"두 데이터프레임은 동일한 SUBJECT_ID 및 HADM_ID를 가지고 있지 않습니다.\")\n",
    "# else:\n",
    "#     print(\"두 데이터프레임은 동일한 SUBJECT_ID 및 HADM_ID를 가지고 있습니다.\")"
   ]
  },
  {
   "cell_type": "code",
   "execution_count": 73,
   "id": "1f9f40a5-79ff-45b5-af80-8d6c8940ca39",
   "metadata": {},
   "outputs": [],
   "source": [
    "# common_rows"
   ]
  },
  {
   "cell_type": "code",
   "execution_count": 74,
   "id": "82538f0c-7c21-4e1f-a5a3-d903e25b20f2",
   "metadata": {},
   "outputs": [],
   "source": [
    "train_data.to_csv(\"~/project/MIMIC-III/Data Extract/Tabular Data/FINAL Data Extract/DATA/train_test_data/Final_train_data(100%).csv\", index=False)\n",
    "test_data.to_csv(\"~/project/MIMIC-III/Data Extract/Tabular Data/FINAL Data Extract/DATA/train_test_data/Final_test_data(100%).csv\", index=False)"
   ]
  },
  {
   "cell_type": "code",
   "execution_count": 75,
   "id": "7ffc5579-16d8-4286-b4b2-2bf253de460a",
   "metadata": {},
   "outputs": [
    {
     "name": "stdout",
     "output_type": "stream",
     "text": [
      "train shape\n",
      " (978, 931) \n",
      "\n",
      "test shape\n",
      " (457, 931) \n",
      "\n",
      "train value\n",
      " 1    489\n",
      "0    489\n",
      "Name: y, dtype: int64\n",
      "test value\n",
      " 0    341\n",
      "1    116\n",
      "Name: y, dtype: int64\n"
     ]
    }
   ],
   "source": [
    "# n:1\n",
    "# train 데이터의 레이블 비율 확인\n",
    "train_labels = train_data['y']\n",
    "label_counts = train_labels.value_counts()\n",
    "\n",
    "# train 데이터의 레이블 비율이 n:1이 되도록 분할\n",
    "num_samples_class_0 = int(label_counts[1] * 1.0)  # 레이블 0을 레이블 1의 n배로 설정\n",
    "num_samples_class_1 = label_counts[1]  # 레이블 1의 모든 샘플 개수\n",
    "\n",
    "class_0_data = train_data[train_data['y'] == 0]\n",
    "class_1_data = train_data[train_data['y'] == 1]\n",
    "\n",
    "# 레이블이 1인 데이터 중에서 샘플 개수가 적은 만큼만 선택\n",
    "class_1_data = class_1_data.sample(num_samples_class_1, random_state=42)\n",
    "\n",
    "# 레이블이 0인 데이터 중에서 샘플 개수가 적은 만큼만 선택\n",
    "class_0_data = class_0_data.sample(num_samples_class_0, random_state=42)\n",
    "\n",
    "# 선택한 데이터를 결합하여 최종 train 데이터 생성\n",
    "train_data = pd.concat([class_0_data, class_1_data])\n",
    "\n",
    "###################################################################\n",
    "\n",
    "# Features와 Target 설정\n",
    "X_train = train_data.drop('y', axis=1)\n",
    "y_train = train_data['y']\n",
    "X_test = test_data.drop('y', axis=1)\n",
    "\n",
    "print(\"train shape\\n\",X_train.shape,\"\\n\")\n",
    "print(\"test shape\\n\",X_test.shape,\"\\n\")\n",
    "\n",
    "target = \"y\"\n",
    "features = [f for f in train_data.columns if f not in [target]]\n",
    "\n",
    "print(\"train value\\n\",train_data['y'].value_counts())\n",
    "print(\"test value\\n\",test_data['y'].value_counts())"
   ]
  },
  {
   "cell_type": "code",
   "execution_count": 76,
   "id": "841f610c-2537-4f64-b342-12fc58a4c71f",
   "metadata": {},
   "outputs": [],
   "source": [
    "train_data.to_csv(\"~/project/MIMIC-III/Data Extract/Tabular Data/FINAL Data Extract/DATA/train_test_data/Final_train_data(100%)_down.csv\", index=False)\n",
    "test_data.to_csv(\"~/project/MIMIC-III/Data Extract/Tabular Data/FINAL Data Extract/DATA/train_test_data/Final_test_data(100%)_down.csv\", index=False)"
   ]
  },
  {
   "cell_type": "code",
   "execution_count": null,
   "id": "a8f46bfa-2e14-4f6b-8644-20394f06c745",
   "metadata": {},
   "outputs": [],
   "source": []
  },
  {
   "cell_type": "code",
   "execution_count": null,
   "id": "4896bca3-e356-480e-8ac6-35d7986d6c3a",
   "metadata": {},
   "outputs": [],
   "source": []
  },
  {
   "cell_type": "code",
   "execution_count": null,
   "id": "b055488e-ac1d-4e06-858d-1cd0c953bc00",
   "metadata": {},
   "outputs": [],
   "source": []
  }
 ],
 "metadata": {
  "kernelspec": {
   "display_name": "Python 3 (ipykernel)",
   "language": "python",
   "name": "python3"
  },
  "language_info": {
   "codemirror_mode": {
    "name": "ipython",
    "version": 3
   },
   "file_extension": ".py",
   "mimetype": "text/x-python",
   "name": "python",
   "nbconvert_exporter": "python",
   "pygments_lexer": "ipython3",
   "version": "3.9.12"
  }
 },
 "nbformat": 4,
 "nbformat_minor": 5
}
