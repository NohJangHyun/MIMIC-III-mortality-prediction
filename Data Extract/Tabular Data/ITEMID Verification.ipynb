{
 "cells": [
  {
   "cell_type": "markdown",
   "id": "77839ba9-02b2-4c16-bcd1-9a8d7d87e1ef",
   "metadata": {},
   "source": [
    "#### 0. Base\n",
    "Laboratory Value Data Extract를 위해 선정한 ITEMID의 유효성 검증을 위한 작업"
   ]
  },
  {
   "cell_type": "code",
   "execution_count": 93,
   "id": "0c696fb9-d873-406d-a3cc-2138e4e62828",
   "metadata": {},
   "outputs": [],
   "source": [
    "import pandas as pd\n",
    "import matplotlib.pyplot as plt"
   ]
  },
  {
   "cell_type": "markdown",
   "id": "2fc6954f-a3fa-499c-9a88-ec3d6ae15ac4",
   "metadata": {
    "tags": []
   },
   "source": [
    "#### 1. time-series data 유효성 판단"
   ]
  },
  {
   "cell_type": "code",
   "execution_count": 94,
   "id": "1247ea57-1c9a-4b30-84d4-61a80137ec58",
   "metadata": {},
   "outputs": [
    {
     "data": {
      "text/html": [
       "<div>\n",
       "<style scoped>\n",
       "    .dataframe tbody tr th:only-of-type {\n",
       "        vertical-align: middle;\n",
       "    }\n",
       "\n",
       "    .dataframe tbody tr th {\n",
       "        vertical-align: top;\n",
       "    }\n",
       "\n",
       "    .dataframe thead th {\n",
       "        text-align: right;\n",
       "    }\n",
       "</style>\n",
       "<table border=\"1\" class=\"dataframe\">\n",
       "  <thead>\n",
       "    <tr style=\"text-align: right;\">\n",
       "      <th></th>\n",
       "      <th>ROW_ID</th>\n",
       "      <th>SUBJECT_ID</th>\n",
       "      <th>HADM_ID</th>\n",
       "      <th>CHARTDATE</th>\n",
       "      <th>CHARTTIME</th>\n",
       "      <th>SPEC_ITEMID</th>\n",
       "      <th>SPEC_TYPE_DESC</th>\n",
       "      <th>ORG_ITEMID</th>\n",
       "      <th>ORG_NAME</th>\n",
       "      <th>ISOLATE_NUM</th>\n",
       "      <th>AB_ITEMID</th>\n",
       "      <th>AB_NAME</th>\n",
       "      <th>DILUTION_TEXT</th>\n",
       "      <th>DILUTION_COMPARISON</th>\n",
       "      <th>DILUTION_VALUE</th>\n",
       "      <th>INTERPRETATION</th>\n",
       "    </tr>\n",
       "  </thead>\n",
       "  <tbody>\n",
       "    <tr>\n",
       "      <th>21</th>\n",
       "      <td>13</td>\n",
       "      <td>3</td>\n",
       "      <td>145834</td>\n",
       "      <td>2101-10-21</td>\n",
       "      <td>2101-10-21 04:30:00</td>\n",
       "      <td>70062.0</td>\n",
       "      <td>SPUTUM</td>\n",
       "      <td>80075.0</td>\n",
       "      <td>YEAST</td>\n",
       "      <td>1.0</td>\n",
       "      <td>NaN</td>\n",
       "      <td>NaN</td>\n",
       "      <td>NaN</td>\n",
       "      <td>NaN</td>\n",
       "      <td>NaN</td>\n",
       "      <td>NaN</td>\n",
       "    </tr>\n",
       "    <tr>\n",
       "      <th>22</th>\n",
       "      <td>21</td>\n",
       "      <td>4</td>\n",
       "      <td>185777</td>\n",
       "      <td>2191-03-16</td>\n",
       "      <td>2191-03-16 12:30:00</td>\n",
       "      <td>70062.0</td>\n",
       "      <td>SPUTUM</td>\n",
       "      <td>80260.0</td>\n",
       "      <td>POSITIVE FOR PNEUMOCYSTIS CARINII</td>\n",
       "      <td>1.0</td>\n",
       "      <td>NaN</td>\n",
       "      <td>NaN</td>\n",
       "      <td>NaN</td>\n",
       "      <td>NaN</td>\n",
       "      <td>NaN</td>\n",
       "      <td>NaN</td>\n",
       "    </tr>\n",
       "    <tr>\n",
       "      <th>23</th>\n",
       "      <td>31</td>\n",
       "      <td>4</td>\n",
       "      <td>185777</td>\n",
       "      <td>2191-03-19</td>\n",
       "      <td>2191-03-19 15:00:00</td>\n",
       "      <td>70062.0</td>\n",
       "      <td>SPUTUM</td>\n",
       "      <td>NaN</td>\n",
       "      <td>NaN</td>\n",
       "      <td>NaN</td>\n",
       "      <td>NaN</td>\n",
       "      <td>NaN</td>\n",
       "      <td>NaN</td>\n",
       "      <td>NaN</td>\n",
       "      <td>NaN</td>\n",
       "      <td>NaN</td>\n",
       "    </tr>\n",
       "    <tr>\n",
       "      <th>24</th>\n",
       "      <td>38</td>\n",
       "      <td>9</td>\n",
       "      <td>150750</td>\n",
       "      <td>2149-11-10</td>\n",
       "      <td>2149-11-10 09:23:00</td>\n",
       "      <td>70062.0</td>\n",
       "      <td>SPUTUM</td>\n",
       "      <td>80023.0</td>\n",
       "      <td>STAPH AUREUS COAG +</td>\n",
       "      <td>1.0</td>\n",
       "      <td>90002.0</td>\n",
       "      <td>PENICILLIN</td>\n",
       "      <td>=&gt;0.5</td>\n",
       "      <td>=&gt;</td>\n",
       "      <td>1.0</td>\n",
       "      <td>R</td>\n",
       "    </tr>\n",
       "    <tr>\n",
       "      <th>25</th>\n",
       "      <td>39</td>\n",
       "      <td>9</td>\n",
       "      <td>150750</td>\n",
       "      <td>2149-11-10</td>\n",
       "      <td>2149-11-10 09:23:00</td>\n",
       "      <td>70062.0</td>\n",
       "      <td>SPUTUM</td>\n",
       "      <td>80058.0</td>\n",
       "      <td>GRAM NEGATIVE ROD(S)</td>\n",
       "      <td>1.0</td>\n",
       "      <td>NaN</td>\n",
       "      <td>NaN</td>\n",
       "      <td>NaN</td>\n",
       "      <td>NaN</td>\n",
       "      <td>NaN</td>\n",
       "      <td>NaN</td>\n",
       "    </tr>\n",
       "  </tbody>\n",
       "</table>\n",
       "</div>"
      ],
      "text/plain": [
       "    ROW_ID  SUBJECT_ID  HADM_ID  CHARTDATE            CHARTTIME  SPEC_ITEMID  \\\n",
       "21      13           3   145834 2101-10-21  2101-10-21 04:30:00      70062.0   \n",
       "22      21           4   185777 2191-03-16  2191-03-16 12:30:00      70062.0   \n",
       "23      31           4   185777 2191-03-19  2191-03-19 15:00:00      70062.0   \n",
       "24      38           9   150750 2149-11-10  2149-11-10 09:23:00      70062.0   \n",
       "25      39           9   150750 2149-11-10  2149-11-10 09:23:00      70062.0   \n",
       "\n",
       "   SPEC_TYPE_DESC  ORG_ITEMID                           ORG_NAME  ISOLATE_NUM  \\\n",
       "21         SPUTUM     80075.0                              YEAST          1.0   \n",
       "22         SPUTUM     80260.0  POSITIVE FOR PNEUMOCYSTIS CARINII          1.0   \n",
       "23         SPUTUM         NaN                                NaN          NaN   \n",
       "24         SPUTUM     80023.0                STAPH AUREUS COAG +          1.0   \n",
       "25         SPUTUM     80058.0               GRAM NEGATIVE ROD(S)          1.0   \n",
       "\n",
       "    AB_ITEMID     AB_NAME DILUTION_TEXT DILUTION_COMPARISON  DILUTION_VALUE  \\\n",
       "21        NaN         NaN           NaN                 NaN             NaN   \n",
       "22        NaN         NaN           NaN                 NaN             NaN   \n",
       "23        NaN         NaN           NaN                 NaN             NaN   \n",
       "24    90002.0  PENICILLIN         =>0.5                  =>             1.0   \n",
       "25        NaN         NaN           NaN                 NaN             NaN   \n",
       "\n",
       "   INTERPRETATION  \n",
       "21            NaN  \n",
       "22            NaN  \n",
       "23            NaN  \n",
       "24              R  \n",
       "25            NaN  "
      ]
     },
     "execution_count": 107,
     "metadata": {},
     "output_type": "execute_result"
    }
   ],
   "source": [
    "df = pd.read_csv(\"~/project/MIMIC-III/Data/ITEMLIST.csv\")\n",
    "df['CHARTDATE'] = pd.to_datetime(df['CHARTDATE']) #연속되는 날짜 파악하기 위해 type 변경\n",
    "df.sort_values([\"SUBJECT_ID\",\"HADM_ID\", \"CHARTDATE\"], inplace = True)\n",
    "df.head()"
   ]
  },
  {
   "cell_type": "markdown",
   "id": "472d14f8-29a6-415b-a0ef-6de7d2c92a8d",
   "metadata": {
    "jp-MarkdownHeadingCollapsed": true,
    "tags": []
   },
   "source": [
    "##### 1-1. time-series에 data count, mean column 추가"
   ]
  },
  {
   "cell_type": "code",
   "execution_count": 111,
   "id": "57994b77-33dc-47c6-9020-7be23ac99c8a",
   "metadata": {},
   "outputs": [
    {
     "data": {
      "text/html": [
       "<div>\n",
       "<style scoped>\n",
       "    .dataframe tbody tr th:only-of-type {\n",
       "        vertical-align: middle;\n",
       "    }\n",
       "\n",
       "    .dataframe tbody tr th {\n",
       "        vertical-align: top;\n",
       "    }\n",
       "\n",
       "    .dataframe thead th {\n",
       "        text-align: right;\n",
       "    }\n",
       "</style>\n",
       "<table border=\"1\" class=\"dataframe\">\n",
       "  <thead>\n",
       "    <tr style=\"text-align: right;\">\n",
       "      <th></th>\n",
       "      <th>SUBJECT_ID</th>\n",
       "      <th>HADM_ID</th>\n",
       "      <th>COUNT</th>\n",
       "      <th>MEAN</th>\n",
       "    </tr>\n",
       "  </thead>\n",
       "  <tbody>\n",
       "    <tr>\n",
       "      <th>0</th>\n",
       "      <td>3</td>\n",
       "      <td>145834</td>\n",
       "      <td>1</td>\n",
       "      <td>0</td>\n",
       "    </tr>\n",
       "    <tr>\n",
       "      <th>1</th>\n",
       "      <td>4</td>\n",
       "      <td>185777</td>\n",
       "      <td>2</td>\n",
       "      <td>3</td>\n",
       "    </tr>\n",
       "    <tr>\n",
       "      <th>2</th>\n",
       "      <td>9</td>\n",
       "      <td>150750</td>\n",
       "      <td>1</td>\n",
       "      <td>0</td>\n",
       "    </tr>\n",
       "    <tr>\n",
       "      <th>3</th>\n",
       "      <td>12</td>\n",
       "      <td>112213</td>\n",
       "      <td>2</td>\n",
       "      <td>1</td>\n",
       "    </tr>\n",
       "    <tr>\n",
       "      <th>4</th>\n",
       "      <td>23</td>\n",
       "      <td>124321</td>\n",
       "      <td>1</td>\n",
       "      <td>0</td>\n",
       "    </tr>\n",
       "    <tr>\n",
       "      <th>...</th>\n",
       "      <td>...</td>\n",
       "      <td>...</td>\n",
       "      <td>...</td>\n",
       "      <td>...</td>\n",
       "    </tr>\n",
       "    <tr>\n",
       "      <th>13042</th>\n",
       "      <td>99923</td>\n",
       "      <td>192053</td>\n",
       "      <td>1</td>\n",
       "      <td>0</td>\n",
       "    </tr>\n",
       "    <tr>\n",
       "      <th>13043</th>\n",
       "      <td>99934</td>\n",
       "      <td>176121</td>\n",
       "      <td>1</td>\n",
       "      <td>0</td>\n",
       "    </tr>\n",
       "    <tr>\n",
       "      <th>13044</th>\n",
       "      <td>99937</td>\n",
       "      <td>129380</td>\n",
       "      <td>2</td>\n",
       "      <td>1</td>\n",
       "    </tr>\n",
       "    <tr>\n",
       "      <th>13045</th>\n",
       "      <td>99955</td>\n",
       "      <td>108494</td>\n",
       "      <td>2</td>\n",
       "      <td>3</td>\n",
       "    </tr>\n",
       "    <tr>\n",
       "      <th>13046</th>\n",
       "      <td>99985</td>\n",
       "      <td>176670</td>\n",
       "      <td>5</td>\n",
       "      <td>1</td>\n",
       "    </tr>\n",
       "  </tbody>\n",
       "</table>\n",
       "<p>13047 rows × 4 columns</p>\n",
       "</div>"
      ],
      "text/plain": [
       "       SUBJECT_ID  HADM_ID  COUNT  MEAN\n",
       "0               3   145834      1     0\n",
       "1               4   185777      2     3\n",
       "2               9   150750      1     0\n",
       "3              12   112213      2     1\n",
       "4              23   124321      1     0\n",
       "...           ...      ...    ...   ...\n",
       "13042       99923   192053      1     0\n",
       "13043       99934   176121      1     0\n",
       "13044       99937   129380      2     1\n",
       "13045       99955   108494      2     3\n",
       "13046       99985   176670      5     1\n",
       "\n",
       "[13047 rows x 4 columns]"
      ]
     },
     "execution_count": 111,
     "metadata": {},
     "output_type": "execute_result"
    }
   ],
   "source": [
    "# 중복되지 않는 date의 개수를 계산하는 함수\n",
    "def count_unique_dates(group):\n",
    "    return len(group['CHARTDATE'].unique())\n",
    "\n",
    "# SUBJECT_ID, HADM_ID, CHARTDATE 칼럼을 그룹바이 한 다음 각 그룹에 count_unique_dates 함수 적용\n",
    "unique_date_counts = df.groupby(['SUBJECT_ID', 'HADM_ID', 'CHARTDATE']).apply(count_unique_dates).reset_index(name='COUNT')\n",
    "\n",
    "# SUBJECT_ID, HADM_ID 칼럼별로 그룹바이 한 다음 count 칼럼의 합을 계산\n",
    "total_counts = unique_date_counts.groupby(['SUBJECT_ID', 'HADM_ID'], as_index=False)['COUNT'].sum()\n",
    "\n",
    "# MEAN 칼럼 추가\n",
    "total_counts['MEAN'] = unique_date_counts.groupby(['SUBJECT_ID', 'HADM_ID'])['CHARTDATE'].apply(lambda x: x.diff().mean()).values\n",
    "# datetime 데이터의 결측치인 NaT를 0day로 변경\n",
    "total_counts['MEAN'] = total_counts['MEAN'].fillna(pd.Timedelta(0)).apply(lambda x: pd.Timedelta(x).days)\n",
    "# day만 남기기!\n",
    "total_counts['MEAN'] = pd.to_timedelta(total_counts['MEAN'], unit='D')\n",
    "total_counts['MEAN'] = total_counts['MEAN'].apply(lambda x: int(str(x).split()[0]))\n",
    "\n",
    "\n",
    "# 인덱스 재설정\n",
    "total_counts = total_counts.reset_index(drop=True)\n",
    "\n",
    "# 결과 출력\n",
    "total_counts"
   ]
  },
  {
   "cell_type": "code",
   "execution_count": 73,
   "id": "bb1a8734-8d43-4e68-b99a-14838b48a2f4",
   "metadata": {},
   "outputs": [],
   "source": [
    "# # total_counts df의 결과가 맞는지 육안으로 확인하기 위한 코드, 무시해도 됨\n",
    "# df.sort_values([\"SUBJECT_ID\",\"HADM_ID\", \"CHARTDATE\"])[:23]"
   ]
  },
  {
   "cell_type": "markdown",
   "id": "8588ad2e-eaf8-4f94-a6ad-1fd6ec689aae",
   "metadata": {
    "jp-MarkdownHeadingCollapsed": true,
    "tags": []
   },
   "source": [
    "##### 1-2. 전체 time-series count plot"
   ]
  },
  {
   "cell_type": "code",
   "execution_count": 152,
   "id": "567b9d6b-1028-4de3-b30f-b2fa5a376ce1",
   "metadata": {},
   "outputs": [
    {
     "data": {
      "image/png": "[encoded data removed]",
      "text/plain": [
       "<Figure size 640x480 with 1 Axes>"
      ]
     },
     "metadata": {},
     "output_type": "display_data"
    },
    {
     "name": "stdout",
     "output_type": "stream",
     "text": [
      "COUNT\n",
      "1     6731\n",
      "2     2806\n",
      "3     1421\n",
      "4      776\n",
      "5      452\n",
      "6      322\n",
      "7      195\n",
      "8+     344\n",
      "dtype: int64\n"
     ]
    }
   ],
   "source": [
    "# total_counts df의 count column으로 plot 찍어보기\n",
    "# count 칼럼을 기준으로 그룹을 지어서 그룹마다의 개수를 구함\n",
    "count_by_count = total_counts.groupby('COUNT').size()\n",
    "\n",
    "# Count가 7번 이상인 경우 '8+'로 표시하여 카운트를 합침\n",
    "count_by_count = count_by_count.groupby(count_by_count.index.where(count_by_count > 190, '8+')).sum()\n",
    "\n",
    "# bar 그래프 그리기\n",
    "count_by_count.plot(kind='bar')\n",
    "\n",
    "# 그래프 꾸미기\n",
    "plt.title('Counts by Unique Count')\n",
    "plt.xlabel('Unique Count')\n",
    "plt.ylabel('Count')\n",
    "\n",
    "# 그래프 출력\n",
    "plt.show()\n",
    "\n",
    "print(count_by_count)"
   ]
  },
  {
   "cell_type": "markdown",
   "id": "49c86bcf-7656-4d5b-9465-13e9ba995a8f",
   "metadata": {
    "jp-MarkdownHeadingCollapsed": true,
    "tags": []
   },
   "source": [
    "##### 1-3. 전체 time-series mean plot"
   ]
  },
  {
   "cell_type": "code",
   "execution_count": 151,
   "id": "c6db9e92-3bf4-4af4-a60a-450ecee9150d",
   "metadata": {},
   "outputs": [
    {
     "data": {
      "image/png": "[encoded data removed]",
      "text/plain": [
       "<Figure size 640x480 with 1 Axes>"
      ]
     },
     "metadata": {},
     "output_type": "display_data"
    },
    {
     "name": "stdout",
     "output_type": "stream",
     "text": [
      "MEAN\n",
      "0     6731\n",
      "1     1455\n",
      "2     1335\n",
      "3     1030\n",
      "4      759\n",
      "5      511\n",
      "6      372\n",
      "7      223\n",
      "8+     631\n",
      "dtype: int64\n"
     ]
    }
   ],
   "source": [
    "# total_counts df의 mean column으로 plot 찍어보기\n",
    "\n",
    "# count 칼럼을 기준으로 그룹을 지어서 그룹마다의 개수를 구함\n",
    "count_by_mean = total_counts.groupby('MEAN').size()\n",
    "\n",
    "# MEAN이 7일 이상인 경우 '8+'로 표시하여 카운트를 합침\n",
    "count_by_mean = count_by_mean.groupby(count_by_mean.index.where(count_by_mean > 200, '8+')).sum()\n",
    "\n",
    "# bar 그래프 그리기\n",
    "count_by_mean.plot(kind='bar')\n",
    "\n",
    "# 그래프 꾸미기\n",
    "plt.title('Counts by Unique Mean')\n",
    "plt.xlabel('Unique Mean')\n",
    "plt.ylabel('Mean')\n",
    "\n",
    "# 그래프 출력\n",
    "plt.show()\n",
    "\n",
    "print(count_by_mean)"
   ]
  },
  {
   "cell_type": "markdown",
   "id": "32ab5734-9bf3-4380-af02-60056e59a563",
   "metadata": {
    "jp-MarkdownHeadingCollapsed": true,
    "tags": []
   },
   "source": [
    "##### 1-4.Respiratory 환자의 time-series count plot(7,631->4,885명)"
   ]
  },
  {
   "cell_type": "code",
   "execution_count": 150,
   "id": "dffd7267-84a9-4707-af9f-742d1d3a3682",
   "metadata": {},
   "outputs": [
    {
     "data": {
      "image/png": "[encoded data removed]",
      "text/plain": [
       "<Figure size 640x480 with 1 Axes>"
      ]
     },
     "metadata": {},
     "output_type": "display_data"
    },
    {
     "name": "stdout",
     "output_type": "stream",
     "text": [
      "COUNT\n",
      "1     2038\n",
      "2     1115\n",
      "3      656\n",
      "4      385\n",
      "5      234\n",
      "6      185\n",
      "7       89\n",
      "8+     183\n",
      "dtype: int64\n"
     ]
    }
   ],
   "source": [
    "# Respiratory 환자의 경우 유효성 검사\n",
    "df = pd.read_csv(\"~/project/MIMIC-III/Data/SUBJECTID.csv\")\n",
    "merged_df = pd.merge(total_counts, df, on=['SUBJECT_ID', 'HADM_ID'], how='inner')\n",
    "\n",
    "# count 칼럼을 기준으로 그룹을 지어서 그룹마다의 개수를 구함\n",
    "count_by_count = merged_df.groupby('COUNT').size()\n",
    "\n",
    "# Count가 7번 이상인 경우 '8+'로 표시하여 카운트를 합침\n",
    "count_by_count = count_by_count.groupby(count_by_count.index.where(count_by_count > 80, '8+')).sum()\n",
    "\n",
    "# bar 그래프 그리기\n",
    "count_by_count.plot(kind='bar')\n",
    "\n",
    "# 그래프 꾸미기\n",
    "plt.title('Counts by Unique Count')\n",
    "plt.xlabel('Unique Count')\n",
    "plt.ylabel('Count')\n",
    "\n",
    "# 그래프 출력\n",
    "plt.show()\n",
    "\n",
    "print(count_by_count)"
   ]
  },
  {
   "cell_type": "markdown",
   "id": "20c964ed-2b2e-4be7-b882-eb8450423c97",
   "metadata": {
    "jp-MarkdownHeadingCollapsed": true,
    "tags": []
   },
   "source": [
    "##### 1-5.Respiratory 환자의 time-series mean plot(7,631->4,885명)"
   ]
  },
  {
   "cell_type": "code",
   "execution_count": 149,
   "id": "e85ca974-278e-4a7a-a9ac-eed56073fc54",
   "metadata": {},
   "outputs": [
    {
     "data": {
      "image/png": "[encoded data removed]",
      "text/plain": [
       "<Figure size 640x480 with 1 Axes>"
      ]
     },
     "metadata": {},
     "output_type": "display_data"
    },
    {
     "name": "stdout",
     "output_type": "stream",
     "text": [
      "MEAN\n",
      "0     2038\n",
      "1      561\n",
      "2      607\n",
      "3      487\n",
      "4      364\n",
      "5      256\n",
      "6      167\n",
      "7      110\n",
      "8+     295\n",
      "dtype: int64\n"
     ]
    }
   ],
   "source": [
    "# count 칼럼을 기준으로 그룹을 지어서 그룹마다의 개수를 구함\n",
    "count_by_mean = merged_df.groupby('MEAN').size()\n",
    "\n",
    "# MEAN이 7일 이상인 경우 '8+'로 표시하여 카운트를 합침\n",
    "count_by_mean = count_by_mean.groupby(count_by_mean.index.where(count_by_mean > 100, '8+')).sum()\n",
    "\n",
    "# bar 그래프 그리기\n",
    "count_by_mean.plot(kind='bar')\n",
    "\n",
    "# 그래프 꾸미기\n",
    "plt.title('Counts by Unique Mean')\n",
    "plt.xlabel('Unique Mean')\n",
    "plt.ylabel('Mean')\n",
    "\n",
    "# 그래프 출력\n",
    "plt.show()\n",
    "\n",
    "print(count_by_mean)"
   ]
  },
  {
   "cell_type": "markdown",
   "id": "dbaf31e6-79fa-45d0-a659-832745412a71",
   "metadata": {},
   "source": [
    "#### 2. ID에 따라 결측치 여부 확인"
   ]
  },
  {
   "cell_type": "code",
   "execution_count": 86,
   "id": "95c2782f-cca8-41b1-8f4b-9b7d00348a19",
   "metadata": {},
   "outputs": [
    {
     "data": {
      "text/html": [
       "<div>\n",
       "<style scoped>\n",
       "    .dataframe tbody tr th:only-of-type {\n",
       "        vertical-align: middle;\n",
       "    }\n",
       "\n",
       "    .dataframe tbody tr th {\n",
       "        vertical-align: top;\n",
       "    }\n",
       "\n",
       "    .dataframe thead th {\n",
       "        text-align: right;\n",
       "    }\n",
       "</style>\n",
       "<table border=\"1\" class=\"dataframe\">\n",
       "  <thead>\n",
       "    <tr style=\"text-align: right;\">\n",
       "      <th></th>\n",
       "      <th>SUBJECT_ID</th>\n",
       "      <th>HADM_ID</th>\n",
       "    </tr>\n",
       "  </thead>\n",
       "  <tbody>\n",
       "    <tr>\n",
       "      <th>0</th>\n",
       "      <td>20936</td>\n",
       "      <td>157548</td>\n",
       "    </tr>\n",
       "    <tr>\n",
       "      <th>1</th>\n",
       "      <td>25600</td>\n",
       "      <td>122994</td>\n",
       "    </tr>\n",
       "    <tr>\n",
       "      <th>2</th>\n",
       "      <td>79166</td>\n",
       "      <td>177249</td>\n",
       "    </tr>\n",
       "    <tr>\n",
       "      <th>3</th>\n",
       "      <td>75775</td>\n",
       "      <td>101668</td>\n",
       "    </tr>\n",
       "    <tr>\n",
       "      <th>4</th>\n",
       "      <td>26861</td>\n",
       "      <td>115381</td>\n",
       "    </tr>\n",
       "    <tr>\n",
       "      <th>...</th>\n",
       "      <td>...</td>\n",
       "      <td>...</td>\n",
       "    </tr>\n",
       "    <tr>\n",
       "      <th>7626</th>\n",
       "      <td>48806</td>\n",
       "      <td>116558</td>\n",
       "    </tr>\n",
       "    <tr>\n",
       "      <th>7627</th>\n",
       "      <td>19067</td>\n",
       "      <td>192309</td>\n",
       "    </tr>\n",
       "    <tr>\n",
       "      <th>7628</th>\n",
       "      <td>40370</td>\n",
       "      <td>199999</td>\n",
       "    </tr>\n",
       "    <tr>\n",
       "      <th>7629</th>\n",
       "      <td>47335</td>\n",
       "      <td>161669</td>\n",
       "    </tr>\n",
       "    <tr>\n",
       "      <th>7630</th>\n",
       "      <td>51871</td>\n",
       "      <td>157355</td>\n",
       "    </tr>\n",
       "  </tbody>\n",
       "</table>\n",
       "<p>7631 rows × 2 columns</p>\n",
       "</div>"
      ],
      "text/plain": [
       "      SUBJECT_ID  HADM_ID\n",
       "0          20936   157548\n",
       "1          25600   122994\n",
       "2          79166   177249\n",
       "3          75775   101668\n",
       "4          26861   115381\n",
       "...          ...      ...\n",
       "7626       48806   116558\n",
       "7627       19067   192309\n",
       "7628       40370   199999\n",
       "7629       47335   161669\n",
       "7630       51871   157355\n",
       "\n",
       "[7631 rows x 2 columns]"
      ]
     },
     "execution_count": 86,
     "metadata": {},
     "output_type": "execute_result"
    }
   ],
   "source": []
  },
  {
   "cell_type": "code",
   "execution_count": null,
   "id": "e5ffde32-4e6c-4ef6-9c15-f119382ad191",
   "metadata": {},
   "outputs": [],
   "source": []
  },
  {
   "cell_type": "code",
   "execution_count": null,
   "id": "a7777999-a707-46c0-b75c-dfe126726ef6",
   "metadata": {},
   "outputs": [],
   "source": []
  },
  {
   "cell_type": "code",
   "execution_count": null,
   "id": "93b4e3a1-bff0-4dd5-ad3a-875bca85fda2",
   "metadata": {},
   "outputs": [],
   "source": []
  },
  {
   "cell_type": "markdown",
   "id": "1f4f2c48-081b-48c3-86b4-9d89ed36d64d",
   "metadata": {},
   "source": [
    "#### 1. ID를 고려했을 때 Dense한 ITEMID"
   ]
  }
 ],
 "metadata": {
  "kernelspec": {
   "display_name": "Python 3 (ipykernel)",
   "language": "python",
   "name": "python3"
  },
  "language_info": {
   "codemirror_mode": {
    "name": "ipython",
    "version": 3
   },
   "file_extension": ".py",
   "mimetype": "text/x-python",
   "name": "python",
   "nbconvert_exporter": "python",
   "pygments_lexer": "ipython3",
   "version": "3.9.12"
  }
 },
 "nbformat": 4,
 "nbformat_minor": 5
}
