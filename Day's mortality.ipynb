{
 "cells": [
  {
   "cell_type": "code",
   "execution_count": 76,
   "id": "f61ca147-cdeb-4435-bfa6-8d51bc74687a",
   "metadata": {},
   "outputs": [],
   "source": [
    "import pandas as pd\n",
    "import seaborn as sns"
   ]
  },
  {
   "cell_type": "markdown",
   "id": "02071e93-c4a0-4f3f-b681-b699aaa0cf26",
   "metadata": {
    "jp-MarkdownHeadingCollapsed": true,
    "tags": []
   },
   "source": [
    "##### 0. Hypertension ICD-9 code list 생성"
   ]
  },
  {
   "cell_type": "code",
   "execution_count": 92,
   "id": "dc80ec62-c033-4615-a4f6-6d21031f4804",
   "metadata": {},
   "outputs": [],
   "source": [
    "df = pd.read_csv(\"/data/PUBLIC_DATA/MIMIC-III/D_ICD_DIAGNOSES.csv\")\n",
    "df1 = df[df['LONG_TITLE'].str.contains('hypertension')]\n",
    "hypertension_list = df1[\"ICD9_CODE\"].to_list()"
   ]
  },
  {
   "cell_type": "markdown",
   "id": "d847e9c2-fd3d-409e-af87-5158105fe5be",
   "metadata": {
    "jp-MarkdownHeadingCollapsed": true,
    "tags": []
   },
   "source": [
    "##### 1. Hypertension 진단 받은 환자 구하기\n",
    "1. DIAGNOSES_ICD(ICD9을 사용한 병원 입원정보) table을 활용해 환자별 입원 기록에 따른 ICD9 code 합치기\n",
    "2. hypertension 관련 ICD9 진단 받았는지 데이터만 선별\n",
    "3. ADMISSIONS(환자의 입원 정보) table을 활용해 동일한 환자가 여러 번 입원한 경우 최초 입원 기록만 남기기"
   ]
  },
  {
   "cell_type": "code",
   "execution_count": 238,
   "id": "39d8dcd5-d726-4215-a497-34d82dd25686",
   "metadata": {},
   "outputs": [
    {
     "name": "stdout",
     "output_type": "stream",
     "text": [
      "Hypertension 입원 건수:  22429\n",
      "Hypertension 환자 수(최초 입원):  18871\n"
     ]
    }
   ],
   "source": [
    "# 입원 기록에 따른 환자별 진단 받은 ICD9 code 합치기\n",
    "df = pd.read_csv(\"/data/PUBLIC_DATA/MIMIC-III/DIAGNOSES_ICD.csv\")\n",
    "\n",
    "def add(group):\n",
    "    return ' '.join(group['ICD9_CODE'].fillna(\"\"))\n",
    "\n",
    "df1 = df.groupby(['SUBJECT_ID', 'HADM_ID']).apply(add).reset_index(name=\"ICD9_CODE\")\n",
    "\n",
    "mask = df1['ICD9_CODE'].str.contains('|'.join(hypertension_list), na=False)\n",
    "df2 = df1[mask]\n",
    "\n",
    "print(\"Hypertension 입원 건수: \", len(df2))\n",
    "\n",
    "# 동일한 환자가 여러 번 입원한 경우 최초 입원 기록만 남기기(22,429명 -> 18,871명)\n",
    "df = pd.read_csv(\"/data/PUBLIC_DATA/MIMIC-III/ADMISSIONS.csv\")\n",
    "df3 = df[[\"HADM_ID\", \"ADMITTIME\", \"DISCHTIME\", \"DEATHTIME\"]]\n",
    "df4 = pd.merge(df2, df3, on=\"HADM_ID\")\n",
    "df4['ADMITTIME'] = pd.to_datetime(df4['ADMITTIME'])\n",
    "df4['DISCHTIME'] = pd.to_datetime(df4['DISCHTIME'])\n",
    "df4['DEATHTIME'] = pd.to_datetime(df4['DEATHTIME'])\n",
    "\n",
    "df5 = df4.sort_values(by=['SUBJECT_ID', 'ADMITTIME'], ascending=[True, True])\n",
    "df5 = df5.drop_duplicates(subset=['SUBJECT_ID'], keep='first')\n",
    "df5.sort_values(by=[\"SUBJECT_ID\"], ascending=True, inplace=True)\n",
    "print(\"Hypertension 환자 수(최초 입원): \", len(df5))"
   ]
  },
  {
   "cell_type": "markdown",
   "id": "ce5a2cd4-06ae-4f24-800d-7caeb37bbcf3",
   "metadata": {
    "jp-MarkdownHeadingCollapsed": true,
    "tags": []
   },
   "source": [
    "##### 2. 1차 조건 적용(24H 이상, 첫 입원 시점 연령 18세 이상/89세 이하)\n",
    "1. 24H 이상 머문 환자(18,871명 -> 18,262명)\n",
    "2. 18세 이상(18,262명 -> 18,237명)\n",
    "3. 89세 이하(18,237명 -> 17,208명)\n",
    "-> 첫 입원 시점 연령은 \"첫 입원 날짜\" - \"환자의 생년월일\"로 계산"
   ]
  },
  {
   "cell_type": "code",
   "execution_count": 239,
   "id": "bbc2794a-8c73-4e19-ba7a-7de169d05c68",
   "metadata": {},
   "outputs": [
    {
     "name": "stdout",
     "output_type": "stream",
     "text": [
      "LOS가 24H 이상인 환자 수:  18262\n"
     ]
    }
   ],
   "source": [
    "# LOS 추가 후 24H 이상 머문 환자 list만 저장(18,871명 -> 18,262명)\n",
    "df5[\"LOS\"] = df5[\"DISCHTIME\"] - df5[\"ADMITTIME\"]\n",
    "over = df5[\"LOS\"] >= \"1days\"\n",
    "df6 = df5[over].sort_values(by=[\"LOS\"], ascending=True)\n",
    "subject_list = df6[\"SUBJECT_ID\"].to_list()\n",
    "print(\"LOS가 24H 이상인 환자 수: \", len(subject_list))"
   ]
  },
  {
   "cell_type": "code",
   "execution_count": 240,
   "id": "ce4f76a8-e22e-4a46-bbd4-692e8e63585d",
   "metadata": {},
   "outputs": [],
   "source": [
    "# 첫 입원 시점 연령을 구하기 위해 PATIENTS Table에서 DOB 칼럼 가져오기\n",
    "df = pd.read_csv(\"/data/PUBLIC_DATA/MIMIC-III/PATIENTS.csv\")\n",
    "df = df[[\"SUBJECT_ID\", \"DOB\"]]\n",
    "df['DOB'] = pd.to_datetime(df['DOB']).dt.date\n",
    "df7 = pd.merge(df6, df, on=\"SUBJECT_ID\")\n",
    "# df7[\"ADMITTIME\"] = df7[\"ADMITTIME\"].dt.date\n",
    "\n",
    "# 첫 입원 시점 연령 칼럼 생성\n",
    "df7[\"AGE\"] = ((df7[\"ADMITTIME\"].dt.date - df7[\"DOB\"])//365).dt.days"
   ]
  },
  {
   "cell_type": "code",
   "execution_count": 241,
   "id": "8905ebec-dff8-4c8b-83ae-28b93c71345f",
   "metadata": {},
   "outputs": [
    {
     "name": "stdout",
     "output_type": "stream",
     "text": [
      "[  0  17  18  19  20  21  22  23  24  25  26  27  28  29  30  31  32  33\n",
      "  34  35  36  37  38  39  40  41  42  43  44  45  46  47  48  49  50  51\n",
      "  52  53  54  55  56  57  58  59  60  61  62  63  64  65  66  67  68  69\n",
      "  70  71  72  73  74  75  76  77  78  79  80  81  82  83  84  85  86  87\n",
      "  88  89 300 301 302 303 304 305 306 307]\n"
     ]
    },
    {
     "name": "stderr",
     "output_type": "stream",
     "text": [
      "/packages/anaconda3/lib/python3.9/site-packages/seaborn/distributions.py:2619: FutureWarning: `distplot` is a deprecated function and will be removed in a future version. Please adapt your code to use either `displot` (a figure-level function with similar flexibility) or `histplot` (an axes-level function for histograms).\n",
      "  warnings.warn(msg, FutureWarning)\n"
     ]
    },
    {
     "data": {
      "text/plain": [
       "<AxesSubplot:xlabel='AGE', ylabel='Density'>"
      ]
     },
     "execution_count": 241,
     "metadata": {},
     "output_type": "execute_result"
    },
    {
     "data": {
      "image/png": "[encoded data removed]",
      "text/plain": [
       "<Figure size 640x480 with 1 Axes>"
      ]
     },
     "metadata": {},
     "output_type": "display_data"
    }
   ],
   "source": [
    "# 개인 정보를 보호하기 위해 날짜 데이터가 슬라이딩되었기 때문에 age가 0 또는 300 이상인 경우가 발생\n",
    "print(df7[\"AGE\"].sort_values().unique())\n",
    "sns.distplot(df7[\"AGE\"])"
   ]
  },
  {
   "cell_type": "code",
   "execution_count": 242,
   "id": "981d55b3-4c7a-4836-8f7c-90f09f4bc907",
   "metadata": {},
   "outputs": [
    {
     "name": "stdout",
     "output_type": "stream",
     "text": [
      "18세 이상인 환자 수:  18237\n"
     ]
    }
   ],
   "source": [
    "# 18세 이상 환자 선별(18,262명 -> 18,237명)\n",
    "over = df7[\"AGE\"] >= 18\n",
    "df8 = df7[over].sort_values(by=[\"AGE\"], ascending=True)\n",
    "subject_list = df8[\"SUBJECT_ID\"].to_list()\n",
    "print(\"18세 이상인 환자 수: \", len(subject_list))"
   ]
  },
  {
   "cell_type": "code",
   "execution_count": 243,
   "id": "81e0272d-431e-4ee1-88f7-53f4fcb97daf",
   "metadata": {},
   "outputs": [
    {
     "name": "stdout",
     "output_type": "stream",
     "text": [
      "89세 미만인 환자 수:  17208\n"
     ]
    }
   ],
   "source": [
    "# 89세 이상 환자 제거(18,262명 -> 17,208명)\n",
    "over = df8[\"AGE\"] <= 89\n",
    "df9 = df8[over].sort_values(by=[\"AGE\"], ascending=True)\n",
    "subject_list = df9[\"SUBJECT_ID\"].to_list()\n",
    "print(\"89세 미만인 환자 수: \", len(subject_list))"
   ]
  },
  {
   "cell_type": "markdown",
   "id": "29480277-bfc8-47f1-b8b2-8e97f7e0dabe",
   "metadata": {
    "tags": []
   },
   "source": [
    "##### 3. Hypertension 진단 받은 환자의 30일 이내 사망률 확인"
   ]
  },
  {
   "cell_type": "code",
   "execution_count": 244,
   "id": "0ff07a1d-50a9-41f8-98fe-149c43b12006",
   "metadata": {},
   "outputs": [],
   "source": [
    "# DOA(Death or Alive): 사망했다면 사망까지 걸린 시간, 생존했다면 NaT 출력\n",
    "for i in range(len(df9)):\n",
    "    if df9[\"DEATHTIME\"].iloc[i] != \"NaT\":\n",
    "        df9[\"DOA\"] = (df9[\"DEATHTIME\"]-df9[\"ADMITTIME\"])\n",
    "    else:\n",
    "        df9[\"DOA\"] = \"NaT\""
   ]
  },
  {
   "cell_type": "code",
   "execution_count": 299,
   "id": "9f5ff7ea-209d-434d-b57a-f85bb2d68d99",
   "metadata": {},
   "outputs": [
    {
     "data": {
      "text/plain": [
       "18257   145 days 20:35:00\n",
       "18253   127 days 00:16:00\n",
       "18250   123 days 03:04:00\n",
       "18245   107 days 06:57:00\n",
       "18242   102 days 17:23:00\n",
       "               ...       \n",
       "8579                  NaT\n",
       "13933                 NaT\n",
       "2898                  NaT\n",
       "12552                 NaT\n",
       "5703                  NaT\n",
       "Name: DOA, Length: 17208, dtype: timedelta64[ns]"
      ]
     },
     "execution_count": 299,
     "metadata": {},
     "output_type": "execute_result"
    }
   ],
   "source": [
    "# 사망한 환자 중 가장 오래 생존한 환자는 145일\n",
    "df9.sort_values(by=[\"DOA\"], ascending=False)[\"DOA\"]"
   ]
  },
  {
   "cell_type": "code",
   "execution_count": 309,
   "id": "d2b9080e-1681-4fb1-badf-262a6058124e",
   "metadata": {},
   "outputs": [
    {
     "name": "stdout",
     "output_type": "stream",
     "text": [
      "Hypertension 진단 받은 환자의 특정 기간 내 사망률\n",
      "Hypertension 진단 받은 환자 수:  17208\n",
      "-----------------------------------------\n",
      "30일 이내 사망자 수:  1313\n",
      "30일 이내 사망자 수 비율:  7.6301720130172015\n",
      "-----------------------------------------\n",
      "60일 이내 사망자 수:  1398\n",
      "60일 이내 사망자 수 비율:  8.124128312412832\n",
      "-----------------------------------------\n",
      "90일 이내 사망자 수:  1405\n",
      "90일 이내 사망자 수 비율:  8.164807066480705\n",
      "-----------------------------------------\n",
      "120일 이내 사망자 수:  1408\n",
      "120일 이내 사망자 수 비율:  8.182240818224082\n",
      "-----------------------------------------\n",
      "150일 이내 사망자 수:  1411\n",
      "150일 이내 사망자 수 비율:  8.199674569967456\n",
      "-----------------------------------------\n"
     ]
    }
   ],
   "source": [
    "print(\"Hypertension 진단 받은 환자의 특정 기간 내 사망률\")\n",
    "print(\"Hypertension 진단 받은 환자 수: \", 17208)\n",
    "print(\"-----------------------------------------\")\n",
    "# 30일 이내 사망\n",
    "less = df9[\"DOA\"] <= \"30days\"\n",
    "df10 = df9[less].sort_values(by=[\"DOA\"], ascending=True)\n",
    "subject_list = df10[\"SUBJECT_ID\"].to_list()\n",
    "print(\"30일 이내 사망자 수: \", len(subject_list))\n",
    "print(\"30일 이내 사망자 수 비율: \", len(subject_list)/17208*100)\n",
    "print(\"-----------------------------------------\")\n",
    "\n",
    "# 60일 이내 사망\n",
    "less = df9[\"DOA\"] <= \"60days\"\n",
    "df11 = df9[less].sort_values(by=[\"DOA\"], ascending=True)\n",
    "subject_list = df11[\"SUBJECT_ID\"].to_list()\n",
    "print(\"60일 이내 사망자 수: \", len(subject_list))\n",
    "print(\"60일 이내 사망자 수 비율: \", len(subject_list)/17208*100)\n",
    "print(\"-----------------------------------------\")\n",
    "\n",
    "# 90일 이내 사망\n",
    "less = df9[\"DOA\"] <= \"90days\"\n",
    "df12 = df9[less].sort_values(by=[\"DOA\"], ascending=True)\n",
    "subject_list = df12[\"SUBJECT_ID\"].to_list()\n",
    "print(\"90일 이내 사망자 수: \", len(subject_list))\n",
    "print(\"90일 이내 사망자 수 비율: \", len(subject_list)/17208*100)\n",
    "print(\"-----------------------------------------\")\n",
    "\n",
    "# 120일 이내 사망\n",
    "less = df9[\"DOA\"] <= \"120days\"\n",
    "df13 = df9[less].sort_values(by=[\"DOA\"], ascending=True)\n",
    "subject_list = df13[\"SUBJECT_ID\"].to_list()\n",
    "print(\"120일 이내 사망자 수: \", len(subject_list))\n",
    "print(\"120일 이내 사망자 수 비율: \", len(subject_list)/17208*100)\n",
    "print(\"-----------------------------------------\")\n",
    "\n",
    "# 150일 이내 사망\n",
    "less = df9[\"DOA\"] <= \"150days\"\n",
    "df14 = df9[less].sort_values(by=[\"DOA\"], ascending=True)\n",
    "subject_list = df14[\"SUBJECT_ID\"].to_list()\n",
    "print(\"150일 이내 사망자 수: \", len(subject_list))\n",
    "print(\"150일 이내 사망자 수 비율: \", len(subject_list)/17208*100)\n",
    "print(\"-----------------------------------------\")"
   ]
  },
  {
   "cell_type": "markdown",
   "id": "219d0cf3-92c9-44c4-a7de-8487770bb47e",
   "metadata": {
    "jp-MarkdownHeadingCollapsed": true,
    "tags": []
   },
   "source": [
    "##### 4. data extraction\n",
    "1. 환자의 demographic data(인구통계학적 데이터) -> \n",
    "2. 환자의 vital signal(활력징후 데이터) -> \n",
    "3. 환자의 laboratory value(실험실 데이터) -> LABEVENTS table\n",
    "4. 생명 유지 장치(?)"
   ]
  },
  {
   "cell_type": "code",
   "execution_count": null,
   "id": "3dd7749b-6cee-41c9-b8bf-8b558b6e8a5f",
   "metadata": {},
   "outputs": [],
   "source": []
  },
  {
   "cell_type": "markdown",
   "id": "d1a938bf-de7a-4703-802f-44883cc2adfe",
   "metadata": {
    "jp-MarkdownHeadingCollapsed": true,
    "tags": []
   },
   "source": [
    "##### 5. 2차 조건 적용(missing value)"
   ]
  },
  {
   "cell_type": "code",
   "execution_count": null,
   "id": "e1deff43-79ef-4e96-b1f3-2d49e3dd0b25",
   "metadata": {},
   "outputs": [],
   "source": []
  }
 ],
 "metadata": {
  "kernelspec": {
   "display_name": "Python 3 (ipykernel)",
   "language": "python",
   "name": "python3"
  },
  "language_info": {
   "codemirror_mode": {
    "name": "ipython",
    "version": 3
   },
   "file_extension": ".py",
   "mimetype": "text/x-python",
   "name": "python",
   "nbconvert_exporter": "python",
   "pygments_lexer": "ipython3",
   "version": "3.9.12"
  }
 },
 "nbformat": 4,
 "nbformat_minor": 5
}
