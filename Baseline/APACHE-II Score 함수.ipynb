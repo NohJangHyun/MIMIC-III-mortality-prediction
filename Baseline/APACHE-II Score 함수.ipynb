{
 "cells": [
  {
   "cell_type": "code",
   "execution_count": null,
   "id": "34d681be-dc8e-4c0b-9b6a-cdfcfd00ec50",
   "metadata": {},
   "outputs": [],
   "source": [
    "def calculate_apache_ii_score_points(age, temperature, mean_bp, heart_rate, respiratory_rate, ph, sodium, potassium, creatinine, hematocrit, wbc, glasgow_coma_scale):\n",
    "    age_points = [0, 2, 3, 5, 6]\n",
    "    temperature_points = [4, 3, 2, 1, 0, 1, 3, 4]\n",
    "    mean_bp_points = [4, 2, 0, 2, 3, 4]\n",
    "    heart_rate_points = [4, 3, 2, 0, 2, 3, 4]\n",
    "    respiratory_rate_points = [4, 2, 1, 0, 1, 3, 4]\n",
    "    ph_points = [4, 3, 2, 0, 1, 3, 4]\n",
    "    sodium_points = [4, 3, 2, 0, 1, 2, 3, 4]\n",
    "    potassium_points = [4, 2, 1, 0, 1, 3, 4]\n",
    "    creatinine_points = [2, 0, 3, 4, 6]\n",
    "    hematocrit_points = [4, 2, 0, 1, 2, 4]\n",
    "    wbc_points = [4, 2, 0, 1, 2, 4]\n",
    "    glasgow_coma_scale_points = [0, 1, 2, 3, 4, 5, 6, 7, 8, 9, 10, 11, 12, 13, 14]\n",
    "\n",
    "    # 각 변수의 값에 따라 포인트를 할당하고 더해줍니다.\n",
    "    score = (\n",
    "        age_points[0 if age < 44 else 1 if age < 55 else 2 if age < 65 else 3 if age <= 75 else 4] +\n",
    "        temperature_points[0 if temperature < 30.0 else 1 if temperature < 32.0 else 2 if temperature < 34.0\n",
    "                           else 3 if temperature < 36.0 else 4 if temperature < 38.5 else 5 if temperature < 39.0 \n",
    "                           else 6 if temperature < 41.0 else 7] +\n",
    "        mean_bp_points[0 if mean_bp <= 49 else 1 if mean_bp > 69 else 2 if mean_bp > 109 else 3 if mean_bp > 129 \n",
    "                       else 4 if mean_bp > 159 else 5] +\n",
    "        heart_rate_points[0 if heart_rate < 40 else 1 if heart_rate < 55 else 2 if heart_rate < 70 else 3 if heart_rate < 110\n",
    "                          else 4 if heart_rate < 140 else 5 if heart_rate < 180 else 6] +\n",
    "        respiratory_rate_points[0 if respiratory_rate < 6 else 1 if respiratory_rate < 10 else 2 if respiratory_rate < 12\n",
    "                                else 3 if respiratory_rate < 25 else 4 if respiratory_rate < 35 else 5 if respiratory_rate < 50 else 6] +\n",
    "        ph_points[0 if ph < 7.15 else 1 if ph < 7.25 else 2 if ph < 7.33 else 3 if ph < 7.50 else 4 if ph < 7.60 else 5 if ph < 7.70 else 6] +\n",
    "        sodium_points[0 if sodium < 111 else 1 if sodium < 120 else 2 if sodium < 130 else 3 if sodium < 150\n",
    "                     else 4 if sodium < 155 else 5 if sodium < 160 else 6 if sodium < 180 else 7] +\n",
    "        potassium_points[0 if potassium < 2.5 else 1 if potassium < 3.0 else 2 if potassium < 3.5 else 3 if potassium < 5.5\n",
    "                         else 4 if potassium < 6.0 else 5 if potassium < 7.0 else 6] +\n",
    "        creatinine_points[0 if creatinine < 0.6 else 1 if creatinine < 1.5 else 2 if creatinine < 2.0 else 3 if creatinine < 3.5 else 4] +\n",
    "        hematocrit_points[0 if hematocrit < 20 else 1 if hematocrit < 30 else 2 if hematocrit < 46 else 3 if hematocrit < 50 else 4 if hematocrit < 60 else 5] +\n",
    "        wbc_points[0 if wbc < 1 else 1 if wbc < 3 else 2 if wbc < 15 else 3 if wbc< 20 else 4 if wbc < 40 else 5] +\n",
    "        glasgow_coma_scale_points[0 if glasgow_coma_scale == 15 else 1 if glasgow_coma_scale == 14 else 2 if glasgow_coma_scale == 13 else 3 if glasgow_coma_scale == 12\n",
    "                                  else 4 if glasgow_coma_scale == 11 else 5 if glasgow_coma_scale == 10 else 6 if glasgow_coma_scale == 9 else 7 if glasgow_coma_scale == 8 \n",
    "                                  else 8 if glasgow_coma_scale == 7 else 9 if glasgow_coma_scale == 6 else 10 if glasgow_coma_scale == 5 else 11 if glasgow_coma_scale == 4 \n",
    "                                  else 12 if glasgow_coma_scale == 3 else 13 if glasgow_coma_scale == 2 else 14]\n",
    "    )\n",
    "\n",
    "    return score\n"
   ]
  }
 ],
 "metadata": {
  "kernelspec": {
   "display_name": "Python 3 (ipykernel)",
   "language": "python",
   "name": "python3"
  },
  "language_info": {
   "codemirror_mode": {
    "name": "ipython",
    "version": 3
   },
   "file_extension": ".py",
   "mimetype": "text/x-python",
   "name": "python",
   "nbconvert_exporter": "python",
   "pygments_lexer": "ipython3",
   "version": "3.9.12"
  }
 },
 "nbformat": 4,
 "nbformat_minor": 5
}
