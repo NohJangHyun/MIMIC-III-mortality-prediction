{
 "cells": [
  {
   "cell_type": "code",
   "execution_count": 353,
   "id": "128c08c9-c6f5-42c2-a708-3bfad9b99008",
   "metadata": {},
   "outputs": [],
   "source": [
    "import pandas as pd\n",
    "import re"
   ]
  },
  {
   "cell_type": "markdown",
   "id": "ded208f2-2872-4bd1-a0c7-7248bb6f86ab",
   "metadata": {
    "jp-MarkdownHeadingCollapsed": true,
    "tags": []
   },
   "source": [
    "### Hypertension 관련 ICD-9 CODE 가져오기\n",
    "##### -> \"hypertension_list\"에 총 56개의 ICD-9 CODE 저장"
   ]
  },
  {
   "cell_type": "code",
   "execution_count": 355,
   "id": "a059425e-75b7-4417-abf5-b187aadf7b1d",
   "metadata": {},
   "outputs": [],
   "source": [
    "df = pd.read_csv(\"/data/PUBLIC_DATA/MIMIC-III/D_ICD_DIAGNOSES.csv\")\n",
    "# df = pd.read_csv(\"~/project/MIMIC-III/D_ICD_DIAGNOSES.csv\")"
   ]
  },
  {
   "cell_type": "code",
   "execution_count": 356,
   "id": "fcb601fc-4263-4e44-94d8-2979736f7a67",
   "metadata": {},
   "outputs": [
    {
     "name": "stdout",
     "output_type": "stream",
     "text": [
      "56\n"
     ]
    }
   ],
   "source": [
    "# DIAGNOSIS 데이터의 LONG_TITLE 칼럼에서 \"hypertension\"이라는 단어가 등장하는 경우\n",
    "df1 = df[df['LONG_TITLE'].str.contains('hypertension')]\n",
    "print(len(df1))"
   ]
  },
  {
   "cell_type": "code",
   "execution_count": 357,
   "id": "4b4e2197-ab68-4f57-82d1-ec6e8ef9b276",
   "metadata": {},
   "outputs": [
    {
     "name": "stdout",
     "output_type": "stream",
     "text": [
      "56\n"
     ]
    }
   ],
   "source": [
    "hypertension_list = df1[\"ICD9_CODE\"].to_list()\n",
    "print(len(hypertension_list))"
   ]
  },
  {
   "cell_type": "markdown",
   "id": "9fb883b3-8b2c-43ee-86fd-33c58732052b",
   "metadata": {
    "jp-MarkdownHeadingCollapsed": true,
    "tags": []
   },
   "source": [
    "### Hypertension 진단 받은 SUBJECT ID 선별\n",
    "##### -> \"subject_list\"에 18,871개 SUBJECT ID 저장"
   ]
  },
  {
   "cell_type": "code",
   "execution_count": 358,
   "id": "05957b32-052d-4523-9bb5-738943f58bcb",
   "metadata": {},
   "outputs": [],
   "source": [
    "df = pd.read_csv(\"/data/PUBLIC_DATA/MIMIC-III/DIAGNOSES_ICD.csv\")"
   ]
  },
  {
   "cell_type": "code",
   "execution_count": 359,
   "id": "0727d215-f187-4f7a-b55d-aeec415efe95",
   "metadata": {},
   "outputs": [],
   "source": [
    "def add(group):\n",
    "    return ' '.join(group['ICD9_CODE'].fillna(\"\"))\n",
    "\n",
    "df1 = df.groupby(['SUBJECT_ID', 'HADM_ID']).apply(add).reset_index(name=\"ICD9_CODE\")"
   ]
  },
  {
   "cell_type": "code",
   "execution_count": 360,
   "id": "50071d42-cf9e-4b64-abfb-692610aabb13",
   "metadata": {},
   "outputs": [],
   "source": [
    "mask = df1['ICD9_CODE'].str.contains('|'.join(hypertension_list), na=False)\n",
    "df2 = df1[mask]"
   ]
  },
  {
   "cell_type": "code",
   "execution_count": 363,
   "id": "15d5af94-9193-4283-a724-710e06788fd9",
   "metadata": {},
   "outputs": [],
   "source": [
    "# 동일한 환자의 경우 최초 진단 기록만 사용하기 위해 admission table 입원 시간 기록 데이터 가져와서 합치기\n",
    "df = pd.read_csv(\"/data/PUBLIC_DATA/MIMIC-III/ADMISSIONS.csv\")\n",
    "df3 = df[[\"HADM_ID\", \"ADMITTIME\"]]\n",
    "df4 = pd.merge(df2, df3, on=\"HADM_ID\")\n",
    "df4['ADMITTIME'] = pd.to_datetime(df4['ADMITTIME'])\n",
    "# df4.head(10)"
   ]
  },
  {
   "cell_type": "code",
   "execution_count": 364,
   "id": "0ac0e181-93bb-49e9-a9fe-4ffa159efe82",
   "metadata": {},
   "outputs": [],
   "source": [
    "df5 = df4.sort_values(by=['SUBJECT_ID', 'ADMITTIME'], ascending=[True, True])\n",
    "df5 = df5.drop_duplicates(subset=['SUBJECT_ID'], keep='first')\n",
    "df5.sort_values(by=[\"SUBJECT_ID\"], ascending=True, inplace=True)\n",
    "# df5.head(10) # 7,8번 index의 값 중 ADMITTIME이 빠른 index만 남은 것을 확인할 수 있다."
   ]
  },
  {
   "cell_type": "code",
   "execution_count": 365,
   "id": "10ebb35d-33e0-428a-ac12-7b91da45e7c7",
   "metadata": {},
   "outputs": [
    {
     "name": "stdout",
     "output_type": "stream",
     "text": [
      "18871\n"
     ]
    }
   ],
   "source": [
    "subject_list = df5[\"SUBJECT_ID\"].to_list()\n",
    "print(len(subject_list))"
   ]
  },
  {
   "cell_type": "markdown",
   "id": "e3a63803-2bbe-4ced-b07f-277930028864",
   "metadata": {
    "jp-MarkdownHeadingCollapsed": true,
    "tags": []
   },
   "source": [
    "### Hypertension 진단 받은 환자 사망률 확인\n",
    "-> 전체 18,871명 중 생존(0)은 11,412명, 사망(1)은 7459명으로 6:4 정도의 비율 <p>\n",
    "-> 성별에 따른 비는 남자 10,525명, 여자 7,459명으로 5.5:4.5 정도의 비율"
   ]
  },
  {
   "cell_type": "code",
   "execution_count": 366,
   "id": "ffbfba79-b504-414f-ada4-1e42ebaf137a",
   "metadata": {},
   "outputs": [],
   "source": [
    "df = pd.read_csv(\"/data/PUBLIC_DATA/MIMIC-III/PATIENTS.csv\")"
   ]
  },
  {
   "cell_type": "code",
   "execution_count": 367,
   "id": "d53733ac-ef7e-4a1d-96b9-58c9bb27e452",
   "metadata": {},
   "outputs": [],
   "source": [
    "df1 = df[df[\"SUBJECT_ID\"].isin(subject_list)]"
   ]
  },
  {
   "cell_type": "code",
   "execution_count": 368,
   "id": "aab7efe4-4fd9-422f-a682-3f03fabfbaad",
   "metadata": {},
   "outputs": [
    {
     "data": {
      "text/html": [
       "<div>\n",
       "<style scoped>\n",
       "    .dataframe tbody tr th:only-of-type {\n",
       "        vertical-align: middle;\n",
       "    }\n",
       "\n",
       "    .dataframe tbody tr th {\n",
       "        vertical-align: top;\n",
       "    }\n",
       "\n",
       "    .dataframe thead th {\n",
       "        text-align: right;\n",
       "    }\n",
       "</style>\n",
       "<table border=\"1\" class=\"dataframe\">\n",
       "  <thead>\n",
       "    <tr style=\"text-align: right;\">\n",
       "      <th></th>\n",
       "      <th>Count</th>\n",
       "      <th>ratio</th>\n",
       "    </tr>\n",
       "  </thead>\n",
       "  <tbody>\n",
       "    <tr>\n",
       "      <th>0</th>\n",
       "      <td>11412</td>\n",
       "      <td>0.604737</td>\n",
       "    </tr>\n",
       "    <tr>\n",
       "      <th>1</th>\n",
       "      <td>7459</td>\n",
       "      <td>0.395263</td>\n",
       "    </tr>\n",
       "  </tbody>\n",
       "</table>\n",
       "</div>"
      ],
      "text/plain": [
       "   Count     ratio\n",
       "0  11412  0.604737\n",
       "1   7459  0.395263"
      ]
     },
     "execution_count": 368,
     "metadata": {},
     "output_type": "execute_result"
    }
   ],
   "source": [
    "# Hypertension 진단 받은 사람의 사망 비율\n",
    "df2 = df1[\"EXPIRE_FLAG\"].value_counts().to_frame(name=\"Count\")\n",
    "df2[\"ratio\"] = df1[\"EXPIRE_FLAG\"].value_counts(normalize=True)\n",
    "df2"
   ]
  },
  {
   "cell_type": "code",
   "execution_count": 369,
   "id": "aedfe296-53a6-48ca-97e7-36bd17a68daa",
   "metadata": {},
   "outputs": [
    {
     "data": {
      "text/html": [
       "<div>\n",
       "<style scoped>\n",
       "    .dataframe tbody tr th:only-of-type {\n",
       "        vertical-align: middle;\n",
       "    }\n",
       "\n",
       "    .dataframe tbody tr th {\n",
       "        vertical-align: top;\n",
       "    }\n",
       "\n",
       "    .dataframe thead th {\n",
       "        text-align: right;\n",
       "    }\n",
       "</style>\n",
       "<table border=\"1\" class=\"dataframe\">\n",
       "  <thead>\n",
       "    <tr style=\"text-align: right;\">\n",
       "      <th></th>\n",
       "      <th>Gender</th>\n",
       "      <th>ratio</th>\n",
       "    </tr>\n",
       "  </thead>\n",
       "  <tbody>\n",
       "    <tr>\n",
       "      <th>M</th>\n",
       "      <td>10525</td>\n",
       "      <td>0.557734</td>\n",
       "    </tr>\n",
       "    <tr>\n",
       "      <th>F</th>\n",
       "      <td>8346</td>\n",
       "      <td>0.442266</td>\n",
       "    </tr>\n",
       "  </tbody>\n",
       "</table>\n",
       "</div>"
      ],
      "text/plain": [
       "   Gender     ratio\n",
       "M   10525  0.557734\n",
       "F    8346  0.442266"
      ]
     },
     "execution_count": 369,
     "metadata": {},
     "output_type": "execute_result"
    }
   ],
   "source": [
    "# Hypertension 진단 받은 사람의 성별 비율\n",
    "df3 = df1[\"GENDER\"].value_counts().to_frame(name=\"Gender\")\n",
    "df3[\"ratio\"] = df1[\"GENDER\"].value_counts(normalize=True)\n",
    "df3"
   ]
  },
  {
   "cell_type": "code",
   "execution_count": 370,
   "id": "5fb0bce7-9131-491b-8c3e-de9cd59af28d",
   "metadata": {},
   "outputs": [
    {
     "data": {
      "text/html": [
       "<div>\n",
       "<style scoped>\n",
       "    .dataframe tbody tr th:only-of-type {\n",
       "        vertical-align: middle;\n",
       "    }\n",
       "\n",
       "    .dataframe tbody tr th {\n",
       "        vertical-align: top;\n",
       "    }\n",
       "\n",
       "    .dataframe thead th {\n",
       "        text-align: right;\n",
       "    }\n",
       "</style>\n",
       "<table border=\"1\" class=\"dataframe\">\n",
       "  <thead>\n",
       "    <tr style=\"text-align: right;\">\n",
       "      <th>EXPIRE_FLAG</th>\n",
       "      <th>0</th>\n",
       "      <th>1</th>\n",
       "      <th>SUM</th>\n",
       "    </tr>\n",
       "    <tr>\n",
       "      <th>GENDER</th>\n",
       "      <th></th>\n",
       "      <th></th>\n",
       "      <th></th>\n",
       "    </tr>\n",
       "  </thead>\n",
       "  <tbody>\n",
       "    <tr>\n",
       "      <th>F</th>\n",
       "      <td>4693</td>\n",
       "      <td>3653</td>\n",
       "      <td>8346</td>\n",
       "    </tr>\n",
       "    <tr>\n",
       "      <th>M</th>\n",
       "      <td>6719</td>\n",
       "      <td>3806</td>\n",
       "      <td>10525</td>\n",
       "    </tr>\n",
       "  </tbody>\n",
       "</table>\n",
       "</div>"
      ],
      "text/plain": [
       "EXPIRE_FLAG     0     1    SUM\n",
       "GENDER                        \n",
       "F            4693  3653   8346\n",
       "M            6719  3806  10525"
      ]
     },
     "execution_count": 370,
     "metadata": {},
     "output_type": "execute_result"
    }
   ],
   "source": [
    "# Hypertension 진단 받은 사람의 성별에 따른 사망 비율\n",
    "df4 = df1.groupby([\"GENDER\", \"EXPIRE_FLAG\"]).size().unstack(fill_value=0)\n",
    "df4[\"SUM\"] = df1[\"GENDER\"].value_counts()\n",
    "df4"
   ]
  },
  {
   "cell_type": "code",
   "execution_count": null,
   "id": "d75a6c87-5d4f-4906-b847-8984ecb22ecf",
   "metadata": {},
   "outputs": [],
   "source": []
  }
 ],
 "metadata": {
  "kernelspec": {
   "display_name": "Python 3 (ipykernel)",
   "language": "python",
   "name": "python3"
  },
  "language_info": {
   "codemirror_mode": {
    "name": "ipython",
    "version": 3
   },
   "file_extension": ".py",
   "mimetype": "text/x-python",
   "name": "python",
   "nbconvert_exporter": "python",
   "pygments_lexer": "ipython3",
   "version": "3.9.12"
  }
 },
 "nbformat": 4,
 "nbformat_minor": 5
}
