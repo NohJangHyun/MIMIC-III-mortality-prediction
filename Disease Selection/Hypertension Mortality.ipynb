{
 "cells": [
  {
   "cell_type": "code",
   "execution_count": 353,
   "id": "128c08c9-c6f5-42c2-a708-3bfad9b99008",
   "metadata": {},
   "outputs": [],
   "source": [
    "import pandas as pd\n",
    "import re"
   ]
  },
  {
   "cell_type": "markdown",
   "id": "ded208f2-2872-4bd1-a0c7-7248bb6f86ab",
   "metadata": {
    "jp-MarkdownHeadingCollapsed": true,
    "tags": []
   },
   "source": [
    "### Hypertension 관련 ICD-9 CODE 가져오기\n",
    "##### -> \"hypertension_list\"에 총 56개의 ICD-9 CODE 저장"
   ]
  },
  {
   "cell_type": "code",
   "execution_count": 355,
   "id": "a059425e-75b7-4417-abf5-b187aadf7b1d",
   "metadata": {},
   "outputs": [],
   "source": [
    "df = pd.read_csv(\"/data/PUBLIC_DATA/MIMIC-III/D_ICD_DIAGNOSES.csv\")"
   ]
  },
  {
   "cell_type": "code",
   "execution_count": 356,
   "id": "fcb601fc-4263-4e44-94d8-2979736f7a67",
   "metadata": {},
   "outputs": [
    {
     "name": "stdout",
     "output_type": "stream",
     "text": [
      "56\n"
     ]
    }
   ],
   "source": [
    "# DIAGNOSIS 데이터의 LONG_TITLE 칼럼에서 \"hypertension\"이라는 단어가 등장하는 경우\n",
    "df1 = df[df['LONG_TITLE'].str.contains('hypertension')]\n",
    "print(len(df1))"
   ]
  },
  {
   "cell_type": "code",
   "execution_count": 357,
   "id": "4b4e2197-ab68-4f57-82d1-ec6e8ef9b276",
   "metadata": {},
   "outputs": [
    {
     "name": "stdout",
     "output_type": "stream",
     "text": [
      "56\n"
     ]
    }
   ],
   "source": [
    "hypertension_list = df1[\"ICD9_CODE\"].to_list()\n",
    "print(len(hypertension_list))"
   ]
  },
  {
   "cell_type": "markdown",
   "id": "9fb883b3-8b2c-43ee-86fd-33c58732052b",
   "metadata": {
    "tags": []
   },
   "source": [
    "### Hypertension 진단 받은 SUBJECT ID 선별\n",
    "##### -> \"subject_list\"에 18,871개 SUBJECT ID 저장"
   ]
  },
  {
   "cell_type": "code",
   "execution_count": 372,
   "id": "05957b32-052d-4523-9bb5-738943f58bcb",
   "metadata": {},
   "outputs": [],
   "source": [
    "df = pd.read_csv(\"/data/PUBLIC_DATA/MIMIC-III/DIAGNOSES_ICD.csv\")"
   ]
  },
  {
   "cell_type": "code",
   "execution_count": 373,
   "id": "0727d215-f187-4f7a-b55d-aeec415efe95",
   "metadata": {},
   "outputs": [],
   "source": [
    "def add(group):\n",
    "    return ' '.join(group['ICD9_CODE'].fillna(\"\"))\n",
    "\n",
    "df1 = df.groupby(['SUBJECT_ID', 'HADM_ID']).apply(add).reset_index(name=\"ICD9_CODE\")"
   ]
  },
  {
   "cell_type": "code",
   "execution_count": 374,
   "id": "50071d42-cf9e-4b64-abfb-692610aabb13",
   "metadata": {},
   "outputs": [],
   "source": [
    "mask = df1['ICD9_CODE'].str.contains('|'.join(hypertension_list), na=False)\n",
    "df2 = df1[mask]"
   ]
  },
  {
   "cell_type": "code",
   "execution_count": 375,
   "id": "15d5af94-9193-4283-a724-710e06788fd9",
   "metadata": {},
   "outputs": [
    {
     "data": {
      "text/html": [
       "<div>\n",
       "<style scoped>\n",
       "    .dataframe tbody tr th:only-of-type {\n",
       "        vertical-align: middle;\n",
       "    }\n",
       "\n",
       "    .dataframe tbody tr th {\n",
       "        vertical-align: top;\n",
       "    }\n",
       "\n",
       "    .dataframe thead th {\n",
       "        text-align: right;\n",
       "    }\n",
       "</style>\n",
       "<table border=\"1\" class=\"dataframe\">\n",
       "  <thead>\n",
       "    <tr style=\"text-align: right;\">\n",
       "      <th></th>\n",
       "      <th>SUBJECT_ID</th>\n",
       "      <th>HADM_ID</th>\n",
       "      <th>ICD9_CODE</th>\n",
       "      <th>ADMITTIME</th>\n",
       "    </tr>\n",
       "  </thead>\n",
       "  <tbody>\n",
       "    <tr>\n",
       "      <th>0</th>\n",
       "      <td>9</td>\n",
       "      <td>150750</td>\n",
       "      <td>431 5070 4280 5849 2765 4019</td>\n",
       "      <td>2149-11-09 13:06:00</td>\n",
       "    </tr>\n",
       "    <tr>\n",
       "      <th>1</th>\n",
       "      <td>12</td>\n",
       "      <td>112213</td>\n",
       "      <td>1570 57410 9971 4275 99811 4019 5680 55321 E8782</td>\n",
       "      <td>2104-08-07 10:15:00</td>\n",
       "    </tr>\n",
       "    <tr>\n",
       "      <th>2</th>\n",
       "      <td>13</td>\n",
       "      <td>143045</td>\n",
       "      <td>41401 4111 25000 4019 2720</td>\n",
       "      <td>2167-01-08 18:43:00</td>\n",
       "    </tr>\n",
       "    <tr>\n",
       "      <th>3</th>\n",
       "      <td>18</td>\n",
       "      <td>188822</td>\n",
       "      <td>25080 78039 29633 V5867 E9323 V5869 47829 7805...</td>\n",
       "      <td>2167-10-02 11:18:00</td>\n",
       "    </tr>\n",
       "    <tr>\n",
       "      <th>4</th>\n",
       "      <td>19</td>\n",
       "      <td>109235</td>\n",
       "      <td>80502 5990 5964 E8809 8220 73300 2948 4019 44321</td>\n",
       "      <td>2108-08-05 16:25:00</td>\n",
       "    </tr>\n",
       "    <tr>\n",
       "      <th>...</th>\n",
       "      <td>...</td>\n",
       "      <td>...</td>\n",
       "      <td>...</td>\n",
       "      <td>...</td>\n",
       "    </tr>\n",
       "    <tr>\n",
       "      <th>22424</th>\n",
       "      <td>99965</td>\n",
       "      <td>101083</td>\n",
       "      <td>99811 2851 185 4019 49320</td>\n",
       "      <td>2191-07-13 19:39:00</td>\n",
       "    </tr>\n",
       "    <tr>\n",
       "      <th>22425</th>\n",
       "      <td>99966</td>\n",
       "      <td>167228</td>\n",
       "      <td>4260 42789 7802 9100 4019 2724 53081 V1046 V12...</td>\n",
       "      <td>2191-08-23 23:16:00</td>\n",
       "    </tr>\n",
       "    <tr>\n",
       "      <th>22426</th>\n",
       "      <td>99983</td>\n",
       "      <td>117390</td>\n",
       "      <td>41001 5849 41401 60001 2724 4019 V4582 78820</td>\n",
       "      <td>2193-04-26 11:35:00</td>\n",
       "    </tr>\n",
       "    <tr>\n",
       "      <th>22427</th>\n",
       "      <td>99992</td>\n",
       "      <td>197084</td>\n",
       "      <td>9999 56881 5772 2851 5849 5799 72992 53081 401...</td>\n",
       "      <td>2144-07-25 18:03:00</td>\n",
       "    </tr>\n",
       "    <tr>\n",
       "      <th>22428</th>\n",
       "      <td>99999</td>\n",
       "      <td>113369</td>\n",
       "      <td>75612 7861 4019 25000 4139</td>\n",
       "      <td>2117-12-30 07:15:00</td>\n",
       "    </tr>\n",
       "  </tbody>\n",
       "</table>\n",
       "<p>22429 rows × 4 columns</p>\n",
       "</div>"
      ],
      "text/plain": [
       "       SUBJECT_ID  HADM_ID                                          ICD9_CODE  \\\n",
       "0               9   150750                       431 5070 4280 5849 2765 4019   \n",
       "1              12   112213   1570 57410 9971 4275 99811 4019 5680 55321 E8782   \n",
       "2              13   143045                         41401 4111 25000 4019 2720   \n",
       "3              18   188822  25080 78039 29633 V5867 E9323 V5869 47829 7805...   \n",
       "4              19   109235   80502 5990 5964 E8809 8220 73300 2948 4019 44321   \n",
       "...           ...      ...                                                ...   \n",
       "22424       99965   101083                          99811 2851 185 4019 49320   \n",
       "22425       99966   167228  4260 42789 7802 9100 4019 2724 53081 V1046 V12...   \n",
       "22426       99983   117390       41001 5849 41401 60001 2724 4019 V4582 78820   \n",
       "22427       99992   197084  9999 56881 5772 2851 5849 5799 72992 53081 401...   \n",
       "22428       99999   113369                         75612 7861 4019 25000 4139   \n",
       "\n",
       "                ADMITTIME  \n",
       "0     2149-11-09 13:06:00  \n",
       "1     2104-08-07 10:15:00  \n",
       "2     2167-01-08 18:43:00  \n",
       "3     2167-10-02 11:18:00  \n",
       "4     2108-08-05 16:25:00  \n",
       "...                   ...  \n",
       "22424 2191-07-13 19:39:00  \n",
       "22425 2191-08-23 23:16:00  \n",
       "22426 2193-04-26 11:35:00  \n",
       "22427 2144-07-25 18:03:00  \n",
       "22428 2117-12-30 07:15:00  \n",
       "\n",
       "[22429 rows x 4 columns]"
      ]
     },
     "execution_count": 375,
     "metadata": {},
     "output_type": "execute_result"
    }
   ],
   "source": [
    "# 동일한 환자의 경우 최초 진단 기록만 사용하기 위해 admission table 입원 시간 기록 데이터 가져와서 합치기\n",
    "df = pd.read_csv(\"/data/PUBLIC_DATA/MIMIC-III/ADMISSIONS.csv\")\n",
    "df3 = df[[\"HADM_ID\", \"ADMITTIME\"]]\n",
    "df4 = pd.merge(df2, df3, on=\"HADM_ID\")\n",
    "df4['ADMITTIME'] = pd.to_datetime(df4['ADMITTIME'])\n",
    "df4"
   ]
  },
  {
   "cell_type": "code",
   "execution_count": 376,
   "id": "0ac0e181-93bb-49e9-a9fe-4ffa159efe82",
   "metadata": {},
   "outputs": [
    {
     "data": {
      "text/html": [
       "<div>\n",
       "<style scoped>\n",
       "    .dataframe tbody tr th:only-of-type {\n",
       "        vertical-align: middle;\n",
       "    }\n",
       "\n",
       "    .dataframe tbody tr th {\n",
       "        vertical-align: top;\n",
       "    }\n",
       "\n",
       "    .dataframe thead th {\n",
       "        text-align: right;\n",
       "    }\n",
       "</style>\n",
       "<table border=\"1\" class=\"dataframe\">\n",
       "  <thead>\n",
       "    <tr style=\"text-align: right;\">\n",
       "      <th></th>\n",
       "      <th>SUBJECT_ID</th>\n",
       "      <th>HADM_ID</th>\n",
       "      <th>ICD9_CODE</th>\n",
       "      <th>ADMITTIME</th>\n",
       "    </tr>\n",
       "  </thead>\n",
       "  <tbody>\n",
       "    <tr>\n",
       "      <th>0</th>\n",
       "      <td>9</td>\n",
       "      <td>150750</td>\n",
       "      <td>431 5070 4280 5849 2765 4019</td>\n",
       "      <td>2149-11-09 13:06:00</td>\n",
       "    </tr>\n",
       "    <tr>\n",
       "      <th>1</th>\n",
       "      <td>12</td>\n",
       "      <td>112213</td>\n",
       "      <td>1570 57410 9971 4275 99811 4019 5680 55321 E8782</td>\n",
       "      <td>2104-08-07 10:15:00</td>\n",
       "    </tr>\n",
       "    <tr>\n",
       "      <th>2</th>\n",
       "      <td>13</td>\n",
       "      <td>143045</td>\n",
       "      <td>41401 4111 25000 4019 2720</td>\n",
       "      <td>2167-01-08 18:43:00</td>\n",
       "    </tr>\n",
       "    <tr>\n",
       "      <th>3</th>\n",
       "      <td>18</td>\n",
       "      <td>188822</td>\n",
       "      <td>25080 78039 29633 V5867 E9323 V5869 47829 7805...</td>\n",
       "      <td>2167-10-02 11:18:00</td>\n",
       "    </tr>\n",
       "    <tr>\n",
       "      <th>4</th>\n",
       "      <td>19</td>\n",
       "      <td>109235</td>\n",
       "      <td>80502 5990 5964 E8809 8220 73300 2948 4019 44321</td>\n",
       "      <td>2108-08-05 16:25:00</td>\n",
       "    </tr>\n",
       "    <tr>\n",
       "      <th>5</th>\n",
       "      <td>20</td>\n",
       "      <td>157681</td>\n",
       "      <td>41401 4111 25000 2724 4019</td>\n",
       "      <td>2183-04-28 09:45:00</td>\n",
       "    </tr>\n",
       "    <tr>\n",
       "      <th>6</th>\n",
       "      <td>22</td>\n",
       "      <td>165315</td>\n",
       "      <td>9678 9693 E9502 E9503 3488 29620 4019</td>\n",
       "      <td>2196-04-09 12:26:00</td>\n",
       "    </tr>\n",
       "    <tr>\n",
       "      <th>8</th>\n",
       "      <td>23</td>\n",
       "      <td>152223</td>\n",
       "      <td>41401 4111 4241 V4582 2724 4019 60000 3899</td>\n",
       "      <td>2153-09-03 07:15:00</td>\n",
       "    </tr>\n",
       "    <tr>\n",
       "      <th>9</th>\n",
       "      <td>25</td>\n",
       "      <td>129635</td>\n",
       "      <td>41071 25011 41401 4019</td>\n",
       "      <td>2160-11-02 02:06:00</td>\n",
       "    </tr>\n",
       "    <tr>\n",
       "      <th>10</th>\n",
       "      <td>30</td>\n",
       "      <td>104557</td>\n",
       "      <td>99674 4160 4111 4281 4271 41401 4019 2720 5939</td>\n",
       "      <td>2172-10-14 14:17:00</td>\n",
       "    </tr>\n",
       "  </tbody>\n",
       "</table>\n",
       "</div>"
      ],
      "text/plain": [
       "    SUBJECT_ID  HADM_ID                                          ICD9_CODE  \\\n",
       "0            9   150750                       431 5070 4280 5849 2765 4019   \n",
       "1           12   112213   1570 57410 9971 4275 99811 4019 5680 55321 E8782   \n",
       "2           13   143045                         41401 4111 25000 4019 2720   \n",
       "3           18   188822  25080 78039 29633 V5867 E9323 V5869 47829 7805...   \n",
       "4           19   109235   80502 5990 5964 E8809 8220 73300 2948 4019 44321   \n",
       "5           20   157681                         41401 4111 25000 2724 4019   \n",
       "6           22   165315              9678 9693 E9502 E9503 3488 29620 4019   \n",
       "8           23   152223         41401 4111 4241 V4582 2724 4019 60000 3899   \n",
       "9           25   129635                             41071 25011 41401 4019   \n",
       "10          30   104557     99674 4160 4111 4281 4271 41401 4019 2720 5939   \n",
       "\n",
       "             ADMITTIME  \n",
       "0  2149-11-09 13:06:00  \n",
       "1  2104-08-07 10:15:00  \n",
       "2  2167-01-08 18:43:00  \n",
       "3  2167-10-02 11:18:00  \n",
       "4  2108-08-05 16:25:00  \n",
       "5  2183-04-28 09:45:00  \n",
       "6  2196-04-09 12:26:00  \n",
       "8  2153-09-03 07:15:00  \n",
       "9  2160-11-02 02:06:00  \n",
       "10 2172-10-14 14:17:00  "
      ]
     },
     "execution_count": 376,
     "metadata": {},
     "output_type": "execute_result"
    }
   ],
   "source": [
    "df5 = df4.sort_values(by=['SUBJECT_ID', 'ADMITTIME'], ascending=[True, True])\n",
    "df5 = df5.drop_duplicates(subset=['SUBJECT_ID'], keep='first')\n",
    "df5.sort_values(by=[\"SUBJECT_ID\"], ascending=True, inplace=True)\n",
    "df5.head(10) # 7,8번 index의 값 중 ADMITTIME이 빠른 index만 남은 것을 확인할 수 있다."
   ]
  },
  {
   "cell_type": "code",
   "execution_count": 365,
   "id": "10ebb35d-33e0-428a-ac12-7b91da45e7c7",
   "metadata": {},
   "outputs": [
    {
     "name": "stdout",
     "output_type": "stream",
     "text": [
      "18871\n"
     ]
    }
   ],
   "source": [
    "subject_list = df5[\"SUBJECT_ID\"].to_list()\n",
    "print(len(subject_list))"
   ]
  },
  {
   "cell_type": "markdown",
   "id": "e3a63803-2bbe-4ced-b07f-277930028864",
   "metadata": {
    "tags": []
   },
   "source": [
    "### Hypertension 진단 받은 환자 사망률 확인\n",
    "-> 전체 18,871명 중 생존(0)은 11,412명, 사망(1)은 7459명으로 6:4 정도의 비율 <p>\n",
    "-> 성별에 따른 비는 남자 10,525명, 여자 7,459명으로 5.5:4.5 정도의 비율"
   ]
  },
  {
   "cell_type": "code",
   "execution_count": 366,
   "id": "ffbfba79-b504-414f-ada4-1e42ebaf137a",
   "metadata": {},
   "outputs": [],
   "source": [
    "df = pd.read_csv(\"/data/PUBLIC_DATA/MIMIC-III/PATIENTS.csv\")"
   ]
  },
  {
   "cell_type": "code",
   "execution_count": 367,
   "id": "d53733ac-ef7e-4a1d-96b9-58c9bb27e452",
   "metadata": {},
   "outputs": [],
   "source": [
    "df1 = df[df[\"SUBJECT_ID\"].isin(subject_list)]"
   ]
  },
  {
   "cell_type": "code",
   "execution_count": 368,
   "id": "aab7efe4-4fd9-422f-a682-3f03fabfbaad",
   "metadata": {},
   "outputs": [
    {
     "data": {
      "text/html": [
       "<div>\n",
       "<style scoped>\n",
       "    .dataframe tbody tr th:only-of-type {\n",
       "        vertical-align: middle;\n",
       "    }\n",
       "\n",
       "    .dataframe tbody tr th {\n",
       "        vertical-align: top;\n",
       "    }\n",
       "\n",
       "    .dataframe thead th {\n",
       "        text-align: right;\n",
       "    }\n",
       "</style>\n",
       "<table border=\"1\" class=\"dataframe\">\n",
       "  <thead>\n",
       "    <tr style=\"text-align: right;\">\n",
       "      <th></th>\n",
       "      <th>Count</th>\n",
       "      <th>ratio</th>\n",
       "    </tr>\n",
       "  </thead>\n",
       "  <tbody>\n",
       "    <tr>\n",
       "      <th>0</th>\n",
       "      <td>11412</td>\n",
       "      <td>0.604737</td>\n",
       "    </tr>\n",
       "    <tr>\n",
       "      <th>1</th>\n",
       "      <td>7459</td>\n",
       "      <td>0.395263</td>\n",
       "    </tr>\n",
       "  </tbody>\n",
       "</table>\n",
       "</div>"
      ],
      "text/plain": [
       "   Count     ratio\n",
       "0  11412  0.604737\n",
       "1   7459  0.395263"
      ]
     },
     "execution_count": 368,
     "metadata": {},
     "output_type": "execute_result"
    }
   ],
   "source": [
    "# Hypertension 진단 받은 사람의 사망 비율\n",
    "df2 = df1[\"EXPIRE_FLAG\"].value_counts().to_frame(name=\"Count\")\n",
    "df2[\"ratio\"] = df1[\"EXPIRE_FLAG\"].value_counts(normalize=True)\n",
    "df2"
   ]
  },
  {
   "cell_type": "code",
   "execution_count": 369,
   "id": "aedfe296-53a6-48ca-97e7-36bd17a68daa",
   "metadata": {},
   "outputs": [
    {
     "data": {
      "text/html": [
       "<div>\n",
       "<style scoped>\n",
       "    .dataframe tbody tr th:only-of-type {\n",
       "        vertical-align: middle;\n",
       "    }\n",
       "\n",
       "    .dataframe tbody tr th {\n",
       "        vertical-align: top;\n",
       "    }\n",
       "\n",
       "    .dataframe thead th {\n",
       "        text-align: right;\n",
       "    }\n",
       "</style>\n",
       "<table border=\"1\" class=\"dataframe\">\n",
       "  <thead>\n",
       "    <tr style=\"text-align: right;\">\n",
       "      <th></th>\n",
       "      <th>Gender</th>\n",
       "      <th>ratio</th>\n",
       "    </tr>\n",
       "  </thead>\n",
       "  <tbody>\n",
       "    <tr>\n",
       "      <th>M</th>\n",
       "      <td>10525</td>\n",
       "      <td>0.557734</td>\n",
       "    </tr>\n",
       "    <tr>\n",
       "      <th>F</th>\n",
       "      <td>8346</td>\n",
       "      <td>0.442266</td>\n",
       "    </tr>\n",
       "  </tbody>\n",
       "</table>\n",
       "</div>"
      ],
      "text/plain": [
       "   Gender     ratio\n",
       "M   10525  0.557734\n",
       "F    8346  0.442266"
      ]
     },
     "execution_count": 369,
     "metadata": {},
     "output_type": "execute_result"
    }
   ],
   "source": [
    "# Hypertension 진단 받은 사람의 성별 비율\n",
    "df3 = df1[\"GENDER\"].value_counts().to_frame(name=\"Gender\")\n",
    "df3[\"ratio\"] = df1[\"GENDER\"].value_counts(normalize=True)\n",
    "df3"
   ]
  },
  {
   "cell_type": "code",
   "execution_count": 370,
   "id": "5fb0bce7-9131-491b-8c3e-de9cd59af28d",
   "metadata": {},
   "outputs": [
    {
     "data": {
      "text/html": [
       "<div>\n",
       "<style scoped>\n",
       "    .dataframe tbody tr th:only-of-type {\n",
       "        vertical-align: middle;\n",
       "    }\n",
       "\n",
       "    .dataframe tbody tr th {\n",
       "        vertical-align: top;\n",
       "    }\n",
       "\n",
       "    .dataframe thead th {\n",
       "        text-align: right;\n",
       "    }\n",
       "</style>\n",
       "<table border=\"1\" class=\"dataframe\">\n",
       "  <thead>\n",
       "    <tr style=\"text-align: right;\">\n",
       "      <th>EXPIRE_FLAG</th>\n",
       "      <th>0</th>\n",
       "      <th>1</th>\n",
       "      <th>SUM</th>\n",
       "    </tr>\n",
       "    <tr>\n",
       "      <th>GENDER</th>\n",
       "      <th></th>\n",
       "      <th></th>\n",
       "      <th></th>\n",
       "    </tr>\n",
       "  </thead>\n",
       "  <tbody>\n",
       "    <tr>\n",
       "      <th>F</th>\n",
       "      <td>4693</td>\n",
       "      <td>3653</td>\n",
       "      <td>8346</td>\n",
       "    </tr>\n",
       "    <tr>\n",
       "      <th>M</th>\n",
       "      <td>6719</td>\n",
       "      <td>3806</td>\n",
       "      <td>10525</td>\n",
       "    </tr>\n",
       "  </tbody>\n",
       "</table>\n",
       "</div>"
      ],
      "text/plain": [
       "EXPIRE_FLAG     0     1    SUM\n",
       "GENDER                        \n",
       "F            4693  3653   8346\n",
       "M            6719  3806  10525"
      ]
     },
     "execution_count": 370,
     "metadata": {},
     "output_type": "execute_result"
    }
   ],
   "source": [
    "# Hypertension 진단 받은 사람의 성별에 따른 사망 비율\n",
    "df4 = df1.groupby([\"GENDER\", \"EXPIRE_FLAG\"]).size().unstack(fill_value=0)\n",
    "df4[\"SUM\"] = df1[\"GENDER\"].value_counts()\n",
    "df4"
   ]
  },
  {
   "cell_type": "code",
   "execution_count": null,
   "id": "d75a6c87-5d4f-4906-b847-8984ecb22ecf",
   "metadata": {},
   "outputs": [],
   "source": []
  }
 ],
 "metadata": {
  "kernelspec": {
   "display_name": "Python 3 (ipykernel)",
   "language": "python",
   "name": "python3"
  },
  "language_info": {
   "codemirror_mode": {
    "name": "ipython",
    "version": 3
   },
   "file_extension": ".py",
   "mimetype": "text/x-python",
   "name": "python",
   "nbconvert_exporter": "python",
   "pygments_lexer": "ipython3",
   "version": "3.9.12"
  }
 },
 "nbformat": 4,
 "nbformat_minor": 5
}
